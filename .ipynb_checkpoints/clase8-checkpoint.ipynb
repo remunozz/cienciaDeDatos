{
 "cells": [
  {
   "cell_type": "code",
   "execution_count": 18,
   "id": "ec1a4de0-686e-41b9-aa79-3a64f69bcdd7",
   "metadata": {},
   "outputs": [
    {
     "name": "stdout",
     "output_type": "stream",
     "text": [
      "5.49\n",
      "5.5\n",
      "5.0\n"
     ]
    }
   ],
   "source": [
    "# Redondear a dos decimales el valor promedio\n",
    "import pandas as pd\n",
    "GRD_sheet=pd.read_excel('Datos.xls', sheet_name='GRD', header=0, index_col=None)\n",
    "print(np.round(GRD_sheet['Costo resolución en Clínica Privada [MM$]'].mean(),2))\n",
    "print(np.round(GRD_sheet['Costo resolución en Clínica Privada [MM$]'].mean(),1))\n",
    "print(np.round(GRD_sheet['Costo resolución en Clínica Privada [MM$]'].mean(),0))"
   ]
  },
  {
   "cell_type": "code",
   "execution_count": 14,
   "id": "0d9e6beb-3bae-4f40-9b4e-60e535b7c76f",
   "metadata": {},
   "outputs": [
    {
     "data": {
      "text/html": [
       "<div>\n",
       "<style scoped>\n",
       "    .dataframe tbody tr th:only-of-type {\n",
       "        vertical-align: middle;\n",
       "    }\n",
       "\n",
       "    .dataframe tbody tr th {\n",
       "        vertical-align: top;\n",
       "    }\n",
       "\n",
       "    .dataframe thead th {\n",
       "        text-align: right;\n",
       "    }\n",
       "</style>\n",
       "<table border=\"1\" class=\"dataframe\">\n",
       "  <thead>\n",
       "    <tr style=\"text-align: right;\">\n",
       "      <th></th>\n",
       "      <th>ID GRD</th>\n",
       "      <th>Nombre GRD</th>\n",
       "      <th>Costo resolución en Clínica Privada [MM$]</th>\n",
       "    </tr>\n",
       "  </thead>\n",
       "  <tbody>\n",
       "    <tr>\n",
       "      <th>0</th>\n",
       "      <td>GRD1</td>\n",
       "      <td>Coronario</td>\n",
       "      <td>7.92</td>\n",
       "    </tr>\n",
       "    <tr>\n",
       "      <th>1</th>\n",
       "      <td>GRD2</td>\n",
       "      <td>Hepático</td>\n",
       "      <td>3.42</td>\n",
       "    </tr>\n",
       "    <tr>\n",
       "      <th>2</th>\n",
       "      <td>GRD3</td>\n",
       "      <td>Respiratorio</td>\n",
       "      <td>2.92</td>\n",
       "    </tr>\n",
       "    <tr>\n",
       "      <th>3</th>\n",
       "      <td>GRD4</td>\n",
       "      <td>Renal</td>\n",
       "      <td>6.19</td>\n",
       "    </tr>\n",
       "    <tr>\n",
       "      <th>4</th>\n",
       "      <td>GRD5</td>\n",
       "      <td>Neurológico</td>\n",
       "      <td>6.78</td>\n",
       "    </tr>\n",
       "  </tbody>\n",
       "</table>\n",
       "</div>"
      ],
      "text/plain": [
       "  ID GRD    Nombre GRD  Costo resolución en Clínica Privada [MM$]\n",
       "0   GRD1     Coronario                                       7.92\n",
       "1   GRD2      Hepático                                       3.42\n",
       "2   GRD3  Respiratorio                                       2.92\n",
       "3   GRD4         Renal                                       6.19\n",
       "4   GRD5   Neurológico                                       6.78"
      ]
     },
     "execution_count": 14,
     "metadata": {},
     "output_type": "execute_result"
    }
   ],
   "source": [
    "# Para redondear los datos de una columna completa \n",
    "GRD_sheet['Costo resolución en Clínica Privada [MM$]']=GRD_sheet['Costo resolución en Clínica Privada [MM$]'].round(2)\n",
    "GRD_sheet.head()"
   ]
  },
  {
   "cell_type": "code",
   "execution_count": 21,
   "id": "e83ed7f9-26a1-4ed7-ba5c-e74945cd16b4",
   "metadata": {},
   "outputs": [
    {
     "data": {
      "text/html": [
       "<div>\n",
       "<style scoped>\n",
       "    .dataframe tbody tr th:only-of-type {\n",
       "        vertical-align: middle;\n",
       "    }\n",
       "\n",
       "    .dataframe tbody tr th {\n",
       "        vertical-align: top;\n",
       "    }\n",
       "\n",
       "    .dataframe thead th {\n",
       "        text-align: right;\n",
       "    }\n",
       "</style>\n",
       "<table border=\"1\" class=\"dataframe\">\n",
       "  <thead>\n",
       "    <tr style=\"text-align: right;\">\n",
       "      <th></th>\n",
       "      <th>Total Camas Críticas</th>\n",
       "      <th>Costo de instalar una cama [MM$]</th>\n",
       "    </tr>\n",
       "    <tr>\n",
       "      <th>Nombre Servicio de Salud</th>\n",
       "      <th></th>\n",
       "      <th></th>\n",
       "    </tr>\n",
       "  </thead>\n",
       "  <tbody>\n",
       "    <tr>\n",
       "      <th>Metropolitano Central</th>\n",
       "      <td>44</td>\n",
       "      <td>1368</td>\n",
       "    </tr>\n",
       "    <tr>\n",
       "      <th>Metropolitano Norte</th>\n",
       "      <td>44</td>\n",
       "      <td>1407</td>\n",
       "    </tr>\n",
       "    <tr>\n",
       "      <th>Metropolitano Occidente</th>\n",
       "      <td>76</td>\n",
       "      <td>1433</td>\n",
       "    </tr>\n",
       "    <tr>\n",
       "      <th>Metropolitano Oriente</th>\n",
       "      <td>46</td>\n",
       "      <td>1422</td>\n",
       "    </tr>\n",
       "    <tr>\n",
       "      <th>Metropolitano Sur</th>\n",
       "      <td>74</td>\n",
       "      <td>1319</td>\n",
       "    </tr>\n",
       "    <tr>\n",
       "      <th>Metropolitano Sur Oriente</th>\n",
       "      <td>55</td>\n",
       "      <td>1203</td>\n",
       "    </tr>\n",
       "  </tbody>\n",
       "</table>\n",
       "</div>"
      ],
      "text/plain": [
       "                                                    Total Camas Críticas  \\\n",
       "Nombre Servicio de Salud                                                   \n",
       "Metropolitano Central                                                 44   \n",
       "Metropolitano Norte                                                   44   \n",
       "Metropolitano Occidente                                               76   \n",
       "Metropolitano Oriente                                                 46   \n",
       "Metropolitano Sur                                                     74   \n",
       "Metropolitano Sur Oriente                                             55   \n",
       "\n",
       "                                                    Costo de instalar una cama [MM$]  \n",
       "Nombre Servicio de Salud                                                              \n",
       "Metropolitano Central                                                           1368  \n",
       "Metropolitano Norte                                                             1407  \n",
       "Metropolitano Occidente                                                         1433  \n",
       "Metropolitano Oriente                                                           1422  \n",
       "Metropolitano Sur                                                               1319  \n",
       "Metropolitano Sur Oriente                                                       1203  "
      ]
     },
     "execution_count": 21,
     "metadata": {},
     "output_type": "execute_result"
    }
   ],
   "source": [
    "# Utilizando el archivo “Datos.xls”, un Dataframe y comandos en Python, \n",
    "# ¿cuál de las siguientes alternativas corresponde al costo total de instalar\n",
    "# el máximo de camas críticas posibles en toda la región?\n",
    "# Respuesta correcta 240.509?\n",
    "Hosp_sheet=pd.read_excel('Datos.xls', sheet_name='Hospitales', header=0, index_col=None)\n",
    "Hosp_sheet[['Nombre Servicio de Salud', 'Total Camas Críticas', 'Costo de instalar una cama [MM$]']].groupby('Nombre Servicio de Salud').max()"
   ]
  },
  {
   "cell_type": "code",
   "execution_count": 28,
   "id": "7eeb3ef2-a135-441e-bd49-69cf4d40f09e",
   "metadata": {},
   "outputs": [
    {
     "name": "stdout",
     "output_type": "stream",
     "text": [
      "863581\n"
     ]
    }
   ],
   "source": [
    "resultado = np.sum(np.multiply(Hosp_sheet['Total Camas Críticas'],Hosp_sheet['Costo de instalar una cama [MM$]']))\n",
    "print(resultado)"
   ]
  },
  {
   "cell_type": "code",
   "execution_count": 14,
   "id": "f389b1e0-5e48-4ac2-b0cd-05625382d232",
   "metadata": {},
   "outputs": [
    {
     "data": {
      "image/png": "[encoded data removed]",
      "text/plain": [
       "<Figure size 640x480 with 1 Axes>"
      ]
     },
     "metadata": {},
     "output_type": "display_data"
    }
   ],
   "source": [
    "import pandas as pd\n",
    "import matplotlib.pyplot as plt\n",
    "Info_sheet=pd.read_excel('Datos.xls', sheet_name='Información Histórica', header=0, index_col=None)\n",
    "Estadia = Info_sheet['Estadia'].hist(bins=7)\n",
    "plt.show()"
   ]
  },
  {
   "cell_type": "code",
   "execution_count": 16,
   "id": "b41a40e7-514f-4788-9449-0a74db3202f3",
   "metadata": {},
   "outputs": [
    {
     "data": {
      "image/png": "[encoded data removed]",
      "text/plain": [
       "<Figure size 640x480 with 1 Axes>"
      ]
     },
     "metadata": {},
     "output_type": "display_data"
    }
   ],
   "source": [
    "GRD_sheet=pd.read_excel('Datos.xls', sheet_name='GRD', header=0, index_col=None)\n",
    "hist=GRD_sheet.boxplot()\n",
    "plt.show()"
   ]
  },
  {
   "cell_type": "code",
   "execution_count": 24,
   "id": "d403179a-42f1-4ee3-bc2f-bfdfe3d629f2",
   "metadata": {},
   "outputs": [
    {
     "data": {
      "image/png": "[encoded data removed]",
      "text/plain": [
       "<Figure size 2000x1000 with 1 Axes>"
      ]
     },
     "metadata": {},
     "output_type": "display_data"
    }
   ],
   "source": [
    "import seaborn as sns\n",
    "Hosp_sheet=pd.read_excel('Datos.xls', sheet_name='Hospitales', header=0, index_col=None)\n",
    "f,ax=plt.subplots(figsize=(20,10))\n",
    "sns.boxplot(data=Hosp_sheet[['Nombre Establecimiento','Total Camas Críticas','Máxima cantidad de camas a aumetar']],whis=[0,100], width=0.5, palette='vlag')\n",
    "ax.xaxis.grid(True)\n",
    "ax.set(ylabel='')\n",
    "sns.despine(trim=True, left=True)"
   ]
  },
  {
   "cell_type": "code",
   "execution_count": 32,
   "id": "68896a12-dbfa-4a47-b7de-3281012f7d16",
   "metadata": {},
   "outputs": [
    {
     "data": {
      "text/html": [
       "<div>\n",
       "<style scoped>\n",
       "    .dataframe tbody tr th:only-of-type {\n",
       "        vertical-align: middle;\n",
       "    }\n",
       "\n",
       "    .dataframe tbody tr th {\n",
       "        vertical-align: top;\n",
       "    }\n",
       "\n",
       "    .dataframe thead th {\n",
       "        text-align: right;\n",
       "    }\n",
       "</style>\n",
       "<table border=\"1\" class=\"dataframe\">\n",
       "  <thead>\n",
       "    <tr style=\"text-align: right;\">\n",
       "      <th></th>\n",
       "      <th>Total Camas Críticas</th>\n",
       "    </tr>\n",
       "    <tr>\n",
       "      <th>Nombre Servicio de Salud</th>\n",
       "      <th></th>\n",
       "    </tr>\n",
       "  </thead>\n",
       "  <tbody>\n",
       "    <tr>\n",
       "      <th>Metropolitano Central</th>\n",
       "      <td>44</td>\n",
       "    </tr>\n",
       "    <tr>\n",
       "      <th>Metropolitano Norte</th>\n",
       "      <td>44</td>\n",
       "    </tr>\n",
       "    <tr>\n",
       "      <th>Metropolitano Occidente</th>\n",
       "      <td>76</td>\n",
       "    </tr>\n",
       "    <tr>\n",
       "      <th>Metropolitano Oriente</th>\n",
       "      <td>46</td>\n",
       "    </tr>\n",
       "    <tr>\n",
       "      <th>Metropolitano Sur</th>\n",
       "      <td>74</td>\n",
       "    </tr>\n",
       "    <tr>\n",
       "      <th>Metropolitano Sur Oriente</th>\n",
       "      <td>55</td>\n",
       "    </tr>\n",
       "  </tbody>\n",
       "</table>\n",
       "</div>"
      ],
      "text/plain": [
       "                                                    Total Camas Críticas\n",
       "Nombre Servicio de Salud                                                \n",
       "Metropolitano Central                                                 44\n",
       "Metropolitano Norte                                                   44\n",
       "Metropolitano Occidente                                               76\n",
       "Metropolitano Oriente                                                 46\n",
       "Metropolitano Sur                                                     74\n",
       "Metropolitano Sur Oriente                                             55"
      ]
     },
     "execution_count": 32,
     "metadata": {},
     "output_type": "execute_result"
    }
   ],
   "source": [
    "# Actividad\n",
    "# Utilizando el archivo 'Datos.xls' construya un Dataframe que indique la cantidad de camas críticas existentes en cada \n",
    "# servicio de salud, es decir, la cantidad de camas que tiene el hospital con mayor capacidad.\n",
    "# Luego, guarde esta información en un archivo Excel llamado 'MaxCamasCCxSS.xlsx'\n",
    "\n",
    "Hosp_sheet=pd.read_excel('Datos.xls', sheet_name='Hospitales', header=0, index_col=None)\n",
    "camas=Hosp_sheet[['Nombre Servicio de Salud', 'Total Camas Críticas']]\n",
    "apoyo=camas.groupby('Nombre Servicio de Salud').max()\n",
    "apoyo.to_excel('MaxCamasCCxSS.xlsx')\n",
    "apoyo\n"
   ]
  },
  {
   "cell_type": "code",
   "execution_count": null,
   "id": "be482e7e-6b48-4b40-88b8-43e913c8a8a4",
   "metadata": {},
   "outputs": [],
   "source": [
    "# Utilizando el archivo 'Datos.xls'"
   ]
  }
 ],
 "metadata": {
  "kernelspec": {
   "display_name": "Python 3 (ipykernel)",
   "language": "python",
   "name": "python3"
  },
  "language_info": {
   "codemirror_mode": {
    "name": "ipython",
    "version": 3
   },
   "file_extension": ".py",
   "mimetype": "text/x-python",
   "name": "python",
   "nbconvert_exporter": "python",
   "pygments_lexer": "ipython3",
   "version": "3.11.1"
  }
 },
 "nbformat": 4,
 "nbformat_minor": 5
}
