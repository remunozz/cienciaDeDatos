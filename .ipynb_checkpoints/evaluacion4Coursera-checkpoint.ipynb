{
 "cells": [
  {
   "cell_type": "code",
   "execution_count": 1,
   "id": "0e90777c-59b5-41a7-abe0-351e1fb5ebef",
   "metadata": {},
   "outputs": [],
   "source": [
    "import pandas as pd\n",
    "import numpy as np\n",
    "import matplotlib.pyplot as plt\n",
    "import matplotlib.transforms as transforms\n",
    "import seaborn as sns\n",
    "\n",
    "from sklearn.linear_model import LinearRegression\n",
    "\n",
    "GRD_sheet = pd.read_excel(\"Datos.xls\", sheet_name = \"GRD\", header = 0, index_col = None)\n",
    "Hosp_sheet = pd.read_excel(\"Datos.xls\", sheet_name = \"Hospitales\", header = 0, index_col = None)\n",
    "Info_sheet = pd.read_excel(\"Datos.xls\", sheet_name = \"Información Histórica\", header = 0, index_col = None)"
   ]
  },
  {
   "cell_type": "code",
   "execution_count": 10,
   "id": "5860c01e-55cc-42e5-81ba-974358dc6287",
   "metadata": {},
   "outputs": [
    {
     "name": "stdout",
     "output_type": "stream",
     "text": [
      "Estimación pacientes GRD9 que llegarán día 425 al Hospital Del Salvador es: 2.0\n"
     ]
    }
   ],
   "source": [
    "# Pregunta 1\n",
    "# ¿Cuál de las siguientes alternativas corresponde a la estimación de la cantidad de pacientes con GRD9 que\n",
    "# llegarán el día 425 al Hospital Salvador utilizando un método de media móvil sobre los últimos 5 días \n",
    "# (días 420 a 424) redondeado al entero superior?  \n",
    "\n",
    "apoyo1 = Info_sheet.loc[(Info_sheet[\"Día de llegada\"] >= 420) & (Info_sheet[\"GRD\"] == \"GRD9\") & (Info_sheet[\"Hospital al que llega\"] == \"Hospital Del Salvador\")]\n",
    "apoyo1 = apoyo1[[\"Número de llegada\", \"Día de llegada\"]].groupby(\"Día de llegada\").count()\n",
    "data = {\"Número de llegada\": [0,0]}\n",
    "falta = pd.DataFrame(data = data, index = [\"423\",\"424\"])\n",
    "apoyo1 = pd.concat([apoyo1, falta], sort=False)\n",
    "apoyo1 = apoyo1.reset_index()\n",
    "media_movil = np.round(apoyo1[\"Número de llegada\"].mean(),)\n",
    "print(f\"Estimación pacientes GRD9 que llegarán día 425 al Hospital Del Salvador es: {media_movil}\")"
   ]
  },
  {
   "cell_type": "code",
   "execution_count": 7,
   "id": "31a24771-a1e7-4575-9659-3ba52bed31b8",
   "metadata": {},
   "outputs": [
    {
     "name": "stdout",
     "output_type": "stream",
     "text": [
      "Estimación pacientes que llegarán día 425 al Hospital Del Salvador es: 12.0\n"
     ]
    }
   ],
   "source": [
    "# Pregunta 2\n",
    "# ¿Cuál de las siguientes alternativas corresponde a la estimación de la cantidad de pacientes que llegarán el día 425\n",
    "# al Hospital Salvador utilizando un método de media móvil sobre los últimos 5 días (días 420 a 424) redondeado \n",
    "# al entero superior?  \n",
    "\n",
    "apoyo2 = Info_sheet.loc[(Info_sheet[\"Día de llegada\"] >= 420) & (Info_sheet[\"Hospital al que llega\"] == \"Hospital Del Salvador\")]\n",
    "apoyo2 = apoyo2[[\"Número de llegada\", \"Día de llegada\"]].groupby(\"Día de llegada\").count()\n",
    "apoyo2 = apoyo2.reset_index()\n",
    "media_movil = np.round(apoyo2[\"Número de llegada\"].mean(),)\n",
    "print(f\"Estimación pacientes que llegarán día 425 al Hospital Del Salvador es: {media_movil}\")"
   ]
  },
  {
   "cell_type": "code",
   "execution_count": 11,
   "id": "c64f1a91-f6d1-4174-87e3-bbe700990ea7",
   "metadata": {},
   "outputs": [
    {
     "name": "stdout",
     "output_type": "stream",
     "text": [
      "Estimación pacientes que llegarán día 425 a la red es: 149.0\n"
     ]
    }
   ],
   "source": [
    "# Pregunta 3\n",
    "# ¿Cuál de las siguientes alternativas corresponde a la estimación de la cantidad de pacientes que llegarán el día 425\n",
    "# a la red utilizando un método de media móvil sobre los últimos 5 días (días 420 a 424) redondeado al entero superior?   \n",
    "\n",
    "apoyo3 = Info_sheet.loc[Info_sheet[\"Día de llegada\"] >= 420]\n",
    "apoyo3 = apoyo3[[\"Número de llegada\", \"Día de llegada\"]].groupby(\"Día de llegada\").count()\n",
    "apoyo3 = apoyo3.reset_index()\n",
    "media_movil = np.round(apoyo3[\"Número de llegada\"].mean(),)\n",
    "print(f\"Estimación pacientes que llegarán día 425 a la red es: {media_movil}\")"
   ]
  },
  {
   "cell_type": "code",
   "execution_count": 15,
   "id": "817b5f9e-0de9-4270-b5fd-1da66a273537",
   "metadata": {},
   "outputs": [
    {
     "name": "stdout",
     "output_type": "stream",
     "text": [
      "Estimación pacientes GRD9 que llegarán día 425 al Hospital Del Salvador es: 0\n"
     ]
    }
   ],
   "source": [
    "# Pregunta 4\n",
    "# ¿Cuál de las siguientes alternativas corresponde a la estimación de la cantidad de pacientes con GRD9 que llegarán \n",
    "# el día 425 al Hospital Salvador utilizando una regresión lineal simple sobre los últimos 5 días (días 420 a 424)\n",
    "# redondeado al entero superior?  \n",
    "\n",
    "apoyo4 = Info_sheet.loc[(Info_sheet[\"Día de llegada\"] >= 420) & (Info_sheet[\"GRD\"] == \"GRD9\") & (Info_sheet[\"Hospital al que llega\"] == \"Hospital Del Salvador\")]\n",
    "apoyo4 = apoyo4[[\"Número de llegada\", \"Día de llegada\"]].groupby(\"Día de llegada\").count()\n",
    "data = {\"Número de llegada\": [0,0]}\n",
    "falta = pd.DataFrame(data = data, index = [\"423\",\"424\"])\n",
    "apoyo4 = pd.concat([apoyo4, falta], sort=False)\n",
    "apoyo4 = apoyo4.reset_index()\n",
    "\n",
    "X = apoyo4[[\"index\"]]\n",
    "y = apoyo4[[\"Número de llegada\"]]\n",
    "regressor = LinearRegression().fit(X, y)\n",
    "estimacion = regressor.intercept_[0] + regressor.coef_[0][0]*425\n",
    "\n",
    "x = 0 if estimacion < 0 else estimacion\n",
    "\n",
    "print(f\"Estimación pacientes GRD9 que llegarán día 425 al Hospital Del Salvador es: {x}\")"
   ]
  },
  {
   "cell_type": "code",
   "execution_count": 17,
   "id": "89d002fb-3258-4187-83bb-b421f9a7e0c3",
   "metadata": {},
   "outputs": [
    {
     "name": "stdout",
     "output_type": "stream",
     "text": [
      "Pendiente: -1.9000000000000001, Intercepto: 813.6\n",
      "Llegadas estimadas para el día 425: 6.0\n"
     ]
    }
   ],
   "source": [
    "# Pregunta 5\n",
    "# ¿Cuál de las siguientes alternativas corresponde a la estimación de la cantidad de pacientes que llegarán el día 425 \n",
    "# al Hospital Salvador utilizando una regresión lineal simple sobre los últimos 5 días (días 420 a 424) redondeado \n",
    "# al entero superior?  \n",
    "\n",
    "apoyo5 = Info_sheet.loc[(Info_sheet[\"Día de llegada\"] >= 420) & (Info_sheet[\"Hospital al que llega\"] == \"Hospital Del Salvador\")]\n",
    "apoyo5 = apoyo5[[\"Número de llegada\", \"Día de llegada\"]].groupby(\"Día de llegada\").count()\n",
    "apoyo5 = apoyo5.reset_index()\n",
    "X = apoyo5[[\"Día de llegada\"]]\n",
    "y = apoyo5[[\"Número de llegada\"]]\n",
    "regressor = LinearRegression().fit(X, y)\n",
    "print(f\"Pendiente: {regressor.coef_[0][0]}, Intercepto: {regressor.intercept_[0]}\")\n",
    "prox_llegada = 425*regressor.coef_[0][0]+regressor.intercept_[0]\n",
    "print(f\"Llegadas estimadas para el día 425: {np.round(prox_llegada,0)}\")"
   ]
  },
  {
   "cell_type": "code",
   "execution_count": null,
   "id": "20872e12-aa95-4342-be3f-249f2124677b",
   "metadata": {},
   "outputs": [],
   "source": []
  }
 ],
 "metadata": {
  "kernelspec": {
   "display_name": "Python 3 (ipykernel)",
   "language": "python",
   "name": "python3"
  },
  "language_info": {
   "codemirror_mode": {
    "name": "ipython",
    "version": 3
   },
   "file_extension": ".py",
   "mimetype": "text/x-python",
   "name": "python",
   "nbconvert_exporter": "python",
   "pygments_lexer": "ipython3",
   "version": "3.11.1"
  }
 },
 "nbformat": 4,
 "nbformat_minor": 5
}
