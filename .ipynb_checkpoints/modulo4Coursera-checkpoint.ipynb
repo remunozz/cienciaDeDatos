{
 "cells": [
  {
   "cell_type": "markdown",
   "id": "eb732e4a",
   "metadata": {},
   "source": [
    "# Módulo 4 MOOC Python para Ciencia de Datos"
   ]
  },
  {
   "cell_type": "markdown",
   "id": "8167f402",
   "metadata": {},
   "source": [
    "Lo primero que realizamos para el desarrollo de las clases es importar los módulos necesarios para poder trabajar con la Base de Datos del Servicio de Salud."
   ]
  },
  {
   "cell_type": "code",
   "execution_count": 3,
   "id": "1325de49",
   "metadata": {},
   "outputs": [],
   "source": [
    "import pandas as pd\n",
    "import numpy as np\n",
    "import matplotlib.pyplot as plt\n",
    "import matplotlib.transforms as transforms\n",
    "import seaborn as sns"
   ]
  },
  {
   "cell_type": "markdown",
   "id": "43ea55e6",
   "metadata": {},
   "source": [
    "### Clase 1: ¿Qué es, por qué es importante y cómo se modela la incertidumbre?"
   ]
  },
  {
   "cell_type": "markdown",
   "id": "7bb1a9af",
   "metadata": {},
   "source": [
    "1. **¿Qué es la incertidumbre?**\n",
    "\n",
    "Hay problemas de decisión para los que no se cuenta con información certera para tomar estas decisiones. Lo anterior se conoce como Incertidumbre, y se define como la falta de certeza o la imposibilidad de describir de manera exacta un determinado fenómeno. En pocas palabras, no sabemos con exactitud que va a suceder, podemos tener una intuición o expectativa, pero nunca la seguridad de que sucederá lo que esperamos. Es importante destacar que la variabilidad en los valores observados para un mismo fenómeno es lo que hace que exista incertidumbre en las realizaciones futuras de ese fenómeno.\n",
    "\n",
    "2. **¿Por qué es importante la incertidumbre?**\n",
    "\n",
    "Hay decisiones que se deben tomar con valores que se desprenden del análisis de datos pero que no se conocen con certeza, es decir, cuentan poseen incertidumbre debido a su variabilidad. Entonces, es importante dejar súper claro que la incertidumbre produce riesgo en los resultados de las decisiones que se deben toman, entendiendo riesgo como la posibilidad de que estos resultados no sean los esperados o no sean satisfactorios.\n",
    "Esto obliga a tomar en cuenta esta falta de certeza, incorporando esta incertidumbre y variabilidad en los cálculos y valores obtenidos para tratar de acercarnos lo más posible a lo que puede suceder. Al realizar esto, las decisiones se toman con más y mejor información y pueden dar una mejor respuesta en el futuro. \n",
    "\n",
    "3. **¿Cómo se modela la incertidumbre?**\n",
    "\n",
    "Debido a la importancia que tiene la incertidumbre para tomar decisiones, se debe encontrar una forma que permita modelarla adecuadamente. Para esto, lo primero es reconocer cuándo los datos presentan variabilidad e incertidumbre. \n",
    "Así, teniendo claro cuando existe incertidumbre en los datos que tenemos del fenómeno que estamos estudiando, debemos: (1) tratar de estimar los distintos valores que puede tomar la variable estudiada, (2) estimar la probabilidad de ocurrencia de cada valor que puede tomar esa variable y (3) estimar el impacto que genera esta incertidumbre en los resultados esperados. Estos pasos se ilustran y se explican en el ejemplo que se mostrará a continuación."
   ]
  },
  {
   "cell_type": "markdown",
   "id": "99af614f",
   "metadata": {},
   "source": [
    "4. **Ejemplo**\n",
    "\n",
    "Para el ejemplo, se importa el archivo Excel **Datos**, al cual se le agrega la *Sheet* `Clase 1`. En esta hoja se agrega una serie de tiempo, la cual muestra la cantidad de pacientes que llegan a cierta área de un hospital durante 10 días. A continuación, se importa el Excel"
   ]
  },
  {
   "cell_type": "code",
   "execution_count": 4,
   "id": "30cd40b7",
   "metadata": {
    "scrolled": true
   },
   "outputs": [
    {
     "data": {
      "text/html": [
       "<div>\n",
       "<style scoped>\n",
       "    .dataframe tbody tr th:only-of-type {\n",
       "        vertical-align: middle;\n",
       "    }\n",
       "\n",
       "    .dataframe tbody tr th {\n",
       "        vertical-align: top;\n",
       "    }\n",
       "\n",
       "    .dataframe thead th {\n",
       "        text-align: right;\n",
       "    }\n",
       "</style>\n",
       "<table border=\"1\" class=\"dataframe\">\n",
       "  <thead>\n",
       "    <tr style=\"text-align: right;\">\n",
       "      <th></th>\n",
       "      <th>Dia</th>\n",
       "      <th>Llegada</th>\n",
       "    </tr>\n",
       "  </thead>\n",
       "  <tbody>\n",
       "    <tr>\n",
       "      <th>0</th>\n",
       "      <td>1</td>\n",
       "      <td>4</td>\n",
       "    </tr>\n",
       "    <tr>\n",
       "      <th>1</th>\n",
       "      <td>2</td>\n",
       "      <td>5</td>\n",
       "    </tr>\n",
       "    <tr>\n",
       "      <th>2</th>\n",
       "      <td>3</td>\n",
       "      <td>5</td>\n",
       "    </tr>\n",
       "    <tr>\n",
       "      <th>3</th>\n",
       "      <td>4</td>\n",
       "      <td>2</td>\n",
       "    </tr>\n",
       "    <tr>\n",
       "      <th>4</th>\n",
       "      <td>5</td>\n",
       "      <td>4</td>\n",
       "    </tr>\n",
       "    <tr>\n",
       "      <th>5</th>\n",
       "      <td>6</td>\n",
       "      <td>5</td>\n",
       "    </tr>\n",
       "    <tr>\n",
       "      <th>6</th>\n",
       "      <td>7</td>\n",
       "      <td>6</td>\n",
       "    </tr>\n",
       "    <tr>\n",
       "      <th>7</th>\n",
       "      <td>8</td>\n",
       "      <td>5</td>\n",
       "    </tr>\n",
       "    <tr>\n",
       "      <th>8</th>\n",
       "      <td>9</td>\n",
       "      <td>5</td>\n",
       "    </tr>\n",
       "    <tr>\n",
       "      <th>9</th>\n",
       "      <td>10</td>\n",
       "      <td>5</td>\n",
       "    </tr>\n",
       "  </tbody>\n",
       "</table>\n",
       "</div>"
      ],
      "text/plain": [
       "   Dia  Llegada\n",
       "0    1        4\n",
       "1    2        5\n",
       "2    3        5\n",
       "3    4        2\n",
       "4    5        4\n",
       "5    6        5\n",
       "6    7        6\n",
       "7    8        5\n",
       "8    9        5\n",
       "9   10        5"
      ]
     },
     "execution_count": 4,
     "metadata": {},
     "output_type": "execute_result"
    }
   ],
   "source": [
    "C1_sheet = pd.read_excel(\"Datos.xls\", sheet_name = \"Clase 1\", header = 0, index_col = None)\n",
    "C1_sheet"
   ]
  },
  {
   "cell_type": "markdown",
   "id": "8c698934",
   "metadata": {},
   "source": [
    "Luego, para entender las llegadas, se realiza un histograma y una tabla de frecuencia de las llegadas de la serie de tiempo. "
   ]
  },
  {
   "cell_type": "code",
   "execution_count": 5,
   "id": "fd12e6c9",
   "metadata": {
    "scrolled": true
   },
   "outputs": [
    {
     "data": {
      "image/png": "[encoded data removed]",
      "text/plain": [
       "<Figure size 640x480 with 1 Axes>"
      ]
     },
     "metadata": {},
     "output_type": "display_data"
    }
   ],
   "source": [
    "ax = C1_sheet.groupby(\"Llegada\").count().plot(kind=\"bar\")\n",
    "plt.xlabel(\"Llegadas\")\n",
    "plt.ylabel(\"Frecuencia\")\n",
    "ax.get_legend().remove()\n",
    "plt.show()"
   ]
  },
  {
   "cell_type": "code",
   "execution_count": 6,
   "id": "8542dce1",
   "metadata": {},
   "outputs": [
    {
     "data": {
      "text/plain": [
       "5    6\n",
       "4    2\n",
       "2    1\n",
       "6    1\n",
       "Name: Llegada, dtype: int64"
      ]
     },
     "execution_count": 6,
     "metadata": {},
     "output_type": "execute_result"
    }
   ],
   "source": [
    "C1_sheet['Llegada'].value_counts(normalize = False, sort = True)"
   ]
  },
  {
   "cell_type": "code",
   "execution_count": 7,
   "id": "65571a71",
   "metadata": {},
   "outputs": [
    {
     "data": {
      "text/plain": [
       "5    0.6\n",
       "4    0.2\n",
       "2    0.1\n",
       "6    0.1\n",
       "Name: Llegada, dtype: float64"
      ]
     },
     "execution_count": 7,
     "metadata": {},
     "output_type": "execute_result"
    }
   ],
   "source": [
    "C1_sheet['Llegada'].value_counts(normalize = True, sort = True)"
   ]
  },
  {
   "cell_type": "markdown",
   "id": "f483a442",
   "metadata": {},
   "source": [
    "Por ejemplo, la tabla anterior nos permite ver que en el pasado que conocemos el 60% de las veces han llegado 5 pacientes. Así, y dado que poseemos solamente esa información, podríamos decir que la probabilidad de que lleguen 5 pacientes el día 11 será -basado en la evidencia de los datos analizados- de 60%.\n",
    "\n",
    "Imaginemos que el hospital está vacío al final del día 10. A partir de esto, podríamos tomar la decisión de tener 5 camas disponibles para el día 11, dado que existe este 60% de probabilidad de que lleguen 5 pacientes. Pero ¿qué pasaría si llegan 6 pacientes, cuya probabilidad calculada de la misma manera es de 10%? En este caso, no tendríamos camas para atender a uno de estos pacientes. Bajo un análisis similar, si llegan 2 pacientes habrá 4 camas desocupadas. ¿Cuál de estas dos decisiones es mejor? Depende, ya que se debe evaluar el impacto de no atender al paciente que queda sin cama frente al impacto de tener 4 camas desocupadas."
   ]
  },
  {
   "cell_type": "markdown",
   "id": "6c3eb662",
   "metadata": {},
   "source": [
    "**Pregunta 2**\n",
    "\n",
    "Indiqué cuál de las siguientes alternativas corresponde al código en Python para calcular la cantidad de días en los que no llegaron 4 o 5 pacientes "
   ]
  },
  {
   "cell_type": "code",
   "execution_count": 8,
   "id": "feca2d21",
   "metadata": {},
   "outputs": [
    {
     "data": {
      "text/plain": [
       "Dia        2\n",
       "Llegada    2\n",
       "dtype: int64"
      ]
     },
     "execution_count": 8,
     "metadata": {},
     "output_type": "execute_result"
    }
   ],
   "source": [
    "C1_sheet.loc[(C1_sheet[\"Llegada\"] != 4) & (C1_sheet[\"Llegada\"] !=5)].count()"
   ]
  },
  {
   "cell_type": "markdown",
   "id": "513e4e5c",
   "metadata": {},
   "source": [
    "### Clase 2: ¿Qué es la analítica descriptiva y predictiva?"
   ]
  },
  {
   "cell_type": "markdown",
   "id": "33645834",
   "metadata": {},
   "source": [
    "1. **¿Qué es la analítica descriptiva?**\n",
    "\n",
    "La analítica o análisis descriptivo es uno de los tres tipos de análisis de datos que podemos realizar. En esta, nos ocupamos de estudiar el pasado mediante los datos que han sido recopilados a lo largo del tiempo, es como tratar de sacar una foto con gran detalle de lo que ha pasado. Para realizar este tipo de análisis contamos con distintas herramientas que hemos aprendido a lo largo del Mooc, entre las que encontramos:\n",
    "-\tTablas: Aspecto fundamental del análisis descriptivo que nos permite visualizar y contener los datos.\n",
    "-\tEstadísticas: Fundamental para describir los datos a través del cálculo de mínimos, máximos y promedios, para calcular desviaciones de la media y rangos, junto con agrupar los datos para entender que pasa de manera macro, entre otros aspectos fundamentales.\n",
    "-\tGráficos: Se pueden realizar gráficos que resuman los datos, para lo cual contamos con distintos tipos que pueden ser útiles dependiendo de que se quiera mostrar. \n",
    "\n",
    "A manera de ejemplo y utilizando los conocimientos que han ganado a lo largo del curso, si usted quisiera realizar un análisis descriptivo de la Base da Datos del Sistema de Salud, específicamente de la hoja Hospitales, lo primero que debería realizar en Python es un DataFrame, lo que se muestra a continuación.\n"
   ]
  },
  {
   "cell_type": "code",
   "execution_count": 9,
   "id": "8ca24eff",
   "metadata": {},
   "outputs": [],
   "source": [
    "GRD_sheet = pd.read_excel(\"Datos.xls\", sheet_name = \"GRD\", header = 0, index_col = None)\n",
    "Hosp_sheet = pd.read_excel(\"Datos.xls\", sheet_name = \"Hospitales\", header = 0, index_col = None)\n",
    "Info_sheet = pd.read_excel(\"Datos.xls\", sheet_name = \"Información Histórica\", header = 0, index_col = None)"
   ]
  },
  {
   "cell_type": "code",
   "execution_count": 10,
   "id": "501dcad8",
   "metadata": {},
   "outputs": [
    {
     "data": {
      "text/html": [
       "<div>\n",
       "<style scoped>\n",
       "    .dataframe tbody tr th:only-of-type {\n",
       "        vertical-align: middle;\n",
       "    }\n",
       "\n",
       "    .dataframe tbody tr th {\n",
       "        vertical-align: top;\n",
       "    }\n",
       "\n",
       "    .dataframe thead th {\n",
       "        text-align: right;\n",
       "    }\n",
       "</style>\n",
       "<table border=\"1\" class=\"dataframe\">\n",
       "  <thead>\n",
       "    <tr style=\"text-align: right;\">\n",
       "      <th></th>\n",
       "      <th>Nombre Servicio de Salud</th>\n",
       "      <th>Nombre Establecimiento</th>\n",
       "      <th>Área Cuidados Intensivos Adultos</th>\n",
       "      <th>Área Cuidados Intermedios Adulto</th>\n",
       "      <th>Total Camas Críticas</th>\n",
       "      <th>Máxima cantidad de camas a aumetar</th>\n",
       "      <th>Costo de instalar una cama [MM$]</th>\n",
       "      <th>Costo de operación anual de una cama [MM$]</th>\n",
       "      <th>Costo diario GRD1 [MM$]</th>\n",
       "      <th>Costo diario GRD2 [MM$]</th>\n",
       "      <th>Costo diario GRD3 [MM$]</th>\n",
       "      <th>Costo diario GRD4 [MM$]</th>\n",
       "      <th>Costo diario GRD5 [MM$]</th>\n",
       "      <th>Costo diario GRD6 [MM$]</th>\n",
       "      <th>Costo diario GRD7 [MM$]</th>\n",
       "      <th>Costo diario GRD8 [MM$]</th>\n",
       "      <th>Costo diario GRD9 [MM$]</th>\n",
       "      <th>Costo diario GRD10 [MM$]</th>\n",
       "    </tr>\n",
       "  </thead>\n",
       "  <tbody>\n",
       "    <tr>\n",
       "      <th>0</th>\n",
       "      <td>Metropolitano Norte                           ...</td>\n",
       "      <td>Complejo Hospitalario San José</td>\n",
       "      <td>11</td>\n",
       "      <td>33</td>\n",
       "      <td>44</td>\n",
       "      <td>10</td>\n",
       "      <td>1407</td>\n",
       "      <td>47.2</td>\n",
       "      <td>0.593</td>\n",
       "      <td>0.509</td>\n",
       "      <td>0.367</td>\n",
       "      <td>0.492</td>\n",
       "      <td>0.524</td>\n",
       "      <td>0.405</td>\n",
       "      <td>0.571</td>\n",
       "      <td>0.474</td>\n",
       "      <td>0.498</td>\n",
       "      <td>0.305</td>\n",
       "    </tr>\n",
       "    <tr>\n",
       "      <th>1</th>\n",
       "      <td>Metropolitano Occidente                       ...</td>\n",
       "      <td>Hospital Adalberto Steeger (Talagante)</td>\n",
       "      <td>6</td>\n",
       "      <td>11</td>\n",
       "      <td>17</td>\n",
       "      <td>5</td>\n",
       "      <td>1263</td>\n",
       "      <td>62.1</td>\n",
       "      <td>0.493</td>\n",
       "      <td>0.357</td>\n",
       "      <td>0.429</td>\n",
       "      <td>0.382</td>\n",
       "      <td>0.469</td>\n",
       "      <td>0.386</td>\n",
       "      <td>0.543</td>\n",
       "      <td>0.362</td>\n",
       "      <td>0.564</td>\n",
       "      <td>0.333</td>\n",
       "    </tr>\n",
       "    <tr>\n",
       "      <th>2</th>\n",
       "      <td>Metropolitano Occidente                       ...</td>\n",
       "      <td>Hospital Dr. Félix Bulnes Cerda</td>\n",
       "      <td>3</td>\n",
       "      <td>6</td>\n",
       "      <td>9</td>\n",
       "      <td>5</td>\n",
       "      <td>1310</td>\n",
       "      <td>65.9</td>\n",
       "      <td>0.580</td>\n",
       "      <td>0.325</td>\n",
       "      <td>0.375</td>\n",
       "      <td>0.409</td>\n",
       "      <td>0.561</td>\n",
       "      <td>0.362</td>\n",
       "      <td>0.328</td>\n",
       "      <td>0.314</td>\n",
       "      <td>0.536</td>\n",
       "      <td>0.436</td>\n",
       "    </tr>\n",
       "    <tr>\n",
       "      <th>3</th>\n",
       "      <td>Metropolitano Occidente                       ...</td>\n",
       "      <td>Hospital San Juan de Dios</td>\n",
       "      <td>29</td>\n",
       "      <td>47</td>\n",
       "      <td>76</td>\n",
       "      <td>30</td>\n",
       "      <td>1066</td>\n",
       "      <td>39.2</td>\n",
       "      <td>0.482</td>\n",
       "      <td>0.554</td>\n",
       "      <td>0.564</td>\n",
       "      <td>0.331</td>\n",
       "      <td>0.438</td>\n",
       "      <td>0.509</td>\n",
       "      <td>0.544</td>\n",
       "      <td>0.410</td>\n",
       "      <td>0.441</td>\n",
       "      <td>0.359</td>\n",
       "    </tr>\n",
       "  </tbody>\n",
       "</table>\n",
       "</div>"
      ],
      "text/plain": [
       "                            Nombre Servicio de Salud  \\\n",
       "0  Metropolitano Norte                           ...   \n",
       "1  Metropolitano Occidente                       ...   \n",
       "2  Metropolitano Occidente                       ...   \n",
       "3  Metropolitano Occidente                       ...   \n",
       "\n",
       "                   Nombre Establecimiento  Área Cuidados Intensivos Adultos  \\\n",
       "0          Complejo Hospitalario San José                                11   \n",
       "1  Hospital Adalberto Steeger (Talagante)                                 6   \n",
       "2         Hospital Dr. Félix Bulnes Cerda                                 3   \n",
       "3               Hospital San Juan de Dios                                29   \n",
       "\n",
       "   Área Cuidados Intermedios Adulto  Total Camas Críticas  \\\n",
       "0                                33                    44   \n",
       "1                                11                    17   \n",
       "2                                 6                     9   \n",
       "3                                47                    76   \n",
       "\n",
       "   Máxima cantidad de camas a aumetar  Costo de instalar una cama [MM$]  \\\n",
       "0                                  10                              1407   \n",
       "1                                   5                              1263   \n",
       "2                                   5                              1310   \n",
       "3                                  30                              1066   \n",
       "\n",
       "   Costo de operación anual de una cama [MM$]  Costo diario GRD1 [MM$]  \\\n",
       "0                                        47.2                    0.593   \n",
       "1                                        62.1                    0.493   \n",
       "2                                        65.9                    0.580   \n",
       "3                                        39.2                    0.482   \n",
       "\n",
       "   Costo diario GRD2 [MM$]  Costo diario GRD3 [MM$]  Costo diario GRD4 [MM$]  \\\n",
       "0                    0.509                    0.367                    0.492   \n",
       "1                    0.357                    0.429                    0.382   \n",
       "2                    0.325                    0.375                    0.409   \n",
       "3                    0.554                    0.564                    0.331   \n",
       "\n",
       "   Costo diario GRD5 [MM$]  Costo diario GRD6 [MM$]  Costo diario GRD7 [MM$]  \\\n",
       "0                    0.524                    0.405                    0.571   \n",
       "1                    0.469                    0.386                    0.543   \n",
       "2                    0.561                    0.362                    0.328   \n",
       "3                    0.438                    0.509                    0.544   \n",
       "\n",
       "   Costo diario GRD8 [MM$]  Costo diario GRD9 [MM$]  Costo diario GRD10 [MM$]  \n",
       "0                    0.474                    0.498                     0.305  \n",
       "1                    0.362                    0.564                     0.333  \n",
       "2                    0.314                    0.536                     0.436  \n",
       "3                    0.410                    0.441                     0.359  "
      ]
     },
     "execution_count": 10,
     "metadata": {},
     "output_type": "execute_result"
    }
   ],
   "source": [
    "Hosp_sheet.head(4)"
   ]
  },
  {
   "cell_type": "markdown",
   "id": "a42bbea8",
   "metadata": {},
   "source": [
    "Como se puede apreciar, la información que tenemos nos indica para cada hospital con cuántas camas de cuidados intensivos adulto, intermedio adultos y totales cuenta ese hospital. Además, tenemos la información de la cantidad máxima de camas que se pueden adicionar a cada hospital, el costo de realizar esa instalación y el costo de operación anual de una cama para cada hospital. Finalmente, tenemos la información sobre el costo diario de atención para cada tipo de GRD.\n",
    "\n",
    "Así, podemos hacernos muchas preguntas para describir el estado actual del sistema. Por ejemplo, ¿cuál es el hospital que cuenta con menos camas críticas?, ¿cuántos servicios de salud tienen menos de 70 camas totales? ¿en qué hospitales hay más camas críticas que camas intermedias?, ¿cuál es el hospital con el menor costo diario de atención para cada GRD y cuál es este costo?, ¿cuál es el costo de operación anual de cama más bajo por servicio de salud?, ¿cuál es el hospital más caro en atención de GRDs, considerando el costo de atención generalizado como el promedio del costo de atención de todos los GRDs?, ¿cuál es el servicio de salud que presenta una mayor diferencia en costo de atención entre su GRD más caro y más barato de atender?, ¿cómo distribuye el costo anual de operación de una cama en la red?, entre muchas más preguntas que podríamos hacernos para entender cuál es la realidad actual de la Red de Salud de la Región Metropolitana.\n",
    "\n",
    "Para dar respuesta a cada una de estas preguntas usaremos el Dataframe creado, e iremos detallando comandos y explicaciones que permitan entender por qué se realizar ese análisis específicamente."
   ]
  },
  {
   "cell_type": "markdown",
   "id": "434101b8",
   "metadata": {},
   "source": [
    "1. ¿Cuál es el hospital que cuenta con menos camas críticas?"
   ]
  },
  {
   "cell_type": "code",
   "execution_count": 11,
   "id": "8e3650bf",
   "metadata": {
    "scrolled": true
   },
   "outputs": [
    {
     "data": {
      "text/html": [
       "<div>\n",
       "<style scoped>\n",
       "    .dataframe tbody tr th:only-of-type {\n",
       "        vertical-align: middle;\n",
       "    }\n",
       "\n",
       "    .dataframe tbody tr th {\n",
       "        vertical-align: top;\n",
       "    }\n",
       "\n",
       "    .dataframe thead th {\n",
       "        text-align: right;\n",
       "    }\n",
       "</style>\n",
       "<table border=\"1\" class=\"dataframe\">\n",
       "  <thead>\n",
       "    <tr style=\"text-align: right;\">\n",
       "      <th></th>\n",
       "      <th>Nombre Servicio de Salud</th>\n",
       "      <th>Nombre Establecimiento</th>\n",
       "      <th>Área Cuidados Intensivos Adultos</th>\n",
       "      <th>Área Cuidados Intermedios Adulto</th>\n",
       "      <th>Total Camas Críticas</th>\n",
       "      <th>Máxima cantidad de camas a aumetar</th>\n",
       "      <th>Costo de instalar una cama [MM$]</th>\n",
       "      <th>Costo de operación anual de una cama [MM$]</th>\n",
       "      <th>Costo diario GRD1 [MM$]</th>\n",
       "      <th>Costo diario GRD2 [MM$]</th>\n",
       "      <th>Costo diario GRD3 [MM$]</th>\n",
       "      <th>Costo diario GRD4 [MM$]</th>\n",
       "      <th>Costo diario GRD5 [MM$]</th>\n",
       "      <th>Costo diario GRD6 [MM$]</th>\n",
       "      <th>Costo diario GRD7 [MM$]</th>\n",
       "      <th>Costo diario GRD8 [MM$]</th>\n",
       "      <th>Costo diario GRD9 [MM$]</th>\n",
       "      <th>Costo diario GRD10 [MM$]</th>\n",
       "    </tr>\n",
       "  </thead>\n",
       "  <tbody>\n",
       "    <tr>\n",
       "      <th>2</th>\n",
       "      <td>Metropolitano Occidente                       ...</td>\n",
       "      <td>Hospital Dr. Félix Bulnes Cerda</td>\n",
       "      <td>3</td>\n",
       "      <td>6</td>\n",
       "      <td>9</td>\n",
       "      <td>5</td>\n",
       "      <td>1310</td>\n",
       "      <td>65.9</td>\n",
       "      <td>0.580</td>\n",
       "      <td>0.325</td>\n",
       "      <td>0.375</td>\n",
       "      <td>0.409</td>\n",
       "      <td>0.561</td>\n",
       "      <td>0.362</td>\n",
       "      <td>0.328</td>\n",
       "      <td>0.314</td>\n",
       "      <td>0.536</td>\n",
       "      <td>0.436</td>\n",
       "    </tr>\n",
       "    <tr>\n",
       "      <th>20</th>\n",
       "      <td>Metropolitano Sur Oriente                     ...</td>\n",
       "      <td>Hospital Padre Alberto Hurtado (San Ramón)</td>\n",
       "      <td>6</td>\n",
       "      <td>10</td>\n",
       "      <td>16</td>\n",
       "      <td>5</td>\n",
       "      <td>1166</td>\n",
       "      <td>43.2</td>\n",
       "      <td>0.479</td>\n",
       "      <td>0.579</td>\n",
       "      <td>0.387</td>\n",
       "      <td>0.509</td>\n",
       "      <td>0.571</td>\n",
       "      <td>0.516</td>\n",
       "      <td>0.584</td>\n",
       "      <td>0.382</td>\n",
       "      <td>0.462</td>\n",
       "      <td>0.424</td>\n",
       "    </tr>\n",
       "    <tr>\n",
       "      <th>16</th>\n",
       "      <td>Metropolitano Sur                             ...</td>\n",
       "      <td>Hospital Parroquial de San Bernardo</td>\n",
       "      <td>6</td>\n",
       "      <td>10</td>\n",
       "      <td>16</td>\n",
       "      <td>4</td>\n",
       "      <td>1051</td>\n",
       "      <td>47.0</td>\n",
       "      <td>0.541</td>\n",
       "      <td>0.546</td>\n",
       "      <td>0.533</td>\n",
       "      <td>0.411</td>\n",
       "      <td>0.534</td>\n",
       "      <td>0.466</td>\n",
       "      <td>0.313</td>\n",
       "      <td>0.500</td>\n",
       "      <td>0.523</td>\n",
       "      <td>0.310</td>\n",
       "    </tr>\n",
       "  </tbody>\n",
       "</table>\n",
       "</div>"
      ],
      "text/plain": [
       "                             Nombre Servicio de Salud  \\\n",
       "2   Metropolitano Occidente                       ...   \n",
       "20  Metropolitano Sur Oriente                     ...   \n",
       "16  Metropolitano Sur                             ...   \n",
       "\n",
       "                        Nombre Establecimiento  \\\n",
       "2              Hospital Dr. Félix Bulnes Cerda   \n",
       "20  Hospital Padre Alberto Hurtado (San Ramón)   \n",
       "16   Hospital Parroquial de San Bernardo         \n",
       "\n",
       "    Área Cuidados Intensivos Adultos  Área Cuidados Intermedios Adulto  \\\n",
       "2                                  3                                 6   \n",
       "20                                 6                                10   \n",
       "16                                 6                                10   \n",
       "\n",
       "    Total Camas Críticas  Máxima cantidad de camas a aumetar  \\\n",
       "2                      9                                   5   \n",
       "20                    16                                   5   \n",
       "16                    16                                   4   \n",
       "\n",
       "    Costo de instalar una cama [MM$]  \\\n",
       "2                               1310   \n",
       "20                              1166   \n",
       "16                              1051   \n",
       "\n",
       "    Costo de operación anual de una cama [MM$]  Costo diario GRD1 [MM$]  \\\n",
       "2                                         65.9                    0.580   \n",
       "20                                        43.2                    0.479   \n",
       "16                                        47.0                    0.541   \n",
       "\n",
       "    Costo diario GRD2 [MM$]  Costo diario GRD3 [MM$]  Costo diario GRD4 [MM$]  \\\n",
       "2                     0.325                    0.375                    0.409   \n",
       "20                    0.579                    0.387                    0.509   \n",
       "16                    0.546                    0.533                    0.411   \n",
       "\n",
       "    Costo diario GRD5 [MM$]  Costo diario GRD6 [MM$]  Costo diario GRD7 [MM$]  \\\n",
       "2                     0.561                    0.362                    0.328   \n",
       "20                    0.571                    0.516                    0.584   \n",
       "16                    0.534                    0.466                    0.313   \n",
       "\n",
       "    Costo diario GRD8 [MM$]  Costo diario GRD9 [MM$]  Costo diario GRD10 [MM$]  \n",
       "2                     0.314                    0.536                     0.436  \n",
       "20                    0.382                    0.462                     0.424  \n",
       "16                    0.500                    0.523                     0.310  "
      ]
     },
     "execution_count": 11,
     "metadata": {},
     "output_type": "execute_result"
    }
   ],
   "source": [
    "###Alternativa 1\n",
    "alternativa_1 = Hosp_sheet.sort_values(by ='Total Camas Críticas')\n",
    "alternativa_1.head(3)"
   ]
  },
  {
   "cell_type": "code",
   "execution_count": 12,
   "id": "3a36f3c0",
   "metadata": {},
   "outputs": [
    {
     "data": {
      "text/html": [
       "<div>\n",
       "<style scoped>\n",
       "    .dataframe tbody tr th:only-of-type {\n",
       "        vertical-align: middle;\n",
       "    }\n",
       "\n",
       "    .dataframe tbody tr th {\n",
       "        vertical-align: top;\n",
       "    }\n",
       "\n",
       "    .dataframe thead th {\n",
       "        text-align: right;\n",
       "    }\n",
       "</style>\n",
       "<table border=\"1\" class=\"dataframe\">\n",
       "  <thead>\n",
       "    <tr style=\"text-align: right;\">\n",
       "      <th></th>\n",
       "      <th>Nombre Servicio de Salud</th>\n",
       "      <th>Nombre Establecimiento</th>\n",
       "      <th>Área Cuidados Intensivos Adultos</th>\n",
       "      <th>Área Cuidados Intermedios Adulto</th>\n",
       "      <th>Total Camas Críticas</th>\n",
       "      <th>Máxima cantidad de camas a aumetar</th>\n",
       "      <th>Costo de instalar una cama [MM$]</th>\n",
       "      <th>Costo de operación anual de una cama [MM$]</th>\n",
       "      <th>Costo diario GRD1 [MM$]</th>\n",
       "      <th>Costo diario GRD2 [MM$]</th>\n",
       "      <th>Costo diario GRD3 [MM$]</th>\n",
       "      <th>Costo diario GRD4 [MM$]</th>\n",
       "      <th>Costo diario GRD5 [MM$]</th>\n",
       "      <th>Costo diario GRD6 [MM$]</th>\n",
       "      <th>Costo diario GRD7 [MM$]</th>\n",
       "      <th>Costo diario GRD8 [MM$]</th>\n",
       "      <th>Costo diario GRD9 [MM$]</th>\n",
       "      <th>Costo diario GRD10 [MM$]</th>\n",
       "    </tr>\n",
       "  </thead>\n",
       "  <tbody>\n",
       "    <tr>\n",
       "      <th>2</th>\n",
       "      <td>Metropolitano Occidente                       ...</td>\n",
       "      <td>Hospital Dr. Félix Bulnes Cerda</td>\n",
       "      <td>3</td>\n",
       "      <td>6</td>\n",
       "      <td>9</td>\n",
       "      <td>5</td>\n",
       "      <td>1310</td>\n",
       "      <td>65.9</td>\n",
       "      <td>0.58</td>\n",
       "      <td>0.325</td>\n",
       "      <td>0.375</td>\n",
       "      <td>0.409</td>\n",
       "      <td>0.561</td>\n",
       "      <td>0.362</td>\n",
       "      <td>0.328</td>\n",
       "      <td>0.314</td>\n",
       "      <td>0.536</td>\n",
       "      <td>0.436</td>\n",
       "    </tr>\n",
       "  </tbody>\n",
       "</table>\n",
       "</div>"
      ],
      "text/plain": [
       "                            Nombre Servicio de Salud  \\\n",
       "2  Metropolitano Occidente                       ...   \n",
       "\n",
       "            Nombre Establecimiento  Área Cuidados Intensivos Adultos  \\\n",
       "2  Hospital Dr. Félix Bulnes Cerda                                 3   \n",
       "\n",
       "   Área Cuidados Intermedios Adulto  Total Camas Críticas  \\\n",
       "2                                 6                     9   \n",
       "\n",
       "   Máxima cantidad de camas a aumetar  Costo de instalar una cama [MM$]  \\\n",
       "2                                   5                              1310   \n",
       "\n",
       "   Costo de operación anual de una cama [MM$]  Costo diario GRD1 [MM$]  \\\n",
       "2                                        65.9                     0.58   \n",
       "\n",
       "   Costo diario GRD2 [MM$]  Costo diario GRD3 [MM$]  Costo diario GRD4 [MM$]  \\\n",
       "2                    0.325                    0.375                    0.409   \n",
       "\n",
       "   Costo diario GRD5 [MM$]  Costo diario GRD6 [MM$]  Costo diario GRD7 [MM$]  \\\n",
       "2                    0.561                    0.362                    0.328   \n",
       "\n",
       "   Costo diario GRD8 [MM$]  Costo diario GRD9 [MM$]  Costo diario GRD10 [MM$]  \n",
       "2                    0.314                    0.536                     0.436  "
      ]
     },
     "execution_count": 12,
     "metadata": {},
     "output_type": "execute_result"
    }
   ],
   "source": [
    "###Alternativa 2\n",
    "Hosp_sheet.loc[Hosp_sheet[\"Total Camas Críticas\"]==Hosp_sheet[\"Total Camas Críticas\"].min()]"
   ]
  },
  {
   "cell_type": "markdown",
   "id": "2df1bb80",
   "metadata": {},
   "source": [
    "2.\t¿Cuántos servicios de salud tienen menos de 70 camas totales?"
   ]
  },
  {
   "cell_type": "code",
   "execution_count": 13,
   "id": "73630359",
   "metadata": {},
   "outputs": [
    {
     "data": {
      "text/html": [
       "<div>\n",
       "<style scoped>\n",
       "    .dataframe tbody tr th:only-of-type {\n",
       "        vertical-align: middle;\n",
       "    }\n",
       "\n",
       "    .dataframe tbody tr th {\n",
       "        vertical-align: top;\n",
       "    }\n",
       "\n",
       "    .dataframe thead th {\n",
       "        text-align: right;\n",
       "    }\n",
       "</style>\n",
       "<table border=\"1\" class=\"dataframe\">\n",
       "  <thead>\n",
       "    <tr style=\"text-align: right;\">\n",
       "      <th></th>\n",
       "      <th>Total Camas Críticas</th>\n",
       "    </tr>\n",
       "    <tr>\n",
       "      <th>Nombre Servicio de Salud</th>\n",
       "      <th></th>\n",
       "    </tr>\n",
       "  </thead>\n",
       "  <tbody>\n",
       "    <tr>\n",
       "      <th>Metropolitano Norte</th>\n",
       "      <td>44</td>\n",
       "    </tr>\n",
       "  </tbody>\n",
       "</table>\n",
       "</div>"
      ],
      "text/plain": [
       "                                                    Total Camas Críticas\n",
       "Nombre Servicio de Salud                                                \n",
       "Metropolitano Norte                                                   44"
      ]
     },
     "execution_count": 13,
     "metadata": {},
     "output_type": "execute_result"
    }
   ],
   "source": [
    "p2 = Hosp_sheet[[\"Nombre Servicio de Salud\", \"Total Camas Críticas\"]].groupby(\"Nombre Servicio de Salud\").sum()\n",
    "p2.loc[p2[\"Total Camas Críticas\"]<70]"
   ]
  },
  {
   "cell_type": "markdown",
   "id": "2b0eeb8d",
   "metadata": {},
   "source": [
    "3.\t¿En qué hospitales hay más camas críticas que camas intermedias?"
   ]
  },
  {
   "cell_type": "code",
   "execution_count": 14,
   "id": "d1a496ed",
   "metadata": {},
   "outputs": [
    {
     "name": "stderr",
     "output_type": "stream",
     "text": [
      "C:\\Users\\raul\\AppData\\Local\\Temp\\ipykernel_8280\\897956908.py:2: SettingWithCopyWarning: \n",
      "A value is trying to be set on a copy of a slice from a DataFrame.\n",
      "Try using .loc[row_indexer,col_indexer] = value instead\n",
      "\n",
      "See the caveats in the documentation: https://pandas.pydata.org/pandas-docs/stable/user_guide/indexing.html#returning-a-view-versus-a-copy\n",
      "  p3[\"Resultado\"] = np.where(p3[\"Área Cuidados Intermedios Adulto\"] < p3[\"Área Cuidados Intensivos Adultos\"],1,0)\n"
     ]
    },
    {
     "data": {
      "text/html": [
       "<div>\n",
       "<style scoped>\n",
       "    .dataframe tbody tr th:only-of-type {\n",
       "        vertical-align: middle;\n",
       "    }\n",
       "\n",
       "    .dataframe tbody tr th {\n",
       "        vertical-align: top;\n",
       "    }\n",
       "\n",
       "    .dataframe thead th {\n",
       "        text-align: right;\n",
       "    }\n",
       "</style>\n",
       "<table border=\"1\" class=\"dataframe\">\n",
       "  <thead>\n",
       "    <tr style=\"text-align: right;\">\n",
       "      <th></th>\n",
       "      <th>Nombre Establecimiento</th>\n",
       "      <th>Área Cuidados Intensivos Adultos</th>\n",
       "      <th>Área Cuidados Intermedios Adulto</th>\n",
       "      <th>Resultado</th>\n",
       "    </tr>\n",
       "  </thead>\n",
       "  <tbody>\n",
       "    <tr>\n",
       "      <th>0</th>\n",
       "      <td>Complejo Hospitalario San José</td>\n",
       "      <td>11</td>\n",
       "      <td>33</td>\n",
       "      <td>0</td>\n",
       "    </tr>\n",
       "    <tr>\n",
       "      <th>1</th>\n",
       "      <td>Hospital Adalberto Steeger (Talagante)</td>\n",
       "      <td>6</td>\n",
       "      <td>11</td>\n",
       "      <td>0</td>\n",
       "    </tr>\n",
       "    <tr>\n",
       "      <th>2</th>\n",
       "      <td>Hospital Dr. Félix Bulnes Cerda</td>\n",
       "      <td>3</td>\n",
       "      <td>6</td>\n",
       "      <td>0</td>\n",
       "    </tr>\n",
       "    <tr>\n",
       "      <th>3</th>\n",
       "      <td>Hospital San Juan de Dios</td>\n",
       "      <td>29</td>\n",
       "      <td>47</td>\n",
       "      <td>0</td>\n",
       "    </tr>\n",
       "    <tr>\n",
       "      <th>4</th>\n",
       "      <td>Instituto Traumatológico Dr. Teodoro Gebauer</td>\n",
       "      <td>12</td>\n",
       "      <td>6</td>\n",
       "      <td>1</td>\n",
       "    </tr>\n",
       "    <tr>\n",
       "      <th>5</th>\n",
       "      <td>Hospital Clínico San Borja-Arriarán</td>\n",
       "      <td>17</td>\n",
       "      <td>26</td>\n",
       "      <td>0</td>\n",
       "    </tr>\n",
       "    <tr>\n",
       "      <th>6</th>\n",
       "      <td>Hospital de Urgencia Asistencia Pública Dr. Al...</td>\n",
       "      <td>24</td>\n",
       "      <td>20</td>\n",
       "      <td>1</td>\n",
       "    </tr>\n",
       "    <tr>\n",
       "      <th>7</th>\n",
       "      <td>Hospital el Carmen</td>\n",
       "      <td>6</td>\n",
       "      <td>12</td>\n",
       "      <td>0</td>\n",
       "    </tr>\n",
       "    <tr>\n",
       "      <th>8</th>\n",
       "      <td>Hospital Del Salvador</td>\n",
       "      <td>22</td>\n",
       "      <td>24</td>\n",
       "      <td>0</td>\n",
       "    </tr>\n",
       "    <tr>\n",
       "      <th>9</th>\n",
       "      <td>Hospital Dr. Luis Tisné B.</td>\n",
       "      <td>8</td>\n",
       "      <td>16</td>\n",
       "      <td>0</td>\n",
       "    </tr>\n",
       "    <tr>\n",
       "      <th>10</th>\n",
       "      <td>Instituto de Neurocirugía Dr. Alfonso Asenjo</td>\n",
       "      <td>12</td>\n",
       "      <td>11</td>\n",
       "      <td>1</td>\n",
       "    </tr>\n",
       "    <tr>\n",
       "      <th>11</th>\n",
       "      <td>Instituto Nacional de Enfermedades Respiratori...</td>\n",
       "      <td>15</td>\n",
       "      <td>29</td>\n",
       "      <td>0</td>\n",
       "    </tr>\n",
       "    <tr>\n",
       "      <th>12</th>\n",
       "      <td>Hospital Barros Luco Trudeau</td>\n",
       "      <td>31</td>\n",
       "      <td>43</td>\n",
       "      <td>0</td>\n",
       "    </tr>\n",
       "    <tr>\n",
       "      <th>13</th>\n",
       "      <td>Hospital de Enfermedades Infecciosas Dr. Lucio...</td>\n",
       "      <td>11</td>\n",
       "      <td>9</td>\n",
       "      <td>1</td>\n",
       "    </tr>\n",
       "    <tr>\n",
       "      <th>14</th>\n",
       "      <td>Hospital Dr. Exequiel González Cortés</td>\n",
       "      <td>23</td>\n",
       "      <td>8</td>\n",
       "      <td>1</td>\n",
       "    </tr>\n",
       "    <tr>\n",
       "      <th>15</th>\n",
       "      <td>Hospital El Pino</td>\n",
       "      <td>12</td>\n",
       "      <td>20</td>\n",
       "      <td>0</td>\n",
       "    </tr>\n",
       "    <tr>\n",
       "      <th>16</th>\n",
       "      <td>Hospital Parroquial de San Bernardo</td>\n",
       "      <td>6</td>\n",
       "      <td>10</td>\n",
       "      <td>0</td>\n",
       "    </tr>\n",
       "    <tr>\n",
       "      <th>17</th>\n",
       "      <td>Complejo Hospitalario Dr. Sótero del Río</td>\n",
       "      <td>20</td>\n",
       "      <td>35</td>\n",
       "      <td>0</td>\n",
       "    </tr>\n",
       "    <tr>\n",
       "      <th>18</th>\n",
       "      <td>Hospital Clínico de la Florida</td>\n",
       "      <td>9</td>\n",
       "      <td>15</td>\n",
       "      <td>0</td>\n",
       "    </tr>\n",
       "    <tr>\n",
       "      <th>19</th>\n",
       "      <td>Hospital Metropolitano ( ex Militar )</td>\n",
       "      <td>12</td>\n",
       "      <td>20</td>\n",
       "      <td>0</td>\n",
       "    </tr>\n",
       "    <tr>\n",
       "      <th>20</th>\n",
       "      <td>Hospital Padre Alberto Hurtado (San Ramón)</td>\n",
       "      <td>6</td>\n",
       "      <td>10</td>\n",
       "      <td>0</td>\n",
       "    </tr>\n",
       "  </tbody>\n",
       "</table>\n",
       "</div>"
      ],
      "text/plain": [
       "                               Nombre Establecimiento  \\\n",
       "0                      Complejo Hospitalario San José   \n",
       "1              Hospital Adalberto Steeger (Talagante)   \n",
       "2                     Hospital Dr. Félix Bulnes Cerda   \n",
       "3                           Hospital San Juan de Dios   \n",
       "4        Instituto Traumatológico Dr. Teodoro Gebauer   \n",
       "5                 Hospital Clínico San Borja-Arriarán   \n",
       "6   Hospital de Urgencia Asistencia Pública Dr. Al...   \n",
       "7                                  Hospital el Carmen   \n",
       "8                               Hospital Del Salvador   \n",
       "9                          Hospital Dr. Luis Tisné B.   \n",
       "10       Instituto de Neurocirugía Dr. Alfonso Asenjo   \n",
       "11  Instituto Nacional de Enfermedades Respiratori...   \n",
       "12                       Hospital Barros Luco Trudeau   \n",
       "13  Hospital de Enfermedades Infecciosas Dr. Lucio...   \n",
       "14              Hospital Dr. Exequiel González Cortés   \n",
       "15                                   Hospital El Pino   \n",
       "16          Hospital Parroquial de San Bernardo         \n",
       "17         Complejo Hospitalario Dr. Sótero del Río     \n",
       "18                     Hospital Clínico de la Florida   \n",
       "19              Hospital Metropolitano ( ex Militar )   \n",
       "20         Hospital Padre Alberto Hurtado (San Ramón)   \n",
       "\n",
       "    Área Cuidados Intensivos Adultos  Área Cuidados Intermedios Adulto  \\\n",
       "0                                 11                                33   \n",
       "1                                  6                                11   \n",
       "2                                  3                                 6   \n",
       "3                                 29                                47   \n",
       "4                                 12                                 6   \n",
       "5                                 17                                26   \n",
       "6                                 24                                20   \n",
       "7                                  6                                12   \n",
       "8                                 22                                24   \n",
       "9                                  8                                16   \n",
       "10                                12                                11   \n",
       "11                                15                                29   \n",
       "12                                31                                43   \n",
       "13                                11                                 9   \n",
       "14                                23                                 8   \n",
       "15                                12                                20   \n",
       "16                                 6                                10   \n",
       "17                                20                                35   \n",
       "18                                 9                                15   \n",
       "19                                12                                20   \n",
       "20                                 6                                10   \n",
       "\n",
       "    Resultado  \n",
       "0           0  \n",
       "1           0  \n",
       "2           0  \n",
       "3           0  \n",
       "4           1  \n",
       "5           0  \n",
       "6           1  \n",
       "7           0  \n",
       "8           0  \n",
       "9           0  \n",
       "10          1  \n",
       "11          0  \n",
       "12          0  \n",
       "13          1  \n",
       "14          1  \n",
       "15          0  \n",
       "16          0  \n",
       "17          0  \n",
       "18          0  \n",
       "19          0  \n",
       "20          0  "
      ]
     },
     "execution_count": 14,
     "metadata": {},
     "output_type": "execute_result"
    }
   ],
   "source": [
    "p3 = Hosp_sheet[[\"Nombre Establecimiento\", \"Área Cuidados Intensivos Adultos\",\"Área Cuidados Intermedios Adulto\"]]\n",
    "p3[\"Resultado\"] = np.where(p3[\"Área Cuidados Intermedios Adulto\"] < p3[\"Área Cuidados Intensivos Adultos\"],1,0)\n",
    "p3.head(7)\n",
    "p3"
   ]
  },
  {
   "cell_type": "code",
   "execution_count": 15,
   "id": "36a98d75",
   "metadata": {},
   "outputs": [
    {
     "data": {
      "text/html": [
       "<div>\n",
       "<style scoped>\n",
       "    .dataframe tbody tr th:only-of-type {\n",
       "        vertical-align: middle;\n",
       "    }\n",
       "\n",
       "    .dataframe tbody tr th {\n",
       "        vertical-align: top;\n",
       "    }\n",
       "\n",
       "    .dataframe thead th {\n",
       "        text-align: right;\n",
       "    }\n",
       "</style>\n",
       "<table border=\"1\" class=\"dataframe\">\n",
       "  <thead>\n",
       "    <tr style=\"text-align: right;\">\n",
       "      <th></th>\n",
       "      <th>Nombre Establecimiento</th>\n",
       "      <th>Área Cuidados Intensivos Adultos</th>\n",
       "      <th>Área Cuidados Intermedios Adulto</th>\n",
       "      <th>Resultado</th>\n",
       "    </tr>\n",
       "  </thead>\n",
       "  <tbody>\n",
       "    <tr>\n",
       "      <th>4</th>\n",
       "      <td>Instituto Traumatológico Dr. Teodoro Gebauer</td>\n",
       "      <td>12</td>\n",
       "      <td>6</td>\n",
       "      <td>1</td>\n",
       "    </tr>\n",
       "    <tr>\n",
       "      <th>6</th>\n",
       "      <td>Hospital de Urgencia Asistencia Pública Dr. Al...</td>\n",
       "      <td>24</td>\n",
       "      <td>20</td>\n",
       "      <td>1</td>\n",
       "    </tr>\n",
       "    <tr>\n",
       "      <th>10</th>\n",
       "      <td>Instituto de Neurocirugía Dr. Alfonso Asenjo</td>\n",
       "      <td>12</td>\n",
       "      <td>11</td>\n",
       "      <td>1</td>\n",
       "    </tr>\n",
       "    <tr>\n",
       "      <th>13</th>\n",
       "      <td>Hospital de Enfermedades Infecciosas Dr. Lucio...</td>\n",
       "      <td>11</td>\n",
       "      <td>9</td>\n",
       "      <td>1</td>\n",
       "    </tr>\n",
       "    <tr>\n",
       "      <th>14</th>\n",
       "      <td>Hospital Dr. Exequiel González Cortés</td>\n",
       "      <td>23</td>\n",
       "      <td>8</td>\n",
       "      <td>1</td>\n",
       "    </tr>\n",
       "  </tbody>\n",
       "</table>\n",
       "</div>"
      ],
      "text/plain": [
       "                               Nombre Establecimiento  \\\n",
       "4        Instituto Traumatológico Dr. Teodoro Gebauer   \n",
       "6   Hospital de Urgencia Asistencia Pública Dr. Al...   \n",
       "10       Instituto de Neurocirugía Dr. Alfonso Asenjo   \n",
       "13  Hospital de Enfermedades Infecciosas Dr. Lucio...   \n",
       "14              Hospital Dr. Exequiel González Cortés   \n",
       "\n",
       "    Área Cuidados Intensivos Adultos  Área Cuidados Intermedios Adulto  \\\n",
       "4                                 12                                 6   \n",
       "6                                 24                                20   \n",
       "10                                12                                11   \n",
       "13                                11                                 9   \n",
       "14                                23                                 8   \n",
       "\n",
       "    Resultado  \n",
       "4           1  \n",
       "6           1  \n",
       "10          1  \n",
       "13          1  \n",
       "14          1  "
      ]
     },
     "execution_count": 15,
     "metadata": {},
     "output_type": "execute_result"
    }
   ],
   "source": [
    "p3.loc[p3[\"Resultado\"] == 1]"
   ]
  },
  {
   "cell_type": "markdown",
   "id": "fbf1ee31",
   "metadata": {},
   "source": [
    "4.\t¿Cuál es el hospital con el menor costo diario de atención para cada GRD y cuál es este costo?"
   ]
  },
  {
   "cell_type": "code",
   "execution_count": 16,
   "id": "f4081b56",
   "metadata": {
    "scrolled": true
   },
   "outputs": [
    {
     "data": {
      "text/html": [
       "<div>\n",
       "<style scoped>\n",
       "    .dataframe tbody tr th:only-of-type {\n",
       "        vertical-align: middle;\n",
       "    }\n",
       "\n",
       "    .dataframe tbody tr th {\n",
       "        vertical-align: top;\n",
       "    }\n",
       "\n",
       "    .dataframe thead th {\n",
       "        text-align: right;\n",
       "    }\n",
       "</style>\n",
       "<table border=\"1\" class=\"dataframe\">\n",
       "  <thead>\n",
       "    <tr style=\"text-align: right;\">\n",
       "      <th></th>\n",
       "      <th>Nombre Servicio de Salud</th>\n",
       "      <th>Nombre Establecimiento</th>\n",
       "      <th>Cost_GRD1</th>\n",
       "      <th>Cost_GRD2</th>\n",
       "      <th>Cost_GRD3</th>\n",
       "      <th>Cost_GRD4</th>\n",
       "      <th>Cost_GRD5</th>\n",
       "      <th>Cost_GRD6</th>\n",
       "      <th>Cost_GRD7</th>\n",
       "      <th>Cost_GRD8</th>\n",
       "      <th>Cost_GRD9</th>\n",
       "      <th>Cost_GRD10</th>\n",
       "    </tr>\n",
       "  </thead>\n",
       "  <tbody>\n",
       "    <tr>\n",
       "      <th>0</th>\n",
       "      <td>Metropolitano Norte                           ...</td>\n",
       "      <td>Complejo Hospitalario San José</td>\n",
       "      <td>0.593</td>\n",
       "      <td>0.509</td>\n",
       "      <td>0.367</td>\n",
       "      <td>0.492</td>\n",
       "      <td>0.524</td>\n",
       "      <td>0.405</td>\n",
       "      <td>0.571</td>\n",
       "      <td>0.474</td>\n",
       "      <td>0.498</td>\n",
       "      <td>0.305</td>\n",
       "    </tr>\n",
       "    <tr>\n",
       "      <th>1</th>\n",
       "      <td>Metropolitano Occidente                       ...</td>\n",
       "      <td>Hospital Adalberto Steeger (Talagante)</td>\n",
       "      <td>0.493</td>\n",
       "      <td>0.357</td>\n",
       "      <td>0.429</td>\n",
       "      <td>0.382</td>\n",
       "      <td>0.469</td>\n",
       "      <td>0.386</td>\n",
       "      <td>0.543</td>\n",
       "      <td>0.362</td>\n",
       "      <td>0.564</td>\n",
       "      <td>0.333</td>\n",
       "    </tr>\n",
       "    <tr>\n",
       "      <th>2</th>\n",
       "      <td>Metropolitano Occidente                       ...</td>\n",
       "      <td>Hospital Dr. Félix Bulnes Cerda</td>\n",
       "      <td>0.580</td>\n",
       "      <td>0.325</td>\n",
       "      <td>0.375</td>\n",
       "      <td>0.409</td>\n",
       "      <td>0.561</td>\n",
       "      <td>0.362</td>\n",
       "      <td>0.328</td>\n",
       "      <td>0.314</td>\n",
       "      <td>0.536</td>\n",
       "      <td>0.436</td>\n",
       "    </tr>\n",
       "    <tr>\n",
       "      <th>3</th>\n",
       "      <td>Metropolitano Occidente                       ...</td>\n",
       "      <td>Hospital San Juan de Dios</td>\n",
       "      <td>0.482</td>\n",
       "      <td>0.554</td>\n",
       "      <td>0.564</td>\n",
       "      <td>0.331</td>\n",
       "      <td>0.438</td>\n",
       "      <td>0.509</td>\n",
       "      <td>0.544</td>\n",
       "      <td>0.410</td>\n",
       "      <td>0.441</td>\n",
       "      <td>0.359</td>\n",
       "    </tr>\n",
       "    <tr>\n",
       "      <th>4</th>\n",
       "      <td>Metropolitano Occidente                       ...</td>\n",
       "      <td>Instituto Traumatológico Dr. Teodoro Gebauer</td>\n",
       "      <td>0.407</td>\n",
       "      <td>0.449</td>\n",
       "      <td>0.468</td>\n",
       "      <td>0.433</td>\n",
       "      <td>0.573</td>\n",
       "      <td>0.392</td>\n",
       "      <td>0.409</td>\n",
       "      <td>0.391</td>\n",
       "      <td>0.418</td>\n",
       "      <td>0.334</td>\n",
       "    </tr>\n",
       "  </tbody>\n",
       "</table>\n",
       "</div>"
      ],
      "text/plain": [
       "                            Nombre Servicio de Salud  \\\n",
       "0  Metropolitano Norte                           ...   \n",
       "1  Metropolitano Occidente                       ...   \n",
       "2  Metropolitano Occidente                       ...   \n",
       "3  Metropolitano Occidente                       ...   \n",
       "4  Metropolitano Occidente                       ...   \n",
       "\n",
       "                         Nombre Establecimiento  Cost_GRD1  Cost_GRD2  \\\n",
       "0                Complejo Hospitalario San José      0.593      0.509   \n",
       "1        Hospital Adalberto Steeger (Talagante)      0.493      0.357   \n",
       "2               Hospital Dr. Félix Bulnes Cerda      0.580      0.325   \n",
       "3                     Hospital San Juan de Dios      0.482      0.554   \n",
       "4  Instituto Traumatológico Dr. Teodoro Gebauer      0.407      0.449   \n",
       "\n",
       "   Cost_GRD3  Cost_GRD4  Cost_GRD5  Cost_GRD6  Cost_GRD7  Cost_GRD8  \\\n",
       "0      0.367      0.492      0.524      0.405      0.571      0.474   \n",
       "1      0.429      0.382      0.469      0.386      0.543      0.362   \n",
       "2      0.375      0.409      0.561      0.362      0.328      0.314   \n",
       "3      0.564      0.331      0.438      0.509      0.544      0.410   \n",
       "4      0.468      0.433      0.573      0.392      0.409      0.391   \n",
       "\n",
       "   Cost_GRD9  Cost_GRD10  \n",
       "0      0.498       0.305  \n",
       "1      0.564       0.333  \n",
       "2      0.536       0.436  \n",
       "3      0.441       0.359  \n",
       "4      0.418       0.334  "
      ]
     },
     "execution_count": 16,
     "metadata": {},
     "output_type": "execute_result"
    }
   ],
   "source": [
    "Hosp_sheet = Hosp_sheet.rename(columns={\"Costo diario GRD1 [MM$]\": \"Cost_GRD1\",\"Costo diario GRD2 [MM$]\": \"Cost_GRD2\",\"Costo diario GRD3 [MM$]\": \"Cost_GRD3\",\"Costo diario GRD4 [MM$]\": \"Cost_GRD4\",\"Costo diario GRD5 [MM$]\": \"Cost_GRD5\",\"Costo diario GRD6 [MM$]\": \"Cost_GRD6\",\"Costo diario GRD7 [MM$]\": \"Cost_GRD7\",\"Costo diario GRD8 [MM$]\": \"Cost_GRD8\",\"Costo diario GRD9 [MM$]\": \"Cost_GRD9\",\"Costo diario GRD10 [MM$]\": \"Cost_GRD10\"})\n",
    "Cost_GRD = Hosp_sheet[[\"Nombre Servicio de Salud\",\"Nombre Establecimiento\",\"Cost_GRD1\",\"Cost_GRD2\",\"Cost_GRD3\",\"Cost_GRD4\",\"Cost_GRD5\",\"Cost_GRD6\",\"Cost_GRD7\",\"Cost_GRD8\",\"Cost_GRD9\",\"Cost_GRD10\"]]\n",
    "Cost_GRD.head()"
   ]
  },
  {
   "cell_type": "code",
   "execution_count": 17,
   "id": "cd9b7e0d",
   "metadata": {},
   "outputs": [
    {
     "data": {
      "text/html": [
       "<div>\n",
       "<style scoped>\n",
       "    .dataframe tbody tr th:only-of-type {\n",
       "        vertical-align: middle;\n",
       "    }\n",
       "\n",
       "    .dataframe tbody tr th {\n",
       "        vertical-align: top;\n",
       "    }\n",
       "\n",
       "    .dataframe thead th {\n",
       "        text-align: right;\n",
       "    }\n",
       "</style>\n",
       "<table border=\"1\" class=\"dataframe\">\n",
       "  <thead>\n",
       "    <tr style=\"text-align: right;\">\n",
       "      <th></th>\n",
       "      <th>Nombre Servicio de Salud</th>\n",
       "      <th>Nombre Establecimiento</th>\n",
       "      <th>Cost_GRD1</th>\n",
       "      <th>Cost_GRD2</th>\n",
       "      <th>Cost_GRD3</th>\n",
       "      <th>Cost_GRD4</th>\n",
       "      <th>Cost_GRD5</th>\n",
       "      <th>Cost_GRD6</th>\n",
       "      <th>Cost_GRD7</th>\n",
       "      <th>Cost_GRD8</th>\n",
       "      <th>Cost_GRD9</th>\n",
       "      <th>Cost_GRD10</th>\n",
       "    </tr>\n",
       "  </thead>\n",
       "  <tbody>\n",
       "    <tr>\n",
       "      <th>10</th>\n",
       "      <td>Metropolitano Oriente                         ...</td>\n",
       "      <td>Instituto de Neurocirugía Dr. Alfonso Asenjo</td>\n",
       "      <td>0.376</td>\n",
       "      <td>0.481</td>\n",
       "      <td>0.476</td>\n",
       "      <td>0.407</td>\n",
       "      <td>0.573</td>\n",
       "      <td>0.302</td>\n",
       "      <td>0.535</td>\n",
       "      <td>0.52</td>\n",
       "      <td>0.407</td>\n",
       "      <td>0.42</td>\n",
       "    </tr>\n",
       "  </tbody>\n",
       "</table>\n",
       "</div>"
      ],
      "text/plain": [
       "                             Nombre Servicio de Salud  \\\n",
       "10  Metropolitano Oriente                         ...   \n",
       "\n",
       "                          Nombre Establecimiento  Cost_GRD1  Cost_GRD2  \\\n",
       "10  Instituto de Neurocirugía Dr. Alfonso Asenjo      0.376      0.481   \n",
       "\n",
       "    Cost_GRD3  Cost_GRD4  Cost_GRD5  Cost_GRD6  Cost_GRD7  Cost_GRD8  \\\n",
       "10      0.476      0.407      0.573      0.302      0.535       0.52   \n",
       "\n",
       "    Cost_GRD9  Cost_GRD10  \n",
       "10      0.407        0.42  "
      ]
     },
     "execution_count": 17,
     "metadata": {},
     "output_type": "execute_result"
    }
   ],
   "source": [
    "Cost_GRD.loc[Cost_GRD[\"Cost_GRD1\"] == Cost_GRD[\"Cost_GRD1\"].min()]"
   ]
  },
  {
   "cell_type": "code",
   "execution_count": 18,
   "id": "7bd5e7c7",
   "metadata": {},
   "outputs": [
    {
     "data": {
      "text/html": [
       "<div>\n",
       "<style scoped>\n",
       "    .dataframe tbody tr th:only-of-type {\n",
       "        vertical-align: middle;\n",
       "    }\n",
       "\n",
       "    .dataframe tbody tr th {\n",
       "        vertical-align: top;\n",
       "    }\n",
       "\n",
       "    .dataframe thead th {\n",
       "        text-align: right;\n",
       "    }\n",
       "</style>\n",
       "<table border=\"1\" class=\"dataframe\">\n",
       "  <thead>\n",
       "    <tr style=\"text-align: right;\">\n",
       "      <th></th>\n",
       "      <th>Nombre Servicio de Salud</th>\n",
       "      <th>Nombre Establecimiento</th>\n",
       "      <th>Cost_GRD1</th>\n",
       "      <th>Cost_GRD2</th>\n",
       "      <th>Cost_GRD3</th>\n",
       "      <th>Cost_GRD4</th>\n",
       "      <th>Cost_GRD5</th>\n",
       "      <th>Cost_GRD6</th>\n",
       "      <th>Cost_GRD7</th>\n",
       "      <th>Cost_GRD8</th>\n",
       "      <th>Cost_GRD9</th>\n",
       "      <th>Cost_GRD10</th>\n",
       "    </tr>\n",
       "  </thead>\n",
       "  <tbody>\n",
       "    <tr>\n",
       "      <th>2</th>\n",
       "      <td>Metropolitano Occidente                       ...</td>\n",
       "      <td>Hospital Dr. Félix Bulnes Cerda</td>\n",
       "      <td>0.58</td>\n",
       "      <td>0.325</td>\n",
       "      <td>0.375</td>\n",
       "      <td>0.409</td>\n",
       "      <td>0.561</td>\n",
       "      <td>0.362</td>\n",
       "      <td>0.328</td>\n",
       "      <td>0.314</td>\n",
       "      <td>0.536</td>\n",
       "      <td>0.436</td>\n",
       "    </tr>\n",
       "  </tbody>\n",
       "</table>\n",
       "</div>"
      ],
      "text/plain": [
       "                            Nombre Servicio de Salud  \\\n",
       "2  Metropolitano Occidente                       ...   \n",
       "\n",
       "            Nombre Establecimiento  Cost_GRD1  Cost_GRD2  Cost_GRD3  \\\n",
       "2  Hospital Dr. Félix Bulnes Cerda       0.58      0.325      0.375   \n",
       "\n",
       "   Cost_GRD4  Cost_GRD5  Cost_GRD6  Cost_GRD7  Cost_GRD8  Cost_GRD9  \\\n",
       "2      0.409      0.561      0.362      0.328      0.314      0.536   \n",
       "\n",
       "   Cost_GRD10  \n",
       "2       0.436  "
      ]
     },
     "execution_count": 18,
     "metadata": {},
     "output_type": "execute_result"
    }
   ],
   "source": [
    "Cost_GRD.loc[Cost_GRD[\"Cost_GRD2\"] == Cost_GRD[\"Cost_GRD2\"].min()]"
   ]
  },
  {
   "cell_type": "code",
   "execution_count": 19,
   "id": "382a5c15",
   "metadata": {},
   "outputs": [
    {
     "data": {
      "text/html": [
       "<div>\n",
       "<style scoped>\n",
       "    .dataframe tbody tr th:only-of-type {\n",
       "        vertical-align: middle;\n",
       "    }\n",
       "\n",
       "    .dataframe tbody tr th {\n",
       "        vertical-align: top;\n",
       "    }\n",
       "\n",
       "    .dataframe thead th {\n",
       "        text-align: right;\n",
       "    }\n",
       "</style>\n",
       "<table border=\"1\" class=\"dataframe\">\n",
       "  <thead>\n",
       "    <tr style=\"text-align: right;\">\n",
       "      <th></th>\n",
       "      <th>Nombre Servicio de Salud</th>\n",
       "      <th>Nombre Establecimiento</th>\n",
       "      <th>Cost_GRD1</th>\n",
       "      <th>Cost_GRD2</th>\n",
       "      <th>Cost_GRD3</th>\n",
       "      <th>Cost_GRD4</th>\n",
       "      <th>Cost_GRD5</th>\n",
       "      <th>Cost_GRD6</th>\n",
       "      <th>Cost_GRD7</th>\n",
       "      <th>Cost_GRD8</th>\n",
       "      <th>Cost_GRD9</th>\n",
       "      <th>Cost_GRD10</th>\n",
       "    </tr>\n",
       "  </thead>\n",
       "  <tbody>\n",
       "    <tr>\n",
       "      <th>6</th>\n",
       "      <td>Metropolitano Central                         ...</td>\n",
       "      <td>Hospital de Urgencia Asistencia Pública Dr. Al...</td>\n",
       "      <td>0.468</td>\n",
       "      <td>0.509</td>\n",
       "      <td>0.343</td>\n",
       "      <td>0.391</td>\n",
       "      <td>0.39</td>\n",
       "      <td>0.404</td>\n",
       "      <td>0.457</td>\n",
       "      <td>0.411</td>\n",
       "      <td>0.33</td>\n",
       "      <td>0.568</td>\n",
       "    </tr>\n",
       "  </tbody>\n",
       "</table>\n",
       "</div>"
      ],
      "text/plain": [
       "                            Nombre Servicio de Salud  \\\n",
       "6  Metropolitano Central                         ...   \n",
       "\n",
       "                              Nombre Establecimiento  Cost_GRD1  Cost_GRD2  \\\n",
       "6  Hospital de Urgencia Asistencia Pública Dr. Al...      0.468      0.509   \n",
       "\n",
       "   Cost_GRD3  Cost_GRD4  Cost_GRD5  Cost_GRD6  Cost_GRD7  Cost_GRD8  \\\n",
       "6      0.343      0.391       0.39      0.404      0.457      0.411   \n",
       "\n",
       "   Cost_GRD9  Cost_GRD10  \n",
       "6       0.33       0.568  "
      ]
     },
     "execution_count": 19,
     "metadata": {},
     "output_type": "execute_result"
    }
   ],
   "source": [
    "Cost_GRD.loc[Cost_GRD[\"Cost_GRD3\"] == Cost_GRD[\"Cost_GRD3\"].min()]"
   ]
  },
  {
   "cell_type": "code",
   "execution_count": 20,
   "id": "184c96c2",
   "metadata": {
    "scrolled": true
   },
   "outputs": [
    {
     "data": {
      "text/html": [
       "<div>\n",
       "<style scoped>\n",
       "    .dataframe tbody tr th:only-of-type {\n",
       "        vertical-align: middle;\n",
       "    }\n",
       "\n",
       "    .dataframe tbody tr th {\n",
       "        vertical-align: top;\n",
       "    }\n",
       "\n",
       "    .dataframe thead th {\n",
       "        text-align: right;\n",
       "    }\n",
       "</style>\n",
       "<table border=\"1\" class=\"dataframe\">\n",
       "  <thead>\n",
       "    <tr style=\"text-align: right;\">\n",
       "      <th></th>\n",
       "      <th>Nombre Servicio de Salud</th>\n",
       "      <th>Nombre Establecimiento</th>\n",
       "      <th>Cost_GRD1</th>\n",
       "      <th>Cost_GRD2</th>\n",
       "      <th>Cost_GRD3</th>\n",
       "      <th>Cost_GRD4</th>\n",
       "      <th>Cost_GRD5</th>\n",
       "      <th>Cost_GRD6</th>\n",
       "      <th>Cost_GRD7</th>\n",
       "      <th>Cost_GRD8</th>\n",
       "      <th>Cost_GRD9</th>\n",
       "      <th>Cost_GRD10</th>\n",
       "    </tr>\n",
       "  </thead>\n",
       "  <tbody>\n",
       "    <tr>\n",
       "      <th>9</th>\n",
       "      <td>Metropolitano Oriente                         ...</td>\n",
       "      <td>Hospital Dr. Luis Tisné B.</td>\n",
       "      <td>0.386</td>\n",
       "      <td>0.477</td>\n",
       "      <td>0.491</td>\n",
       "      <td>0.312</td>\n",
       "      <td>0.452</td>\n",
       "      <td>0.362</td>\n",
       "      <td>0.435</td>\n",
       "      <td>0.305</td>\n",
       "      <td>0.482</td>\n",
       "      <td>0.421</td>\n",
       "    </tr>\n",
       "  </tbody>\n",
       "</table>\n",
       "</div>"
      ],
      "text/plain": [
       "                            Nombre Servicio de Salud  \\\n",
       "9  Metropolitano Oriente                         ...   \n",
       "\n",
       "       Nombre Establecimiento  Cost_GRD1  Cost_GRD2  Cost_GRD3  Cost_GRD4  \\\n",
       "9  Hospital Dr. Luis Tisné B.      0.386      0.477      0.491      0.312   \n",
       "\n",
       "   Cost_GRD5  Cost_GRD6  Cost_GRD7  Cost_GRD8  Cost_GRD9  Cost_GRD10  \n",
       "9      0.452      0.362      0.435      0.305      0.482       0.421  "
      ]
     },
     "execution_count": 20,
     "metadata": {},
     "output_type": "execute_result"
    }
   ],
   "source": [
    "Cost_GRD.loc[Cost_GRD[\"Cost_GRD4\"] == Cost_GRD[\"Cost_GRD4\"].min()]"
   ]
  },
  {
   "cell_type": "code",
   "execution_count": 21,
   "id": "8dd91234",
   "metadata": {},
   "outputs": [
    {
     "data": {
      "text/html": [
       "<div>\n",
       "<style scoped>\n",
       "    .dataframe tbody tr th:only-of-type {\n",
       "        vertical-align: middle;\n",
       "    }\n",
       "\n",
       "    .dataframe tbody tr th {\n",
       "        vertical-align: top;\n",
       "    }\n",
       "\n",
       "    .dataframe thead th {\n",
       "        text-align: right;\n",
       "    }\n",
       "</style>\n",
       "<table border=\"1\" class=\"dataframe\">\n",
       "  <thead>\n",
       "    <tr style=\"text-align: right;\">\n",
       "      <th></th>\n",
       "      <th>Nombre Servicio de Salud</th>\n",
       "      <th>Nombre Establecimiento</th>\n",
       "      <th>Cost_GRD1</th>\n",
       "      <th>Cost_GRD2</th>\n",
       "      <th>Cost_GRD3</th>\n",
       "      <th>Cost_GRD4</th>\n",
       "      <th>Cost_GRD5</th>\n",
       "      <th>Cost_GRD6</th>\n",
       "      <th>Cost_GRD7</th>\n",
       "      <th>Cost_GRD8</th>\n",
       "      <th>Cost_GRD9</th>\n",
       "      <th>Cost_GRD10</th>\n",
       "    </tr>\n",
       "  </thead>\n",
       "  <tbody>\n",
       "    <tr>\n",
       "      <th>18</th>\n",
       "      <td>Metropolitano Sur Oriente                     ...</td>\n",
       "      <td>Hospital Clínico de la Florida</td>\n",
       "      <td>0.527</td>\n",
       "      <td>0.552</td>\n",
       "      <td>0.431</td>\n",
       "      <td>0.594</td>\n",
       "      <td>0.331</td>\n",
       "      <td>0.341</td>\n",
       "      <td>0.58</td>\n",
       "      <td>0.528</td>\n",
       "      <td>0.537</td>\n",
       "      <td>0.505</td>\n",
       "    </tr>\n",
       "  </tbody>\n",
       "</table>\n",
       "</div>"
      ],
      "text/plain": [
       "                             Nombre Servicio de Salud  \\\n",
       "18  Metropolitano Sur Oriente                     ...   \n",
       "\n",
       "            Nombre Establecimiento  Cost_GRD1  Cost_GRD2  Cost_GRD3  \\\n",
       "18  Hospital Clínico de la Florida      0.527      0.552      0.431   \n",
       "\n",
       "    Cost_GRD4  Cost_GRD5  Cost_GRD6  Cost_GRD7  Cost_GRD8  Cost_GRD9  \\\n",
       "18      0.594      0.331      0.341       0.58      0.528      0.537   \n",
       "\n",
       "    Cost_GRD10  \n",
       "18       0.505  "
      ]
     },
     "execution_count": 21,
     "metadata": {},
     "output_type": "execute_result"
    }
   ],
   "source": [
    "Cost_GRD.loc[Cost_GRD[\"Cost_GRD5\"] == Cost_GRD[\"Cost_GRD5\"].min()]"
   ]
  },
  {
   "cell_type": "code",
   "execution_count": 22,
   "id": "c6614ade",
   "metadata": {},
   "outputs": [
    {
     "data": {
      "text/html": [
       "<div>\n",
       "<style scoped>\n",
       "    .dataframe tbody tr th:only-of-type {\n",
       "        vertical-align: middle;\n",
       "    }\n",
       "\n",
       "    .dataframe tbody tr th {\n",
       "        vertical-align: top;\n",
       "    }\n",
       "\n",
       "    .dataframe thead th {\n",
       "        text-align: right;\n",
       "    }\n",
       "</style>\n",
       "<table border=\"1\" class=\"dataframe\">\n",
       "  <thead>\n",
       "    <tr style=\"text-align: right;\">\n",
       "      <th></th>\n",
       "      <th>Nombre Servicio de Salud</th>\n",
       "      <th>Nombre Establecimiento</th>\n",
       "      <th>Cost_GRD1</th>\n",
       "      <th>Cost_GRD2</th>\n",
       "      <th>Cost_GRD3</th>\n",
       "      <th>Cost_GRD4</th>\n",
       "      <th>Cost_GRD5</th>\n",
       "      <th>Cost_GRD6</th>\n",
       "      <th>Cost_GRD7</th>\n",
       "      <th>Cost_GRD8</th>\n",
       "      <th>Cost_GRD9</th>\n",
       "      <th>Cost_GRD10</th>\n",
       "    </tr>\n",
       "  </thead>\n",
       "  <tbody>\n",
       "    <tr>\n",
       "      <th>10</th>\n",
       "      <td>Metropolitano Oriente                         ...</td>\n",
       "      <td>Instituto de Neurocirugía Dr. Alfonso Asenjo</td>\n",
       "      <td>0.376</td>\n",
       "      <td>0.481</td>\n",
       "      <td>0.476</td>\n",
       "      <td>0.407</td>\n",
       "      <td>0.573</td>\n",
       "      <td>0.302</td>\n",
       "      <td>0.535</td>\n",
       "      <td>0.52</td>\n",
       "      <td>0.407</td>\n",
       "      <td>0.42</td>\n",
       "    </tr>\n",
       "  </tbody>\n",
       "</table>\n",
       "</div>"
      ],
      "text/plain": [
       "                             Nombre Servicio de Salud  \\\n",
       "10  Metropolitano Oriente                         ...   \n",
       "\n",
       "                          Nombre Establecimiento  Cost_GRD1  Cost_GRD2  \\\n",
       "10  Instituto de Neurocirugía Dr. Alfonso Asenjo      0.376      0.481   \n",
       "\n",
       "    Cost_GRD3  Cost_GRD4  Cost_GRD5  Cost_GRD6  Cost_GRD7  Cost_GRD8  \\\n",
       "10      0.476      0.407      0.573      0.302      0.535       0.52   \n",
       "\n",
       "    Cost_GRD9  Cost_GRD10  \n",
       "10      0.407        0.42  "
      ]
     },
     "execution_count": 22,
     "metadata": {},
     "output_type": "execute_result"
    }
   ],
   "source": [
    "Cost_GRD.loc[Cost_GRD[\"Cost_GRD6\"] == Cost_GRD[\"Cost_GRD6\"].min()]"
   ]
  },
  {
   "cell_type": "code",
   "execution_count": 23,
   "id": "fb222fca",
   "metadata": {},
   "outputs": [
    {
     "data": {
      "text/html": [
       "<div>\n",
       "<style scoped>\n",
       "    .dataframe tbody tr th:only-of-type {\n",
       "        vertical-align: middle;\n",
       "    }\n",
       "\n",
       "    .dataframe tbody tr th {\n",
       "        vertical-align: top;\n",
       "    }\n",
       "\n",
       "    .dataframe thead th {\n",
       "        text-align: right;\n",
       "    }\n",
       "</style>\n",
       "<table border=\"1\" class=\"dataframe\">\n",
       "  <thead>\n",
       "    <tr style=\"text-align: right;\">\n",
       "      <th></th>\n",
       "      <th>Nombre Servicio de Salud</th>\n",
       "      <th>Nombre Establecimiento</th>\n",
       "      <th>Cost_GRD1</th>\n",
       "      <th>Cost_GRD2</th>\n",
       "      <th>Cost_GRD3</th>\n",
       "      <th>Cost_GRD4</th>\n",
       "      <th>Cost_GRD5</th>\n",
       "      <th>Cost_GRD6</th>\n",
       "      <th>Cost_GRD7</th>\n",
       "      <th>Cost_GRD8</th>\n",
       "      <th>Cost_GRD9</th>\n",
       "      <th>Cost_GRD10</th>\n",
       "    </tr>\n",
       "  </thead>\n",
       "  <tbody>\n",
       "    <tr>\n",
       "      <th>7</th>\n",
       "      <td>Metropolitano Central                         ...</td>\n",
       "      <td>Hospital el Carmen</td>\n",
       "      <td>0.444</td>\n",
       "      <td>0.439</td>\n",
       "      <td>0.386</td>\n",
       "      <td>0.569</td>\n",
       "      <td>0.404</td>\n",
       "      <td>0.416</td>\n",
       "      <td>0.302</td>\n",
       "      <td>0.414</td>\n",
       "      <td>0.494</td>\n",
       "      <td>0.425</td>\n",
       "    </tr>\n",
       "    <tr>\n",
       "      <th>11</th>\n",
       "      <td>Metropolitano Oriente                         ...</td>\n",
       "      <td>Instituto Nacional de Enfermedades Respiratori...</td>\n",
       "      <td>0.498</td>\n",
       "      <td>0.465</td>\n",
       "      <td>0.482</td>\n",
       "      <td>0.512</td>\n",
       "      <td>0.597</td>\n",
       "      <td>0.390</td>\n",
       "      <td>0.302</td>\n",
       "      <td>0.566</td>\n",
       "      <td>0.428</td>\n",
       "      <td>0.439</td>\n",
       "    </tr>\n",
       "  </tbody>\n",
       "</table>\n",
       "</div>"
      ],
      "text/plain": [
       "                             Nombre Servicio de Salud  \\\n",
       "7   Metropolitano Central                         ...   \n",
       "11  Metropolitano Oriente                         ...   \n",
       "\n",
       "                               Nombre Establecimiento  Cost_GRD1  Cost_GRD2  \\\n",
       "7                                  Hospital el Carmen      0.444      0.439   \n",
       "11  Instituto Nacional de Enfermedades Respiratori...      0.498      0.465   \n",
       "\n",
       "    Cost_GRD3  Cost_GRD4  Cost_GRD5  Cost_GRD6  Cost_GRD7  Cost_GRD8  \\\n",
       "7       0.386      0.569      0.404      0.416      0.302      0.414   \n",
       "11      0.482      0.512      0.597      0.390      0.302      0.566   \n",
       "\n",
       "    Cost_GRD9  Cost_GRD10  \n",
       "7       0.494       0.425  \n",
       "11      0.428       0.439  "
      ]
     },
     "execution_count": 23,
     "metadata": {},
     "output_type": "execute_result"
    }
   ],
   "source": [
    "Cost_GRD.loc[Cost_GRD[\"Cost_GRD7\"] == Cost_GRD[\"Cost_GRD7\"].min()]"
   ]
  },
  {
   "cell_type": "code",
   "execution_count": 24,
   "id": "faf7055b",
   "metadata": {},
   "outputs": [
    {
     "data": {
      "text/html": [
       "<div>\n",
       "<style scoped>\n",
       "    .dataframe tbody tr th:only-of-type {\n",
       "        vertical-align: middle;\n",
       "    }\n",
       "\n",
       "    .dataframe tbody tr th {\n",
       "        vertical-align: top;\n",
       "    }\n",
       "\n",
       "    .dataframe thead th {\n",
       "        text-align: right;\n",
       "    }\n",
       "</style>\n",
       "<table border=\"1\" class=\"dataframe\">\n",
       "  <thead>\n",
       "    <tr style=\"text-align: right;\">\n",
       "      <th></th>\n",
       "      <th>Nombre Servicio de Salud</th>\n",
       "      <th>Nombre Establecimiento</th>\n",
       "      <th>Cost_GRD1</th>\n",
       "      <th>Cost_GRD2</th>\n",
       "      <th>Cost_GRD3</th>\n",
       "      <th>Cost_GRD4</th>\n",
       "      <th>Cost_GRD5</th>\n",
       "      <th>Cost_GRD6</th>\n",
       "      <th>Cost_GRD7</th>\n",
       "      <th>Cost_GRD8</th>\n",
       "      <th>Cost_GRD9</th>\n",
       "      <th>Cost_GRD10</th>\n",
       "    </tr>\n",
       "  </thead>\n",
       "  <tbody>\n",
       "    <tr>\n",
       "      <th>9</th>\n",
       "      <td>Metropolitano Oriente                         ...</td>\n",
       "      <td>Hospital Dr. Luis Tisné B.</td>\n",
       "      <td>0.386</td>\n",
       "      <td>0.477</td>\n",
       "      <td>0.491</td>\n",
       "      <td>0.312</td>\n",
       "      <td>0.452</td>\n",
       "      <td>0.362</td>\n",
       "      <td>0.435</td>\n",
       "      <td>0.305</td>\n",
       "      <td>0.482</td>\n",
       "      <td>0.421</td>\n",
       "    </tr>\n",
       "  </tbody>\n",
       "</table>\n",
       "</div>"
      ],
      "text/plain": [
       "                            Nombre Servicio de Salud  \\\n",
       "9  Metropolitano Oriente                         ...   \n",
       "\n",
       "       Nombre Establecimiento  Cost_GRD1  Cost_GRD2  Cost_GRD3  Cost_GRD4  \\\n",
       "9  Hospital Dr. Luis Tisné B.      0.386      0.477      0.491      0.312   \n",
       "\n",
       "   Cost_GRD5  Cost_GRD6  Cost_GRD7  Cost_GRD8  Cost_GRD9  Cost_GRD10  \n",
       "9      0.452      0.362      0.435      0.305      0.482       0.421  "
      ]
     },
     "execution_count": 24,
     "metadata": {},
     "output_type": "execute_result"
    }
   ],
   "source": [
    "Cost_GRD.loc[Cost_GRD[\"Cost_GRD8\"] == Cost_GRD[\"Cost_GRD8\"].min()]"
   ]
  },
  {
   "cell_type": "code",
   "execution_count": 25,
   "id": "a41d3461",
   "metadata": {},
   "outputs": [
    {
     "data": {
      "text/html": [
       "<div>\n",
       "<style scoped>\n",
       "    .dataframe tbody tr th:only-of-type {\n",
       "        vertical-align: middle;\n",
       "    }\n",
       "\n",
       "    .dataframe tbody tr th {\n",
       "        vertical-align: top;\n",
       "    }\n",
       "\n",
       "    .dataframe thead th {\n",
       "        text-align: right;\n",
       "    }\n",
       "</style>\n",
       "<table border=\"1\" class=\"dataframe\">\n",
       "  <thead>\n",
       "    <tr style=\"text-align: right;\">\n",
       "      <th></th>\n",
       "      <th>Nombre Servicio de Salud</th>\n",
       "      <th>Nombre Establecimiento</th>\n",
       "      <th>Cost_GRD1</th>\n",
       "      <th>Cost_GRD2</th>\n",
       "      <th>Cost_GRD3</th>\n",
       "      <th>Cost_GRD4</th>\n",
       "      <th>Cost_GRD5</th>\n",
       "      <th>Cost_GRD6</th>\n",
       "      <th>Cost_GRD7</th>\n",
       "      <th>Cost_GRD8</th>\n",
       "      <th>Cost_GRD9</th>\n",
       "      <th>Cost_GRD10</th>\n",
       "    </tr>\n",
       "  </thead>\n",
       "  <tbody>\n",
       "    <tr>\n",
       "      <th>5</th>\n",
       "      <td>Metropolitano Central                         ...</td>\n",
       "      <td>Hospital Clínico San Borja-Arriarán</td>\n",
       "      <td>0.509</td>\n",
       "      <td>0.363</td>\n",
       "      <td>0.575</td>\n",
       "      <td>0.534</td>\n",
       "      <td>0.367</td>\n",
       "      <td>0.567</td>\n",
       "      <td>0.576</td>\n",
       "      <td>0.482</td>\n",
       "      <td>0.32</td>\n",
       "      <td>0.574</td>\n",
       "    </tr>\n",
       "  </tbody>\n",
       "</table>\n",
       "</div>"
      ],
      "text/plain": [
       "                            Nombre Servicio de Salud  \\\n",
       "5  Metropolitano Central                         ...   \n",
       "\n",
       "                Nombre Establecimiento  Cost_GRD1  Cost_GRD2  Cost_GRD3  \\\n",
       "5  Hospital Clínico San Borja-Arriarán      0.509      0.363      0.575   \n",
       "\n",
       "   Cost_GRD4  Cost_GRD5  Cost_GRD6  Cost_GRD7  Cost_GRD8  Cost_GRD9  \\\n",
       "5      0.534      0.367      0.567      0.576      0.482       0.32   \n",
       "\n",
       "   Cost_GRD10  \n",
       "5       0.574  "
      ]
     },
     "execution_count": 25,
     "metadata": {},
     "output_type": "execute_result"
    }
   ],
   "source": [
    "Cost_GRD.loc[Cost_GRD[\"Cost_GRD9\"] == Cost_GRD[\"Cost_GRD9\"].min()]"
   ]
  },
  {
   "cell_type": "code",
   "execution_count": 26,
   "id": "04b34fbb",
   "metadata": {},
   "outputs": [
    {
     "data": {
      "text/html": [
       "<div>\n",
       "<style scoped>\n",
       "    .dataframe tbody tr th:only-of-type {\n",
       "        vertical-align: middle;\n",
       "    }\n",
       "\n",
       "    .dataframe tbody tr th {\n",
       "        vertical-align: top;\n",
       "    }\n",
       "\n",
       "    .dataframe thead th {\n",
       "        text-align: right;\n",
       "    }\n",
       "</style>\n",
       "<table border=\"1\" class=\"dataframe\">\n",
       "  <thead>\n",
       "    <tr style=\"text-align: right;\">\n",
       "      <th></th>\n",
       "      <th>Nombre Servicio de Salud</th>\n",
       "      <th>Nombre Establecimiento</th>\n",
       "      <th>Cost_GRD1</th>\n",
       "      <th>Cost_GRD2</th>\n",
       "      <th>Cost_GRD3</th>\n",
       "      <th>Cost_GRD4</th>\n",
       "      <th>Cost_GRD5</th>\n",
       "      <th>Cost_GRD6</th>\n",
       "      <th>Cost_GRD7</th>\n",
       "      <th>Cost_GRD8</th>\n",
       "      <th>Cost_GRD9</th>\n",
       "      <th>Cost_GRD10</th>\n",
       "    </tr>\n",
       "  </thead>\n",
       "  <tbody>\n",
       "    <tr>\n",
       "      <th>0</th>\n",
       "      <td>Metropolitano Norte                           ...</td>\n",
       "      <td>Complejo Hospitalario San José</td>\n",
       "      <td>0.593</td>\n",
       "      <td>0.509</td>\n",
       "      <td>0.367</td>\n",
       "      <td>0.492</td>\n",
       "      <td>0.524</td>\n",
       "      <td>0.405</td>\n",
       "      <td>0.571</td>\n",
       "      <td>0.474</td>\n",
       "      <td>0.498</td>\n",
       "      <td>0.305</td>\n",
       "    </tr>\n",
       "  </tbody>\n",
       "</table>\n",
       "</div>"
      ],
      "text/plain": [
       "                            Nombre Servicio de Salud  \\\n",
       "0  Metropolitano Norte                           ...   \n",
       "\n",
       "           Nombre Establecimiento  Cost_GRD1  Cost_GRD2  Cost_GRD3  Cost_GRD4  \\\n",
       "0  Complejo Hospitalario San José      0.593      0.509      0.367      0.492   \n",
       "\n",
       "   Cost_GRD5  Cost_GRD6  Cost_GRD7  Cost_GRD8  Cost_GRD9  Cost_GRD10  \n",
       "0      0.524      0.405      0.571      0.474      0.498       0.305  "
      ]
     },
     "execution_count": 26,
     "metadata": {},
     "output_type": "execute_result"
    }
   ],
   "source": [
    "Cost_GRD.loc[Cost_GRD[\"Cost_GRD10\"] == Cost_GRD[\"Cost_GRD10\"].min()]"
   ]
  },
  {
   "cell_type": "markdown",
   "id": "60183ddf",
   "metadata": {},
   "source": [
    "5.\t¿Cuál es el costo de operación anual de cama más bajo por servicio de salud?"
   ]
  },
  {
   "cell_type": "code",
   "execution_count": 27,
   "id": "3dbfe348",
   "metadata": {},
   "outputs": [
    {
     "data": {
      "text/html": [
       "<div>\n",
       "<style scoped>\n",
       "    .dataframe tbody tr th:only-of-type {\n",
       "        vertical-align: middle;\n",
       "    }\n",
       "\n",
       "    .dataframe tbody tr th {\n",
       "        vertical-align: top;\n",
       "    }\n",
       "\n",
       "    .dataframe thead th {\n",
       "        text-align: right;\n",
       "    }\n",
       "</style>\n",
       "<table border=\"1\" class=\"dataframe\">\n",
       "  <thead>\n",
       "    <tr style=\"text-align: right;\">\n",
       "      <th></th>\n",
       "      <th>Costo de operación anual de una cama [MM$]</th>\n",
       "    </tr>\n",
       "    <tr>\n",
       "      <th>Nombre Servicio de Salud</th>\n",
       "      <th></th>\n",
       "    </tr>\n",
       "  </thead>\n",
       "  <tbody>\n",
       "    <tr>\n",
       "      <th>Metropolitano Central</th>\n",
       "      <td>44.5</td>\n",
       "    </tr>\n",
       "    <tr>\n",
       "      <th>Metropolitano Norte</th>\n",
       "      <td>47.2</td>\n",
       "    </tr>\n",
       "    <tr>\n",
       "      <th>Metropolitano Occidente</th>\n",
       "      <td>39.2</td>\n",
       "    </tr>\n",
       "    <tr>\n",
       "      <th>Metropolitano Oriente</th>\n",
       "      <td>36.6</td>\n",
       "    </tr>\n",
       "    <tr>\n",
       "      <th>Metropolitano Sur</th>\n",
       "      <td>42.9</td>\n",
       "    </tr>\n",
       "    <tr>\n",
       "      <th>Metropolitano Sur Oriente</th>\n",
       "      <td>40.6</td>\n",
       "    </tr>\n",
       "  </tbody>\n",
       "</table>\n",
       "</div>"
      ],
      "text/plain": [
       "                                                    Costo de operación anual de una cama [MM$]\n",
       "Nombre Servicio de Salud                                                                      \n",
       "Metropolitano Central                                                                     44.5\n",
       "Metropolitano Norte                                                                       47.2\n",
       "Metropolitano Occidente                                                                   39.2\n",
       "Metropolitano Oriente                                                                     36.6\n",
       "Metropolitano Sur                                                                         42.9\n",
       "Metropolitano Sur Oriente                                                                 40.6"
      ]
     },
     "execution_count": 27,
     "metadata": {},
     "output_type": "execute_result"
    }
   ],
   "source": [
    "p5 = Hosp_sheet[[\"Nombre Servicio de Salud\", \"Costo de operación anual de una cama [MM$]\"]].groupby(\"Nombre Servicio de Salud\").min()\n",
    "p5"
   ]
  },
  {
   "cell_type": "markdown",
   "id": "4a7df603",
   "metadata": {},
   "source": [
    "6.\t¿Cuál es el hospital más caro en atención de GRDs, considerando el costo de atención generalizado como el promedio del costo de atención de todos los GRDs?"
   ]
  },
  {
   "cell_type": "code",
   "execution_count": 28,
   "id": "94ef7bd5",
   "metadata": {
    "scrolled": true
   },
   "outputs": [
    {
     "name": "stderr",
     "output_type": "stream",
     "text": [
      "C:\\Users\\raul\\AppData\\Local\\Temp\\ipykernel_8280\\327345377.py:1: SettingWithCopyWarning: \n",
      "A value is trying to be set on a copy of a slice from a DataFrame.\n",
      "Try using .loc[row_indexer,col_indexer] = value instead\n",
      "\n",
      "See the caveats in the documentation: https://pandas.pydata.org/pandas-docs/stable/user_guide/indexing.html#returning-a-view-versus-a-copy\n",
      "  Cost_GRD[\"Mean_cost\"] = Cost_GRD.apply(lambda row: (row.Cost_GRD1+row.Cost_GRD2+row.Cost_GRD3+row.Cost_GRD4+row.Cost_GRD5+row.Cost_GRD6+row.Cost_GRD7+row.Cost_GRD8+row.Cost_GRD9+row.Cost_GRD10)/10, axis = 1)\n"
     ]
    },
    {
     "data": {
      "text/html": [
       "<div>\n",
       "<style scoped>\n",
       "    .dataframe tbody tr th:only-of-type {\n",
       "        vertical-align: middle;\n",
       "    }\n",
       "\n",
       "    .dataframe tbody tr th {\n",
       "        vertical-align: top;\n",
       "    }\n",
       "\n",
       "    .dataframe thead th {\n",
       "        text-align: right;\n",
       "    }\n",
       "</style>\n",
       "<table border=\"1\" class=\"dataframe\">\n",
       "  <thead>\n",
       "    <tr style=\"text-align: right;\">\n",
       "      <th></th>\n",
       "      <th>Nombre Establecimiento</th>\n",
       "      <th>Mean_cost</th>\n",
       "    </tr>\n",
       "  </thead>\n",
       "  <tbody>\n",
       "    <tr>\n",
       "      <th>0</th>\n",
       "      <td>Complejo Hospitalario San José</td>\n",
       "      <td>0.4738</td>\n",
       "    </tr>\n",
       "    <tr>\n",
       "      <th>1</th>\n",
       "      <td>Hospital Adalberto Steeger (Talagante)</td>\n",
       "      <td>0.4318</td>\n",
       "    </tr>\n",
       "  </tbody>\n",
       "</table>\n",
       "</div>"
      ],
      "text/plain": [
       "                   Nombre Establecimiento  Mean_cost\n",
       "0          Complejo Hospitalario San José     0.4738\n",
       "1  Hospital Adalberto Steeger (Talagante)     0.4318"
      ]
     },
     "execution_count": 28,
     "metadata": {},
     "output_type": "execute_result"
    }
   ],
   "source": [
    "Cost_GRD[\"Mean_cost\"] = Cost_GRD.apply(lambda row: (row.Cost_GRD1+row.Cost_GRD2+row.Cost_GRD3+row.Cost_GRD4+row.Cost_GRD5+row.Cost_GRD6+row.Cost_GRD7+row.Cost_GRD8+row.Cost_GRD9+row.Cost_GRD10)/10, axis = 1)\n",
    "Cost_GRD[[\"Nombre Establecimiento\", \"Mean_cost\"]].head(2)"
   ]
  },
  {
   "cell_type": "code",
   "execution_count": 29,
   "id": "91aeb8d9",
   "metadata": {
    "scrolled": true
   },
   "outputs": [
    {
     "data": {
      "text/html": [
       "<div>\n",
       "<style scoped>\n",
       "    .dataframe tbody tr th:only-of-type {\n",
       "        vertical-align: middle;\n",
       "    }\n",
       "\n",
       "    .dataframe tbody tr th {\n",
       "        vertical-align: top;\n",
       "    }\n",
       "\n",
       "    .dataframe thead th {\n",
       "        text-align: right;\n",
       "    }\n",
       "</style>\n",
       "<table border=\"1\" class=\"dataframe\">\n",
       "  <thead>\n",
       "    <tr style=\"text-align: right;\">\n",
       "      <th></th>\n",
       "      <th>Nombre Establecimiento</th>\n",
       "      <th>Mean_cost</th>\n",
       "    </tr>\n",
       "  </thead>\n",
       "  <tbody>\n",
       "    <tr>\n",
       "      <th>15</th>\n",
       "      <td>Hospital El Pino</td>\n",
       "      <td>0.5275</td>\n",
       "    </tr>\n",
       "  </tbody>\n",
       "</table>\n",
       "</div>"
      ],
      "text/plain": [
       "   Nombre Establecimiento  Mean_cost\n",
       "15       Hospital El Pino     0.5275"
      ]
     },
     "execution_count": 29,
     "metadata": {},
     "output_type": "execute_result"
    }
   ],
   "source": [
    "Cost_GRD[[\"Nombre Establecimiento\", \"Mean_cost\"]].loc[Cost_GRD[\"Mean_cost\"] == Cost_GRD[\"Mean_cost\"].max()]"
   ]
  },
  {
   "cell_type": "markdown",
   "id": "3478aad0",
   "metadata": {},
   "source": [
    "7.\t¿Cuál es el servicio de salud que presenta una mayor diferencia en costo de atención entre su GRD más caro y barato de atender?"
   ]
  },
  {
   "cell_type": "code",
   "execution_count": 30,
   "id": "e917c7e4",
   "metadata": {},
   "outputs": [],
   "source": [
    "Cost_GRD_min = Cost_GRD[[\"Nombre Servicio de Salud\",\"Nombre Establecimiento\",\"Cost_GRD1\",\"Cost_GRD2\",\"Cost_GRD3\",\"Cost_GRD4\",\"Cost_GRD5\",\"Cost_GRD6\",\"Cost_GRD7\",\"Cost_GRD8\",\"Cost_GRD9\",\"Cost_GRD10\"]].groupby(\"Nombre Servicio de Salud\").min()\n",
    "Cost_GRD_max = Cost_GRD[[\"Nombre Servicio de Salud\",\"Nombre Establecimiento\",\"Cost_GRD1\",\"Cost_GRD2\",\"Cost_GRD3\",\"Cost_GRD4\",\"Cost_GRD5\",\"Cost_GRD6\",\"Cost_GRD7\",\"Cost_GRD8\",\"Cost_GRD9\",\"Cost_GRD10\"]].groupby(\"Nombre Servicio de Salud\").max()"
   ]
  },
  {
   "cell_type": "code",
   "execution_count": 31,
   "id": "8aefde60",
   "metadata": {
    "scrolled": true
   },
   "outputs": [
    {
     "name": "stderr",
     "output_type": "stream",
     "text": [
      "C:\\Users\\raul\\AppData\\Local\\Temp\\ipykernel_8280\\489443565.py:1: FutureWarning: Dropping of nuisance columns in DataFrame reductions (with 'numeric_only=None') is deprecated; in a future version this will raise TypeError.  Select only valid columns before calling the reduction.\n",
      "  Cost_GRD_max.max(axis = 1) - Cost_GRD_min.min(axis = 1)\n"
     ]
    },
    {
     "data": {
      "text/plain": [
       "Nombre Servicio de Salud\n",
       "Metropolitano Central                                 0.274\n",
       "Metropolitano Norte                                   0.288\n",
       "Metropolitano Occidente                               0.266\n",
       "Metropolitano Oriente                                 0.295\n",
       "Metropolitano Sur                                     0.293\n",
       "Metropolitano Sur Oriente                             0.264\n",
       "dtype: float64"
      ]
     },
     "execution_count": 31,
     "metadata": {},
     "output_type": "execute_result"
    }
   ],
   "source": [
    "Cost_GRD_max.max(axis = 1) - Cost_GRD_min.min(axis = 1)"
   ]
  },
  {
   "cell_type": "markdown",
   "id": "719062fa",
   "metadata": {},
   "source": [
    "8.\t¿Cómo distribuye el costo anual de operación de una cama en la red?"
   ]
  },
  {
   "cell_type": "code",
   "execution_count": 32,
   "id": "27a8c974",
   "metadata": {},
   "outputs": [
    {
     "data": {
      "image/png": "[encoded data removed]",
      "text/plain": [
       "<Figure size 1000x700 with 1 Axes>"
      ]
     },
     "metadata": {},
     "output_type": "display_data"
    }
   ],
   "source": [
    "###histograma\n",
    "Hosp_sheet.plot(kind = \"hist\", bins = 5, y = \"Costo de operación anual de una cama [MM$]\", figsize = (10,7))\n",
    "plt.xlabel(\"Costo de operación anual de una cama [MM$]\")\n",
    "plt.show()"
   ]
  },
  {
   "cell_type": "code",
   "execution_count": 33,
   "id": "5acd5428",
   "metadata": {},
   "outputs": [
    {
     "data": {
      "image/png": "[encoded data removed]",
      "text/plain": [
       "<Figure size 1000x700 with 1 Axes>"
      ]
     },
     "metadata": {},
     "output_type": "display_data"
    }
   ],
   "source": [
    "###boxplot\n",
    "Hosp_sheet[[\"Costo de operación anual de una cama [MM$]\"]].plot(kind = \"box\", figsize = (10,7))\n",
    "plt.show()"
   ]
  },
  {
   "cell_type": "code",
   "execution_count": 34,
   "id": "ed3efe1e",
   "metadata": {},
   "outputs": [
    {
     "data": {
      "image/png": "[encoded data removed]",
      "text/plain": [
       "<Figure size 640x480 with 1 Axes>"
      ]
     },
     "metadata": {},
     "output_type": "display_data"
    }
   ],
   "source": [
    "##violinplot\n",
    "sns.violinplot(x = Hosp_sheet[\"Costo de operación anual de una cama [MM$]\"])\n",
    "plt.show()"
   ]
  },
  {
   "cell_type": "markdown",
   "id": "a157676b",
   "metadata": {},
   "source": [
    "2. **¿Qué es la analítica predictiva?**\n",
    "\n",
    "La analítica o análisis predictivo es el segundo tipo de análisis de datos que podemos realizar. Como su nombre lo indica, este tipo de análisis utiliza distintos tipos de modelos que nos permitan predecir lo que puede suceder en el futuro a partir de los datos con que se cuenta. Para esto, se debe definir que es lo que se desea predecir y que datos utilizar para predecir dicha variable. Luego, a través de herramientas matemáticas o probabilísticas se busca encontrar patrones, modelos o tendencias que permitan estimar de buena manera el futuro.\n",
    "\n",
    "Para mostrar en que consiste el análisis de datos predictivo, se realizará un ejemplo. Imagínese que usted esta encargado de ver las llegadas de los pacientes del GRD1 a partir de la información histórica contenida en la Base de Datos del Sistema de Salud y debe estimar cuantos pacientes pueden llegar un día a partir de los datos. Para esto, lo primero que debe hacer es seleccionar todos los datos de los pacientes con GRD1 y luego agrupar por día de llegada para tener cuantos llegan en total por día.\n"
   ]
  },
  {
   "cell_type": "code",
   "execution_count": 35,
   "id": "a803385c",
   "metadata": {
    "scrolled": true
   },
   "outputs": [
    {
     "data": {
      "text/html": [
       "<div>\n",
       "<style scoped>\n",
       "    .dataframe tbody tr th:only-of-type {\n",
       "        vertical-align: middle;\n",
       "    }\n",
       "\n",
       "    .dataframe tbody tr th {\n",
       "        vertical-align: top;\n",
       "    }\n",
       "\n",
       "    .dataframe thead th {\n",
       "        text-align: right;\n",
       "    }\n",
       "</style>\n",
       "<table border=\"1\" class=\"dataframe\">\n",
       "  <thead>\n",
       "    <tr style=\"text-align: right;\">\n",
       "      <th></th>\n",
       "      <th>Número de llegada</th>\n",
       "      <th>Hospital al que llega</th>\n",
       "      <th>GRD</th>\n",
       "      <th>Día de llegada</th>\n",
       "      <th>Día de salida</th>\n",
       "      <th>Estadia</th>\n",
       "    </tr>\n",
       "  </thead>\n",
       "  <tbody>\n",
       "    <tr>\n",
       "      <th>0</th>\n",
       "      <td>1</td>\n",
       "      <td>Instituto Traumatológico Dr. Teodoro Gebauer</td>\n",
       "      <td>GRD3</td>\n",
       "      <td>1</td>\n",
       "      <td>4</td>\n",
       "      <td>3</td>\n",
       "    </tr>\n",
       "    <tr>\n",
       "      <th>1</th>\n",
       "      <td>2</td>\n",
       "      <td>Hospital Clínico San Borja-Arriarán</td>\n",
       "      <td>GRD7</td>\n",
       "      <td>1</td>\n",
       "      <td>5</td>\n",
       "      <td>4</td>\n",
       "    </tr>\n",
       "    <tr>\n",
       "      <th>2</th>\n",
       "      <td>3</td>\n",
       "      <td>Hospital Dr. Luis Tisné B.</td>\n",
       "      <td>GRD7</td>\n",
       "      <td>1</td>\n",
       "      <td>5</td>\n",
       "      <td>4</td>\n",
       "    </tr>\n",
       "  </tbody>\n",
       "</table>\n",
       "</div>"
      ],
      "text/plain": [
       "   Número de llegada                         Hospital al que llega   GRD  \\\n",
       "0                  1  Instituto Traumatológico Dr. Teodoro Gebauer  GRD3   \n",
       "1                  2           Hospital Clínico San Borja-Arriarán  GRD7   \n",
       "2                  3                    Hospital Dr. Luis Tisné B.  GRD7   \n",
       "\n",
       "   Día de llegada  Día de salida  Estadia  \n",
       "0               1              4        3  \n",
       "1               1              5        4  \n",
       "2               1              5        4  "
      ]
     },
     "execution_count": 35,
     "metadata": {},
     "output_type": "execute_result"
    }
   ],
   "source": [
    "Info_sheet.head(3)"
   ]
  },
  {
   "cell_type": "code",
   "execution_count": 36,
   "id": "557c268a",
   "metadata": {
    "scrolled": true
   },
   "outputs": [],
   "source": [
    "GRD1=Info_sheet.loc[Info_sheet[\"GRD\"]==\"GRD1\"]\n",
    "Llegadas_GRD1 = GRD1[[\"Día de llegada\", \"Número de llegada\"]].groupby(\"Día de llegada\", ).count()"
   ]
  },
  {
   "cell_type": "markdown",
   "id": "5133fe6d",
   "metadata": {},
   "source": [
    "Donde el comando loc[] selecciona los valores que cumplen con la condición establecida y gruopby().count() agrupa contando cuantos pacientes llegan por día."
   ]
  },
  {
   "cell_type": "code",
   "execution_count": 37,
   "id": "93f1e866",
   "metadata": {
    "scrolled": true
   },
   "outputs": [
    {
     "data": {
      "text/html": [
       "<div>\n",
       "<style scoped>\n",
       "    .dataframe tbody tr th:only-of-type {\n",
       "        vertical-align: middle;\n",
       "    }\n",
       "\n",
       "    .dataframe tbody tr th {\n",
       "        vertical-align: top;\n",
       "    }\n",
       "\n",
       "    .dataframe thead th {\n",
       "        text-align: right;\n",
       "    }\n",
       "</style>\n",
       "<table border=\"1\" class=\"dataframe\">\n",
       "  <thead>\n",
       "    <tr style=\"text-align: right;\">\n",
       "      <th></th>\n",
       "      <th>Número de llegada</th>\n",
       "    </tr>\n",
       "    <tr>\n",
       "      <th>Día de llegada</th>\n",
       "      <th></th>\n",
       "    </tr>\n",
       "  </thead>\n",
       "  <tbody>\n",
       "    <tr>\n",
       "      <th>1</th>\n",
       "      <td>17</td>\n",
       "    </tr>\n",
       "    <tr>\n",
       "      <th>2</th>\n",
       "      <td>15</td>\n",
       "    </tr>\n",
       "    <tr>\n",
       "      <th>3</th>\n",
       "      <td>13</td>\n",
       "    </tr>\n",
       "    <tr>\n",
       "      <th>4</th>\n",
       "      <td>17</td>\n",
       "    </tr>\n",
       "    <tr>\n",
       "      <th>5</th>\n",
       "      <td>15</td>\n",
       "    </tr>\n",
       "  </tbody>\n",
       "</table>\n",
       "</div>"
      ],
      "text/plain": [
       "                Número de llegada\n",
       "Día de llegada                   \n",
       "1                              17\n",
       "2                              15\n",
       "3                              13\n",
       "4                              17\n",
       "5                              15"
      ]
     },
     "execution_count": 37,
     "metadata": {},
     "output_type": "execute_result"
    }
   ],
   "source": [
    "Llegadas_GRD1.head()"
   ]
  },
  {
   "cell_type": "markdown",
   "id": "512c4549",
   "metadata": {},
   "source": [
    "Con lo anterior, usted ya puede utilizar ciertos métodos para estimar las llegadas futuras de los pacientes. En este caso utilizaremos:"
   ]
  },
  {
   "cell_type": "markdown",
   "id": "ba09c7aa",
   "metadata": {},
   "source": [
    "- Método ingenuo: Pronóstico es igual al observado en el último periodo"
   ]
  },
  {
   "cell_type": "code",
   "execution_count": 38,
   "id": "4fd36678",
   "metadata": {},
   "outputs": [
    {
     "data": {
      "text/html": [
       "<div>\n",
       "<style scoped>\n",
       "    .dataframe tbody tr th:only-of-type {\n",
       "        vertical-align: middle;\n",
       "    }\n",
       "\n",
       "    .dataframe tbody tr th {\n",
       "        vertical-align: top;\n",
       "    }\n",
       "\n",
       "    .dataframe thead th {\n",
       "        text-align: right;\n",
       "    }\n",
       "</style>\n",
       "<table border=\"1\" class=\"dataframe\">\n",
       "  <thead>\n",
       "    <tr style=\"text-align: right;\">\n",
       "      <th></th>\n",
       "      <th>Número de llegada</th>\n",
       "    </tr>\n",
       "    <tr>\n",
       "      <th>Día de llegada</th>\n",
       "      <th></th>\n",
       "    </tr>\n",
       "  </thead>\n",
       "  <tbody>\n",
       "    <tr>\n",
       "      <th>424</th>\n",
       "      <td>9</td>\n",
       "    </tr>\n",
       "  </tbody>\n",
       "</table>\n",
       "</div>"
      ],
      "text/plain": [
       "                Número de llegada\n",
       "Día de llegada                   \n",
       "424                             9"
      ]
     },
     "execution_count": 38,
     "metadata": {},
     "output_type": "execute_result"
    }
   ],
   "source": [
    "Llegadas_GRD1.tail(1)"
   ]
  },
  {
   "cell_type": "markdown",
   "id": "3531dc55",
   "metadata": {},
   "source": [
    "- Método media simple: Pronóstico es igual al promedio de todos los datos disponibles"
   ]
  },
  {
   "cell_type": "code",
   "execution_count": 39,
   "id": "0e780857",
   "metadata": {},
   "outputs": [
    {
     "data": {
      "text/plain": [
       "16.0"
      ]
     },
     "execution_count": 39,
     "metadata": {},
     "output_type": "execute_result"
    }
   ],
   "source": [
    "np.round(Llegadas_GRD1.mean()[0],0)\n",
    "# np.round(Llegadas_GRD1['Número de llegada'].mean(),0)"
   ]
  },
  {
   "cell_type": "markdown",
   "id": "8bbb7ba0",
   "metadata": {},
   "source": [
    "- Método media móvil: Valor promedio en un periodo de tiempo, en este caso los últimos 10 días"
   ]
  },
  {
   "cell_type": "code",
   "execution_count": 40,
   "id": "2ac4f37b",
   "metadata": {},
   "outputs": [
    {
     "data": {
      "text/plain": [
       "15.0"
      ]
     },
     "execution_count": 40,
     "metadata": {},
     "output_type": "execute_result"
    }
   ],
   "source": [
    "media_movil = Llegadas_GRD1.tail(10)\n",
    "np.round(media_movil.mean()[0],0)"
   ]
  },
  {
   "cell_type": "markdown",
   "id": "c25acf31",
   "metadata": {},
   "source": [
    "**Pregunta 1**\n",
    "\n",
    "Imagínese que usted quiere construir un indicador que compare los costos de atención de cada GRD entre dos hospitales. Este indicador tomará valor 1 si el Hospital “A” tiene el costo de atención más caro en cada uno de los GRDs con respecto al costo del Hospital B para esos mismos GRDs -con lo que se dirá que el Hospital “A” es más caro que el Hospital “B”, y tomará el valor 0 si al menos en un GRD el Hospital “A” no es más caro que el Hospital “B”, en cuyo caso no se podrá decir nada en la comparación de costos entre estos dos hospitales. \n",
    "\n",
    "Basándose en el indicador descrito mencione cuál de las siguientes alternativas indica correctamente la cantidad de hospitales de la red que son al menos más caros que otro hospital."
   ]
  },
  {
   "cell_type": "code",
   "execution_count": 41,
   "id": "739fc960",
   "metadata": {
    "scrolled": true
   },
   "outputs": [
    {
     "data": {
      "text/html": [
       "<div>\n",
       "<style scoped>\n",
       "    .dataframe tbody tr th:only-of-type {\n",
       "        vertical-align: middle;\n",
       "    }\n",
       "\n",
       "    .dataframe tbody tr th {\n",
       "        vertical-align: top;\n",
       "    }\n",
       "\n",
       "    .dataframe thead th {\n",
       "        text-align: right;\n",
       "    }\n",
       "</style>\n",
       "<table border=\"1\" class=\"dataframe\">\n",
       "  <thead>\n",
       "    <tr style=\"text-align: right;\">\n",
       "      <th></th>\n",
       "      <th>Cost_GRD1</th>\n",
       "      <th>Cost_GRD2</th>\n",
       "      <th>Cost_GRD3</th>\n",
       "      <th>Cost_GRD4</th>\n",
       "      <th>Cost_GRD5</th>\n",
       "      <th>Cost_GRD6</th>\n",
       "      <th>Cost_GRD7</th>\n",
       "      <th>Cost_GRD8</th>\n",
       "      <th>Cost_GRD9</th>\n",
       "      <th>Cost_GRD10</th>\n",
       "    </tr>\n",
       "    <tr>\n",
       "      <th>Nombre Establecimiento</th>\n",
       "      <th></th>\n",
       "      <th></th>\n",
       "      <th></th>\n",
       "      <th></th>\n",
       "      <th></th>\n",
       "      <th></th>\n",
       "      <th></th>\n",
       "      <th></th>\n",
       "      <th></th>\n",
       "      <th></th>\n",
       "    </tr>\n",
       "  </thead>\n",
       "  <tbody>\n",
       "    <tr>\n",
       "      <th>Complejo Hospitalario San José</th>\n",
       "      <td>0.593</td>\n",
       "      <td>0.509</td>\n",
       "      <td>0.367</td>\n",
       "      <td>0.492</td>\n",
       "      <td>0.524</td>\n",
       "      <td>0.405</td>\n",
       "      <td>0.571</td>\n",
       "      <td>0.474</td>\n",
       "      <td>0.498</td>\n",
       "      <td>0.305</td>\n",
       "    </tr>\n",
       "    <tr>\n",
       "      <th>Hospital Adalberto Steeger (Talagante)</th>\n",
       "      <td>0.493</td>\n",
       "      <td>0.357</td>\n",
       "      <td>0.429</td>\n",
       "      <td>0.382</td>\n",
       "      <td>0.469</td>\n",
       "      <td>0.386</td>\n",
       "      <td>0.543</td>\n",
       "      <td>0.362</td>\n",
       "      <td>0.564</td>\n",
       "      <td>0.333</td>\n",
       "    </tr>\n",
       "    <tr>\n",
       "      <th>Hospital Dr. Félix Bulnes Cerda</th>\n",
       "      <td>0.580</td>\n",
       "      <td>0.325</td>\n",
       "      <td>0.375</td>\n",
       "      <td>0.409</td>\n",
       "      <td>0.561</td>\n",
       "      <td>0.362</td>\n",
       "      <td>0.328</td>\n",
       "      <td>0.314</td>\n",
       "      <td>0.536</td>\n",
       "      <td>0.436</td>\n",
       "    </tr>\n",
       "    <tr>\n",
       "      <th>Hospital San Juan de Dios</th>\n",
       "      <td>0.482</td>\n",
       "      <td>0.554</td>\n",
       "      <td>0.564</td>\n",
       "      <td>0.331</td>\n",
       "      <td>0.438</td>\n",
       "      <td>0.509</td>\n",
       "      <td>0.544</td>\n",
       "      <td>0.410</td>\n",
       "      <td>0.441</td>\n",
       "      <td>0.359</td>\n",
       "    </tr>\n",
       "    <tr>\n",
       "      <th>Instituto Traumatológico Dr. Teodoro Gebauer</th>\n",
       "      <td>0.407</td>\n",
       "      <td>0.449</td>\n",
       "      <td>0.468</td>\n",
       "      <td>0.433</td>\n",
       "      <td>0.573</td>\n",
       "      <td>0.392</td>\n",
       "      <td>0.409</td>\n",
       "      <td>0.391</td>\n",
       "      <td>0.418</td>\n",
       "      <td>0.334</td>\n",
       "    </tr>\n",
       "  </tbody>\n",
       "</table>\n",
       "</div>"
      ],
      "text/plain": [
       "                                              Cost_GRD1  Cost_GRD2  Cost_GRD3  \\\n",
       "Nombre Establecimiento                                                          \n",
       "Complejo Hospitalario San José                    0.593      0.509      0.367   \n",
       "Hospital Adalberto Steeger (Talagante)            0.493      0.357      0.429   \n",
       "Hospital Dr. Félix Bulnes Cerda                   0.580      0.325      0.375   \n",
       "Hospital San Juan de Dios                         0.482      0.554      0.564   \n",
       "Instituto Traumatológico Dr. Teodoro Gebauer      0.407      0.449      0.468   \n",
       "\n",
       "                                              Cost_GRD4  Cost_GRD5  Cost_GRD6  \\\n",
       "Nombre Establecimiento                                                          \n",
       "Complejo Hospitalario San José                    0.492      0.524      0.405   \n",
       "Hospital Adalberto Steeger (Talagante)            0.382      0.469      0.386   \n",
       "Hospital Dr. Félix Bulnes Cerda                   0.409      0.561      0.362   \n",
       "Hospital San Juan de Dios                         0.331      0.438      0.509   \n",
       "Instituto Traumatológico Dr. Teodoro Gebauer      0.433      0.573      0.392   \n",
       "\n",
       "                                              Cost_GRD7  Cost_GRD8  Cost_GRD9  \\\n",
       "Nombre Establecimiento                                                          \n",
       "Complejo Hospitalario San José                    0.571      0.474      0.498   \n",
       "Hospital Adalberto Steeger (Talagante)            0.543      0.362      0.564   \n",
       "Hospital Dr. Félix Bulnes Cerda                   0.328      0.314      0.536   \n",
       "Hospital San Juan de Dios                         0.544      0.410      0.441   \n",
       "Instituto Traumatológico Dr. Teodoro Gebauer      0.409      0.391      0.418   \n",
       "\n",
       "                                              Cost_GRD10  \n",
       "Nombre Establecimiento                                    \n",
       "Complejo Hospitalario San José                     0.305  \n",
       "Hospital Adalberto Steeger (Talagante)             0.333  \n",
       "Hospital Dr. Félix Bulnes Cerda                    0.436  \n",
       "Hospital San Juan de Dios                          0.359  \n",
       "Instituto Traumatológico Dr. Teodoro Gebauer       0.334  "
      ]
     },
     "execution_count": 41,
     "metadata": {},
     "output_type": "execute_result"
    }
   ],
   "source": [
    "pregunta1 = Hosp_sheet[[\"Nombre Establecimiento\",\"Cost_GRD1\",\"Cost_GRD2\",\"Cost_GRD3\",\"Cost_GRD4\",\"Cost_GRD5\",\"Cost_GRD6\",\"Cost_GRD7\",\"Cost_GRD8\",\"Cost_GRD9\",\"Cost_GRD10\"]]\n",
    "pregunta1 = pregunta1.set_index('Nombre Establecimiento')\n",
    "pregunta1.head()"
   ]
  },
  {
   "cell_type": "code",
   "execution_count": null,
   "id": "6ea7a9b6-97d5-40a2-aa0c-617c2a807c6a",
   "metadata": {},
   "outputs": [],
   "source": []
  },
  {
   "cell_type": "code",
   "execution_count": 42,
   "id": "f786936a",
   "metadata": {
    "scrolled": true
   },
   "outputs": [
    {
     "data": {
      "text/html": [
       "<div>\n",
       "<style scoped>\n",
       "    .dataframe tbody tr th:only-of-type {\n",
       "        vertical-align: middle;\n",
       "    }\n",
       "\n",
       "    .dataframe tbody tr th {\n",
       "        vertical-align: top;\n",
       "    }\n",
       "\n",
       "    .dataframe thead th {\n",
       "        text-align: right;\n",
       "    }\n",
       "</style>\n",
       "<table border=\"1\" class=\"dataframe\">\n",
       "  <thead>\n",
       "    <tr style=\"text-align: right;\">\n",
       "      <th></th>\n",
       "      <th>Complejo Hospitalario San José</th>\n",
       "      <th>Hospital Adalberto Steeger (Talagante)</th>\n",
       "      <th>Hospital Dr. Félix Bulnes Cerda</th>\n",
       "      <th>Hospital San Juan de Dios</th>\n",
       "      <th>Instituto Traumatológico Dr. Teodoro Gebauer</th>\n",
       "      <th>Hospital Clínico San Borja-Arriarán</th>\n",
       "      <th>Hospital de Urgencia Asistencia Pública Dr. Alejandro del Río</th>\n",
       "      <th>Hospital el Carmen</th>\n",
       "      <th>Hospital Del Salvador</th>\n",
       "      <th>Hospital Dr. Luis Tisné B.</th>\n",
       "      <th>...</th>\n",
       "      <th>Instituto Nacional de Enfermedades Respiratorias y Cirugía Torácica</th>\n",
       "      <th>Hospital Barros Luco Trudeau</th>\n",
       "      <th>Hospital de Enfermedades Infecciosas Dr. Lucio Córdova</th>\n",
       "      <th>Hospital Dr. Exequiel González Cortés</th>\n",
       "      <th>Hospital El Pino</th>\n",
       "      <th>Hospital Parroquial de San Bernardo</th>\n",
       "      <th>Complejo Hospitalario Dr. Sótero del Río</th>\n",
       "      <th>Hospital Clínico de la Florida</th>\n",
       "      <th>Hospital Metropolitano ( ex Militar )</th>\n",
       "      <th>Hospital Padre Alberto Hurtado (San Ramón)</th>\n",
       "    </tr>\n",
       "    <tr>\n",
       "      <th>Nombre Establecimiento</th>\n",
       "      <th></th>\n",
       "      <th></th>\n",
       "      <th></th>\n",
       "      <th></th>\n",
       "      <th></th>\n",
       "      <th></th>\n",
       "      <th></th>\n",
       "      <th></th>\n",
       "      <th></th>\n",
       "      <th></th>\n",
       "      <th></th>\n",
       "      <th></th>\n",
       "      <th></th>\n",
       "      <th></th>\n",
       "      <th></th>\n",
       "      <th></th>\n",
       "      <th></th>\n",
       "      <th></th>\n",
       "      <th></th>\n",
       "      <th></th>\n",
       "      <th></th>\n",
       "    </tr>\n",
       "  </thead>\n",
       "  <tbody>\n",
       "    <tr>\n",
       "      <th>Complejo Hospitalario San José</th>\n",
       "      <td>0</td>\n",
       "      <td>0</td>\n",
       "      <td>0</td>\n",
       "      <td>0</td>\n",
       "      <td>0</td>\n",
       "      <td>0</td>\n",
       "      <td>0</td>\n",
       "      <td>0</td>\n",
       "      <td>0</td>\n",
       "      <td>0</td>\n",
       "      <td>...</td>\n",
       "      <td>0</td>\n",
       "      <td>0</td>\n",
       "      <td>0</td>\n",
       "      <td>0</td>\n",
       "      <td>0</td>\n",
       "      <td>0</td>\n",
       "      <td>0</td>\n",
       "      <td>0</td>\n",
       "      <td>0</td>\n",
       "      <td>0</td>\n",
       "    </tr>\n",
       "    <tr>\n",
       "      <th>Hospital Adalberto Steeger (Talagante)</th>\n",
       "      <td>0</td>\n",
       "      <td>0</td>\n",
       "      <td>0</td>\n",
       "      <td>0</td>\n",
       "      <td>0</td>\n",
       "      <td>0</td>\n",
       "      <td>0</td>\n",
       "      <td>0</td>\n",
       "      <td>0</td>\n",
       "      <td>0</td>\n",
       "      <td>...</td>\n",
       "      <td>0</td>\n",
       "      <td>0</td>\n",
       "      <td>0</td>\n",
       "      <td>0</td>\n",
       "      <td>0</td>\n",
       "      <td>0</td>\n",
       "      <td>0</td>\n",
       "      <td>0</td>\n",
       "      <td>0</td>\n",
       "      <td>0</td>\n",
       "    </tr>\n",
       "    <tr>\n",
       "      <th>Hospital Dr. Félix Bulnes Cerda</th>\n",
       "      <td>0</td>\n",
       "      <td>0</td>\n",
       "      <td>0</td>\n",
       "      <td>0</td>\n",
       "      <td>0</td>\n",
       "      <td>0</td>\n",
       "      <td>0</td>\n",
       "      <td>0</td>\n",
       "      <td>0</td>\n",
       "      <td>0</td>\n",
       "      <td>...</td>\n",
       "      <td>0</td>\n",
       "      <td>0</td>\n",
       "      <td>0</td>\n",
       "      <td>0</td>\n",
       "      <td>0</td>\n",
       "      <td>0</td>\n",
       "      <td>0</td>\n",
       "      <td>0</td>\n",
       "      <td>0</td>\n",
       "      <td>0</td>\n",
       "    </tr>\n",
       "    <tr>\n",
       "      <th>Hospital San Juan de Dios</th>\n",
       "      <td>0</td>\n",
       "      <td>0</td>\n",
       "      <td>0</td>\n",
       "      <td>0</td>\n",
       "      <td>0</td>\n",
       "      <td>0</td>\n",
       "      <td>0</td>\n",
       "      <td>0</td>\n",
       "      <td>0</td>\n",
       "      <td>0</td>\n",
       "      <td>...</td>\n",
       "      <td>0</td>\n",
       "      <td>0</td>\n",
       "      <td>0</td>\n",
       "      <td>0</td>\n",
       "      <td>0</td>\n",
       "      <td>0</td>\n",
       "      <td>0</td>\n",
       "      <td>0</td>\n",
       "      <td>0</td>\n",
       "      <td>0</td>\n",
       "    </tr>\n",
       "    <tr>\n",
       "      <th>Instituto Traumatológico Dr. Teodoro Gebauer</th>\n",
       "      <td>0</td>\n",
       "      <td>0</td>\n",
       "      <td>0</td>\n",
       "      <td>0</td>\n",
       "      <td>0</td>\n",
       "      <td>0</td>\n",
       "      <td>0</td>\n",
       "      <td>0</td>\n",
       "      <td>0</td>\n",
       "      <td>0</td>\n",
       "      <td>...</td>\n",
       "      <td>0</td>\n",
       "      <td>0</td>\n",
       "      <td>0</td>\n",
       "      <td>0</td>\n",
       "      <td>0</td>\n",
       "      <td>0</td>\n",
       "      <td>0</td>\n",
       "      <td>0</td>\n",
       "      <td>0</td>\n",
       "      <td>0</td>\n",
       "    </tr>\n",
       "  </tbody>\n",
       "</table>\n",
       "<p>5 rows × 21 columns</p>\n",
       "</div>"
      ],
      "text/plain": [
       "                                              Complejo Hospitalario San José  \\\n",
       "Nombre Establecimiento                                                         \n",
       "Complejo Hospitalario San José                                             0   \n",
       "Hospital Adalberto Steeger (Talagante)                                     0   \n",
       "Hospital Dr. Félix Bulnes Cerda                                            0   \n",
       "Hospital San Juan de Dios                                                  0   \n",
       "Instituto Traumatológico Dr. Teodoro Gebauer                               0   \n",
       "\n",
       "                                              Hospital Adalberto Steeger (Talagante)  \\\n",
       "Nombre Establecimiento                                                                 \n",
       "Complejo Hospitalario San José                                                     0   \n",
       "Hospital Adalberto Steeger (Talagante)                                             0   \n",
       "Hospital Dr. Félix Bulnes Cerda                                                    0   \n",
       "Hospital San Juan de Dios                                                          0   \n",
       "Instituto Traumatológico Dr. Teodoro Gebauer                                       0   \n",
       "\n",
       "                                              Hospital Dr. Félix Bulnes Cerda  \\\n",
       "Nombre Establecimiento                                                          \n",
       "Complejo Hospitalario San José                                              0   \n",
       "Hospital Adalberto Steeger (Talagante)                                      0   \n",
       "Hospital Dr. Félix Bulnes Cerda                                             0   \n",
       "Hospital San Juan de Dios                                                   0   \n",
       "Instituto Traumatológico Dr. Teodoro Gebauer                                0   \n",
       "\n",
       "                                              Hospital San Juan de Dios  \\\n",
       "Nombre Establecimiento                                                    \n",
       "Complejo Hospitalario San José                                        0   \n",
       "Hospital Adalberto Steeger (Talagante)                                0   \n",
       "Hospital Dr. Félix Bulnes Cerda                                       0   \n",
       "Hospital San Juan de Dios                                             0   \n",
       "Instituto Traumatológico Dr. Teodoro Gebauer                          0   \n",
       "\n",
       "                                              Instituto Traumatológico Dr. Teodoro Gebauer  \\\n",
       "Nombre Establecimiento                                                                       \n",
       "Complejo Hospitalario San José                                                           0   \n",
       "Hospital Adalberto Steeger (Talagante)                                                   0   \n",
       "Hospital Dr. Félix Bulnes Cerda                                                          0   \n",
       "Hospital San Juan de Dios                                                                0   \n",
       "Instituto Traumatológico Dr. Teodoro Gebauer                                             0   \n",
       "\n",
       "                                              Hospital Clínico San Borja-Arriarán  \\\n",
       "Nombre Establecimiento                                                              \n",
       "Complejo Hospitalario San José                                                  0   \n",
       "Hospital Adalberto Steeger (Talagante)                                          0   \n",
       "Hospital Dr. Félix Bulnes Cerda                                                 0   \n",
       "Hospital San Juan de Dios                                                       0   \n",
       "Instituto Traumatológico Dr. Teodoro Gebauer                                    0   \n",
       "\n",
       "                                              Hospital de Urgencia Asistencia Pública Dr. Alejandro del Río  \\\n",
       "Nombre Establecimiento                                                                                        \n",
       "Complejo Hospitalario San José                                                                0               \n",
       "Hospital Adalberto Steeger (Talagante)                                                        0               \n",
       "Hospital Dr. Félix Bulnes Cerda                                                               0               \n",
       "Hospital San Juan de Dios                                                                     0               \n",
       "Instituto Traumatológico Dr. Teodoro Gebauer                                                  0               \n",
       "\n",
       "                                              Hospital el Carmen  \\\n",
       "Nombre Establecimiento                                             \n",
       "Complejo Hospitalario San José                                 0   \n",
       "Hospital Adalberto Steeger (Talagante)                         0   \n",
       "Hospital Dr. Félix Bulnes Cerda                                0   \n",
       "Hospital San Juan de Dios                                      0   \n",
       "Instituto Traumatológico Dr. Teodoro Gebauer                   0   \n",
       "\n",
       "                                              Hospital Del Salvador  \\\n",
       "Nombre Establecimiento                                                \n",
       "Complejo Hospitalario San José                                    0   \n",
       "Hospital Adalberto Steeger (Talagante)                            0   \n",
       "Hospital Dr. Félix Bulnes Cerda                                   0   \n",
       "Hospital San Juan de Dios                                         0   \n",
       "Instituto Traumatológico Dr. Teodoro Gebauer                      0   \n",
       "\n",
       "                                              Hospital Dr. Luis Tisné B.  ...  \\\n",
       "Nombre Establecimiento                                                    ...   \n",
       "Complejo Hospitalario San José                                         0  ...   \n",
       "Hospital Adalberto Steeger (Talagante)                                 0  ...   \n",
       "Hospital Dr. Félix Bulnes Cerda                                        0  ...   \n",
       "Hospital San Juan de Dios                                              0  ...   \n",
       "Instituto Traumatológico Dr. Teodoro Gebauer                           0  ...   \n",
       "\n",
       "                                              Instituto Nacional de Enfermedades Respiratorias y Cirugía Torácica  \\\n",
       "Nombre Establecimiento                                                                                              \n",
       "Complejo Hospitalario San José                                                                0                     \n",
       "Hospital Adalberto Steeger (Talagante)                                                        0                     \n",
       "Hospital Dr. Félix Bulnes Cerda                                                               0                     \n",
       "Hospital San Juan de Dios                                                                     0                     \n",
       "Instituto Traumatológico Dr. Teodoro Gebauer                                                  0                     \n",
       "\n",
       "                                              Hospital Barros Luco Trudeau  \\\n",
       "Nombre Establecimiento                                                       \n",
       "Complejo Hospitalario San José                                           0   \n",
       "Hospital Adalberto Steeger (Talagante)                                   0   \n",
       "Hospital Dr. Félix Bulnes Cerda                                          0   \n",
       "Hospital San Juan de Dios                                                0   \n",
       "Instituto Traumatológico Dr. Teodoro Gebauer                             0   \n",
       "\n",
       "                                              Hospital de Enfermedades Infecciosas Dr. Lucio Córdova  \\\n",
       "Nombre Establecimiento                                                                                 \n",
       "Complejo Hospitalario San José                                                                0        \n",
       "Hospital Adalberto Steeger (Talagante)                                                        0        \n",
       "Hospital Dr. Félix Bulnes Cerda                                                               0        \n",
       "Hospital San Juan de Dios                                                                     0        \n",
       "Instituto Traumatológico Dr. Teodoro Gebauer                                                  0        \n",
       "\n",
       "                                              Hospital Dr. Exequiel González Cortés  \\\n",
       "Nombre Establecimiento                                                                \n",
       "Complejo Hospitalario San José                                                    0   \n",
       "Hospital Adalberto Steeger (Talagante)                                            0   \n",
       "Hospital Dr. Félix Bulnes Cerda                                                   0   \n",
       "Hospital San Juan de Dios                                                         0   \n",
       "Instituto Traumatológico Dr. Teodoro Gebauer                                      0   \n",
       "\n",
       "                                              Hospital El Pino  \\\n",
       "Nombre Establecimiento                                           \n",
       "Complejo Hospitalario San José                               0   \n",
       "Hospital Adalberto Steeger (Talagante)                       0   \n",
       "Hospital Dr. Félix Bulnes Cerda                              0   \n",
       "Hospital San Juan de Dios                                    0   \n",
       "Instituto Traumatológico Dr. Teodoro Gebauer                 0   \n",
       "\n",
       "                                              Hospital Parroquial de San Bernardo        \\\n",
       "Nombre Establecimiento                                                                    \n",
       "Complejo Hospitalario San José                                                        0   \n",
       "Hospital Adalberto Steeger (Talagante)                                                0   \n",
       "Hospital Dr. Félix Bulnes Cerda                                                       0   \n",
       "Hospital San Juan de Dios                                                             0   \n",
       "Instituto Traumatológico Dr. Teodoro Gebauer                                          0   \n",
       "\n",
       "                                              Complejo Hospitalario Dr. Sótero del Río    \\\n",
       "Nombre Establecimiento                                                                     \n",
       "Complejo Hospitalario San José                                                         0   \n",
       "Hospital Adalberto Steeger (Talagante)                                                 0   \n",
       "Hospital Dr. Félix Bulnes Cerda                                                        0   \n",
       "Hospital San Juan de Dios                                                              0   \n",
       "Instituto Traumatológico Dr. Teodoro Gebauer                                           0   \n",
       "\n",
       "                                              Hospital Clínico de la Florida  \\\n",
       "Nombre Establecimiento                                                         \n",
       "Complejo Hospitalario San José                                             0   \n",
       "Hospital Adalberto Steeger (Talagante)                                     0   \n",
       "Hospital Dr. Félix Bulnes Cerda                                            0   \n",
       "Hospital San Juan de Dios                                                  0   \n",
       "Instituto Traumatológico Dr. Teodoro Gebauer                               0   \n",
       "\n",
       "                                              Hospital Metropolitano ( ex Militar )  \\\n",
       "Nombre Establecimiento                                                                \n",
       "Complejo Hospitalario San José                                                    0   \n",
       "Hospital Adalberto Steeger (Talagante)                                            0   \n",
       "Hospital Dr. Félix Bulnes Cerda                                                   0   \n",
       "Hospital San Juan de Dios                                                         0   \n",
       "Instituto Traumatológico Dr. Teodoro Gebauer                                      0   \n",
       "\n",
       "                                              Hospital Padre Alberto Hurtado (San Ramón)  \n",
       "Nombre Establecimiento                                                                    \n",
       "Complejo Hospitalario San José                                                         0  \n",
       "Hospital Adalberto Steeger (Talagante)                                                 0  \n",
       "Hospital Dr. Félix Bulnes Cerda                                                        0  \n",
       "Hospital San Juan de Dios                                                              0  \n",
       "Instituto Traumatológico Dr. Teodoro Gebauer                                           0  \n",
       "\n",
       "[5 rows x 21 columns]"
      ]
     },
     "execution_count": 42,
     "metadata": {},
     "output_type": "execute_result"
    }
   ],
   "source": [
    "final = []\n",
    "largo = len(pregunta1.iloc[0])\n",
    "for i in range(len(pregunta1)):\n",
    "    lista_hosp = []\n",
    "    comparar = pregunta1.iloc[i]\n",
    "    for j in range(largo):\n",
    "        lista = []\n",
    "        for n in range(len(pregunta1)):\n",
    "            if comparar[j] > pregunta1.iloc[n][j]:\n",
    "                lista.append(1)\n",
    "            else:\n",
    "                lista.append(0)\n",
    "        lista_hosp.append(lista)\n",
    "    final.append(lista_hosp)\n",
    "\n",
    "data = []\n",
    "for elemento in final:\n",
    "    largo = len(elemento[0])\n",
    "    hosp = []\n",
    "    for j in range(largo):\n",
    "        suma = 0\n",
    "        for h in range(len(elemento)):\n",
    "            suma += elemento[h][j]\n",
    "        if suma/10 < 1:\n",
    "            hosp.append(0)\n",
    "        else:\n",
    "            hosp.append(1)\n",
    "    data.append(hosp)\n",
    "\n",
    "dataframe = {}\n",
    "for j in range(len(data[0])):\n",
    "    valor = []\n",
    "    for i in range(len(data)):\n",
    "        valor.append(data[j][i])\n",
    "        \n",
    "    dataframe[pregunta1.index[j]] = valor\n",
    "\n",
    "resultado_p1 = pd.DataFrame(data = dataframe, index = pregunta1.index)\n",
    "resultado_p1.head()"
   ]
  },
  {
   "cell_type": "code",
   "execution_count": 43,
   "id": "67c15fdd",
   "metadata": {},
   "outputs": [
    {
     "data": {
      "text/plain": [
       "Complejo Hospitalario San José                                         0\n",
       "Hospital Adalberto Steeger (Talagante)                                 0\n",
       "Hospital Dr. Félix Bulnes Cerda                                        0\n",
       "Hospital San Juan de Dios                                              0\n",
       "Instituto Traumatológico Dr. Teodoro Gebauer                           0\n",
       "Hospital Clínico San Borja-Arriarán                                    0\n",
       "Hospital de Urgencia Asistencia Pública Dr. Alejandro del Río          0\n",
       "Hospital el Carmen                                                     0\n",
       "Hospital Del Salvador                                                  0\n",
       "Hospital Dr. Luis Tisné B.                                             0\n",
       "Instituto de Neurocirugía Dr. Alfonso Asenjo                           0\n",
       "Instituto Nacional de Enfermedades Respiratorias y Cirugía Torácica    0\n",
       "Hospital Barros Luco Trudeau                                           0\n",
       "Hospital de Enfermedades Infecciosas Dr. Lucio Córdova                 0\n",
       "Hospital Dr. Exequiel González Cortés                                  0\n",
       "Hospital El Pino                                                       1\n",
       "Hospital Parroquial de San Bernardo                                    0\n",
       "Complejo Hospitalario Dr. Sótero del Río                               0\n",
       "Hospital Clínico de la Florida                                         0\n",
       "Hospital Metropolitano ( ex Militar )                                  0\n",
       "Hospital Padre Alberto Hurtado (San Ramón)                             0\n",
       "dtype: int64"
      ]
     },
     "execution_count": 43,
     "metadata": {},
     "output_type": "execute_result"
    }
   ],
   "source": [
    "resultado_p1.sum()"
   ]
  },
  {
   "cell_type": "markdown",
   "id": "9b45efc3-4ceb-4d24-91bf-00ae7b0662e4",
   "metadata": {},
   "source": [
    "La rutina generada primero compara para cada hospital cada uno de los GRD con los costos del resto de los hospitales. Luego, ve los valores obtenidos por hospital y si todos estos son 1, se tiene que el valor final es 1, pero si alguno tiene valor 0, el valor que toma es 0. Esto se guarda en un diccionario para posteriormente transformarlo en un Dataframe, el cual es la matriz de 0 y 1 que se puede ver en la Figura."
   ]
  },
  {
   "cell_type": "markdown",
   "id": "ebd67380",
   "metadata": {},
   "source": [
    "**Pregunta 2**\n",
    "\n",
    "Utilice los tres métodos antes mencionados para predecir la cantidad de llegadas de pacientes de todos los GRD para el día 425 (día siguiente a los registrados en la tabla de datos históricos sobre llegadas de pacientes) y mencione cuál de las siguientes alternativas corresponde a los resultados correctos"
   ]
  },
  {
   "cell_type": "code",
   "execution_count": 44,
   "id": "2eb4e8d2",
   "metadata": {
    "scrolled": true
   },
   "outputs": [
    {
     "data": {
      "text/html": [
       "<div>\n",
       "<style scoped>\n",
       "    .dataframe tbody tr th:only-of-type {\n",
       "        vertical-align: middle;\n",
       "    }\n",
       "\n",
       "    .dataframe tbody tr th {\n",
       "        vertical-align: top;\n",
       "    }\n",
       "\n",
       "    .dataframe thead th {\n",
       "        text-align: right;\n",
       "    }\n",
       "</style>\n",
       "<table border=\"1\" class=\"dataframe\">\n",
       "  <thead>\n",
       "    <tr style=\"text-align: right;\">\n",
       "      <th></th>\n",
       "      <th>Día de llegada</th>\n",
       "      <th>Número de llegada</th>\n",
       "    </tr>\n",
       "  </thead>\n",
       "  <tbody>\n",
       "    <tr>\n",
       "      <th>419</th>\n",
       "      <td>420</td>\n",
       "      <td>183</td>\n",
       "    </tr>\n",
       "    <tr>\n",
       "      <th>420</th>\n",
       "      <td>421</td>\n",
       "      <td>159</td>\n",
       "    </tr>\n",
       "    <tr>\n",
       "      <th>421</th>\n",
       "      <td>422</td>\n",
       "      <td>160</td>\n",
       "    </tr>\n",
       "    <tr>\n",
       "      <th>422</th>\n",
       "      <td>423</td>\n",
       "      <td>159</td>\n",
       "    </tr>\n",
       "    <tr>\n",
       "      <th>423</th>\n",
       "      <td>424</td>\n",
       "      <td>82</td>\n",
       "    </tr>\n",
       "  </tbody>\n",
       "</table>\n",
       "</div>"
      ],
      "text/plain": [
       "     Día de llegada  Número de llegada\n",
       "419             420                183\n",
       "420             421                159\n",
       "421             422                160\n",
       "422             423                159\n",
       "423             424                 82"
      ]
     },
     "execution_count": 44,
     "metadata": {},
     "output_type": "execute_result"
    }
   ],
   "source": [
    "Llegadas_P2 = Info_sheet[[\"Día de llegada\", \"Número de llegada\"]].groupby(\"Día de llegada\").count()\n",
    "Llegadas_P2 = Llegadas_P2.reset_index()\n",
    "Llegadas_P2.tail()"
   ]
  },
  {
   "cell_type": "markdown",
   "id": "c0d47949",
   "metadata": {},
   "source": [
    "- Predicción método ingenuo"
   ]
  },
  {
   "cell_type": "code",
   "execution_count": 45,
   "id": "c8f6fbfa",
   "metadata": {},
   "outputs": [
    {
     "data": {
      "text/plain": [
       "82"
      ]
     },
     "execution_count": 45,
     "metadata": {},
     "output_type": "execute_result"
    }
   ],
   "source": [
    "Llegadas_P2.iloc[423][1]"
   ]
  },
  {
   "cell_type": "markdown",
   "id": "95ae959c",
   "metadata": {},
   "source": [
    "- Predicción método media simple"
   ]
  },
  {
   "cell_type": "code",
   "execution_count": 46,
   "id": "f74cb3bf",
   "metadata": {},
   "outputs": [
    {
     "data": {
      "text/plain": [
       "155.0"
      ]
     },
     "execution_count": 46,
     "metadata": {},
     "output_type": "execute_result"
    }
   ],
   "source": [
    "np.round(Llegadas_P2[\"Número de llegada\"].mean(),0)\n",
    "# np.round(Llegadas_P2.mean()[1],0)"
   ]
  },
  {
   "cell_type": "markdown",
   "id": "6571c897",
   "metadata": {},
   "source": [
    "- Predicción método media móvil"
   ]
  },
  {
   "cell_type": "code",
   "execution_count": 47,
   "id": "67f6c39c",
   "metadata": {},
   "outputs": [
    {
     "data": {
      "text/plain": [
       "160.0"
      ]
     },
     "execution_count": 47,
     "metadata": {},
     "output_type": "execute_result"
    }
   ],
   "source": [
    "np.round(Llegadas_P2[\"Número de llegada\"].tail(200).mean(),0)"
   ]
  },
  {
   "cell_type": "markdown",
   "id": "b24c96e6",
   "metadata": {},
   "source": [
    "### Clase 3: ¿Cómo se utiliza Python en la construcción de modelos predictivos?"
   ]
  },
  {
   "cell_type": "markdown",
   "id": "002d9add",
   "metadata": {},
   "source": [
    "1. **Python y análisis predictivo**\n",
    "\n",
    "Como se mencionó anteriormente en la clase 2 del módulo, la analítica predictiva es un tipo de análisis que utiliza distintos tipos de modelos para tratar de predecir lo que puede suceder en el futuro a partir de los datos con que se cuenta. Para realizar lo anterior se puede utilizar Python y es una herramienta sumamente potente para esto. Para esto, lo primero que se debe realizar es contar con los datos, donde contamos con la herramienta Pandas para esto, luego, Python nos permite realizar un sinfín de operaciones como las mostradas en la clase dos que nos permitieron calcular y predecir, a través de los datos del Servicio de Salud, las posibles llegadas de pacientes a través de distintos métodos, tales cómo, el método ingenuo, de media simple y media móvil. Sin embargo, estos métodos son simples y ustedes pueden querer realizar otros tipos de estimaciones más complejas, lo que se puede realizar en Python a través de distintas librerías.\n",
    "\n",
    "2. **Librerías de Python para análisis de predictivo**\n",
    "\n",
    "Python cuenta con distintas librerías para realizar análisis predictivo, Machine Learning y otras tareas más complejas. Dentro de las más importantes encontramos las siguientes:\n",
    "-\tScikit-Learn\n",
    "-\tScipy\n",
    "-\tTensorFlow\n",
    "\n",
    "Entre otras. Luego, la librería que se utilizará debido a sus funcionalidades, eficacia y rápida curva de aprendizaje es Scikit-Learn. Como se menciona en su página web, Scikit-learn es una biblioteca de aprendizaje automático de código abierto que admite el aprendizaje supervisado y no supervisado. También proporciona varias herramientas para el ajuste de modelos, preprocesamiento de datos, selección de modelos, evaluación de modelos y muchas otras utilidades. Conociendo la herramienta que vamos a utilizar y sus funcionalidades, veamos como utilizarla.\n",
    "\n",
    "3. **Construcción modelo predictivo con Scikit-Learn**\n",
    "\n",
    "Por ejemplo, ustedes pueden querer estimar las próximas llegadas utilizando una regresión lineal  de los datos. Lo primero que debemos hacer para realizar lo anterior es importar el módulo de Sklearn y generar el Dataframe de llegadas diarias."
   ]
  },
  {
   "cell_type": "code",
   "execution_count": 48,
   "id": "e238ffe2-4c52-4c49-8ac5-de8af1ca8f59",
   "metadata": {},
   "outputs": [
    {
     "name": "stdout",
     "output_type": "stream",
     "text": [
      "Requirement already satisfied: scikit-learn in c:\\users\\raul\\appdata\\local\\programs\\python\\python311\\lib\\site-packages (1.2.1)Note: you may need to restart the kernel to use updated packages.\n",
      "\n",
      "Requirement already satisfied: numpy>=1.17.3 in c:\\users\\raul\\appdata\\local\\programs\\python\\python311\\lib\\site-packages (from scikit-learn) (1.24.1)\n",
      "Requirement already satisfied: scipy>=1.3.2 in c:\\users\\raul\\appdata\\local\\programs\\python\\python311\\lib\\site-packages (from scikit-learn) (1.10.1)\n",
      "Requirement already satisfied: joblib>=1.1.1 in c:\\users\\raul\\appdata\\local\\programs\\python\\python311\\lib\\site-packages (from scikit-learn) (1.2.0)\n",
      "Requirement already satisfied: threadpoolctl>=2.0.0 in c:\\users\\raul\\appdata\\local\\programs\\python\\python311\\lib\\site-packages (from scikit-learn) (3.1.0)\n"
     ]
    }
   ],
   "source": [
    "pip install scikit-learn"
   ]
  },
  {
   "cell_type": "code",
   "execution_count": 49,
   "id": "25783233",
   "metadata": {},
   "outputs": [],
   "source": [
    "from sklearn.linear_model import LinearRegression"
   ]
  },
  {
   "cell_type": "code",
   "execution_count": 88,
   "id": "137531c1",
   "metadata": {},
   "outputs": [
    {
     "data": {
      "text/html": [
       "<div>\n",
       "<style scoped>\n",
       "    .dataframe tbody tr th:only-of-type {\n",
       "        vertical-align: middle;\n",
       "    }\n",
       "\n",
       "    .dataframe tbody tr th {\n",
       "        vertical-align: top;\n",
       "    }\n",
       "\n",
       "    .dataframe thead th {\n",
       "        text-align: right;\n",
       "    }\n",
       "</style>\n",
       "<table border=\"1\" class=\"dataframe\">\n",
       "  <thead>\n",
       "    <tr style=\"text-align: right;\">\n",
       "      <th></th>\n",
       "      <th>Día de llegada</th>\n",
       "      <th>Número de llegada</th>\n",
       "    </tr>\n",
       "  </thead>\n",
       "  <tbody>\n",
       "    <tr>\n",
       "      <th>0</th>\n",
       "      <td>1</td>\n",
       "      <td>146</td>\n",
       "    </tr>\n",
       "    <tr>\n",
       "      <th>1</th>\n",
       "      <td>2</td>\n",
       "      <td>142</td>\n",
       "    </tr>\n",
       "    <tr>\n",
       "      <th>2</th>\n",
       "      <td>3</td>\n",
       "      <td>152</td>\n",
       "    </tr>\n",
       "    <tr>\n",
       "      <th>3</th>\n",
       "      <td>4</td>\n",
       "      <td>156</td>\n",
       "    </tr>\n",
       "    <tr>\n",
       "      <th>4</th>\n",
       "      <td>5</td>\n",
       "      <td>152</td>\n",
       "    </tr>\n",
       "    <tr>\n",
       "      <th>...</th>\n",
       "      <td>...</td>\n",
       "      <td>...</td>\n",
       "    </tr>\n",
       "    <tr>\n",
       "      <th>419</th>\n",
       "      <td>420</td>\n",
       "      <td>183</td>\n",
       "    </tr>\n",
       "    <tr>\n",
       "      <th>420</th>\n",
       "      <td>421</td>\n",
       "      <td>159</td>\n",
       "    </tr>\n",
       "    <tr>\n",
       "      <th>421</th>\n",
       "      <td>422</td>\n",
       "      <td>160</td>\n",
       "    </tr>\n",
       "    <tr>\n",
       "      <th>422</th>\n",
       "      <td>423</td>\n",
       "      <td>159</td>\n",
       "    </tr>\n",
       "    <tr>\n",
       "      <th>423</th>\n",
       "      <td>424</td>\n",
       "      <td>82</td>\n",
       "    </tr>\n",
       "  </tbody>\n",
       "</table>\n",
       "<p>424 rows × 2 columns</p>\n",
       "</div>"
      ],
      "text/plain": [
       "     Día de llegada  Número de llegada\n",
       "0                 1                146\n",
       "1                 2                142\n",
       "2                 3                152\n",
       "3                 4                156\n",
       "4                 5                152\n",
       "..              ...                ...\n",
       "419             420                183\n",
       "420             421                159\n",
       "421             422                160\n",
       "422             423                159\n",
       "423             424                 82\n",
       "\n",
       "[424 rows x 2 columns]"
      ]
     },
     "execution_count": 88,
     "metadata": {},
     "output_type": "execute_result"
    }
   ],
   "source": [
    "Llegadas_GRD = Info_sheet[[\"Día de llegada\", \"Número de llegada\"]].groupby(\"Día de llegada\").count()\n",
    "Llegadas_GRD = Llegadas_GRD.reset_index()\n",
    "Llegadas_GRD.head()\n",
    "Llegadas_GRD"
   ]
  },
  {
   "cell_type": "markdown",
   "id": "1048834a",
   "metadata": {},
   "source": [
    "Luego, lo primero que debemos realizar es definir las variables a considerar. En este caso la variable X será el día de llegadas y la variable y, es decir, la variable a estimar será la cantidad de llegadas. Con esto, se utiliza el comando fit() para realizar la regresión y obtener los valores de los coeficientes de ajuste."
   ]
  },
  {
   "cell_type": "code",
   "execution_count": 86,
   "id": "86d1db45",
   "metadata": {},
   "outputs": [
    {
     "name": "stdout",
     "output_type": "stream",
     "text": [
      "Pendiente: 0.035152745963901416, Intercepto: 147.09136223738793\n"
     ]
    }
   ],
   "source": [
    "X = Llegadas_GRD[[\"Día de llegada\"]]\n",
    "y = Llegadas_GRD[[\"Número de llegada\"]]\n",
    "regressor = LinearRegression().fit(X, y)\n",
    "print(f\"Pendiente: {regressor.coef_[0][0]}, Intercepto: {regressor.intercept_[0]}\")"
   ]
  },
  {
   "cell_type": "markdown",
   "id": "777d4bac",
   "metadata": {},
   "source": [
    "Obtenidos los coeficientes de la regresión, un buen paso que podrían y deberían realizar con lo aprendido en el curso, es visualizar lo obtenido. "
   ]
  },
  {
   "cell_type": "code",
   "execution_count": 52,
   "id": "969ba2ab",
   "metadata": {
    "scrolled": true
   },
   "outputs": [
    {
     "data": {
      "image/png": "[encoded data removed]",
      "text/plain": [
       "<Figure size 1200x500 with 1 Axes>"
      ]
     },
     "metadata": {},
     "output_type": "display_data"
    }
   ],
   "source": [
    "plt.figure(figsize=(12,5))\n",
    "plt.scatter(X, y, color = 'black')\n",
    "plt.plot(X, regressor.predict(X), color = 'red')\n",
    "plt.title('Día de llegada vs Número de llegadas')\n",
    "plt.xlabel('Día de llegada')\n",
    "plt.ylabel('Número de llegadas')\n",
    "plt.show()"
   ]
  },
  {
   "cell_type": "markdown",
   "id": "fbe957ba",
   "metadata": {},
   "source": [
    "Como se puede ver de la Figura, el ajuste explica la tendencia al alza de las llegadas de los pacientes, sin embargo, usted puede preguntarse ¿qué tan bueno es el ajuste de mi modelo? Para esto se puede utilizar el comando score() ."
   ]
  },
  {
   "cell_type": "code",
   "execution_count": 53,
   "id": "d38efb6a",
   "metadata": {
    "scrolled": true
   },
   "outputs": [
    {
     "name": "stdout",
     "output_type": "stream",
     "text": [
      "0.2125667746805351\n"
     ]
    }
   ],
   "source": [
    "print(regressor.score(X, y))"
   ]
  },
  {
   "cell_type": "markdown",
   "id": "051e1e6d",
   "metadata": {},
   "source": [
    "Lo anterior nos muestra que tan bien ajusta el modelo, en este caso el coeficiente R2. Mientras más cercano a 1, mejor es la regresión. Lo anterior se traduce en que la regresión generada no sea la mejor, sin embargo, considera más información que las estimaciones realizadas mediante los métodos anteriores. Finalmente, se estiman las llegadas de los pacientes para el día 424 utilizando los métodos ingenuo, media simple y media móvil para compararlos con la estimación obtenida con la regresión. "
   ]
  },
  {
   "cell_type": "markdown",
   "id": "dd0d0185",
   "metadata": {},
   "source": [
    "**Llegadas estimadas mediante el método ingenuo**"
   ]
  },
  {
   "cell_type": "code",
   "execution_count": 90,
   "id": "8a458e3f",
   "metadata": {},
   "outputs": [
    {
     "name": "stdout",
     "output_type": "stream",
     "text": [
      "Llegadas estimadas para el día 424: 82\n"
     ]
    }
   ],
   "source": [
    "last = Llegadas_GRD[\"Número de llegada\"].tail(1)[423]\n",
    "print(f\"Llegadas estimadas para el día 424: {last}\")"
   ]
  },
  {
   "cell_type": "markdown",
   "id": "445550be",
   "metadata": {},
   "source": [
    "**Llegadas estimadas mediante el método de media simple**"
   ]
  },
  {
   "cell_type": "code",
   "execution_count": 55,
   "id": "db325fc8",
   "metadata": {
    "scrolled": true
   },
   "outputs": [
    {
     "name": "stdout",
     "output_type": "stream",
     "text": [
      "Llegadas estimadas para el día 424: 155.0\n"
     ]
    }
   ],
   "source": [
    "mean = np.round(Llegadas_GRD[\"Número de llegada\"].mean(),0)\n",
    "print(f\"Llegadas estimadas para el día 424: {mean}\")"
   ]
  },
  {
   "cell_type": "markdown",
   "id": "d55aa27a",
   "metadata": {},
   "source": [
    "**Llegadas estimadas mediante el método de media móvil**"
   ]
  },
  {
   "cell_type": "code",
   "execution_count": 56,
   "id": "80f2aff6",
   "metadata": {},
   "outputs": [
    {
     "name": "stdout",
     "output_type": "stream",
     "text": [
      "Llegadas estimadas para el día 424: 160.0\n"
     ]
    }
   ],
   "source": [
    "media_movil = Llegadas_GRD.tail(200)\n",
    "print(f\"Llegadas estimadas para el día 424: {np.round(media_movil.mean()[1],0)}\")"
   ]
  },
  {
   "cell_type": "markdown",
   "id": "11db7c77",
   "metadata": {},
   "source": [
    "**Llegadas estimadas mediante regresión**"
   ]
  },
  {
   "cell_type": "code",
   "execution_count": 57,
   "id": "7b9e1207",
   "metadata": {},
   "outputs": [
    {
     "name": "stdout",
     "output_type": "stream",
     "text": [
      "Llegadas estimadas para el día 424: 162.0\n"
     ]
    }
   ],
   "source": [
    "prox_llegada = 424*regressor.coef_[0][0]+regressor.intercept_[0]\n",
    "print(f\"Llegadas estimadas para el día 424: {np.round(prox_llegada,0)}\")"
   ]
  },
  {
   "cell_type": "markdown",
   "id": "dc1db46b",
   "metadata": {},
   "source": [
    "De lo anterior, se puede ver que las estimaciones son bastante distintas. La regresión considera la tendencia al alza de los datos, pero asume comportamiento lineal, sin embargo, al considerar la tendencia al alza esta estimación puede ser más cercana a la realidad que el resto de los métodos. "
   ]
  },
  {
   "cell_type": "markdown",
   "id": "9ab58a62",
   "metadata": {},
   "source": [
    "**Pregunta 1**\n",
    "\n",
    "Si definimos el error de un pronóstico como la suma de las diferencias entre el valor real y el pronosticado. Utilizando esta definición, indique cuál de las siguientes alternativas corresponde al error del pronóstico de para los últimos 5 días (del día 420 al 424)"
   ]
  },
  {
   "cell_type": "code",
   "execution_count": 92,
   "id": "514c48e1",
   "metadata": {
    "scrolled": true
   },
   "outputs": [
    {
     "data": {
      "text/html": [
       "<div>\n",
       "<style scoped>\n",
       "    .dataframe tbody tr th:only-of-type {\n",
       "        vertical-align: middle;\n",
       "    }\n",
       "\n",
       "    .dataframe tbody tr th {\n",
       "        vertical-align: top;\n",
       "    }\n",
       "\n",
       "    .dataframe thead th {\n",
       "        text-align: right;\n",
       "    }\n",
       "</style>\n",
       "<table border=\"1\" class=\"dataframe\">\n",
       "  <thead>\n",
       "    <tr style=\"text-align: right;\">\n",
       "      <th></th>\n",
       "      <th>Día</th>\n",
       "      <th>Llegadas</th>\n",
       "      <th>Regresión</th>\n",
       "      <th>Error</th>\n",
       "    </tr>\n",
       "  </thead>\n",
       "  <tbody>\n",
       "    <tr>\n",
       "      <th>419</th>\n",
       "      <td>420</td>\n",
       "      <td>183</td>\n",
       "      <td>161.8</td>\n",
       "      <td>21.2</td>\n",
       "    </tr>\n",
       "    <tr>\n",
       "      <th>420</th>\n",
       "      <td>421</td>\n",
       "      <td>159</td>\n",
       "      <td>161.8</td>\n",
       "      <td>-2.8</td>\n",
       "    </tr>\n",
       "    <tr>\n",
       "      <th>421</th>\n",
       "      <td>422</td>\n",
       "      <td>160</td>\n",
       "      <td>161.9</td>\n",
       "      <td>-1.9</td>\n",
       "    </tr>\n",
       "    <tr>\n",
       "      <th>422</th>\n",
       "      <td>423</td>\n",
       "      <td>159</td>\n",
       "      <td>161.9</td>\n",
       "      <td>-2.9</td>\n",
       "    </tr>\n",
       "    <tr>\n",
       "      <th>423</th>\n",
       "      <td>424</td>\n",
       "      <td>82</td>\n",
       "      <td>161.9</td>\n",
       "      <td>-79.9</td>\n",
       "    </tr>\n",
       "  </tbody>\n",
       "</table>\n",
       "</div>"
      ],
      "text/plain": [
       "     Día  Llegadas  Regresión  Error\n",
       "419  420       183      161.8   21.2\n",
       "420  421       159      161.8   -2.8\n",
       "421  422       160      161.9   -1.9\n",
       "422  423       159      161.9   -2.9\n",
       "423  424        82      161.9  -79.9"
      ]
     },
     "execution_count": 92,
     "metadata": {},
     "output_type": "execute_result"
    }
   ],
   "source": [
    "pregunta1 = Llegadas_GRD.tail(5)\n",
    "pregunta1 = pregunta1.rename(columns={\"Día de llegada\": \"Día\", \"Número de llegada\": \"Llegadas\"})\n",
    "pregunta1[\"Regresión\"] = pregunta1.apply(lambda row: np.round(147.09 + row.Día*0.035,1), axis = 1)\n",
    "pregunta1[\"Error\"] = pregunta1.apply(lambda row: row.Llegadas-row.Regresión, axis = 1)\n",
    "pregunta1"
   ]
  },
  {
   "cell_type": "code",
   "execution_count": 94,
   "id": "5d97369f",
   "metadata": {},
   "outputs": [
    {
     "data": {
      "text/plain": [
       "-66.0"
      ]
     },
     "execution_count": 94,
     "metadata": {},
     "output_type": "execute_result"
    }
   ],
   "source": [
    "np.round(pregunta1[\"Error\"].sum(),0)"
   ]
  },
  {
   "cell_type": "markdown",
   "id": "32810238",
   "metadata": {},
   "source": [
    "**Pregunta 2**\n",
    "\n",
    "Bajo la misma definición de error utilizado en la Pregunta 1, indique cuál de los métodos tiene el menor error de pronóstico para los últimos 5 días (del día 420 al 424)"
   ]
  },
  {
   "cell_type": "code",
   "execution_count": 99,
   "id": "e065e05b",
   "metadata": {},
   "outputs": [
    {
     "data": {
      "text/html": [
       "<div>\n",
       "<style scoped>\n",
       "    .dataframe tbody tr th:only-of-type {\n",
       "        vertical-align: middle;\n",
       "    }\n",
       "\n",
       "    .dataframe tbody tr th {\n",
       "        vertical-align: top;\n",
       "    }\n",
       "\n",
       "    .dataframe thead th {\n",
       "        text-align: right;\n",
       "    }\n",
       "</style>\n",
       "<table border=\"1\" class=\"dataframe\">\n",
       "  <thead>\n",
       "    <tr style=\"text-align: right;\">\n",
       "      <th></th>\n",
       "      <th>Día</th>\n",
       "      <th>Llegadas</th>\n",
       "      <th>Ingenuo</th>\n",
       "      <th>MS</th>\n",
       "      <th>MM</th>\n",
       "      <th>Regresión</th>\n",
       "      <th>Error_1</th>\n",
       "      <th>Error_2</th>\n",
       "      <th>Error_3</th>\n",
       "      <th>Error_4</th>\n",
       "    </tr>\n",
       "  </thead>\n",
       "  <tbody>\n",
       "    <tr>\n",
       "      <th>419</th>\n",
       "      <td>420</td>\n",
       "      <td>183</td>\n",
       "      <td>159</td>\n",
       "      <td>154.6</td>\n",
       "      <td>159.7</td>\n",
       "      <td>161.8</td>\n",
       "      <td>24.0</td>\n",
       "      <td>28.4</td>\n",
       "      <td>23.3</td>\n",
       "      <td>21.2</td>\n",
       "    </tr>\n",
       "    <tr>\n",
       "      <th>420</th>\n",
       "      <td>421</td>\n",
       "      <td>159</td>\n",
       "      <td>183</td>\n",
       "      <td>154.6</td>\n",
       "      <td>159.6</td>\n",
       "      <td>161.8</td>\n",
       "      <td>-24.0</td>\n",
       "      <td>4.4</td>\n",
       "      <td>-0.6</td>\n",
       "      <td>-2.8</td>\n",
       "    </tr>\n",
       "    <tr>\n",
       "      <th>421</th>\n",
       "      <td>422</td>\n",
       "      <td>160</td>\n",
       "      <td>159</td>\n",
       "      <td>154.6</td>\n",
       "      <td>159.8</td>\n",
       "      <td>161.9</td>\n",
       "      <td>1.0</td>\n",
       "      <td>5.4</td>\n",
       "      <td>0.2</td>\n",
       "      <td>-1.9</td>\n",
       "    </tr>\n",
       "    <tr>\n",
       "      <th>422</th>\n",
       "      <td>423</td>\n",
       "      <td>159</td>\n",
       "      <td>160</td>\n",
       "      <td>154.6</td>\n",
       "      <td>159.8</td>\n",
       "      <td>161.9</td>\n",
       "      <td>-1.0</td>\n",
       "      <td>4.4</td>\n",
       "      <td>-0.8</td>\n",
       "      <td>-2.9</td>\n",
       "    </tr>\n",
       "    <tr>\n",
       "      <th>423</th>\n",
       "      <td>424</td>\n",
       "      <td>82</td>\n",
       "      <td>159</td>\n",
       "      <td>154.6</td>\n",
       "      <td>159.8</td>\n",
       "      <td>161.9</td>\n",
       "      <td>-77.0</td>\n",
       "      <td>-72.6</td>\n",
       "      <td>-77.8</td>\n",
       "      <td>-79.9</td>\n",
       "    </tr>\n",
       "  </tbody>\n",
       "</table>\n",
       "</div>"
      ],
      "text/plain": [
       "     Día  Llegadas  Ingenuo     MS     MM  Regresión  Error_1  Error_2  \\\n",
       "419  420       183      159  154.6  159.7      161.8     24.0     28.4   \n",
       "420  421       159      183  154.6  159.6      161.8    -24.0      4.4   \n",
       "421  422       160      159  154.6  159.8      161.9      1.0      5.4   \n",
       "422  423       159      160  154.6  159.8      161.9     -1.0      4.4   \n",
       "423  424        82      159  154.6  159.8      161.9    -77.0    -72.6   \n",
       "\n",
       "     Error_3  Error_4  \n",
       "419     23.3     21.2  \n",
       "420     -0.6     -2.8  \n",
       "421      0.2     -1.9  \n",
       "422     -0.8     -2.9  \n",
       "423    -77.8    -79.9  "
      ]
     },
     "execution_count": 99,
     "metadata": {},
     "output_type": "execute_result"
    }
   ],
   "source": [
    "pregunta2 = Llegadas_GRD.tail(5)\n",
    "pregunta2 = pregunta2.rename(columns={\"Día de llegada\": \"Día\", \"Número de llegada\": \"Llegadas\"})\n",
    "pregunta2[\"Ingenuo\"] = [159,183,159,160,159] \n",
    "pregunta2[\"MS\"] = [np.round(Llegadas_GRD[\"Número de llegada\"].mean(),1) for i in range(0,5)]\n",
    "pregunta2[\"MM\"] = [np.round(Llegadas_GRD[\"Número de llegada\"].iloc[200:418+i].mean(),1) for i in range(0,5)]\n",
    "pregunta2[\"Regresión\"] = pregunta2.apply(lambda row: np.round(147.09 + row.Día*0.035,1), axis = 1)\n",
    "pregunta2[\"Error_1\"] = pregunta2.apply(lambda row: row.Llegadas-row.Ingenuo, axis = 1)\n",
    "pregunta2[\"Error_2\"] = pregunta2.apply(lambda row: row.Llegadas-row.MS, axis = 1)\n",
    "pregunta2[\"Error_3\"] = pregunta2.apply(lambda row: row.Llegadas-row.MM, axis = 1)\n",
    "pregunta2[\"Error_4\"] = pregunta2.apply(lambda row: row.Llegadas-row.Regresión, axis = 1)\n",
    "pregunta2"
   ]
  },
  {
   "cell_type": "code",
   "execution_count": 61,
   "id": "cbf436e8",
   "metadata": {},
   "outputs": [
    {
     "name": "stdout",
     "output_type": "stream",
     "text": [
      "Error método ingenuo: -77.0\n"
     ]
    }
   ],
   "source": [
    "print(\"Error método ingenuo:\", np.round(pregunta2[\"Error_1\"].sum(),0))"
   ]
  },
  {
   "cell_type": "code",
   "execution_count": 62,
   "id": "a0529ead",
   "metadata": {},
   "outputs": [
    {
     "name": "stdout",
     "output_type": "stream",
     "text": [
      "Error método media simple: -30.0\n"
     ]
    }
   ],
   "source": [
    "print(\"Error método media simple:\", np.round(pregunta2[\"Error_2\"].sum(),0))"
   ]
  },
  {
   "cell_type": "code",
   "execution_count": 63,
   "id": "f1934d4f",
   "metadata": {},
   "outputs": [
    {
     "name": "stdout",
     "output_type": "stream",
     "text": [
      "Error método media móvil: -56.0\n"
     ]
    }
   ],
   "source": [
    "print(\"Error método media móvil:\", np.round(pregunta2[\"Error_3\"].sum(),0))"
   ]
  },
  {
   "cell_type": "code",
   "execution_count": 64,
   "id": "281d6fbd",
   "metadata": {},
   "outputs": [
    {
     "name": "stdout",
     "output_type": "stream",
     "text": [
      "Error regresión: -66.0\n"
     ]
    }
   ],
   "source": [
    "print(\"Error regresión:\", np.round(pregunta2[\"Error_4\"].sum(),0))"
   ]
  },
  {
   "cell_type": "markdown",
   "id": "c5085f66",
   "metadata": {},
   "source": [
    "### Clase 4: Decisiones bajo certidumbre, riesgo e incertidumbre"
   ]
  },
  {
   "cell_type": "markdown",
   "id": "87d73ee7",
   "metadata": {},
   "source": [
    "1. **Decisiones bajo certidumbre**\n",
    "\n",
    "Las decisiones bajo certidumbre son todas aquellas que se llevan a cabo bajo condiciones de certeza. Lo anterior se traduce en que el tomador de decisiones posee información exacta, medible y confiable de lo que puede suceder, junto con que conoce el objetivo y las posible consecuencias de cada decisión. \n",
    "En estos casos, se sabe con certeza que se necesita y en que se puede traducir cada una de las decisiones a partir de los datos y el análisis de la información que se posea. Por ejemplo, si ustedes fueran parte del grupo de personas que toma las decisiones en el Servicio de Salud y quisieran agregar una cama más al hospital San Juan de Dios, saben con certeza que el resultado sería tener un total de 77 camas críticas y el costo de agregar esa cama sería de 1066 [MM$].\n"
   ]
  },
  {
   "cell_type": "code",
   "execution_count": 65,
   "id": "8797d589",
   "metadata": {},
   "outputs": [
    {
     "data": {
      "text/html": [
       "<div>\n",
       "<style scoped>\n",
       "    .dataframe tbody tr th:only-of-type {\n",
       "        vertical-align: middle;\n",
       "    }\n",
       "\n",
       "    .dataframe tbody tr th {\n",
       "        vertical-align: top;\n",
       "    }\n",
       "\n",
       "    .dataframe thead th {\n",
       "        text-align: right;\n",
       "    }\n",
       "</style>\n",
       "<table border=\"1\" class=\"dataframe\">\n",
       "  <thead>\n",
       "    <tr style=\"text-align: right;\">\n",
       "      <th></th>\n",
       "      <th>Nombre Establecimiento</th>\n",
       "      <th>Total Camas Críticas</th>\n",
       "      <th>Costo de instalar una cama [MM$]</th>\n",
       "    </tr>\n",
       "  </thead>\n",
       "  <tbody>\n",
       "    <tr>\n",
       "      <th>3</th>\n",
       "      <td>Hospital San Juan de Dios</td>\n",
       "      <td>76</td>\n",
       "      <td>1066</td>\n",
       "    </tr>\n",
       "  </tbody>\n",
       "</table>\n",
       "</div>"
      ],
      "text/plain": [
       "      Nombre Establecimiento  Total Camas Críticas  \\\n",
       "3  Hospital San Juan de Dios                    76   \n",
       "\n",
       "   Costo de instalar una cama [MM$]  \n",
       "3                              1066  "
      ]
     },
     "execution_count": 65,
     "metadata": {},
     "output_type": "execute_result"
    }
   ],
   "source": [
    "Hosp_sheet[[\"Nombre Establecimiento\", \"Total Camas Críticas\", \"Costo de instalar una cama [MM$]\"]].loc[Hosp_sheet[\"Nombre Establecimiento\"]==\"Hospital San Juan de Dios\"]"
   ]
  },
  {
   "cell_type": "markdown",
   "id": "187458db",
   "metadata": {},
   "source": [
    "De lo anterior se ve que el hospital `San Juan de Dios` cuanta con un total de 76 camas críticas, por lo que si se agrega una, **el total sería de 77** y la cama extra tendría un costo de **1066 [MM$] "
   ]
  },
  {
   "cell_type": "markdown",
   "id": "18cb3929",
   "metadata": {},
   "source": [
    "2. **Decisiones bajo incertidumbre**\n",
    "\n",
    "Las decisiones bajo incertidumbre son todas aquellas que se llevan a cabo bajo condiciones en que no se presenta certeza sobre los datos o lo que puede suceder. Lo anterior se traduce en que el tomador de decisiones no posee información exacta, medible y confiable de lo que puede suceder, junto con que no conoce las posible consecuencias de cada decisión. Debido a lo anterior, este tipo de decisiones son más complicadas que aquellas que se realizan bajo certidumbre.\n",
    "En estos casos, el tomador de decisiones debido a la incertidumbre y variabilidad que tiene la información presenta un conocimiento limitado y no puede saber a ciencia cierta en que se puede traducir cada una de las decisiones que pueda tomar. Por ejemplo, si ustedes fueran parte del grupo de personas que toma las decisiones en el Servicio de Salud y se encontrara hoy evaluando si aumentar o no la capacidad para el día de mañana en el Hospital San Juan de Dios, no cuenta con información certera para esto, ya que no sabe con certeza de cuantas personas van a llegar al día siguiente. \n",
    "Imagínese que la capacidad del hospital permite atender a 8 personas. Sabiendo esto, podemos estimar la cantidad de pacientes que pueden llegar al día siguiente utilizando el método de la media móvil. Si se utiliza este método se obtiene que llegarían 7 pacientes, lo que se traduce en que podríamos decidir quitar una unidad de capacidad para moverla a otra unidad que lo necesite más. Sin embargo, eso dice el método de la media móvil, pero si utilizamos una regresión nos dice que llegarían 8 pacientes, debiendo mantener la capacidad."
   ]
  },
  {
   "cell_type": "code",
   "execution_count": 66,
   "id": "9a8a74c3",
   "metadata": {},
   "outputs": [
    {
     "data": {
      "text/html": [
       "<div>\n",
       "<style scoped>\n",
       "    .dataframe tbody tr th:only-of-type {\n",
       "        vertical-align: middle;\n",
       "    }\n",
       "\n",
       "    .dataframe tbody tr th {\n",
       "        vertical-align: top;\n",
       "    }\n",
       "\n",
       "    .dataframe thead th {\n",
       "        text-align: right;\n",
       "    }\n",
       "</style>\n",
       "<table border=\"1\" class=\"dataframe\">\n",
       "  <thead>\n",
       "    <tr style=\"text-align: right;\">\n",
       "      <th></th>\n",
       "      <th>Día de llegada</th>\n",
       "      <th>Número de llegada</th>\n",
       "    </tr>\n",
       "  </thead>\n",
       "  <tbody>\n",
       "    <tr>\n",
       "      <th>0</th>\n",
       "      <td>1</td>\n",
       "      <td>4</td>\n",
       "    </tr>\n",
       "    <tr>\n",
       "      <th>1</th>\n",
       "      <td>2</td>\n",
       "      <td>8</td>\n",
       "    </tr>\n",
       "    <tr>\n",
       "      <th>2</th>\n",
       "      <td>3</td>\n",
       "      <td>2</td>\n",
       "    </tr>\n",
       "    <tr>\n",
       "      <th>3</th>\n",
       "      <td>4</td>\n",
       "      <td>10</td>\n",
       "    </tr>\n",
       "    <tr>\n",
       "      <th>4</th>\n",
       "      <td>5</td>\n",
       "      <td>6</td>\n",
       "    </tr>\n",
       "    <tr>\n",
       "      <th>...</th>\n",
       "      <td>...</td>\n",
       "      <td>...</td>\n",
       "    </tr>\n",
       "    <tr>\n",
       "      <th>418</th>\n",
       "      <td>420</td>\n",
       "      <td>8</td>\n",
       "    </tr>\n",
       "    <tr>\n",
       "      <th>419</th>\n",
       "      <td>421</td>\n",
       "      <td>8</td>\n",
       "    </tr>\n",
       "    <tr>\n",
       "      <th>420</th>\n",
       "      <td>422</td>\n",
       "      <td>4</td>\n",
       "    </tr>\n",
       "    <tr>\n",
       "      <th>421</th>\n",
       "      <td>423</td>\n",
       "      <td>8</td>\n",
       "    </tr>\n",
       "    <tr>\n",
       "      <th>422</th>\n",
       "      <td>424</td>\n",
       "      <td>1</td>\n",
       "    </tr>\n",
       "  </tbody>\n",
       "</table>\n",
       "<p>423 rows × 2 columns</p>\n",
       "</div>"
      ],
      "text/plain": [
       "     Día de llegada  Número de llegada\n",
       "0                 1                  4\n",
       "1                 2                  8\n",
       "2                 3                  2\n",
       "3                 4                 10\n",
       "4                 5                  6\n",
       "..              ...                ...\n",
       "418             420                  8\n",
       "419             421                  8\n",
       "420             422                  4\n",
       "421             423                  8\n",
       "422             424                  1\n",
       "\n",
       "[423 rows x 2 columns]"
      ]
     },
     "execution_count": 66,
     "metadata": {},
     "output_type": "execute_result"
    }
   ],
   "source": [
    "SJD = Info_sheet.loc[Info_sheet[\"Hospital al que llega\"]==\"Hospital San Juan de Dios\"]\n",
    "SJD = SJD[[\"Día de llegada\", \"Número de llegada\"]].groupby(\"Día de llegada\").count()\n",
    "SJD = SJD.reset_index()\n",
    "SJD"
   ]
  },
  {
   "cell_type": "code",
   "execution_count": 67,
   "id": "bdd81e6f",
   "metadata": {},
   "outputs": [
    {
     "name": "stdout",
     "output_type": "stream",
     "text": [
      "Llegadas estimadas con media móvil: 7.0\n"
     ]
    }
   ],
   "source": [
    "media_movil = SJD[[\"Número de llegada\"]].tail(10)\n",
    "print(f\"Llegadas estimadas con media móvil: {np.round(media_movil.mean()[0],0)}\")"
   ]
  },
  {
   "cell_type": "code",
   "execution_count": 68,
   "id": "c3c6d0df",
   "metadata": {},
   "outputs": [
    {
     "name": "stdout",
     "output_type": "stream",
     "text": [
      "Llegadas estimadas con regresión: 8.0\n"
     ]
    }
   ],
   "source": [
    "X = SJD[[\"Día de llegada\"]]\n",
    "y = SJD[[\"Número de llegada\"]]\n",
    "regressor = LinearRegression().fit(X, y)\n",
    "prox_llegada = 424*regressor.coef_[0][0]+regressor.intercept_[0]\n",
    "print(f\"Llegadas estimadas con regresión: {np.round(prox_llegada,0)}\")"
   ]
  },
  {
   "cell_type": "markdown",
   "id": "c011cd95",
   "metadata": {},
   "source": [
    "De lo anterior se ve que se presenta incertidumbre en la decisión, ya que no se sabe con certeza que puede pasar y cual puede ser el resultado de nuestra decisión. Por ejemplo si se toma la decisión de sacar una unidad de capacidad y llegan las personas estimadas bajo la regresión, el resultado puede ser muy negativo si esa persona extra llega en un estado grave de salud o leve si esta persona no esta grave. Sin embargo, en cualquier caso, no se sabe que puede pasar con certeza por lo que se puede clasificar como una decisión bajo incertidumbre.  "
   ]
  },
  {
   "cell_type": "markdown",
   "id": "e22ad11a",
   "metadata": {},
   "source": [
    "3. **Riesgo**\n",
    "\n",
    "El riesgo es la consecuencia de la incertidumbre y las decisiones que se tomaron anteriormente. Se puede definir como la probabilidad de que suceda un evento, impacto o consecuencias adversas. Por ejemplo, imagínese que se encuentra en la situación de si agregar o no una cama crítica más en el hospital San Juan de Dios, el cual cuenta con un total de 76 camas críticas y de esas 69 están utilizadas el día de hoy y seguirán utilizadas el día de mañana. Debido a esto, para tomar la decisión usted debería estimar cuantas personas van a llegar mañana, para lo que podría utilizar distintos métodos, como el método ingenuo, media móvil o una regresión y a partir de esto decidir si agregar o no una cama mas. A continuación, se ven los datos del hospital San Juan de Dios y las estimaciones."
   ]
  },
  {
   "cell_type": "code",
   "execution_count": 69,
   "id": "496d6613",
   "metadata": {},
   "outputs": [
    {
     "data": {
      "text/html": [
       "<div>\n",
       "<style scoped>\n",
       "    .dataframe tbody tr th:only-of-type {\n",
       "        vertical-align: middle;\n",
       "    }\n",
       "\n",
       "    .dataframe tbody tr th {\n",
       "        vertical-align: top;\n",
       "    }\n",
       "\n",
       "    .dataframe thead th {\n",
       "        text-align: right;\n",
       "    }\n",
       "</style>\n",
       "<table border=\"1\" class=\"dataframe\">\n",
       "  <thead>\n",
       "    <tr style=\"text-align: right;\">\n",
       "      <th></th>\n",
       "      <th>Nombre Establecimiento</th>\n",
       "      <th>Total Camas Críticas</th>\n",
       "      <th>Costo de instalar una cama [MM$]</th>\n",
       "    </tr>\n",
       "  </thead>\n",
       "  <tbody>\n",
       "    <tr>\n",
       "      <th>3</th>\n",
       "      <td>Hospital San Juan de Dios</td>\n",
       "      <td>76</td>\n",
       "      <td>1066</td>\n",
       "    </tr>\n",
       "  </tbody>\n",
       "</table>\n",
       "</div>"
      ],
      "text/plain": [
       "      Nombre Establecimiento  Total Camas Críticas  \\\n",
       "3  Hospital San Juan de Dios                    76   \n",
       "\n",
       "   Costo de instalar una cama [MM$]  \n",
       "3                              1066  "
      ]
     },
     "execution_count": 69,
     "metadata": {},
     "output_type": "execute_result"
    }
   ],
   "source": [
    "Hosp_sheet[[\"Nombre Establecimiento\", \"Total Camas Críticas\", \"Costo de instalar una cama [MM$]\"]].loc[Hosp_sheet[\"Nombre Establecimiento\"]==\"Hospital San Juan de Dios\"]"
   ]
  },
  {
   "cell_type": "code",
   "execution_count": 70,
   "id": "5159164f",
   "metadata": {},
   "outputs": [
    {
     "data": {
      "text/html": [
       "<div>\n",
       "<style scoped>\n",
       "    .dataframe tbody tr th:only-of-type {\n",
       "        vertical-align: middle;\n",
       "    }\n",
       "\n",
       "    .dataframe tbody tr th {\n",
       "        vertical-align: top;\n",
       "    }\n",
       "\n",
       "    .dataframe thead th {\n",
       "        text-align: right;\n",
       "    }\n",
       "</style>\n",
       "<table border=\"1\" class=\"dataframe\">\n",
       "  <thead>\n",
       "    <tr style=\"text-align: right;\">\n",
       "      <th></th>\n",
       "      <th>Día de llegada</th>\n",
       "      <th>Número de llegada</th>\n",
       "    </tr>\n",
       "  </thead>\n",
       "  <tbody>\n",
       "    <tr>\n",
       "      <th>0</th>\n",
       "      <td>1</td>\n",
       "      <td>4</td>\n",
       "    </tr>\n",
       "    <tr>\n",
       "      <th>1</th>\n",
       "      <td>2</td>\n",
       "      <td>8</td>\n",
       "    </tr>\n",
       "    <tr>\n",
       "      <th>2</th>\n",
       "      <td>3</td>\n",
       "      <td>2</td>\n",
       "    </tr>\n",
       "    <tr>\n",
       "      <th>3</th>\n",
       "      <td>4</td>\n",
       "      <td>10</td>\n",
       "    </tr>\n",
       "    <tr>\n",
       "      <th>4</th>\n",
       "      <td>5</td>\n",
       "      <td>6</td>\n",
       "    </tr>\n",
       "    <tr>\n",
       "      <th>...</th>\n",
       "      <td>...</td>\n",
       "      <td>...</td>\n",
       "    </tr>\n",
       "    <tr>\n",
       "      <th>418</th>\n",
       "      <td>420</td>\n",
       "      <td>8</td>\n",
       "    </tr>\n",
       "    <tr>\n",
       "      <th>419</th>\n",
       "      <td>421</td>\n",
       "      <td>8</td>\n",
       "    </tr>\n",
       "    <tr>\n",
       "      <th>420</th>\n",
       "      <td>422</td>\n",
       "      <td>4</td>\n",
       "    </tr>\n",
       "    <tr>\n",
       "      <th>421</th>\n",
       "      <td>423</td>\n",
       "      <td>8</td>\n",
       "    </tr>\n",
       "    <tr>\n",
       "      <th>422</th>\n",
       "      <td>424</td>\n",
       "      <td>1</td>\n",
       "    </tr>\n",
       "  </tbody>\n",
       "</table>\n",
       "<p>423 rows × 2 columns</p>\n",
       "</div>"
      ],
      "text/plain": [
       "     Día de llegada  Número de llegada\n",
       "0                 1                  4\n",
       "1                 2                  8\n",
       "2                 3                  2\n",
       "3                 4                 10\n",
       "4                 5                  6\n",
       "..              ...                ...\n",
       "418             420                  8\n",
       "419             421                  8\n",
       "420             422                  4\n",
       "421             423                  8\n",
       "422             424                  1\n",
       "\n",
       "[423 rows x 2 columns]"
      ]
     },
     "execution_count": 70,
     "metadata": {},
     "output_type": "execute_result"
    }
   ],
   "source": [
    "SJD2 = Info_sheet.loc[Info_sheet[\"Hospital al que llega\"]==\"Hospital San Juan de Dios\"]\n",
    "SJD2 = SJD2[[\"Día de llegada\", \"Número de llegada\"]].groupby(\"Día de llegada\").count()\n",
    "SJD2 = SJD2.reset_index()\n",
    "SJD2"
   ]
  },
  {
   "cell_type": "code",
   "execution_count": 71,
   "id": "66f76900",
   "metadata": {},
   "outputs": [
    {
     "name": "stdout",
     "output_type": "stream",
     "text": [
      "Llegadas estimadas para el día 424: 1\n"
     ]
    }
   ],
   "source": [
    "last = SJD2[\"Número de llegada\"].tail(1)[422]\n",
    "print(f\"Llegadas estimadas para el día 424: {last}\")"
   ]
  },
  {
   "cell_type": "code",
   "execution_count": 72,
   "id": "faa7ddba",
   "metadata": {},
   "outputs": [
    {
     "name": "stdout",
     "output_type": "stream",
     "text": [
      "Llegadas estimadas con media móvil: 7.0\n"
     ]
    }
   ],
   "source": [
    "media_movil = SJD2[[\"Número de llegada\"]].tail(10)\n",
    "print(f\"Llegadas estimadas con media móvil: {np.round(media_movil.mean()[0],0)}\")"
   ]
  },
  {
   "cell_type": "code",
   "execution_count": 73,
   "id": "b96e09a4",
   "metadata": {},
   "outputs": [
    {
     "name": "stdout",
     "output_type": "stream",
     "text": [
      "Llegadas estimadas con regresión: 8.0\n"
     ]
    }
   ],
   "source": [
    "X = SJD2[[\"Día de llegada\"]]\n",
    "y = SJD2[[\"Número de llegada\"]]\n",
    "regressor = LinearRegression().fit(X, y)\n",
    "prox_llegada = 424*regressor.coef_[0][0]+regressor.intercept_[0]\n",
    "print(f\"Llegadas estimadas con regresión: {np.round(prox_llegada,0)}\")"
   ]
  },
  {
   "cell_type": "markdown",
   "id": "a2241fbc",
   "metadata": {},
   "source": [
    "Luego, si nuestras decisión se basara solamente en las estimaciones que se obtienen mediante los primeros dos métodos, no se necesitaría una cama, ya que en el primer caso se utilizarían 70 camas y en el segundo las 76 con las que se cuenta. Sin embargo, si llegaran 8 personas como se estimó con la regresión no podríamos atenderla. \n",
    "\n",
    "El riesgo en esta situación depende de la decisión. En caso de agregar la cama y que efectivamente no lleguen más de 7 pacientes, el efecto adverso sería el de haber gastado 1066 [MM$] de manera innecesaria. En el caso de no instalar la cama y que llegaran 8 pacientes, el riesgo sería no poder atender a un paciente que puede llegar en estado crítico. Finalmente, para tomar las decisiones se deben ponderar estos factores para tratar de minimizar los efecto adversos en una situación de incertidumbre.\n"
   ]
  },
  {
   "cell_type": "markdown",
   "id": "918f0e26",
   "metadata": {},
   "source": [
    "**Pregunta 1**\n",
    "\n",
    "En base a la información entregada sobre el Servicio de Salud Metropolitano -en el archivo Datos.xls-, indique cuál o cuáles de las siguientes alternativas corresponde o corresponden a una decisión bajo certidumbre.\n",
    "\n",
    "1. Determinar la cantidad de camas críticas necesarias para responder a la llegada de pacientes del próximo semestre.\n",
    "2. Determinar qué hospital de cada servicio de salud debe ser ampliado en 1 cama si se quiere incurrir en el menor costo de instalación total.\n",
    "3. Determinar qué servicios de salud pueden ser ampliados en 22 camas.\n",
    "4. Determinar a qué hospital de cada servicio de salud se deben agregar 5 camas para reducir el costo promedio diario de atención de pacientes del mes siguiente a su instalación.\n",
    "\n",
    "Las alternativas correctas son las (2) y (3). La alternativa (1) es bajo incertidumbre ya que no sabemos cuántos pacientes llegarán el próximo semestre. La alternativa (4) es bajo incertidumbre, ya que no se sabe cuántos pacientes llegarán ni de qué GRD serán el mes siguiente de la instalación de estas camas nuevas. \n",
    "\n",
    "La alternativa (2) es correcta porque se puede determinar con la información existente, tal como se muestra en el siguiente código."
   ]
  },
  {
   "cell_type": "code",
   "execution_count": 74,
   "id": "1ca87b22",
   "metadata": {},
   "outputs": [
    {
     "data": {
      "text/html": [
       "<div>\n",
       "<style scoped>\n",
       "    .dataframe tbody tr th:only-of-type {\n",
       "        vertical-align: middle;\n",
       "    }\n",
       "\n",
       "    .dataframe tbody tr th {\n",
       "        vertical-align: top;\n",
       "    }\n",
       "\n",
       "    .dataframe thead th {\n",
       "        text-align: right;\n",
       "    }\n",
       "</style>\n",
       "<table border=\"1\" class=\"dataframe\">\n",
       "  <thead>\n",
       "    <tr style=\"text-align: right;\">\n",
       "      <th></th>\n",
       "      <th>Nombre Servicio de Salud</th>\n",
       "      <th>Costo de instalar una cama [MM$]</th>\n",
       "    </tr>\n",
       "  </thead>\n",
       "  <tbody>\n",
       "    <tr>\n",
       "      <th>0</th>\n",
       "      <td>Metropolitano Central                         ...</td>\n",
       "      <td>1256</td>\n",
       "    </tr>\n",
       "    <tr>\n",
       "      <th>1</th>\n",
       "      <td>Metropolitano Norte                           ...</td>\n",
       "      <td>1407</td>\n",
       "    </tr>\n",
       "    <tr>\n",
       "      <th>2</th>\n",
       "      <td>Metropolitano Occidente                       ...</td>\n",
       "      <td>1066</td>\n",
       "    </tr>\n",
       "    <tr>\n",
       "      <th>3</th>\n",
       "      <td>Metropolitano Oriente                         ...</td>\n",
       "      <td>1056</td>\n",
       "    </tr>\n",
       "    <tr>\n",
       "      <th>4</th>\n",
       "      <td>Metropolitano Sur                             ...</td>\n",
       "      <td>1051</td>\n",
       "    </tr>\n",
       "    <tr>\n",
       "      <th>5</th>\n",
       "      <td>Metropolitano Sur Oriente                     ...</td>\n",
       "      <td>1028</td>\n",
       "    </tr>\n",
       "  </tbody>\n",
       "</table>\n",
       "</div>"
      ],
      "text/plain": [
       "                            Nombre Servicio de Salud  \\\n",
       "0  Metropolitano Central                         ...   \n",
       "1  Metropolitano Norte                           ...   \n",
       "2  Metropolitano Occidente                       ...   \n",
       "3  Metropolitano Oriente                         ...   \n",
       "4  Metropolitano Sur                             ...   \n",
       "5  Metropolitano Sur Oriente                     ...   \n",
       "\n",
       "   Costo de instalar una cama [MM$]  \n",
       "0                              1256  \n",
       "1                              1407  \n",
       "2                              1066  \n",
       "3                              1056  \n",
       "4                              1051  \n",
       "5                              1028  "
      ]
     },
     "execution_count": 74,
     "metadata": {},
     "output_type": "execute_result"
    }
   ],
   "source": [
    "SS2 = Hosp_sheet[[\"Nombre Servicio de Salud\", \"Costo de instalar una cama [MM$]\"]].groupby(\"Nombre Servicio de Salud\").min()\n",
    "SS2 = SS2.reset_index()\n",
    "SS2"
   ]
  },
  {
   "cell_type": "code",
   "execution_count": 108,
   "id": "7008a3a3",
   "metadata": {},
   "outputs": [],
   "source": [
    "l1 = list(SS2[\"Costo de instalar una cama [MM$]\"])\n",
    "l2 = list(SS2[\"Nombre Servicio de Salud\"])"
   ]
  },
  {
   "cell_type": "code",
   "execution_count": 76,
   "id": "8a8e024c",
   "metadata": {},
   "outputs": [
    {
     "data": {
      "text/html": [
       "<div>\n",
       "<style scoped>\n",
       "    .dataframe tbody tr th:only-of-type {\n",
       "        vertical-align: middle;\n",
       "    }\n",
       "\n",
       "    .dataframe tbody tr th {\n",
       "        vertical-align: top;\n",
       "    }\n",
       "\n",
       "    .dataframe thead th {\n",
       "        text-align: right;\n",
       "    }\n",
       "</style>\n",
       "<table border=\"1\" class=\"dataframe\">\n",
       "  <thead>\n",
       "    <tr style=\"text-align: right;\">\n",
       "      <th></th>\n",
       "      <th>Nombre Servicio de Salud</th>\n",
       "      <th>Costo de instalar una cama [MM$]</th>\n",
       "      <th>Nombre Establecimiento</th>\n",
       "    </tr>\n",
       "  </thead>\n",
       "  <tbody>\n",
       "    <tr>\n",
       "      <th>6</th>\n",
       "      <td>Metropolitano Central                         ...</td>\n",
       "      <td>1256</td>\n",
       "      <td>Hospital de Urgencia Asistencia Pública Dr. Al...</td>\n",
       "    </tr>\n",
       "  </tbody>\n",
       "</table>\n",
       "</div>"
      ],
      "text/plain": [
       "                            Nombre Servicio de Salud  \\\n",
       "6  Metropolitano Central                         ...   \n",
       "\n",
       "   Costo de instalar una cama [MM$]  \\\n",
       "6                              1256   \n",
       "\n",
       "                              Nombre Establecimiento  \n",
       "6  Hospital de Urgencia Asistencia Pública Dr. Al...  "
      ]
     },
     "execution_count": 76,
     "metadata": {},
     "output_type": "execute_result"
    }
   ],
   "source": [
    "Hosp_sheet[[\"Nombre Servicio de Salud\", \"Costo de instalar una cama [MM$]\",\"Nombre Establecimiento\"]].loc[(Hosp_sheet[\"Nombre Servicio de Salud\"] == l2[0]) & (Hosp_sheet[\"Costo de instalar una cama [MM$]\"] == l1[0])]"
   ]
  },
  {
   "cell_type": "code",
   "execution_count": 77,
   "id": "f1ee9090",
   "metadata": {},
   "outputs": [
    {
     "data": {
      "text/html": [
       "<div>\n",
       "<style scoped>\n",
       "    .dataframe tbody tr th:only-of-type {\n",
       "        vertical-align: middle;\n",
       "    }\n",
       "\n",
       "    .dataframe tbody tr th {\n",
       "        vertical-align: top;\n",
       "    }\n",
       "\n",
       "    .dataframe thead th {\n",
       "        text-align: right;\n",
       "    }\n",
       "</style>\n",
       "<table border=\"1\" class=\"dataframe\">\n",
       "  <thead>\n",
       "    <tr style=\"text-align: right;\">\n",
       "      <th></th>\n",
       "      <th>Nombre Servicio de Salud</th>\n",
       "      <th>Costo de instalar una cama [MM$]</th>\n",
       "      <th>Nombre Establecimiento</th>\n",
       "    </tr>\n",
       "  </thead>\n",
       "  <tbody>\n",
       "    <tr>\n",
       "      <th>0</th>\n",
       "      <td>Metropolitano Norte                           ...</td>\n",
       "      <td>1407</td>\n",
       "      <td>Complejo Hospitalario San José</td>\n",
       "    </tr>\n",
       "  </tbody>\n",
       "</table>\n",
       "</div>"
      ],
      "text/plain": [
       "                            Nombre Servicio de Salud  \\\n",
       "0  Metropolitano Norte                           ...   \n",
       "\n",
       "   Costo de instalar una cama [MM$]          Nombre Establecimiento  \n",
       "0                              1407  Complejo Hospitalario San José  "
      ]
     },
     "execution_count": 77,
     "metadata": {},
     "output_type": "execute_result"
    }
   ],
   "source": [
    "Hosp_sheet[[\"Nombre Servicio de Salud\", \"Costo de instalar una cama [MM$]\",\"Nombre Establecimiento\"]].loc[(Hosp_sheet[\"Nombre Servicio de Salud\"] == l2[1]) & (Hosp_sheet[\"Costo de instalar una cama [MM$]\"] == l1[1])]"
   ]
  },
  {
   "cell_type": "code",
   "execution_count": 78,
   "id": "3f99777f",
   "metadata": {},
   "outputs": [
    {
     "data": {
      "text/html": [
       "<div>\n",
       "<style scoped>\n",
       "    .dataframe tbody tr th:only-of-type {\n",
       "        vertical-align: middle;\n",
       "    }\n",
       "\n",
       "    .dataframe tbody tr th {\n",
       "        vertical-align: top;\n",
       "    }\n",
       "\n",
       "    .dataframe thead th {\n",
       "        text-align: right;\n",
       "    }\n",
       "</style>\n",
       "<table border=\"1\" class=\"dataframe\">\n",
       "  <thead>\n",
       "    <tr style=\"text-align: right;\">\n",
       "      <th></th>\n",
       "      <th>Nombre Servicio de Salud</th>\n",
       "      <th>Costo de instalar una cama [MM$]</th>\n",
       "      <th>Nombre Establecimiento</th>\n",
       "    </tr>\n",
       "  </thead>\n",
       "  <tbody>\n",
       "    <tr>\n",
       "      <th>3</th>\n",
       "      <td>Metropolitano Occidente                       ...</td>\n",
       "      <td>1066</td>\n",
       "      <td>Hospital San Juan de Dios</td>\n",
       "    </tr>\n",
       "  </tbody>\n",
       "</table>\n",
       "</div>"
      ],
      "text/plain": [
       "                            Nombre Servicio de Salud  \\\n",
       "3  Metropolitano Occidente                       ...   \n",
       "\n",
       "   Costo de instalar una cama [MM$]     Nombre Establecimiento  \n",
       "3                              1066  Hospital San Juan de Dios  "
      ]
     },
     "execution_count": 78,
     "metadata": {},
     "output_type": "execute_result"
    }
   ],
   "source": [
    "Hosp_sheet[[\"Nombre Servicio de Salud\", \"Costo de instalar una cama [MM$]\",\"Nombre Establecimiento\"]].loc[(Hosp_sheet[\"Nombre Servicio de Salud\"] == l2[2]) & (Hosp_sheet[\"Costo de instalar una cama [MM$]\"] == l1[2])]"
   ]
  },
  {
   "cell_type": "code",
   "execution_count": 79,
   "id": "f4a8bfaf",
   "metadata": {},
   "outputs": [
    {
     "data": {
      "text/html": [
       "<div>\n",
       "<style scoped>\n",
       "    .dataframe tbody tr th:only-of-type {\n",
       "        vertical-align: middle;\n",
       "    }\n",
       "\n",
       "    .dataframe tbody tr th {\n",
       "        vertical-align: top;\n",
       "    }\n",
       "\n",
       "    .dataframe thead th {\n",
       "        text-align: right;\n",
       "    }\n",
       "</style>\n",
       "<table border=\"1\" class=\"dataframe\">\n",
       "  <thead>\n",
       "    <tr style=\"text-align: right;\">\n",
       "      <th></th>\n",
       "      <th>Nombre Servicio de Salud</th>\n",
       "      <th>Costo de instalar una cama [MM$]</th>\n",
       "      <th>Nombre Establecimiento</th>\n",
       "    </tr>\n",
       "  </thead>\n",
       "  <tbody>\n",
       "    <tr>\n",
       "      <th>9</th>\n",
       "      <td>Metropolitano Oriente                         ...</td>\n",
       "      <td>1056</td>\n",
       "      <td>Hospital Dr. Luis Tisné B.</td>\n",
       "    </tr>\n",
       "  </tbody>\n",
       "</table>\n",
       "</div>"
      ],
      "text/plain": [
       "                            Nombre Servicio de Salud  \\\n",
       "9  Metropolitano Oriente                         ...   \n",
       "\n",
       "   Costo de instalar una cama [MM$]      Nombre Establecimiento  \n",
       "9                              1056  Hospital Dr. Luis Tisné B.  "
      ]
     },
     "execution_count": 79,
     "metadata": {},
     "output_type": "execute_result"
    }
   ],
   "source": [
    "Hosp_sheet[[\"Nombre Servicio de Salud\", \"Costo de instalar una cama [MM$]\",\"Nombre Establecimiento\"]].loc[(Hosp_sheet[\"Nombre Servicio de Salud\"] == l2[3]) & (Hosp_sheet[\"Costo de instalar una cama [MM$]\"] == l1[3])]"
   ]
  },
  {
   "cell_type": "code",
   "execution_count": 80,
   "id": "579c482f",
   "metadata": {},
   "outputs": [
    {
     "data": {
      "text/html": [
       "<div>\n",
       "<style scoped>\n",
       "    .dataframe tbody tr th:only-of-type {\n",
       "        vertical-align: middle;\n",
       "    }\n",
       "\n",
       "    .dataframe tbody tr th {\n",
       "        vertical-align: top;\n",
       "    }\n",
       "\n",
       "    .dataframe thead th {\n",
       "        text-align: right;\n",
       "    }\n",
       "</style>\n",
       "<table border=\"1\" class=\"dataframe\">\n",
       "  <thead>\n",
       "    <tr style=\"text-align: right;\">\n",
       "      <th></th>\n",
       "      <th>Nombre Servicio de Salud</th>\n",
       "      <th>Costo de instalar una cama [MM$]</th>\n",
       "      <th>Nombre Establecimiento</th>\n",
       "    </tr>\n",
       "  </thead>\n",
       "  <tbody>\n",
       "    <tr>\n",
       "      <th>16</th>\n",
       "      <td>Metropolitano Sur                             ...</td>\n",
       "      <td>1051</td>\n",
       "      <td>Hospital Parroquial de San Bernardo</td>\n",
       "    </tr>\n",
       "  </tbody>\n",
       "</table>\n",
       "</div>"
      ],
      "text/plain": [
       "                             Nombre Servicio de Salud  \\\n",
       "16  Metropolitano Sur                             ...   \n",
       "\n",
       "    Costo de instalar una cama [MM$]  \\\n",
       "16                              1051   \n",
       "\n",
       "                       Nombre Establecimiento  \n",
       "16  Hospital Parroquial de San Bernardo        "
      ]
     },
     "execution_count": 80,
     "metadata": {},
     "output_type": "execute_result"
    }
   ],
   "source": [
    "Hosp_sheet[[\"Nombre Servicio de Salud\", \"Costo de instalar una cama [MM$]\",\"Nombre Establecimiento\"]].loc[(Hosp_sheet[\"Nombre Servicio de Salud\"] == l2[4]) & (Hosp_sheet[\"Costo de instalar una cama [MM$]\"] == l1[4])]"
   ]
  },
  {
   "cell_type": "code",
   "execution_count": 81,
   "id": "b221b518",
   "metadata": {},
   "outputs": [
    {
     "data": {
      "text/html": [
       "<div>\n",
       "<style scoped>\n",
       "    .dataframe tbody tr th:only-of-type {\n",
       "        vertical-align: middle;\n",
       "    }\n",
       "\n",
       "    .dataframe tbody tr th {\n",
       "        vertical-align: top;\n",
       "    }\n",
       "\n",
       "    .dataframe thead th {\n",
       "        text-align: right;\n",
       "    }\n",
       "</style>\n",
       "<table border=\"1\" class=\"dataframe\">\n",
       "  <thead>\n",
       "    <tr style=\"text-align: right;\">\n",
       "      <th></th>\n",
       "      <th>Nombre Servicio de Salud</th>\n",
       "      <th>Costo de instalar una cama [MM$]</th>\n",
       "      <th>Nombre Establecimiento</th>\n",
       "    </tr>\n",
       "  </thead>\n",
       "  <tbody>\n",
       "    <tr>\n",
       "      <th>18</th>\n",
       "      <td>Metropolitano Sur Oriente                     ...</td>\n",
       "      <td>1028</td>\n",
       "      <td>Hospital Clínico de la Florida</td>\n",
       "    </tr>\n",
       "  </tbody>\n",
       "</table>\n",
       "</div>"
      ],
      "text/plain": [
       "                             Nombre Servicio de Salud  \\\n",
       "18  Metropolitano Sur Oriente                     ...   \n",
       "\n",
       "    Costo de instalar una cama [MM$]          Nombre Establecimiento  \n",
       "18                              1028  Hospital Clínico de la Florida  "
      ]
     },
     "execution_count": 81,
     "metadata": {},
     "output_type": "execute_result"
    }
   ],
   "source": [
    "Hosp_sheet[[\"Nombre Servicio de Salud\", \"Costo de instalar una cama [MM$]\",\"Nombre Establecimiento\"]].loc[(Hosp_sheet[\"Nombre Servicio de Salud\"] == l2[5]) & (Hosp_sheet[\"Costo de instalar una cama [MM$]\"] == l1[5])]"
   ]
  },
  {
   "cell_type": "markdown",
   "id": "6b2ca699",
   "metadata": {},
   "source": [
    "La alternativa (3) es correcta porque se puede determinar con la información existente, tal como se muestra en el siguiente código."
   ]
  },
  {
   "cell_type": "code",
   "execution_count": 82,
   "id": "1ad1671b",
   "metadata": {},
   "outputs": [
    {
     "data": {
      "text/html": [
       "<div>\n",
       "<style scoped>\n",
       "    .dataframe tbody tr th:only-of-type {\n",
       "        vertical-align: middle;\n",
       "    }\n",
       "\n",
       "    .dataframe tbody tr th {\n",
       "        vertical-align: top;\n",
       "    }\n",
       "\n",
       "    .dataframe thead th {\n",
       "        text-align: right;\n",
       "    }\n",
       "</style>\n",
       "<table border=\"1\" class=\"dataframe\">\n",
       "  <thead>\n",
       "    <tr style=\"text-align: right;\">\n",
       "      <th></th>\n",
       "      <th>Máxima cantidad de camas a aumetar</th>\n",
       "    </tr>\n",
       "    <tr>\n",
       "      <th>Nombre Servicio de Salud</th>\n",
       "      <th></th>\n",
       "    </tr>\n",
       "  </thead>\n",
       "  <tbody>\n",
       "    <tr>\n",
       "      <th>Metropolitano Central</th>\n",
       "      <td>24</td>\n",
       "    </tr>\n",
       "    <tr>\n",
       "      <th>Metropolitano Norte</th>\n",
       "      <td>10</td>\n",
       "    </tr>\n",
       "    <tr>\n",
       "      <th>Metropolitano Occidente</th>\n",
       "      <td>45</td>\n",
       "    </tr>\n",
       "    <tr>\n",
       "      <th>Metropolitano Oriente</th>\n",
       "      <td>43</td>\n",
       "    </tr>\n",
       "    <tr>\n",
       "      <th>Metropolitano Sur</th>\n",
       "      <td>48</td>\n",
       "    </tr>\n",
       "    <tr>\n",
       "      <th>Metropolitano Sur Oriente</th>\n",
       "      <td>27</td>\n",
       "    </tr>\n",
       "  </tbody>\n",
       "</table>\n",
       "</div>"
      ],
      "text/plain": [
       "                                                    Máxima cantidad de camas a aumetar\n",
       "Nombre Servicio de Salud                                                              \n",
       "Metropolitano Central                                                               24\n",
       "Metropolitano Norte                                                                 10\n",
       "Metropolitano Occidente                                                             45\n",
       "Metropolitano Oriente                                                               43\n",
       "Metropolitano Sur                                                                   48\n",
       "Metropolitano Sur Oriente                                                           27"
      ]
     },
     "execution_count": 82,
     "metadata": {},
     "output_type": "execute_result"
    }
   ],
   "source": [
    "SS3 = Hosp_sheet[[\"Nombre Servicio de Salud\", \"Máxima cantidad de camas a aumetar\"]].groupby(\"Nombre Servicio de Salud\").sum()\n",
    "SS3"
   ]
  },
  {
   "cell_type": "markdown",
   "id": "ae60398b",
   "metadata": {},
   "source": [
    "Luego, para que se puedan instalar 22 camas, se necesita que sea posible aumentar en 22 o más en ese servicio de salud."
   ]
  },
  {
   "cell_type": "code",
   "execution_count": 83,
   "id": "2dca70fa",
   "metadata": {},
   "outputs": [
    {
     "data": {
      "text/html": [
       "<div>\n",
       "<style scoped>\n",
       "    .dataframe tbody tr th:only-of-type {\n",
       "        vertical-align: middle;\n",
       "    }\n",
       "\n",
       "    .dataframe tbody tr th {\n",
       "        vertical-align: top;\n",
       "    }\n",
       "\n",
       "    .dataframe thead th {\n",
       "        text-align: right;\n",
       "    }\n",
       "</style>\n",
       "<table border=\"1\" class=\"dataframe\">\n",
       "  <thead>\n",
       "    <tr style=\"text-align: right;\">\n",
       "      <th></th>\n",
       "      <th>Máxima cantidad de camas a aumetar</th>\n",
       "    </tr>\n",
       "    <tr>\n",
       "      <th>Nombre Servicio de Salud</th>\n",
       "      <th></th>\n",
       "    </tr>\n",
       "  </thead>\n",
       "  <tbody>\n",
       "    <tr>\n",
       "      <th>Metropolitano Central</th>\n",
       "      <td>24</td>\n",
       "    </tr>\n",
       "    <tr>\n",
       "      <th>Metropolitano Occidente</th>\n",
       "      <td>45</td>\n",
       "    </tr>\n",
       "    <tr>\n",
       "      <th>Metropolitano Oriente</th>\n",
       "      <td>43</td>\n",
       "    </tr>\n",
       "    <tr>\n",
       "      <th>Metropolitano Sur</th>\n",
       "      <td>48</td>\n",
       "    </tr>\n",
       "    <tr>\n",
       "      <th>Metropolitano Sur Oriente</th>\n",
       "      <td>27</td>\n",
       "    </tr>\n",
       "  </tbody>\n",
       "</table>\n",
       "</div>"
      ],
      "text/plain": [
       "                                                    Máxima cantidad de camas a aumetar\n",
       "Nombre Servicio de Salud                                                              \n",
       "Metropolitano Central                                                               24\n",
       "Metropolitano Occidente                                                             45\n",
       "Metropolitano Oriente                                                               43\n",
       "Metropolitano Sur                                                                   48\n",
       "Metropolitano Sur Oriente                                                           27"
      ]
     },
     "execution_count": 83,
     "metadata": {},
     "output_type": "execute_result"
    }
   ],
   "source": [
    "SS3.loc[SS3[\"Máxima cantidad de camas a aumetar\"]>=22]"
   ]
  },
  {
   "cell_type": "markdown",
   "id": "8787d300-c30e-490a-b14c-844148aafece",
   "metadata": {},
   "source": [
    "**Decisiones bajo incertidumbre**\n",
    "\n",
    "**Ejemplo**\n",
    "\n",
    "¿Cuánto personal se necesitará mañana para atender los pacientes que llegan al Hospital San Juan de Dios?\n",
    "\n",
    "**Usando la Media Móvil**\n"
   ]
  },
  {
   "cell_type": "code",
   "execution_count": 110,
   "id": "15ec81c3-0676-45ff-99b7-9f672f5136d5",
   "metadata": {},
   "outputs": [
    {
     "data": {
      "text/html": [
       "<div>\n",
       "<style scoped>\n",
       "    .dataframe tbody tr th:only-of-type {\n",
       "        vertical-align: middle;\n",
       "    }\n",
       "\n",
       "    .dataframe tbody tr th {\n",
       "        vertical-align: top;\n",
       "    }\n",
       "\n",
       "    .dataframe thead th {\n",
       "        text-align: right;\n",
       "    }\n",
       "</style>\n",
       "<table border=\"1\" class=\"dataframe\">\n",
       "  <thead>\n",
       "    <tr style=\"text-align: right;\">\n",
       "      <th></th>\n",
       "      <th>Día de llegada</th>\n",
       "      <th>Número de llegada</th>\n",
       "    </tr>\n",
       "  </thead>\n",
       "  <tbody>\n",
       "    <tr>\n",
       "      <th>0</th>\n",
       "      <td>1</td>\n",
       "      <td>4</td>\n",
       "    </tr>\n",
       "    <tr>\n",
       "      <th>1</th>\n",
       "      <td>2</td>\n",
       "      <td>8</td>\n",
       "    </tr>\n",
       "    <tr>\n",
       "      <th>2</th>\n",
       "      <td>3</td>\n",
       "      <td>2</td>\n",
       "    </tr>\n",
       "    <tr>\n",
       "      <th>3</th>\n",
       "      <td>4</td>\n",
       "      <td>10</td>\n",
       "    </tr>\n",
       "    <tr>\n",
       "      <th>4</th>\n",
       "      <td>5</td>\n",
       "      <td>6</td>\n",
       "    </tr>\n",
       "    <tr>\n",
       "      <th>...</th>\n",
       "      <td>...</td>\n",
       "      <td>...</td>\n",
       "    </tr>\n",
       "    <tr>\n",
       "      <th>418</th>\n",
       "      <td>420</td>\n",
       "      <td>8</td>\n",
       "    </tr>\n",
       "    <tr>\n",
       "      <th>419</th>\n",
       "      <td>421</td>\n",
       "      <td>8</td>\n",
       "    </tr>\n",
       "    <tr>\n",
       "      <th>420</th>\n",
       "      <td>422</td>\n",
       "      <td>4</td>\n",
       "    </tr>\n",
       "    <tr>\n",
       "      <th>421</th>\n",
       "      <td>423</td>\n",
       "      <td>8</td>\n",
       "    </tr>\n",
       "    <tr>\n",
       "      <th>422</th>\n",
       "      <td>424</td>\n",
       "      <td>1</td>\n",
       "    </tr>\n",
       "  </tbody>\n",
       "</table>\n",
       "<p>423 rows × 2 columns</p>\n",
       "</div>"
      ],
      "text/plain": [
       "     Día de llegada  Número de llegada\n",
       "0                 1                  4\n",
       "1                 2                  8\n",
       "2                 3                  2\n",
       "3                 4                 10\n",
       "4                 5                  6\n",
       "..              ...                ...\n",
       "418             420                  8\n",
       "419             421                  8\n",
       "420             422                  4\n",
       "421             423                  8\n",
       "422             424                  1\n",
       "\n",
       "[423 rows x 2 columns]"
      ]
     },
     "execution_count": 110,
     "metadata": {},
     "output_type": "execute_result"
    }
   ],
   "source": [
    "SJD=Info_sheet.loc[Info_sheet['Hospital al que llega']=='Hospital San Juan de Dios']\n",
    "SJD=SJD[['Día de llegada', 'Número de llegada']].groupby('Día de llegada').count()\n",
    "SJD=SJD.reset_index()\n",
    "SJD"
   ]
  },
  {
   "cell_type": "code",
   "execution_count": 112,
   "id": "b0e6e136-40e2-495c-809d-34de626ac860",
   "metadata": {},
   "outputs": [
    {
     "name": "stdout",
     "output_type": "stream",
     "text": [
      "Llegadas estimadas con media móvil:7.0\n"
     ]
    },
    {
     "data": {
      "text/html": [
       "<div>\n",
       "<style scoped>\n",
       "    .dataframe tbody tr th:only-of-type {\n",
       "        vertical-align: middle;\n",
       "    }\n",
       "\n",
       "    .dataframe tbody tr th {\n",
       "        vertical-align: top;\n",
       "    }\n",
       "\n",
       "    .dataframe thead th {\n",
       "        text-align: right;\n",
       "    }\n",
       "</style>\n",
       "<table border=\"1\" class=\"dataframe\">\n",
       "  <thead>\n",
       "    <tr style=\"text-align: right;\">\n",
       "      <th></th>\n",
       "      <th>Número de llegada</th>\n",
       "    </tr>\n",
       "  </thead>\n",
       "  <tbody>\n",
       "    <tr>\n",
       "      <th>413</th>\n",
       "      <td>11</td>\n",
       "    </tr>\n",
       "    <tr>\n",
       "      <th>414</th>\n",
       "      <td>6</td>\n",
       "    </tr>\n",
       "    <tr>\n",
       "      <th>415</th>\n",
       "      <td>5</td>\n",
       "    </tr>\n",
       "    <tr>\n",
       "      <th>416</th>\n",
       "      <td>8</td>\n",
       "    </tr>\n",
       "    <tr>\n",
       "      <th>417</th>\n",
       "      <td>8</td>\n",
       "    </tr>\n",
       "    <tr>\n",
       "      <th>418</th>\n",
       "      <td>8</td>\n",
       "    </tr>\n",
       "    <tr>\n",
       "      <th>419</th>\n",
       "      <td>8</td>\n",
       "    </tr>\n",
       "    <tr>\n",
       "      <th>420</th>\n",
       "      <td>4</td>\n",
       "    </tr>\n",
       "    <tr>\n",
       "      <th>421</th>\n",
       "      <td>8</td>\n",
       "    </tr>\n",
       "    <tr>\n",
       "      <th>422</th>\n",
       "      <td>1</td>\n",
       "    </tr>\n",
       "  </tbody>\n",
       "</table>\n",
       "</div>"
      ],
      "text/plain": [
       "     Número de llegada\n",
       "413                 11\n",
       "414                  6\n",
       "415                  5\n",
       "416                  8\n",
       "417                  8\n",
       "418                  8\n",
       "419                  8\n",
       "420                  4\n",
       "421                  8\n",
       "422                  1"
      ]
     },
     "execution_count": 112,
     "metadata": {},
     "output_type": "execute_result"
    }
   ],
   "source": [
    "media_movil=SJD[['Número de llegada']].tail(10)\n",
    "print(f'Llegadas estimadas con media móvil:{np.round(media_movil.mean()[0],0)}')\n",
    "media_movil"
   ]
  },
  {
   "cell_type": "markdown",
   "id": "9eb0fb02-2ff6-4838-bbd2-4d5860726f4b",
   "metadata": {},
   "source": [
    "**Usando la regresión simple**\n"
   ]
  },
  {
   "cell_type": "code",
   "execution_count": 113,
   "id": "931d0f69-bdf3-4fce-b6ca-9227e2009d1b",
   "metadata": {},
   "outputs": [
    {
     "name": "stdout",
     "output_type": "stream",
     "text": [
      "Llegadas estimadas con regresión: 8.0\n"
     ]
    }
   ],
   "source": [
    "x=SJD[['Día de llegada']]\n",
    "y=SJD[['Número de llegada']]\n",
    "regressor=LinearRegression().fit(x,y)\n",
    "prox_llegada=424*regressor.coef_[0][0]+regressor.intercept_[0]\n",
    "print(f'Llegadas estimadas con regresión: {np.round(prox_llegada,0)}')"
   ]
  },
  {
   "cell_type": "markdown",
   "id": "0163fa40-b874-4a21-a50f-c2e9ba20b454",
   "metadata": {},
   "source": [
    "**Pregunta2**\n",
    "\n",
    "Considere que acaba de llegar un paciente con GRD1 al hospital San José y que, quedando una cama disponible, la administración lo ha derivado a una clínica privada. Si ese día y los 9 días siguientes no llegó ningún otro paciente a ese hospital y este paciente derivado estuvo hospitalizado 10 días, ¿cuál de las siguientes alternativas corresponde al costo asociado al riesgo de la decisión de derivación tomada medido en MM$?"
   ]
  },
  {
   "cell_type": "code",
   "execution_count": 133,
   "id": "221e4905-35d5-4a7c-8fc1-25b96f093c93",
   "metadata": {},
   "outputs": [
    {
     "name": "stdout",
     "output_type": "stream",
     "text": [
      "El costo asociado al riesgo de la decisión de derivación tomada medido es 5.93 [MM$].\n",
      "La decisión de derivación le costo al hospital: 1.99 [MM$].\n"
     ]
    }
   ],
   "source": [
    "costoResolucionGRD1=GRD_sheet.loc[GRD_sheet['ID GRD']=='GRD1']\n",
    "costoDiarioGRD1=Hosp_sheet.loc[Hosp_sheet['Nombre Establecimiento']=='Complejo Hospitalario San José']\n",
    "costoAsociadoAlRiesgo=10*costoDiarioGRD1['Cost_GRD1'][0]\n",
    "print(f'El costo asociado al riesgo de la decisión de derivación tomada medido es {costoAsociadoAlRiesgo} [MM$].')\n",
    "print(f\"La decisión de derivación le costo al hospital: {np.round(costoResolucionGRD1['Costo resolución en Clínica Privada [MM$]'][0]-costoAsociadoAlRiesgo,2)} [MM$].\")"
   ]
  }
 ],
 "metadata": {
  "kernelspec": {
   "display_name": "Python 3 (ipykernel)",
   "language": "python",
   "name": "python3"
  },
  "language_info": {
   "codemirror_mode": {
    "name": "ipython",
    "version": 3
   },
   "file_extension": ".py",
   "mimetype": "text/x-python",
   "name": "python",
   "nbconvert_exporter": "python",
   "pygments_lexer": "ipython3",
   "version": "3.11.1"
  }
 },
 "nbformat": 4,
 "nbformat_minor": 5
}
