{
 "cells": [
  {
   "cell_type": "code",
   "execution_count": 1,
   "id": "0e90777c-59b5-41a7-abe0-351e1fb5ebef",
   "metadata": {},
   "outputs": [],
   "source": [
    "import pandas as pd\n",
    "import numpy as np\n",
    "import matplotlib.pyplot as plt\n",
    "import matplotlib.transforms as transforms\n",
    "import seaborn as sns\n",
    "\n",
    "from sklearn.linear_model import LinearRegression\n",
    "\n",
    "GRD_sheet = pd.read_excel(\"Datos.xls\", sheet_name = \"GRD\", header = 0, index_col = None)\n",
    "Hosp_sheet = pd.read_excel(\"Datos.xls\", sheet_name = \"Hospitales\", header = 0, index_col = None)\n",
    "Info_sheet = pd.read_excel(\"Datos.xls\", sheet_name = \"Información Histórica\", header = 0, index_col = None)"
   ]
  },
  {
   "cell_type": "code",
   "execution_count": 10,
   "id": "5860c01e-55cc-42e5-81ba-974358dc6287",
   "metadata": {},
   "outputs": [
    {
     "name": "stdout",
     "output_type": "stream",
     "text": [
      "Estimación pacientes GRD9 que llegarán día 425 al Hospital Del Salvador es: 2.0\n"
     ]
    }
   ],
   "source": [
    "# Pregunta 1\n",
    "# ¿Cuál de las siguientes alternativas corresponde a la estimación de la cantidad de pacientes con GRD9 que\n",
    "# llegarán el día 425 al Hospital Salvador utilizando un método de media móvil sobre los últimos 5 días \n",
    "# (días 420 a 424) redondeado al entero superior?  \n",
    "\n",
    "apoyo1 = Info_sheet.loc[(Info_sheet[\"Día de llegada\"] >= 420) & (Info_sheet[\"GRD\"] == \"GRD9\") & (Info_sheet[\"Hospital al que llega\"] == \"Hospital Del Salvador\")]\n",
    "apoyo1 = apoyo1[[\"Número de llegada\", \"Día de llegada\"]].groupby(\"Día de llegada\").count()\n",
    "data = {\"Número de llegada\": [0,0]}\n",
    "falta = pd.DataFrame(data = data, index = [\"423\",\"424\"])\n",
    "apoyo1 = pd.concat([apoyo1, falta], sort=False)\n",
    "apoyo1 = apoyo1.reset_index()\n",
    "media_movil = np.round(apoyo1[\"Número de llegada\"].mean(),)\n",
    "print(f\"Estimación pacientes GRD9 que llegarán día 425 al Hospital Del Salvador es: {media_movil}\")"
   ]
  },
  {
   "cell_type": "code",
   "execution_count": 7,
   "id": "31a24771-a1e7-4575-9659-3ba52bed31b8",
   "metadata": {},
   "outputs": [
    {
     "name": "stdout",
     "output_type": "stream",
     "text": [
      "Estimación pacientes que llegarán día 425 al Hospital Del Salvador es: 12.0\n"
     ]
    }
   ],
   "source": [
    "# Pregunta 2\n",
    "# ¿Cuál de las siguientes alternativas corresponde a la estimación de la cantidad de pacientes que llegarán el día 425\n",
    "# al Hospital Salvador utilizando un método de media móvil sobre los últimos 5 días (días 420 a 424) redondeado \n",
    "# al entero superior?  \n",
    "\n",
    "apoyo2 = Info_sheet.loc[(Info_sheet[\"Día de llegada\"] >= 420) & (Info_sheet[\"Hospital al que llega\"] == \"Hospital Del Salvador\")]\n",
    "apoyo2 = apoyo2[[\"Número de llegada\", \"Día de llegada\"]].groupby(\"Día de llegada\").count()\n",
    "apoyo2 = apoyo2.reset_index()\n",
    "media_movil = np.round(apoyo2[\"Número de llegada\"].mean(),)\n",
    "print(f\"Estimación pacientes que llegarán día 425 al Hospital Del Salvador es: {media_movil}\")"
   ]
  },
  {
   "cell_type": "code",
   "execution_count": 11,
   "id": "c64f1a91-f6d1-4174-87e3-bbe700990ea7",
   "metadata": {},
   "outputs": [
    {
     "name": "stdout",
     "output_type": "stream",
     "text": [
      "Estimación pacientes que llegarán día 425 a la red es: 149.0\n"
     ]
    }
   ],
   "source": [
    "# Pregunta 3\n",
    "# ¿Cuál de las siguientes alternativas corresponde a la estimación de la cantidad de pacientes que llegarán el día 425\n",
    "# a la red utilizando un método de media móvil sobre los últimos 5 días (días 420 a 424) redondeado al entero superior?   \n",
    "\n",
    "apoyo3 = Info_sheet.loc[Info_sheet[\"Día de llegada\"] >= 420]\n",
    "apoyo3 = apoyo3[[\"Número de llegada\", \"Día de llegada\"]].groupby(\"Día de llegada\").count()\n",
    "apoyo3 = apoyo3.reset_index()\n",
    "media_movil = np.round(apoyo3[\"Número de llegada\"].mean(),)\n",
    "print(f\"Estimación pacientes que llegarán día 425 a la red es: {media_movil}\")"
   ]
  },
  {
   "cell_type": "code",
   "execution_count": 15,
   "id": "817b5f9e-0de9-4270-b5fd-1da66a273537",
   "metadata": {},
   "outputs": [
    {
     "name": "stdout",
     "output_type": "stream",
     "text": [
      "Estimación pacientes GRD9 que llegarán día 425 al Hospital Del Salvador es: 0\n"
     ]
    }
   ],
   "source": [
    "# Pregunta 4\n",
    "# ¿Cuál de las siguientes alternativas corresponde a la estimación de la cantidad de pacientes con GRD9 que llegarán \n",
    "# el día 425 al Hospital Salvador utilizando una regresión lineal simple sobre los últimos 5 días (días 420 a 424)\n",
    "# redondeado al entero superior?  \n",
    "\n",
    "apoyo4 = Info_sheet.loc[(Info_sheet[\"Día de llegada\"] >= 420) & (Info_sheet[\"GRD\"] == \"GRD9\") & (Info_sheet[\"Hospital al que llega\"] == \"Hospital Del Salvador\")]\n",
    "apoyo4 = apoyo4[[\"Número de llegada\", \"Día de llegada\"]].groupby(\"Día de llegada\").count()\n",
    "data = {\"Número de llegada\": [0,0]}\n",
    "falta = pd.DataFrame(data = data, index = [\"423\",\"424\"])\n",
    "apoyo4 = pd.concat([apoyo4, falta], sort=False)\n",
    "apoyo4 = apoyo4.reset_index()\n",
    "\n",
    "X = apoyo4[[\"index\"]]\n",
    "y = apoyo4[[\"Número de llegada\"]]\n",
    "regressor = LinearRegression().fit(X, y)\n",
    "estimacion = regressor.intercept_[0] + regressor.coef_[0][0]*425\n",
    "\n",
    "x = 0 if estimacion < 0 else estimacion\n",
    "\n",
    "print(f\"Estimación pacientes GRD9 que llegarán día 425 al Hospital Del Salvador es: {x}\")"
   ]
  },
  {
   "cell_type": "code",
   "execution_count": 17,
   "id": "89d002fb-3258-4187-83bb-b421f9a7e0c3",
   "metadata": {},
   "outputs": [
    {
     "name": "stdout",
     "output_type": "stream",
     "text": [
      "Pendiente: -1.9000000000000001, Intercepto: 813.6\n",
      "Llegadas estimadas para el día 425: 6.0\n"
     ]
    }
   ],
   "source": [
    "# Pregunta 5\n",
    "# ¿Cuál de las siguientes alternativas corresponde a la estimación de la cantidad de pacientes que llegarán el día 425 \n",
    "# al Hospital Salvador utilizando una regresión lineal simple sobre los últimos 5 días (días 420 a 424) redondeado \n",
    "# al entero superior?  \n",
    "\n",
    "apoyo5 = Info_sheet.loc[(Info_sheet[\"Día de llegada\"] >= 420) & (Info_sheet[\"Hospital al que llega\"] == \"Hospital Del Salvador\")]\n",
    "apoyo5 = apoyo5[[\"Número de llegada\", \"Día de llegada\"]].groupby(\"Día de llegada\").count()\n",
    "apoyo5 = apoyo5.reset_index()\n",
    "X = apoyo5[[\"Día de llegada\"]]\n",
    "y = apoyo5[[\"Número de llegada\"]]\n",
    "regressor = LinearRegression().fit(X, y)\n",
    "print(f\"Pendiente: {regressor.coef_[0][0]}, Intercepto: {regressor.intercept_[0]}\")\n",
    "prox_llegada = 425*regressor.coef_[0][0]+regressor.intercept_[0]\n",
    "print(f\"Llegadas estimadas para el día 425: {np.round(prox_llegada,0)}\")"
   ]
  },
  {
   "cell_type": "code",
   "execution_count": 18,
   "id": "20872e12-aa95-4342-be3f-249f2124677b",
   "metadata": {},
   "outputs": [
    {
     "name": "stdout",
     "output_type": "stream",
     "text": [
      "Estimación pacientes que llegarán día 425 a la red es: 88.0\n"
     ]
    }
   ],
   "source": [
    "# Pregunta 6\n",
    "# ¿Cuál de las siguientes alternativas corresponde a la estimación de la cantidad de pacientes que llegarán a la red \n",
    "# el día 425 utilizando una regresión lineal simple sobre los últimos 5 días (días 420 a 424) redondeado al entero \n",
    "# superior? \n",
    "\n",
    "apoyo6 = Info_sheet.loc[Info_sheet[\"Día de llegada\"] >= 420]\n",
    "apoyo6 = apoyo6[[\"Número de llegada\", \"Día de llegada\"]].groupby(\"Día de llegada\").count()\n",
    "apoyo6 = apoyo6.reset_index()\n",
    "X = apoyo6[[\"Día de llegada\"]]\n",
    "y = apoyo6[[\"Número de llegada\"]]\n",
    "regressor = LinearRegression().fit(X, y)\n",
    "estimacion = regressor.intercept_[0] + regressor.coef_[0][0]*425\n",
    "print(f\"Estimación pacientes que llegarán día 425 a la red es: {np.round(estimacion,)}\")"
   ]
  },
  {
   "cell_type": "code",
   "execution_count": 19,
   "id": "4159c68b-2151-4da1-9c7f-d49f1b376b8d",
   "metadata": {},
   "outputs": [
    {
     "name": "stdout",
     "output_type": "stream",
     "text": [
      "Estimación pacientes que llegarán día 425 a la red es: 88.0 y R2: 0.6840340642392606\n"
     ]
    }
   ],
   "source": [
    "# Pregunta 7\n",
    "# ¿Cuál de las siguientes alternativas corresponde al valor del coeficiente R2 de una estimación de la cantidad \n",
    "# de pacientes que llegarán a la red el día 425 utilizando una regresión lineal simple sobre los últimos 5 días\n",
    "# (días 420 a 424) redondeado al entero superior? \n",
    "\n",
    "apoyo7 = Info_sheet.loc[Info_sheet[\"Día de llegada\"] >= 420]\n",
    "apoyo7 = apoyo7[[\"Número de llegada\", \"Día de llegada\"]].groupby(\"Día de llegada\").count()\n",
    "apoyo7 = apoyo7.reset_index()\n",
    "X = apoyo7[[\"Día de llegada\"]]\n",
    "y = apoyo7[[\"Número de llegada\"]]\n",
    "regressor = LinearRegression().fit(X, y)\n",
    "estimacion = regressor.intercept_[0] + regressor.coef_[0][0]*425\n",
    "print(f\"Estimación pacientes que llegarán día 425 a la red es: {np.round(estimacion,)} y R2: {regressor.score(X, y)}\")"
   ]
  },
  {
   "cell_type": "code",
   "execution_count": 20,
   "id": "521205c3-b806-4db4-b1d2-5f880615423c",
   "metadata": {},
   "outputs": [
    {
     "name": "stdout",
     "output_type": "stream",
     "text": [
      "El error total de la estimación es de: -69\n"
     ]
    }
   ],
   "source": [
    "# Pregunta 8\n",
    "# Usted realizó una estimación sobre el total de pacientes que llegarán a la red los días 420 a 424, siendo esta \n",
    "# predicción: 156, 123, 178, 200 y 155, para los días 420 a 424 respectivamente. ¿Cuál de las siguientes alternativas\n",
    "# corresponde al error total de esta estimación? \n",
    "\n",
    "apoyo8 = Info_sheet.loc[Info_sheet[\"Día de llegada\"] >= 420]\n",
    "apoyo8 = apoyo8[[\"Número de llegada\", \"Día de llegada\"]].groupby(\"Día de llegada\").count()\n",
    "apoyo8[\"Prediccion\"] = [156,123,178,200,155]\n",
    "apoyo8 = apoyo8.rename(columns={\"Número de llegada\": \"Conteo\"})\n",
    "apoyo8[\"Error\"] = apoyo8.apply(lambda row: row.Conteo - row.Prediccion, axis = 1)\n",
    "error = apoyo8[\"Error\"].sum()\n",
    "print(f\"El error total de la estimación es de: {error}\")"
   ]
  },
  {
   "cell_type": "code",
   "execution_count": 21,
   "id": "027a6e9b-b90d-4c90-9c0f-0e518f272f78",
   "metadata": {},
   "outputs": [
    {
     "name": "stdout",
     "output_type": "stream",
     "text": [
      "El día 415 se estima llegarian 170 pacientes\n",
      "El día 416 se estima llegarian 130 pacientes\n",
      "El día 417 se estima llegarian 170 pacientes\n"
     ]
    }
   ],
   "source": [
    "# Pregunta 9\n",
    "# Los valores del intercepto y la pendiente de un modelo de regresión lineal para predecir la cantidad de pacientes\n",
    "# que llegarán un día cualquiera al Hospital San José son 60 y 10 respectivamente. La variable independiente de esta\n",
    "# regresión corresponde a las llegadas de hace 7 días. \n",
    "# ¿Cuál de las siguientes alternativas corresponde a la estimación de esta regresión para los días 422, 423 y 424?\n",
    "\n",
    "apoyo9 = Info_sheet.loc[(Info_sheet[\"Día de llegada\"] >= 415) & (Info_sheet[\"Hospital al que llega\"] == \"Complejo Hospitalario San José\")]\n",
    "apoyo9 = apoyo9[[\"Número de llegada\", \"Día de llegada\"]].groupby(\"Día de llegada\").count()\n",
    "apoyo9 = apoyo9.reset_index()\n",
    "\n",
    "##Para calcular las llegadas del día 422, 423 y 424 se utiliza la cantida de llegadas de 7 días atras\n",
    "## es decir para el día 422 se utiliza 422-7 = 415. Para 423 se usa 416 y 424 se usa 417.\n",
    "j = 0\n",
    "for i in range(415,418):\n",
    "    apoyo = apoyo9.loc[apoyo9[\"Día de llegada\"] == i]\n",
    "    llegadas = apoyo[\"Número de llegada\"]\n",
    "    estimacion = 60 + llegadas[j]*10\n",
    "    print(f\"El día {i} se estima llegarian {estimacion} pacientes\")\n",
    "    j += 1\n"
   ]
  },
  {
   "cell_type": "code",
   "execution_count": 22,
   "id": "27c5cb66-09d9-437b-9d21-231c266bdfa3",
   "metadata": {},
   "outputs": [
    {
     "name": "stdout",
     "output_type": "stream",
     "text": [
      " Camas disponibles en el Establecimiento Complejo Hospitalario San José son 44\n",
      " Camas disponibles en el Establecimiento Hospital Adalberto Steeger (Talagante) son 17\n",
      " Camas disponibles en el Establecimiento Hospital Dr. Félix Bulnes Cerda son 9\n",
      " Camas disponibles en el Establecimiento Hospital San Juan de Dios son 76\n",
      " Camas disponibles en el Establecimiento Instituto Traumatológico Dr. Teodoro Gebauer son 18\n",
      " Camas disponibles en el Establecimiento Hospital Clínico San Borja-Arriarán son 43\n",
      " Camas disponibles en el Establecimiento Hospital de Urgencia Asistencia Pública Dr. Alejandro del Río son 44\n",
      " Camas disponibles en el Establecimiento Hospital el Carmen son 18\n",
      " Camas disponibles en el Establecimiento Hospital Del Salvador son 46\n",
      " Camas disponibles en el Establecimiento Hospital Dr. Luis Tisné B. son 24\n",
      " Camas disponibles en el Establecimiento Instituto de Neurocirugía Dr. Alfonso Asenjo son 23\n",
      " Camas disponibles en el Establecimiento Instituto Nacional de Enfermedades Respiratorias y Cirugía Torácica son 44\n",
      " Camas disponibles en el Establecimiento Hospital Barros Luco Trudeau son 74\n",
      " Camas disponibles en el Establecimiento Hospital de Enfermedades Infecciosas Dr. Lucio Córdova son 20\n",
      " Camas disponibles en el Establecimiento Hospital Dr. Exequiel González Cortés son 31\n",
      " Camas disponibles en el Establecimiento Hospital El Pino son 32\n",
      " Camas disponibles en el Establecimiento Hospital Parroquial de San Bernardo       son 16\n",
      " Camas disponibles en el Establecimiento Complejo Hospitalario Dr. Sótero del Río   son 55\n",
      " Camas disponibles en el Establecimiento Hospital Clínico de la Florida son 24\n",
      " Camas disponibles en el Establecimiento Hospital Metropolitano ( ex Militar ) son 32\n",
      " Camas disponibles en el Establecimiento Hospital Padre Alberto Hurtado (San Ramón) son 16\n"
     ]
    }
   ],
   "source": [
    "# Pregunta 10\n",
    "# ¿Cuál de las siguientes alternativas corresponde al código que ocupa el comando “for” para contar todas las\n",
    "# camas disponibles actualmente en la red de salud?  \n",
    "\n",
    "i = 0\n",
    "for elemento in Hosp_sheet[\"Nombre Establecimiento\"]:\n",
    "    apoyo10 = Hosp_sheet.loc[Hosp_sheet[\"Nombre Establecimiento\"] == elemento]\n",
    "    camas = apoyo10[\"Total Camas Críticas\"]\n",
    "    print(f\" Camas disponibles en el Establecimiento {elemento} son {camas[i]}\")\n",
    "    i +=1"
   ]
  }
 ],
 "metadata": {
  "kernelspec": {
   "display_name": "Python 3 (ipykernel)",
   "language": "python",
   "name": "python3"
  },
  "language_info": {
   "codemirror_mode": {
    "name": "ipython",
    "version": 3
   },
   "file_extension": ".py",
   "mimetype": "text/x-python",
   "name": "python",
   "nbconvert_exporter": "python",
   "pygments_lexer": "ipython3",
   "version": "3.11.1"
  }
 },
 "nbformat": 4,
 "nbformat_minor": 5
}
