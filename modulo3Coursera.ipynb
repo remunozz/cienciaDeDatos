{
 "cells": [
  {
   "cell_type": "markdown",
   "metadata": {},
   "source": [
    "# Módulo 3 MOOC Python para Ciencia de Datos"
   ]
  },
  {
   "cell_type": "markdown",
   "metadata": {},
   "source": [
    "### Clase 1: ¿Por qué es importante una visualización adecuada de los datos y resultados?"
   ]
  },
  {
   "cell_type": "markdown",
   "metadata": {},
   "source": [
    "Lo primero, antes de decir la importancia de la Visualización de Datos, es saber qué es. Luego, según la página web de Tableau, uno de los softwares de visualización analítica más utilizados, *la visualización de datos es la representación gráfica de información y datos mediante el uso de elementos visuales como cuadros, gráficos y mapas. Las herramientas de visualización de datos proporcionan una forma accesible de ver y comprender tendencias, valores atípicos y patrones en los datos.*\n",
    "\n",
    "Sabiendo que es la visualización de datos, se tiene que la `importancia fundamental` que tiene es la de hacer de la información con que se cuenta más comprensible, de manera que se pueda entender de manera rápida e intuitiva, ver tendencias, valores atípicos, ciclos, entre otros factores relevantes. Debido a esto, es importante que se tengan buenas visualizaciones.\n",
    "\n",
    "**¿Qué es una buena visualización?**\n",
    "\n",
    "Es difícil de describir lo que es una buena visualización de los datos, sin embargo, lo más importante es que esta sea efectiva al describir la información, es un balance entre la forma y la funcionalidad. Debido a esto, lo primero que es importante definir es que tipo de gráfico debemos usar basados en lo que queremos mostrar de los datos. Lo más probable es que los primeros gráficos que se les ocurran sean de barras o uno circular, sin embargo, hay un gran abanico de tipos de visualizaciones, dentro de las que podemos encontrar:\n",
    "-\tGráficos de área\n",
    "-\tGráficos de barra\n",
    "-\tGráficos de cajas y bigotes (boxplot)\n",
    "-\tDiagramas de dispersión\n",
    "-\tHistogramas\n",
    "\n",
    "Estos son solo ejemplos y existen muchos tipos más, por lo que es importante definir que vamos a mostrar antes de elegir un tipo. Por ejemplo, si ustedes quisieran mostrar la dispersión de unos datos que se están analizando, no se puede utilizar el mismo tipo de gráfico que se utilizaría para mostrar la tendencia de ciertos datos. También, se debe tener en cuenta que tipo de dato se debe graficar (categórica o continua)."
   ]
  },
  {
   "cell_type": "markdown",
   "metadata": {},
   "source": [
    "### Clase 2: ¿Cómo crear gráficos en Python?"
   ]
  },
  {
   "cell_type": "markdown",
   "metadata": {},
   "source": [
    "Como se mencionó anteriormente, las principales librerías de Python para visualizar la información contenida dentro de las Bases de Datos son `Matplotlib` y `Seaborn`. Luego, para realizar algunos ejemplos lo primero que se hace es importar los módulos necesarios."
   ]
  },
  {
   "cell_type": "code",
   "execution_count": 1,
   "metadata": {},
   "outputs": [],
   "source": [
    "import pandas as pd\n",
    "import numpy as np\n",
    "import matplotlib.pyplot as plt\n",
    "import matplotlib.transforms as transforms\n",
    "import seaborn as sns"
   ]
  },
  {
   "cell_type": "markdown",
   "metadata": {},
   "source": [
    "Con los módulos importados, se procede a importar la información contenida en el archivo *Datos.xls*"
   ]
  },
  {
   "cell_type": "code",
   "execution_count": 2,
   "metadata": {},
   "outputs": [],
   "source": [
    "GRD_sheet = pd.read_excel(\"Datos.xls\", sheet_name = \"GRD\", header = 0, index_col = None)\n",
    "Hosp_sheet = pd.read_excel(\"Datos.xls\", sheet_name = \"Hospitales\", header = 0, index_col = None)\n",
    "Info_sheet = pd.read_excel(\"Datos.xls\", sheet_name = \"Información Histórica\", header = 0, index_col = None)"
   ]
  },
  {
   "cell_type": "code",
   "execution_count": 3,
   "metadata": {
    "scrolled": true
   },
   "outputs": [
    {
     "data": {
      "text/html": [
       "<div>\n",
       "<style scoped>\n",
       "    .dataframe tbody tr th:only-of-type {\n",
       "        vertical-align: middle;\n",
       "    }\n",
       "\n",
       "    .dataframe tbody tr th {\n",
       "        vertical-align: top;\n",
       "    }\n",
       "\n",
       "    .dataframe thead th {\n",
       "        text-align: right;\n",
       "    }\n",
       "</style>\n",
       "<table border=\"1\" class=\"dataframe\">\n",
       "  <thead>\n",
       "    <tr style=\"text-align: right;\">\n",
       "      <th></th>\n",
       "      <th>ID GRD</th>\n",
       "      <th>Nombre GRD</th>\n",
       "      <th>Costo resolución en Clínica Privada [MM$]</th>\n",
       "    </tr>\n",
       "  </thead>\n",
       "  <tbody>\n",
       "    <tr>\n",
       "      <th>0</th>\n",
       "      <td>GRD1</td>\n",
       "      <td>Coronario</td>\n",
       "      <td>7.917</td>\n",
       "    </tr>\n",
       "    <tr>\n",
       "      <th>1</th>\n",
       "      <td>GRD2</td>\n",
       "      <td>Hepático</td>\n",
       "      <td>3.417</td>\n",
       "    </tr>\n",
       "    <tr>\n",
       "      <th>2</th>\n",
       "      <td>GRD3</td>\n",
       "      <td>Respiratorio</td>\n",
       "      <td>2.915</td>\n",
       "    </tr>\n",
       "  </tbody>\n",
       "</table>\n",
       "</div>"
      ],
      "text/plain": [
       "  ID GRD    Nombre GRD  Costo resolución en Clínica Privada [MM$]\n",
       "0   GRD1     Coronario                                      7.917\n",
       "1   GRD2      Hepático                                      3.417\n",
       "2   GRD3  Respiratorio                                      2.915"
      ]
     },
     "execution_count": 3,
     "metadata": {},
     "output_type": "execute_result"
    }
   ],
   "source": [
    "GRD_sheet.head(3)"
   ]
  },
  {
   "cell_type": "code",
   "execution_count": 4,
   "metadata": {
    "scrolled": true
   },
   "outputs": [
    {
     "data": {
      "text/html": [
       "<div>\n",
       "<style scoped>\n",
       "    .dataframe tbody tr th:only-of-type {\n",
       "        vertical-align: middle;\n",
       "    }\n",
       "\n",
       "    .dataframe tbody tr th {\n",
       "        vertical-align: top;\n",
       "    }\n",
       "\n",
       "    .dataframe thead th {\n",
       "        text-align: right;\n",
       "    }\n",
       "</style>\n",
       "<table border=\"1\" class=\"dataframe\">\n",
       "  <thead>\n",
       "    <tr style=\"text-align: right;\">\n",
       "      <th></th>\n",
       "      <th>Nombre Servicio de Salud</th>\n",
       "      <th>Nombre Establecimiento</th>\n",
       "      <th>Área Cuidados Intensivos Adultos</th>\n",
       "      <th>Área Cuidados Intermedios Adulto</th>\n",
       "      <th>Total Camas Críticas</th>\n",
       "      <th>Máxima cantidad de camas a aumetar</th>\n",
       "      <th>Costo de instalar una cama [MM$]</th>\n",
       "      <th>Costo de operación anual de una cama [MM$]</th>\n",
       "      <th>Costo diario GRD1 [MM$]</th>\n",
       "      <th>Costo diario GRD2 [MM$]</th>\n",
       "      <th>Costo diario GRD3 [MM$]</th>\n",
       "      <th>Costo diario GRD4 [MM$]</th>\n",
       "      <th>Costo diario GRD5 [MM$]</th>\n",
       "      <th>Costo diario GRD6 [MM$]</th>\n",
       "      <th>Costo diario GRD7 [MM$]</th>\n",
       "      <th>Costo diario GRD8 [MM$]</th>\n",
       "      <th>Costo diario GRD9 [MM$]</th>\n",
       "      <th>Costo diario GRD10 [MM$]</th>\n",
       "    </tr>\n",
       "  </thead>\n",
       "  <tbody>\n",
       "    <tr>\n",
       "      <th>0</th>\n",
       "      <td>Metropolitano Norte                           ...</td>\n",
       "      <td>Complejo Hospitalario San José</td>\n",
       "      <td>11</td>\n",
       "      <td>33</td>\n",
       "      <td>44</td>\n",
       "      <td>10</td>\n",
       "      <td>1407</td>\n",
       "      <td>47.2</td>\n",
       "      <td>0.593</td>\n",
       "      <td>0.509</td>\n",
       "      <td>0.367</td>\n",
       "      <td>0.492</td>\n",
       "      <td>0.524</td>\n",
       "      <td>0.405</td>\n",
       "      <td>0.571</td>\n",
       "      <td>0.474</td>\n",
       "      <td>0.498</td>\n",
       "      <td>0.305</td>\n",
       "    </tr>\n",
       "    <tr>\n",
       "      <th>1</th>\n",
       "      <td>Metropolitano Occidente                       ...</td>\n",
       "      <td>Hospital Adalberto Steeger (Talagante)</td>\n",
       "      <td>6</td>\n",
       "      <td>11</td>\n",
       "      <td>17</td>\n",
       "      <td>5</td>\n",
       "      <td>1263</td>\n",
       "      <td>62.1</td>\n",
       "      <td>0.493</td>\n",
       "      <td>0.357</td>\n",
       "      <td>0.429</td>\n",
       "      <td>0.382</td>\n",
       "      <td>0.469</td>\n",
       "      <td>0.386</td>\n",
       "      <td>0.543</td>\n",
       "      <td>0.362</td>\n",
       "      <td>0.564</td>\n",
       "      <td>0.333</td>\n",
       "    </tr>\n",
       "    <tr>\n",
       "      <th>2</th>\n",
       "      <td>Metropolitano Occidente                       ...</td>\n",
       "      <td>Hospital Dr. Félix Bulnes Cerda</td>\n",
       "      <td>3</td>\n",
       "      <td>6</td>\n",
       "      <td>9</td>\n",
       "      <td>5</td>\n",
       "      <td>1310</td>\n",
       "      <td>65.9</td>\n",
       "      <td>0.580</td>\n",
       "      <td>0.325</td>\n",
       "      <td>0.375</td>\n",
       "      <td>0.409</td>\n",
       "      <td>0.561</td>\n",
       "      <td>0.362</td>\n",
       "      <td>0.328</td>\n",
       "      <td>0.314</td>\n",
       "      <td>0.536</td>\n",
       "      <td>0.436</td>\n",
       "    </tr>\n",
       "  </tbody>\n",
       "</table>\n",
       "</div>"
      ],
      "text/plain": [
       "                            Nombre Servicio de Salud  \\\n",
       "0  Metropolitano Norte                           ...   \n",
       "1  Metropolitano Occidente                       ...   \n",
       "2  Metropolitano Occidente                       ...   \n",
       "\n",
       "                   Nombre Establecimiento  Área Cuidados Intensivos Adultos  \\\n",
       "0          Complejo Hospitalario San José                                11   \n",
       "1  Hospital Adalberto Steeger (Talagante)                                 6   \n",
       "2         Hospital Dr. Félix Bulnes Cerda                                 3   \n",
       "\n",
       "   Área Cuidados Intermedios Adulto  Total Camas Críticas  \\\n",
       "0                                33                    44   \n",
       "1                                11                    17   \n",
       "2                                 6                     9   \n",
       "\n",
       "   Máxima cantidad de camas a aumetar  Costo de instalar una cama [MM$]  \\\n",
       "0                                  10                              1407   \n",
       "1                                   5                              1263   \n",
       "2                                   5                              1310   \n",
       "\n",
       "   Costo de operación anual de una cama [MM$]  Costo diario GRD1 [MM$]  \\\n",
       "0                                        47.2                    0.593   \n",
       "1                                        62.1                    0.493   \n",
       "2                                        65.9                    0.580   \n",
       "\n",
       "   Costo diario GRD2 [MM$]  Costo diario GRD3 [MM$]  Costo diario GRD4 [MM$]  \\\n",
       "0                    0.509                    0.367                    0.492   \n",
       "1                    0.357                    0.429                    0.382   \n",
       "2                    0.325                    0.375                    0.409   \n",
       "\n",
       "   Costo diario GRD5 [MM$]  Costo diario GRD6 [MM$]  Costo diario GRD7 [MM$]  \\\n",
       "0                    0.524                    0.405                    0.571   \n",
       "1                    0.469                    0.386                    0.543   \n",
       "2                    0.561                    0.362                    0.328   \n",
       "\n",
       "   Costo diario GRD8 [MM$]  Costo diario GRD9 [MM$]  Costo diario GRD10 [MM$]  \n",
       "0                    0.474                    0.498                     0.305  \n",
       "1                    0.362                    0.564                     0.333  \n",
       "2                    0.314                    0.536                     0.436  "
      ]
     },
     "execution_count": 4,
     "metadata": {},
     "output_type": "execute_result"
    }
   ],
   "source": [
    "Hosp_sheet.head(3)"
   ]
  },
  {
   "cell_type": "code",
   "execution_count": 5,
   "metadata": {},
   "outputs": [
    {
     "data": {
      "text/html": [
       "<div>\n",
       "<style scoped>\n",
       "    .dataframe tbody tr th:only-of-type {\n",
       "        vertical-align: middle;\n",
       "    }\n",
       "\n",
       "    .dataframe tbody tr th {\n",
       "        vertical-align: top;\n",
       "    }\n",
       "\n",
       "    .dataframe thead th {\n",
       "        text-align: right;\n",
       "    }\n",
       "</style>\n",
       "<table border=\"1\" class=\"dataframe\">\n",
       "  <thead>\n",
       "    <tr style=\"text-align: right;\">\n",
       "      <th></th>\n",
       "      <th>Número de llegada</th>\n",
       "      <th>Hospital al que llega</th>\n",
       "      <th>GRD</th>\n",
       "      <th>Día de llegada</th>\n",
       "      <th>Día de salida</th>\n",
       "      <th>Estadia</th>\n",
       "    </tr>\n",
       "  </thead>\n",
       "  <tbody>\n",
       "    <tr>\n",
       "      <th>0</th>\n",
       "      <td>1</td>\n",
       "      <td>Instituto Traumatológico Dr. Teodoro Gebauer</td>\n",
       "      <td>GRD3</td>\n",
       "      <td>1</td>\n",
       "      <td>4</td>\n",
       "      <td>3</td>\n",
       "    </tr>\n",
       "    <tr>\n",
       "      <th>1</th>\n",
       "      <td>2</td>\n",
       "      <td>Hospital Clínico San Borja-Arriarán</td>\n",
       "      <td>GRD7</td>\n",
       "      <td>1</td>\n",
       "      <td>5</td>\n",
       "      <td>4</td>\n",
       "    </tr>\n",
       "    <tr>\n",
       "      <th>2</th>\n",
       "      <td>3</td>\n",
       "      <td>Hospital Dr. Luis Tisné B.</td>\n",
       "      <td>GRD7</td>\n",
       "      <td>1</td>\n",
       "      <td>5</td>\n",
       "      <td>4</td>\n",
       "    </tr>\n",
       "  </tbody>\n",
       "</table>\n",
       "</div>"
      ],
      "text/plain": [
       "   Número de llegada                         Hospital al que llega   GRD  \\\n",
       "0                  1  Instituto Traumatológico Dr. Teodoro Gebauer  GRD3   \n",
       "1                  2           Hospital Clínico San Borja-Arriarán  GRD7   \n",
       "2                  3                    Hospital Dr. Luis Tisné B.  GRD7   \n",
       "\n",
       "   Día de llegada  Día de salida  Estadia  \n",
       "0               1              4        3  \n",
       "1               1              5        4  \n",
       "2               1              5        4  "
      ]
     },
     "execution_count": 5,
     "metadata": {},
     "output_type": "execute_result"
    }
   ],
   "source": [
    "Info_sheet.head(3)"
   ]
  },
  {
   "cell_type": "markdown",
   "metadata": {},
   "source": [
    "Con las distintas hojas del archivo importadas, se procede a explicar de manera breve cada librería y realizar distintos ejemplos de lo que se puede visualizar utilizando `Matplotlib` y `Seaborn`."
   ]
  },
  {
   "cell_type": "markdown",
   "metadata": {},
   "source": [
    "**Matplotlib**\n",
    "\n",
    "Matplotlib es una biblioteca completa para realizar distintas visualizaciones en Python. Lo interesante de esta librería es que viene incluida dentro de Pandas, es decir, existe un método en Pandas para graficar que utiliza por defecto el motor de visualización entregado por Matplotlib lo que hace más fácil e intuitivo su uso. A continuación, se muestra como realizar distintos gráficos con `Matplotlib`"
   ]
  },
  {
   "cell_type": "code",
   "execution_count": 6,
   "metadata": {},
   "outputs": [
    {
     "data": {
      "text/html": [
       "<div>\n",
       "<style scoped>\n",
       "    .dataframe tbody tr th:only-of-type {\n",
       "        vertical-align: middle;\n",
       "    }\n",
       "\n",
       "    .dataframe tbody tr th {\n",
       "        vertical-align: top;\n",
       "    }\n",
       "\n",
       "    .dataframe thead th {\n",
       "        text-align: right;\n",
       "    }\n",
       "</style>\n",
       "<table border=\"1\" class=\"dataframe\">\n",
       "  <thead>\n",
       "    <tr style=\"text-align: right;\">\n",
       "      <th></th>\n",
       "      <th>Conteo</th>\n",
       "    </tr>\n",
       "    <tr>\n",
       "      <th>GRD</th>\n",
       "      <th></th>\n",
       "    </tr>\n",
       "  </thead>\n",
       "  <tbody>\n",
       "    <tr>\n",
       "      <th>GRD1</th>\n",
       "      <td>6587</td>\n",
       "    </tr>\n",
       "    <tr>\n",
       "      <th>GRD10</th>\n",
       "      <td>6479</td>\n",
       "    </tr>\n",
       "    <tr>\n",
       "      <th>GRD2</th>\n",
       "      <td>6469</td>\n",
       "    </tr>\n",
       "    <tr>\n",
       "      <th>GRD3</th>\n",
       "      <td>6597</td>\n",
       "    </tr>\n",
       "    <tr>\n",
       "      <th>GRD4</th>\n",
       "      <td>6422</td>\n",
       "    </tr>\n",
       "    <tr>\n",
       "      <th>GRD5</th>\n",
       "      <td>6684</td>\n",
       "    </tr>\n",
       "    <tr>\n",
       "      <th>GRD6</th>\n",
       "      <td>6502</td>\n",
       "    </tr>\n",
       "    <tr>\n",
       "      <th>GRD7</th>\n",
       "      <td>6645</td>\n",
       "    </tr>\n",
       "    <tr>\n",
       "      <th>GRD8</th>\n",
       "      <td>6497</td>\n",
       "    </tr>\n",
       "    <tr>\n",
       "      <th>GRD9</th>\n",
       "      <td>6652</td>\n",
       "    </tr>\n",
       "  </tbody>\n",
       "</table>\n",
       "</div>"
      ],
      "text/plain": [
       "       Conteo\n",
       "GRD          \n",
       "GRD1     6587\n",
       "GRD10    6479\n",
       "GRD2     6469\n",
       "GRD3     6597\n",
       "GRD4     6422\n",
       "GRD5     6684\n",
       "GRD6     6502\n",
       "GRD7     6645\n",
       "GRD8     6497\n",
       "GRD9     6652"
      ]
     },
     "execution_count": 6,
     "metadata": {},
     "output_type": "execute_result"
    }
   ],
   "source": [
    "GRD_INFO = Info_sheet[['Número de llegada', 'GRD']].groupby('GRD').count()\n",
    "GRD_INFO.rename({'GRD': 'ID GRD', 'Número de llegada': 'Conteo'}, axis=1, inplace=True)\n",
    "GRD_INFO"
   ]
  },
  {
   "cell_type": "code",
   "execution_count": 7,
   "metadata": {},
   "outputs": [
    {
     "data": {
      "image/png": "[encoded data removed]",
      "text/plain": [
       "<Figure size 432x360 with 1 Axes>"
      ]
     },
     "metadata": {
      "needs_background": "light"
     },
     "output_type": "display_data"
    }
   ],
   "source": [
    "ax = GRD_INFO.plot.bar(figsize=(6,5))\n",
    "ax.bar_label(ax.containers[0])\n",
    "ax.legend(loc='center left', bbox_to_anchor=(1, 0.5))\n",
    "plt.show()"
   ]
  },
  {
   "cell_type": "code",
   "execution_count": 8,
   "metadata": {
    "scrolled": true
   },
   "outputs": [
    {
     "data": {
      "image/png": "[encoded data removed]",
      "text/plain": [
       "<Figure size 576x360 with 1 Axes>"
      ]
     },
     "metadata": {
      "needs_background": "light"
     },
     "output_type": "display_data"
    }
   ],
   "source": [
    "ax = GRD_INFO.plot.barh(figsize=(8,5))\n",
    "ax.bar_label(ax.containers[0])\n",
    "ax.legend(loc='center left', bbox_to_anchor=(1, 0.5))\n",
    "plt.show()"
   ]
  },
  {
   "cell_type": "code",
   "execution_count": 9,
   "metadata": {
    "scrolled": true
   },
   "outputs": [
    {
     "data": {
      "image/png": "[encoded data removed]",
      "text/plain": [
       "<Figure size 432x360 with 1 Axes>"
      ]
     },
     "metadata": {},
     "output_type": "display_data"
    }
   ],
   "source": [
    "ax = GRD_INFO.plot.pie(y = \"Conteo\", autopct=lambda p: '{:.0f}'.format(p*GRD_INFO[\"Conteo\"].sum()/100), figsize=(6,5))\n",
    "ax.legend(loc='center left', bbox_to_anchor=(1.1, 0.5))\n",
    "plt.show()"
   ]
  },
  {
   "cell_type": "code",
   "execution_count": 10,
   "metadata": {},
   "outputs": [
    {
     "data": {
      "image/png": "[encoded data removed]",
      "text/plain": [
       "<Figure size 432x360 with 1 Axes>"
      ]
     },
     "metadata": {
      "needs_background": "light"
     },
     "output_type": "display_data"
    }
   ],
   "source": [
    "ax = GRD_INFO.plot(kind = 'bar', figsize=(6,5))\n",
    "ax.legend(loc='center left', bbox_to_anchor=(1, 0.5))\n",
    "plt.axhline(y=GRD_INFO['Conteo'].max(), color='r', linestyle='-',linewidth=3.0)\n",
    "trans = transforms.blended_transform_factory(\n",
    "    ax.get_yticklabels()[0].get_transform(), ax.transData)\n",
    "ax.text(0,GRD_INFO['Conteo'].max(), \"{:.0f}\".format(GRD_INFO['Conteo'].max()), color=\"red\", transform=trans, \n",
    "        ha=\"right\", va=\"center\")\n",
    "plt.grid(color='c', linestyle='-', linewidth=0.5)\n",
    "plt.show()"
   ]
  },
  {
   "cell_type": "markdown",
   "metadata": {},
   "source": [
    "**Seaborn**\n",
    "\n",
    "Seaborn es una biblioteca de visualización de datos de Python basada en Matplotlib. Proporciona una interfaz de alto nivel para dibujar gráficos estadísticos atractivos e informativos. A diferencia de Matplotlib, esta no viene por defecto en Pandas. A continuación, se muestra como realizar distintos gráficos con `Seaborn`"
   ]
  },
  {
   "cell_type": "code",
   "execution_count": 11,
   "metadata": {},
   "outputs": [
    {
     "data": {
      "image/png": "[encoded data removed]",
      "text/plain": [
       "<Figure size 504x360 with 1 Axes>"
      ]
     },
     "metadata": {
      "needs_background": "light"
     },
     "output_type": "display_data"
    }
   ],
   "source": [
    "f, ax = plt.subplots(figsize=(7, 5))\n",
    "sns.countplot(y=\"GRD\", data=Info_sheet, color=\"c\")\n",
    "plt.show()"
   ]
  },
  {
   "cell_type": "code",
   "execution_count": 12,
   "metadata": {
    "scrolled": true
   },
   "outputs": [
    {
     "data": {
      "image/png": "[encoded data removed]",
      "text/plain": [
       "<Figure size 576x288 with 1 Axes>"
      ]
     },
     "metadata": {
      "needs_background": "light"
     },
     "output_type": "display_data"
    }
   ],
   "source": [
    "sns.catplot(x=\"GRD\", kind=\"count\", data=Info_sheet, height=4, aspect=2)\n",
    "plt.show()"
   ]
  },
  {
   "cell_type": "markdown",
   "metadata": {},
   "source": [
    "**Pregunta 1**"
   ]
  },
  {
   "cell_type": "code",
   "execution_count": 13,
   "metadata": {},
   "outputs": [
    {
     "data": {
      "image/png": "[encoded data removed]",
      "text/plain": [
       "<Figure size 432x288 with 1 Axes>"
      ]
     },
     "metadata": {
      "needs_background": "light"
     },
     "output_type": "display_data"
    }
   ],
   "source": [
    "Hosp_sheet.groupby(\"Nombre Servicio de Salud\").mean().plot(kind=\"bar\", y=\"Costo diario GRD1 [MM$]\")\n",
    "plt.show()"
   ]
  },
  {
   "cell_type": "markdown",
   "metadata": {},
   "source": [
    "**Pregunta 2**"
   ]
  },
  {
   "cell_type": "code",
   "execution_count": 14,
   "metadata": {},
   "outputs": [
    {
     "data": {
      "image/png": "[encoded data removed]",
      "text/plain": [
       "<Figure size 432x288 with 1 Axes>"
      ]
     },
     "metadata": {
      "needs_background": "light"
     },
     "output_type": "display_data"
    }
   ],
   "source": [
    "sns.histplot(data = Info_sheet[[\"Día de llegada\",\"Número de llegada\"]].groupby('Día de llegada').count())\n",
    "plt.show()"
   ]
  },
  {
   "cell_type": "markdown",
   "metadata": {},
   "source": [
    "### Clase 3: ¿Cómo crear una interfaz adecuada?"
   ]
  },
  {
   "cell_type": "markdown",
   "metadata": {},
   "source": [
    "Al utilizar **Seaborn** y **Matplotlib** se pueden realizar gráficos y figuras que nos permitan entender de mejor manera los datos, tendencias y patrones. Sin embargo, al utilizar estas y los comandos de Pandas para realizar visualizaciones se generan gráficos estáticos, sobre los cuales no se puede interactuar. Pero ¿No sería mejor poder interactuar con los gráficos, haciendo zoom o teniendo un poco mas de información de lo que estamos viendo?\n",
    "\n",
    "Al utilizar gráficos interactivos, nosotros como usuarios podemos modificar elementos de los estos sin la necesidad de cambiar el código o volver a correr distintas instancias. Por ejemplo, si usted estuviera viendo un gráfico del sistema de salud en donde solo quisiera conocer la información de un solo GRD o solamente un hospital, estos gráficos interactivos lo permiten sin necesidad de volver a correr el código. Así, con estos gráficos se puede entender aún mejor la información. \n",
    "\n",
    "Para esto existen los `Dashboards`, los cuales son herramientas que nos permiten realizar una interfaz visual a manera de reporte, que nos permiten entender de manera rápida la información. Nos dan una imagen de lo que cuentan los datos. De manera simple, estos son un conjunto de diferentes gráficos que se presentan de manera ordenada en una forma de grilla que nos permiten obtener distintos insights en un mismo lugar. Luego, vamos a realizar un *Dashboard* a continuación. Para esto se importan los módulos necesarios."
   ]
  },
  {
   "cell_type": "code",
   "execution_count": 15,
   "metadata": {},
   "outputs": [],
   "source": [
    "##Antes de importar pandas_bokeh se debe importar numpy o pandas, De lo contrario se generaría un error\n",
    "import pandas as pd\n",
    "import numpy as np\n",
    "import pandas_bokeh"
   ]
  },
  {
   "cell_type": "markdown",
   "metadata": {},
   "source": [
    "Luego, con el comando a continuación se pide a Bokeh que el `Dashboard` se visualice en Pandas"
   ]
  },
  {
   "cell_type": "code",
   "execution_count": 16,
   "metadata": {},
   "outputs": [
    {
     "data": {
      "text/html": [
       "\n",
       "    <div class=\"bk-root\">\n",
       "        <a href=\"https://bokeh.org\" target=\"_blank\" class=\"bk-logo bk-logo-small bk-logo-notebook\"></a>\n",
       "        <span id=\"1002\">Loading BokehJS ...</span>\n",
       "    </div>"
      ]
     },
     "metadata": {},
     "output_type": "display_data"
    },
    {
     "data": {
      "application/javascript": [
       "\n",
       "(function(root) {\n",
       "  function now() {\n",
       "    return new Date();\n",
       "  }\n",
       "\n",
       "  const force = true;\n",
       "\n",
       "  if (typeof root._bokeh_onload_callbacks === \"undefined\" || force === true) {\n",
       "    root._bokeh_onload_callbacks = [];\n",
       "    root._bokeh_is_loading = undefined;\n",
       "  }\n",
       "\n",
       "  const JS_MIME_TYPE = 'application/javascript';\n",
       "  const HTML_MIME_TYPE = 'text/html';\n",
       "  const EXEC_MIME_TYPE = 'application/vnd.bokehjs_exec.v0+json';\n",
       "  const CLASS_NAME = 'output_bokeh rendered_html';\n",
       "\n",
       "  /**\n",
       "   * Render data to the DOM node\n",
       "   */\n",
       "  function render(props, node) {\n",
       "    const script = document.createElement(\"script\");\n",
       "    node.appendChild(script);\n",
       "  }\n",
       "\n",
       "  /**\n",
       "   * Handle when an output is cleared or removed\n",
       "   */\n",
       "  function handleClearOutput(event, handle) {\n",
       "    const cell = handle.cell;\n",
       "\n",
       "    const id = cell.output_area._bokeh_element_id;\n",
       "    const server_id = cell.output_area._bokeh_server_id;\n",
       "    // Clean up Bokeh references\n",
       "    if (id != null && id in Bokeh.index) {\n",
       "      Bokeh.index[id].model.document.clear();\n",
       "      delete Bokeh.index[id];\n",
       "    }\n",
       "\n",
       "    if (server_id !== undefined) {\n",
       "      // Clean up Bokeh references\n",
       "      const cmd_clean = \"from bokeh.io.state import curstate; print(curstate().uuid_to_server['\" + server_id + \"'].get_sessions()[0].document.roots[0]._id)\";\n",
       "      cell.notebook.kernel.execute(cmd_clean, {\n",
       "        iopub: {\n",
       "          output: function(msg) {\n",
       "            const id = msg.content.text.trim();\n",
       "            if (id in Bokeh.index) {\n",
       "              Bokeh.index[id].model.document.clear();\n",
       "              delete Bokeh.index[id];\n",
       "            }\n",
       "          }\n",
       "        }\n",
       "      });\n",
       "      // Destroy server and session\n",
       "      const cmd_destroy = \"import bokeh.io.notebook as ion; ion.destroy_server('\" + server_id + \"')\";\n",
       "      cell.notebook.kernel.execute(cmd_destroy);\n",
       "    }\n",
       "  }\n",
       "\n",
       "  /**\n",
       "   * Handle when a new output is added\n",
       "   */\n",
       "  function handleAddOutput(event, handle) {\n",
       "    const output_area = handle.output_area;\n",
       "    const output = handle.output;\n",
       "\n",
       "    // limit handleAddOutput to display_data with EXEC_MIME_TYPE content only\n",
       "    if ((output.output_type != \"display_data\") || (!Object.prototype.hasOwnProperty.call(output.data, EXEC_MIME_TYPE))) {\n",
       "      return\n",
       "    }\n",
       "\n",
       "    const toinsert = output_area.element.find(\".\" + CLASS_NAME.split(' ')[0]);\n",
       "\n",
       "    if (output.metadata[EXEC_MIME_TYPE][\"id\"] !== undefined) {\n",
       "      toinsert[toinsert.length - 1].firstChild.textContent = output.data[JS_MIME_TYPE];\n",
       "      // store reference to embed id on output_area\n",
       "      output_area._bokeh_element_id = output.metadata[EXEC_MIME_TYPE][\"id\"];\n",
       "    }\n",
       "    if (output.metadata[EXEC_MIME_TYPE][\"server_id\"] !== undefined) {\n",
       "      const bk_div = document.createElement(\"div\");\n",
       "      bk_div.innerHTML = output.data[HTML_MIME_TYPE];\n",
       "      const script_attrs = bk_div.children[0].attributes;\n",
       "      for (let i = 0; i < script_attrs.length; i++) {\n",
       "        toinsert[toinsert.length - 1].firstChild.setAttribute(script_attrs[i].name, script_attrs[i].value);\n",
       "        toinsert[toinsert.length - 1].firstChild.textContent = bk_div.children[0].textContent\n",
       "      }\n",
       "      // store reference to server id on output_area\n",
       "      output_area._bokeh_server_id = output.metadata[EXEC_MIME_TYPE][\"server_id\"];\n",
       "    }\n",
       "  }\n",
       "\n",
       "  function register_renderer(events, OutputArea) {\n",
       "\n",
       "    function append_mime(data, metadata, element) {\n",
       "      // create a DOM node to render to\n",
       "      const toinsert = this.create_output_subarea(\n",
       "        metadata,\n",
       "        CLASS_NAME,\n",
       "        EXEC_MIME_TYPE\n",
       "      );\n",
       "      this.keyboard_manager.register_events(toinsert);\n",
       "      // Render to node\n",
       "      const props = {data: data, metadata: metadata[EXEC_MIME_TYPE]};\n",
       "      render(props, toinsert[toinsert.length - 1]);\n",
       "      element.append(toinsert);\n",
       "      return toinsert\n",
       "    }\n",
       "\n",
       "    /* Handle when an output is cleared or removed */\n",
       "    events.on('clear_output.CodeCell', handleClearOutput);\n",
       "    events.on('delete.Cell', handleClearOutput);\n",
       "\n",
       "    /* Handle when a new output is added */\n",
       "    events.on('output_added.OutputArea', handleAddOutput);\n",
       "\n",
       "    /**\n",
       "     * Register the mime type and append_mime function with output_area\n",
       "     */\n",
       "    OutputArea.prototype.register_mime_type(EXEC_MIME_TYPE, append_mime, {\n",
       "      /* Is output safe? */\n",
       "      safe: true,\n",
       "      /* Index of renderer in `output_area.display_order` */\n",
       "      index: 0\n",
       "    });\n",
       "  }\n",
       "\n",
       "  // register the mime type if in Jupyter Notebook environment and previously unregistered\n",
       "  if (root.Jupyter !== undefined) {\n",
       "    const events = require('base/js/events');\n",
       "    const OutputArea = require('notebook/js/outputarea').OutputArea;\n",
       "\n",
       "    if (OutputArea.prototype.mime_types().indexOf(EXEC_MIME_TYPE) == -1) {\n",
       "      register_renderer(events, OutputArea);\n",
       "    }\n",
       "  }\n",
       "\n",
       "  \n",
       "  if (typeof (root._bokeh_timeout) === \"undefined\" || force === true) {\n",
       "    root._bokeh_timeout = Date.now() + 5000;\n",
       "    root._bokeh_failed_load = false;\n",
       "  }\n",
       "\n",
       "  const NB_LOAD_WARNING = {'data': {'text/html':\n",
       "     \"<div style='background-color: #fdd'>\\n\"+\n",
       "     \"<p>\\n\"+\n",
       "     \"BokehJS does not appear to have successfully loaded. If loading BokehJS from CDN, this \\n\"+\n",
       "     \"may be due to a slow or bad network connection. Possible fixes:\\n\"+\n",
       "     \"</p>\\n\"+\n",
       "     \"<ul>\\n\"+\n",
       "     \"<li>re-rerun `output_notebook()` to attempt to load from CDN again, or</li>\\n\"+\n",
       "     \"<li>use INLINE resources instead, as so:</li>\\n\"+\n",
       "     \"</ul>\\n\"+\n",
       "     \"<code>\\n\"+\n",
       "     \"from bokeh.resources import INLINE\\n\"+\n",
       "     \"output_notebook(resources=INLINE)\\n\"+\n",
       "     \"</code>\\n\"+\n",
       "     \"</div>\"}};\n",
       "\n",
       "  function display_loaded() {\n",
       "    const el = document.getElementById(\"1002\");\n",
       "    if (el != null) {\n",
       "      el.textContent = \"BokehJS is loading...\";\n",
       "    }\n",
       "    if (root.Bokeh !== undefined) {\n",
       "      if (el != null) {\n",
       "        el.textContent = \"BokehJS \" + root.Bokeh.version + \" successfully loaded.\";\n",
       "      }\n",
       "    } else if (Date.now() < root._bokeh_timeout) {\n",
       "      setTimeout(display_loaded, 100)\n",
       "    }\n",
       "  }\n",
       "\n",
       "\n",
       "  function run_callbacks() {\n",
       "    try {\n",
       "      root._bokeh_onload_callbacks.forEach(function(callback) {\n",
       "        if (callback != null)\n",
       "          callback();\n",
       "      });\n",
       "    } finally {\n",
       "      delete root._bokeh_onload_callbacks\n",
       "    }\n",
       "    console.debug(\"Bokeh: all callbacks have finished\");\n",
       "  }\n",
       "\n",
       "  function load_libs(css_urls, js_urls, callback) {\n",
       "    if (css_urls == null) css_urls = [];\n",
       "    if (js_urls == null) js_urls = [];\n",
       "\n",
       "    root._bokeh_onload_callbacks.push(callback);\n",
       "    if (root._bokeh_is_loading > 0) {\n",
       "      console.debug(\"Bokeh: BokehJS is being loaded, scheduling callback at\", now());\n",
       "      return null;\n",
       "    }\n",
       "    if (js_urls == null || js_urls.length === 0) {\n",
       "      run_callbacks();\n",
       "      return null;\n",
       "    }\n",
       "    console.debug(\"Bokeh: BokehJS not loaded, scheduling load and callback at\", now());\n",
       "    root._bokeh_is_loading = css_urls.length + js_urls.length;\n",
       "\n",
       "    function on_load() {\n",
       "      root._bokeh_is_loading--;\n",
       "      if (root._bokeh_is_loading === 0) {\n",
       "        console.debug(\"Bokeh: all BokehJS libraries/stylesheets loaded\");\n",
       "        run_callbacks()\n",
       "      }\n",
       "    }\n",
       "\n",
       "    function on_error(url) {\n",
       "      console.error(\"failed to load \" + url);\n",
       "    }\n",
       "\n",
       "    for (let i = 0; i < css_urls.length; i++) {\n",
       "      const url = css_urls[i];\n",
       "      const element = document.createElement(\"link\");\n",
       "      element.onload = on_load;\n",
       "      element.onerror = on_error.bind(null, url);\n",
       "      element.rel = \"stylesheet\";\n",
       "      element.type = \"text/css\";\n",
       "      element.href = url;\n",
       "      console.debug(\"Bokeh: injecting link tag for BokehJS stylesheet: \", url);\n",
       "      document.body.appendChild(element);\n",
       "    }\n",
       "\n",
       "    for (let i = 0; i < js_urls.length; i++) {\n",
       "      const url = js_urls[i];\n",
       "      const element = document.createElement('script');\n",
       "      element.onload = on_load;\n",
       "      element.onerror = on_error.bind(null, url);\n",
       "      element.async = false;\n",
       "      element.src = url;\n",
       "      console.debug(\"Bokeh: injecting script tag for BokehJS library: \", url);\n",
       "      document.head.appendChild(element);\n",
       "    }\n",
       "  };\n",
       "\n",
       "  function inject_raw_css(css) {\n",
       "    const element = document.createElement(\"style\");\n",
       "    element.appendChild(document.createTextNode(css));\n",
       "    document.body.appendChild(element);\n",
       "  }\n",
       "\n",
       "  \n",
       "  const js_urls = [\"https://cdn.bokeh.org/bokeh/release/bokeh-2.4.2.min.js\", \"https://cdn.bokeh.org/bokeh/release/bokeh-gl-2.4.2.min.js\", \"https://cdn.bokeh.org/bokeh/release/bokeh-widgets-2.4.2.min.js\", \"https://cdn.bokeh.org/bokeh/release/bokeh-tables-2.4.2.min.js\", \"https://cdn.bokeh.org/bokeh/release/bokeh-mathjax-2.4.2.min.js\"];\n",
       "  const css_urls = [];\n",
       "  \n",
       "\n",
       "  const inline_js = [\n",
       "    function(Bokeh) {\n",
       "      Bokeh.set_log_level(\"info\");\n",
       "    },\n",
       "    function(Bokeh) {\n",
       "    \n",
       "    \n",
       "    }\n",
       "  ];\n",
       "\n",
       "  function run_inline_js() {\n",
       "    \n",
       "    if (root.Bokeh !== undefined || force === true) {\n",
       "      \n",
       "    for (let i = 0; i < inline_js.length; i++) {\n",
       "      inline_js[i].call(root, root.Bokeh);\n",
       "    }\n",
       "    if (force === true) {\n",
       "        display_loaded();\n",
       "      }} else if (Date.now() < root._bokeh_timeout) {\n",
       "      setTimeout(run_inline_js, 100);\n",
       "    } else if (!root._bokeh_failed_load) {\n",
       "      console.log(\"Bokeh: BokehJS failed to load within specified timeout.\");\n",
       "      root._bokeh_failed_load = true;\n",
       "    } else if (force !== true) {\n",
       "      const cell = $(document.getElementById(\"1002\")).parents('.cell').data().cell;\n",
       "      cell.output_area.append_execute_result(NB_LOAD_WARNING)\n",
       "    }\n",
       "\n",
       "  }\n",
       "\n",
       "  if (root._bokeh_is_loading === 0) {\n",
       "    console.debug(\"Bokeh: BokehJS loaded, going straight to plotting\");\n",
       "    run_inline_js();\n",
       "  } else {\n",
       "    load_libs(css_urls, js_urls, function() {\n",
       "      console.debug(\"Bokeh: BokehJS plotting callback run at\", now());\n",
       "      run_inline_js();\n",
       "    });\n",
       "  }\n",
       "}(window));"
      ],
      "application/vnd.bokehjs_load.v0+json": "\n(function(root) {\n  function now() {\n    return new Date();\n  }\n\n  const force = true;\n\n  if (typeof root._bokeh_onload_callbacks === \"undefined\" || force === true) {\n    root._bokeh_onload_callbacks = [];\n    root._bokeh_is_loading = undefined;\n  }\n\n  \n\n  \n  if (typeof (root._bokeh_timeout) === \"undefined\" || force === true) {\n    root._bokeh_timeout = Date.now() + 5000;\n    root._bokeh_failed_load = false;\n  }\n\n  const NB_LOAD_WARNING = {'data': {'text/html':\n     \"<div style='background-color: #fdd'>\\n\"+\n     \"<p>\\n\"+\n     \"BokehJS does not appear to have successfully loaded. If loading BokehJS from CDN, this \\n\"+\n     \"may be due to a slow or bad network connection. Possible fixes:\\n\"+\n     \"</p>\\n\"+\n     \"<ul>\\n\"+\n     \"<li>re-rerun `output_notebook()` to attempt to load from CDN again, or</li>\\n\"+\n     \"<li>use INLINE resources instead, as so:</li>\\n\"+\n     \"</ul>\\n\"+\n     \"<code>\\n\"+\n     \"from bokeh.resources import INLINE\\n\"+\n     \"output_notebook(resources=INLINE)\\n\"+\n     \"</code>\\n\"+\n     \"</div>\"}};\n\n  function display_loaded() {\n    const el = document.getElementById(\"1002\");\n    if (el != null) {\n      el.textContent = \"BokehJS is loading...\";\n    }\n    if (root.Bokeh !== undefined) {\n      if (el != null) {\n        el.textContent = \"BokehJS \" + root.Bokeh.version + \" successfully loaded.\";\n      }\n    } else if (Date.now() < root._bokeh_timeout) {\n      setTimeout(display_loaded, 100)\n    }\n  }\n\n\n  function run_callbacks() {\n    try {\n      root._bokeh_onload_callbacks.forEach(function(callback) {\n        if (callback != null)\n          callback();\n      });\n    } finally {\n      delete root._bokeh_onload_callbacks\n    }\n    console.debug(\"Bokeh: all callbacks have finished\");\n  }\n\n  function load_libs(css_urls, js_urls, callback) {\n    if (css_urls == null) css_urls = [];\n    if (js_urls == null) js_urls = [];\n\n    root._bokeh_onload_callbacks.push(callback);\n    if (root._bokeh_is_loading > 0) {\n      console.debug(\"Bokeh: BokehJS is being loaded, scheduling callback at\", now());\n      return null;\n    }\n    if (js_urls == null || js_urls.length === 0) {\n      run_callbacks();\n      return null;\n    }\n    console.debug(\"Bokeh: BokehJS not loaded, scheduling load and callback at\", now());\n    root._bokeh_is_loading = css_urls.length + js_urls.length;\n\n    function on_load() {\n      root._bokeh_is_loading--;\n      if (root._bokeh_is_loading === 0) {\n        console.debug(\"Bokeh: all BokehJS libraries/stylesheets loaded\");\n        run_callbacks()\n      }\n    }\n\n    function on_error(url) {\n      console.error(\"failed to load \" + url);\n    }\n\n    for (let i = 0; i < css_urls.length; i++) {\n      const url = css_urls[i];\n      const element = document.createElement(\"link\");\n      element.onload = on_load;\n      element.onerror = on_error.bind(null, url);\n      element.rel = \"stylesheet\";\n      element.type = \"text/css\";\n      element.href = url;\n      console.debug(\"Bokeh: injecting link tag for BokehJS stylesheet: \", url);\n      document.body.appendChild(element);\n    }\n\n    for (let i = 0; i < js_urls.length; i++) {\n      const url = js_urls[i];\n      const element = document.createElement('script');\n      element.onload = on_load;\n      element.onerror = on_error.bind(null, url);\n      element.async = false;\n      element.src = url;\n      console.debug(\"Bokeh: injecting script tag for BokehJS library: \", url);\n      document.head.appendChild(element);\n    }\n  };\n\n  function inject_raw_css(css) {\n    const element = document.createElement(\"style\");\n    element.appendChild(document.createTextNode(css));\n    document.body.appendChild(element);\n  }\n\n  \n  const js_urls = [\"https://cdn.bokeh.org/bokeh/release/bokeh-2.4.2.min.js\", \"https://cdn.bokeh.org/bokeh/release/bokeh-gl-2.4.2.min.js\", \"https://cdn.bokeh.org/bokeh/release/bokeh-widgets-2.4.2.min.js\", \"https://cdn.bokeh.org/bokeh/release/bokeh-tables-2.4.2.min.js\", \"https://cdn.bokeh.org/bokeh/release/bokeh-mathjax-2.4.2.min.js\"];\n  const css_urls = [];\n  \n\n  const inline_js = [\n    function(Bokeh) {\n      Bokeh.set_log_level(\"info\");\n    },\n    function(Bokeh) {\n    \n    \n    }\n  ];\n\n  function run_inline_js() {\n    \n    if (root.Bokeh !== undefined || force === true) {\n      \n    for (let i = 0; i < inline_js.length; i++) {\n      inline_js[i].call(root, root.Bokeh);\n    }\n    if (force === true) {\n        display_loaded();\n      }} else if (Date.now() < root._bokeh_timeout) {\n      setTimeout(run_inline_js, 100);\n    } else if (!root._bokeh_failed_load) {\n      console.log(\"Bokeh: BokehJS failed to load within specified timeout.\");\n      root._bokeh_failed_load = true;\n    } else if (force !== true) {\n      const cell = $(document.getElementById(\"1002\")).parents('.cell').data().cell;\n      cell.output_area.append_execute_result(NB_LOAD_WARNING)\n    }\n\n  }\n\n  if (root._bokeh_is_loading === 0) {\n    console.debug(\"Bokeh: BokehJS loaded, going straight to plotting\");\n    run_inline_js();\n  } else {\n    load_libs(css_urls, js_urls, function() {\n      console.debug(\"Bokeh: BokehJS plotting callback run at\", now());\n      run_inline_js();\n    });\n  }\n}(window));"
     },
     "metadata": {},
     "output_type": "display_data"
    }
   ],
   "source": [
    "pandas_bokeh.output_notebook()"
   ]
  },
  {
   "cell_type": "markdown",
   "metadata": {},
   "source": [
    "Luego, definimos los distintos gráficos a mostrar."
   ]
  },
  {
   "cell_type": "code",
   "execution_count": 17,
   "metadata": {},
   "outputs": [],
   "source": [
    "p_scatter= Hosp_sheet.groupby(['Nombre Servicio de Salud']).mean().plot_bokeh(kind=\"scatter\",y=\"Costo de instalar una cama [MM$]\",color='blue',plot_data_points=True,show_figure=False)\n",
    "p_bar= GRD_sheet.plot_bokeh(kind=\"barh\", y = \"Costo resolución en Clínica Privada [MM$]\",color='#d01c8b',plot_data_points=True,show_figure=False)"
   ]
  },
  {
   "cell_type": "code",
   "execution_count": 18,
   "metadata": {},
   "outputs": [
    {
     "name": "stdout",
     "output_type": "stream",
     "text": [
      "__x__values_original\n"
     ]
    }
   ],
   "source": [
    "p_line = Info_sheet[['GRD','Estadia']].groupby('GRD').mean().plot_bokeh(kind=\"line\",show_figure=False)\n",
    "p_pie= GRD_INFO.plot_bokeh.pie(y='Conteo',show_figure=False)"
   ]
  },
  {
   "cell_type": "markdown",
   "metadata": {},
   "source": [
    "Por último, se realiza el *Dashboard*"
   ]
  },
  {
   "cell_type": "code",
   "execution_count": 19,
   "metadata": {},
   "outputs": [
    {
     "name": "stderr",
     "output_type": "stream",
     "text": [
      "BokehDeprecationWarning: plot_width and plot_height was deprecated in Bokeh 2.4.0 and will be removed, use width or height instead.\n"
     ]
    },
    {
     "data": {
      "text/html": [
       "\n",
       "\n",
       "\n",
       "\n",
       "\n",
       "\n",
       "  <div class=\"bk-root\" id=\"09826a47-5048-4ce2-b7c1-0a414d0a7c66\" data-root-id=\"1343\"></div>\n"
      ]
     },
     "metadata": {},
     "output_type": "display_data"
    },
    {
     "data": {
      "application/javascript": [
       "(function(root) {\n",
       "  function embed_document(root) {\n",
       "    \n",
       "  const docs_json = {\"8ec71394-caf2-4b50-89b5-427b85b8b054\":{\"defs\":[],\"roots\":{\"references\":[{\"attributes\":{\"children\":[{\"id\":\"1342\"},{\"id\":\"1340\"}]},\"id\":\"1343\",\"type\":\"Column\"},{\"attributes\":{\"bottom_units\":\"screen\",\"coordinates\":null,\"fill_alpha\":0.5,\"fill_color\":\"lightgrey\",\"group\":null,\"left_units\":\"screen\",\"level\":\"overlay\",\"line_alpha\":1.0,\"line_color\":\"black\",\"line_dash\":[4,4],\"line_width\":2,\"right_units\":\"screen\",\"syncable\":false,\"top_units\":\"screen\"},\"id\":\"1121\",\"type\":\"BoxAnnotation\"},{\"attributes\":{\"callback\":null,\"mode\":\"hline\",\"renderers\":[{\"id\":\"1136\"}],\"tooltips\":[[\"x\",\"@__x__values_original\"],[\"Costo resoluci\\u00f3n en Cl\\u00ednica Privada [MM$]\",\"@{Costo resoluci\\u00f3n en Cl\\u00ednica Privada [MM$]}\"]]},\"id\":\"1149\",\"type\":\"HoverTool\"},{\"attributes\":{\"active_scroll\":{\"id\":\"1173\"},\"tools\":[{\"id\":\"1172\"},{\"id\":\"1173\"},{\"id\":\"1174\"},{\"id\":\"1175\"},{\"id\":\"1176\"},{\"id\":\"1177\"},{\"id\":\"1206\"}]},\"id\":\"1179\",\"type\":\"Toolbar\"},{\"attributes\":{\"coordinates\":null,\"group\":null},\"id\":\"1246\",\"type\":\"Title\"},{\"attributes\":{\"coordinates\":null,\"data_source\":{\"id\":\"1095\"},\"glyph\":{\"id\":\"1133\"},\"group\":null,\"hover_glyph\":null,\"muted_glyph\":{\"id\":\"1135\"},\"nonselection_glyph\":{\"id\":\"1134\"},\"view\":{\"id\":\"1137\"}},\"id\":\"1136\",\"type\":\"GlyphRenderer\"},{\"attributes\":{\"below\":[{\"id\":\"1256\"}],\"center\":[{\"id\":\"1259\"},{\"id\":\"1263\"},{\"id\":\"1297\"}],\"height\":400,\"left\":[{\"id\":\"1260\"}],\"renderers\":[{\"id\":\"1285\"}],\"title\":{\"id\":\"1246\"},\"toolbar\":{\"id\":\"1271\"},\"toolbar_location\":null,\"width\":450,\"x_range\":{\"id\":\"1248\"},\"x_scale\":{\"id\":\"1252\"},\"y_range\":{\"id\":\"1250\"},\"y_scale\":{\"id\":\"1254\"}},\"id\":\"1245\",\"subtype\":\"Figure\",\"type\":\"Plot\"},{\"attributes\":{\"axis\":{\"id\":\"1260\"},\"coordinates\":null,\"dimension\":1,\"grid_line_color\":null,\"group\":null,\"ticker\":null},\"id\":\"1263\",\"type\":\"Grid\"},{\"attributes\":{},\"id\":\"1261\",\"type\":\"BasicTicker\"},{\"attributes\":{\"active_scroll\":{\"id\":\"1116\"},\"tools\":[{\"id\":\"1115\"},{\"id\":\"1116\"},{\"id\":\"1117\"},{\"id\":\"1118\"},{\"id\":\"1119\"},{\"id\":\"1120\"},{\"id\":\"1149\"}]},\"id\":\"1122\",\"type\":\"Toolbar\"},{\"attributes\":{},\"id\":\"1265\",\"type\":\"WheelZoomTool\"},{\"attributes\":{},\"id\":\"1264\",\"type\":\"PanTool\"},{\"attributes\":{\"overlay\":{\"id\":\"1270\"}},\"id\":\"1266\",\"type\":\"BoxZoomTool\"},{\"attributes\":{},\"id\":\"1267\",\"type\":\"SaveTool\"},{\"attributes\":{},\"id\":\"1268\",\"type\":\"ResetTool\"},{\"attributes\":{},\"id\":\"1019\",\"type\":\"BasicTicker\"},{\"attributes\":{\"axis\":{\"id\":\"1164\"},\"coordinates\":null,\"group\":null,\"ticker\":null},\"id\":\"1167\",\"type\":\"Grid\"},{\"attributes\":{},\"id\":\"1173\",\"type\":\"WheelZoomTool\"},{\"attributes\":{\"axis_label\":\"Estadia\",\"coordinates\":null,\"formatter\":{\"id\":\"1197\"},\"group\":null,\"major_label_policy\":{\"id\":\"1198\"},\"ticker\":{\"id\":\"1169\"}},\"id\":\"1168\",\"type\":\"LinearAxis\"},{\"attributes\":{\"axis_label\":\"Costo resoluci\\u00f3n en Cl\\u00ednica Privada [MM$]\",\"coordinates\":null,\"formatter\":{\"id\":\"1142\"},\"group\":null,\"major_label_policy\":{\"id\":\"1143\"},\"ticker\":{\"id\":\"1108\"}},\"id\":\"1107\",\"type\":\"LinearAxis\"},{\"attributes\":{\"label\":{\"field\":\"__x__values_original\"},\"renderers\":[{\"id\":\"1285\"}]},\"id\":\"1298\",\"type\":\"LegendItem\"},{\"attributes\":{\"callback\":null,\"renderers\":[{\"id\":\"1285\"}],\"tooltips\":[[\"GRD\",\"@__x__values_original\"],[\"Conteo\",\"@{Conteo}\"]]},\"id\":\"1299\",\"type\":\"HoverTool\"},{\"attributes\":{},\"id\":\"1176\",\"type\":\"ResetTool\"},{\"attributes\":{\"axis_label\":\"GRD\",\"coordinates\":null,\"formatter\":{\"id\":\"1186\"},\"group\":null,\"major_label_policy\":{\"id\":\"1200\"},\"ticker\":{\"id\":\"1208\"}},\"id\":\"1164\",\"type\":\"LinearAxis\"},{\"attributes\":{\"bottom_units\":\"screen\",\"coordinates\":null,\"fill_alpha\":0.5,\"fill_color\":\"lightgrey\",\"group\":null,\"left_units\":\"screen\",\"level\":\"overlay\",\"line_alpha\":1.0,\"line_color\":\"black\",\"line_dash\":[4,4],\"line_width\":2,\"right_units\":\"screen\",\"syncable\":false,\"top_units\":\"screen\"},\"id\":\"1270\",\"type\":\"BoxAnnotation\"},{\"attributes\":{\"ticks\":[0,1,2,3,4,5,6,7,8,9]},\"id\":\"1301\",\"type\":\"FixedTicker\"},{\"attributes\":{\"click_policy\":\"hide\",\"coordinates\":null,\"group\":null,\"items\":[{\"id\":\"1148\"}]},\"id\":\"1147\",\"type\":\"Legend\"},{\"attributes\":{\"axis\":{\"id\":\"1168\"},\"coordinates\":null,\"dimension\":1,\"group\":null,\"ticker\":null},\"id\":\"1171\",\"type\":\"Grid\"},{\"attributes\":{\"fill_color\":{\"value\":\"#1f77b4\"},\"line_width\":{\"value\":2},\"size\":{\"value\":10},\"x\":{\"field\":\"__x__values\"},\"y\":{\"field\":\"y\"}},\"id\":\"1040\",\"type\":\"Scatter\"},{\"attributes\":{\"overlay\":{\"id\":\"1178\"}},\"id\":\"1174\",\"type\":\"BoxZoomTool\"},{\"attributes\":{\"field\":\"Conteo_angle\"},\"id\":\"1279\",\"type\":\"CumSum\"},{\"attributes\":{\"tools\":[{\"id\":\"1264\"},{\"id\":\"1265\"},{\"id\":\"1266\"},{\"id\":\"1267\"},{\"id\":\"1268\"},{\"id\":\"1269\"},{\"id\":\"1299\"}]},\"id\":\"1271\",\"type\":\"Toolbar\"},{\"attributes\":{\"line_alpha\":0.1,\"line_color\":\"#1f77b4\",\"line_width\":2,\"x\":{\"field\":\"__x__values\"},\"y\":{\"field\":\"Estadia\"}},\"id\":\"1191\",\"type\":\"Line\"},{\"attributes\":{\"toolbars\":[{\"id\":\"1122\"},{\"id\":\"1029\"},{\"id\":\"1179\"},{\"id\":\"1271\"}],\"tools\":[{\"id\":\"1115\"},{\"id\":\"1116\"},{\"id\":\"1117\"},{\"id\":\"1118\"},{\"id\":\"1119\"},{\"id\":\"1120\"},{\"id\":\"1149\"},{\"id\":\"1022\"},{\"id\":\"1023\"},{\"id\":\"1024\"},{\"id\":\"1025\"},{\"id\":\"1026\"},{\"id\":\"1027\"},{\"id\":\"1056\"},{\"id\":\"1172\"},{\"id\":\"1173\"},{\"id\":\"1174\"},{\"id\":\"1175\"},{\"id\":\"1176\"},{\"id\":\"1177\"},{\"id\":\"1206\"},{\"id\":\"1264\"},{\"id\":\"1265\"},{\"id\":\"1266\"},{\"id\":\"1267\"},{\"id\":\"1268\"},{\"id\":\"1269\"},{\"id\":\"1299\"}]},\"id\":\"1341\",\"type\":\"ProxyToolbar\"},{\"attributes\":{\"coordinates\":null,\"formatter\":{\"id\":\"1129\"},\"group\":null,\"major_label_policy\":{\"id\":\"1140\"},\"ticker\":{\"id\":\"1151\"}},\"id\":\"1111\",\"type\":\"LinearAxis\"},{\"attributes\":{\"code\":\"\\n                                var labels = {0: 'GRD1', 1: 'GRD10', 2: 'GRD2', 3: 'GRD3', 4: 'GRD4', 5: 'GRD5', 6: 'GRD6', 7: 'GRD7', 8: 'GRD8', 9: 'GRD9'};\\n                                return labels[tick];\\n                                \"},\"id\":\"1186\",\"type\":\"FuncTickFormatter\"},{\"attributes\":{\"below\":[{\"id\":\"1014\"}],\"center\":[{\"id\":\"1017\"},{\"id\":\"1021\"},{\"id\":\"1054\"}],\"height\":400,\"left\":[{\"id\":\"1018\"}],\"output_backend\":\"webgl\",\"renderers\":[{\"id\":\"1043\"}],\"sizing_mode\":\"fixed\",\"title\":{\"id\":\"1004\"},\"toolbar\":{\"id\":\"1029\"},\"toolbar_location\":null,\"width\":450,\"x_range\":{\"id\":\"1006\"},\"x_scale\":{\"id\":\"1010\"},\"y_range\":{\"id\":\"1008\"},\"y_scale\":{\"id\":\"1012\"}},\"id\":\"1003\",\"subtype\":\"Figure\",\"type\":\"Plot\"},{\"attributes\":{\"source\":{\"id\":\"1095\"}},\"id\":\"1137\",\"type\":\"CDSView\"},{\"attributes\":{},\"id\":\"1052\",\"type\":\"Selection\"},{\"attributes\":{\"source\":{\"id\":\"1188\"}},\"id\":\"1194\",\"type\":\"CDSView\"},{\"attributes\":{},\"id\":\"1101\",\"type\":\"DataRange1d\"},{\"attributes\":{\"coordinates\":null,\"group\":null},\"id\":\"1154\",\"type\":\"Title\"},{\"attributes\":{},\"id\":\"1200\",\"type\":\"AllLabels\"},{\"attributes\":{\"toolbar\":{\"id\":\"1341\"},\"toolbar_location\":\"above\"},\"id\":\"1342\",\"type\":\"ToolbarBox\"},{\"attributes\":{\"coordinates\":null,\"group\":null},\"id\":\"1097\",\"type\":\"Title\"},{\"attributes\":{},\"id\":\"1027\",\"type\":\"HelpTool\"},{\"attributes\":{\"callback\":null,\"renderers\":[{\"id\":\"1043\"}],\"tooltips\":[[\"Nombre Servicio de Salud\",\"@__x__values_original\"],[\"Costo de instalar una cama [MM$]\",\"@y\"]]},\"id\":\"1056\",\"type\":\"HoverTool\"},{\"attributes\":{\"label\":{\"value\":\"Hide/Show\"},\"renderers\":[{\"id\":\"1043\"}]},\"id\":\"1055\",\"type\":\"LegendItem\"},{\"attributes\":{\"coordinates\":null,\"group\":null,\"items\":[{\"id\":\"1298\"}]},\"id\":\"1297\",\"type\":\"Legend\"},{\"attributes\":{\"range\":{\"id\":\"1101\"}},\"id\":\"1131\",\"type\":\"Dodge\"},{\"attributes\":{\"click_policy\":\"hide\",\"coordinates\":null,\"group\":null,\"items\":[{\"id\":\"1205\"}]},\"id\":\"1204\",\"type\":\"Legend\"},{\"attributes\":{\"fill_color\":{\"value\":\"#d01c8b\"},\"hatch_color\":{\"value\":\"#d01c8b\"},\"height\":{\"value\":0.7},\"line_color\":{\"value\":\"#d01c8b\"},\"line_width\":{\"value\":2},\"right\":{\"field\":\"Costo resoluci\\u00f3n en Cl\\u00ednica Privada [MM$]\"},\"y\":{\"field\":\"__x__values\",\"transform\":{\"id\":\"1131\"}}},\"id\":\"1133\",\"type\":\"HBar\"},{\"attributes\":{\"source\":{\"id\":\"1280\"}},\"id\":\"1286\",\"type\":\"CDSView\"},{\"attributes\":{},\"id\":\"1144\",\"type\":\"UnionRenderers\"},{\"attributes\":{\"below\":[{\"id\":\"1164\"}],\"center\":[{\"id\":\"1167\"},{\"id\":\"1171\"},{\"id\":\"1204\"}],\"height\":400,\"left\":[{\"id\":\"1168\"}],\"output_backend\":\"webgl\",\"renderers\":[{\"id\":\"1193\"}],\"sizing_mode\":\"fixed\",\"title\":{\"id\":\"1154\"},\"toolbar\":{\"id\":\"1179\"},\"toolbar_location\":null,\"width\":450,\"x_range\":{\"id\":\"1156\"},\"x_scale\":{\"id\":\"1160\"},\"y_range\":{\"id\":\"1158\"},\"y_scale\":{\"id\":\"1162\"}},\"id\":\"1153\",\"subtype\":\"Figure\",\"type\":\"Plot\"},{\"attributes\":{\"line_alpha\":0.2,\"line_color\":\"#1f77b4\",\"line_width\":2,\"x\":{\"field\":\"__x__values\"},\"y\":{\"field\":\"Estadia\"}},\"id\":\"1192\",\"type\":\"Line\"},{\"attributes\":{\"end_angle\":{\"expr\":{\"id\":\"1279\"}},\"fill_alpha\":{\"value\":0.2},\"fill_color\":{\"field\":\"color\"},\"hatch_alpha\":{\"value\":0.2},\"inner_radius\":{\"field\":\"inner_radius\"},\"line_alpha\":{\"value\":0.2},\"line_color\":{\"value\":\"white\"},\"line_width\":{\"value\":2},\"outer_radius\":{\"field\":\"outer_radius\"},\"start_angle\":{\"expr\":{\"id\":\"1278\"}},\"x\":{\"value\":0},\"y\":{\"value\":0}},\"id\":\"1284\",\"type\":\"AnnularWedge\"},{\"attributes\":{},\"id\":\"1119\",\"type\":\"ResetTool\"},{\"attributes\":{\"end\":2,\"start\":-1.7},\"id\":\"1248\",\"type\":\"Range1d\"},{\"attributes\":{\"end\":1.2,\"start\":-1.2},\"id\":\"1250\",\"type\":\"Range1d\"},{\"attributes\":{\"coordinates\":null,\"formatter\":{\"id\":\"1289\"},\"group\":null,\"major_label_policy\":{\"id\":\"1290\"},\"ticker\":{\"id\":\"1261\"},\"visible\":false},\"id\":\"1260\",\"type\":\"LinearAxis\"},{\"attributes\":{\"code\":\"\\n                                var labels = {0: 'Metropolitano Central                             ', 1: 'Metropolitano Norte                               ', 2: 'Metropolitano Occidente                           ', 3: 'Metropolitano Oriente                             ', 4: 'Metropolitano Sur                                 ', 5: 'Metropolitano Sur Oriente                         '};\\n                                return labels[tick];\\n                                \"},\"id\":\"1036\",\"type\":\"FuncTickFormatter\"},{\"attributes\":{\"coordinates\":null,\"formatter\":{\"id\":\"1292\"},\"group\":null,\"major_label_policy\":{\"id\":\"1293\"},\"ticker\":{\"id\":\"1301\"},\"visible\":false},\"id\":\"1256\",\"type\":\"LinearAxis\"},{\"attributes\":{},\"id\":\"1269\",\"type\":\"HelpTool\"},{\"attributes\":{},\"id\":\"1047\",\"type\":\"BasicTickFormatter\"},{\"attributes\":{\"line_color\":\"#1f77b4\",\"line_width\":2,\"x\":{\"field\":\"__x__values\"},\"y\":{\"field\":\"Estadia\"}},\"id\":\"1190\",\"type\":\"Line\"},{\"attributes\":{\"axis\":{\"id\":\"1256\"},\"coordinates\":null,\"grid_line_color\":null,\"group\":null,\"ticker\":null},\"id\":\"1259\",\"type\":\"Grid\"},{\"attributes\":{\"axis\":{\"id\":\"1014\"},\"coordinates\":null,\"group\":null,\"ticker\":null},\"id\":\"1017\",\"type\":\"Grid\"},{\"attributes\":{},\"id\":\"1201\",\"type\":\"UnionRenderers\"},{\"attributes\":{},\"id\":\"1254\",\"type\":\"LinearScale\"},{\"attributes\":{\"ticks\":[0,1,2,3,4,5]},\"id\":\"1058\",\"type\":\"FixedTicker\"},{\"attributes\":{},\"id\":\"1252\",\"type\":\"LinearScale\"},{\"attributes\":{},\"id\":\"1145\",\"type\":\"Selection\"},{\"attributes\":{\"bottom_units\":\"screen\",\"coordinates\":null,\"fill_alpha\":0.5,\"fill_color\":\"lightgrey\",\"group\":null,\"left_units\":\"screen\",\"level\":\"overlay\",\"line_alpha\":1.0,\"line_color\":\"black\",\"line_dash\":[4,4],\"line_width\":2,\"right_units\":\"screen\",\"syncable\":false,\"top_units\":\"screen\"},\"id\":\"1178\",\"type\":\"BoxAnnotation\"},{\"attributes\":{},\"id\":\"1169\",\"type\":\"BasicTicker\"},{\"attributes\":{},\"id\":\"1197\",\"type\":\"BasicTickFormatter\"},{\"attributes\":{},\"id\":\"1051\",\"type\":\"UnionRenderers\"},{\"attributes\":{},\"id\":\"1198\",\"type\":\"AllLabels\"},{\"attributes\":{},\"id\":\"1105\",\"type\":\"LinearScale\"},{\"attributes\":{\"fill_alpha\":{\"value\":0.1},\"fill_color\":{\"value\":\"#1f77b4\"},\"hatch_alpha\":{\"value\":0.1},\"line_alpha\":{\"value\":0.1},\"line_width\":{\"value\":2},\"size\":{\"value\":10},\"x\":{\"field\":\"__x__values\"},\"y\":{\"field\":\"y\"}},\"id\":\"1041\",\"type\":\"Scatter\"},{\"attributes\":{\"coordinates\":null,\"data_source\":{\"id\":\"1038\"},\"glyph\":{\"id\":\"1040\"},\"group\":null,\"hover_glyph\":null,\"muted_glyph\":{\"id\":\"1042\"},\"nonselection_glyph\":{\"id\":\"1041\"},\"view\":{\"id\":\"1044\"}},\"id\":\"1043\",\"type\":\"GlyphRenderer\"},{\"attributes\":{},\"id\":\"1143\",\"type\":\"AllLabels\"},{\"attributes\":{},\"id\":\"1142\",\"type\":\"BasicTickFormatter\"},{\"attributes\":{\"fill_alpha\":{\"value\":0.2},\"fill_color\":{\"value\":\"#1f77b4\"},\"hatch_alpha\":{\"value\":0.2},\"line_alpha\":{\"value\":0.2},\"line_width\":{\"value\":2},\"size\":{\"value\":10},\"x\":{\"field\":\"__x__values\"},\"y\":{\"field\":\"y\"}},\"id\":\"1042\",\"type\":\"Scatter\"},{\"attributes\":{\"data\":{\"Estadia\":{\"__ndarray__\":\"AAAAAAAAJEAAAAAAAAAkQAAAAAAAABBAAAAAAAAACEAAAAAAAAAYQAAAAAAAABBAAAAAAAAAFEAAAAAAAAAQQAAAAAAAABBAAAAAAAAAFEA=\",\"dtype\":\"float64\",\"order\":\"little\",\"shape\":[10]},\"__x__values\":[0,1,2,3,4,5,6,7,8,9],\"__x__values_original\":[\"GRD1\",\"GRD10\",\"GRD2\",\"GRD3\",\"GRD4\",\"GRD5\",\"GRD6\",\"GRD7\",\"GRD8\",\"GRD9\"]},\"selected\":{\"id\":\"1202\"},\"selection_policy\":{\"id\":\"1201\"}},\"id\":\"1188\",\"type\":\"ColumnDataSource\"},{\"attributes\":{\"source\":{\"id\":\"1038\"}},\"id\":\"1044\",\"type\":\"CDSView\"},{\"attributes\":{},\"id\":\"1140\",\"type\":\"AllLabels\"},{\"attributes\":{\"axis\":{\"id\":\"1107\"},\"coordinates\":null,\"group\":null,\"ticker\":null},\"id\":\"1110\",\"type\":\"Grid\"},{\"attributes\":{\"active_scroll\":{\"id\":\"1023\"},\"tools\":[{\"id\":\"1022\"},{\"id\":\"1023\"},{\"id\":\"1024\"},{\"id\":\"1025\"},{\"id\":\"1026\"},{\"id\":\"1027\"},{\"id\":\"1056\"}]},\"id\":\"1029\",\"type\":\"Toolbar\"},{\"attributes\":{\"axis\":{\"id\":\"1111\"},\"coordinates\":null,\"dimension\":1,\"group\":null,\"ticker\":null},\"id\":\"1114\",\"type\":\"Grid\"},{\"attributes\":{},\"id\":\"1294\",\"type\":\"UnionRenderers\"},{\"attributes\":{\"click_policy\":\"hide\",\"coordinates\":null,\"group\":null,\"items\":[{\"id\":\"1055\"}]},\"id\":\"1054\",\"type\":\"Legend\"},{\"attributes\":{\"coordinates\":null,\"data_source\":{\"id\":\"1188\"},\"glyph\":{\"id\":\"1190\"},\"group\":null,\"hover_glyph\":null,\"muted_glyph\":{\"id\":\"1192\"},\"nonselection_glyph\":{\"id\":\"1191\"},\"view\":{\"id\":\"1194\"}},\"id\":\"1193\",\"type\":\"GlyphRenderer\"},{\"attributes\":{},\"id\":\"1202\",\"type\":\"Selection\"},{\"attributes\":{\"ticks\":[0,1,2,3,4,5,6,7,8,9]},\"id\":\"1151\",\"type\":\"FixedTicker\"},{\"attributes\":{\"axis_label\":\"Nombre Servicio de Salud\",\"coordinates\":null,\"formatter\":{\"id\":\"1036\"},\"group\":null,\"major_label_policy\":{\"id\":\"1050\"},\"ticker\":{\"id\":\"1058\"}},\"id\":\"1014\",\"type\":\"LinearAxis\"},{\"attributes\":{\"fill_alpha\":{\"value\":0.2},\"fill_color\":{\"value\":\"#d01c8b\"},\"hatch_alpha\":{\"value\":0.2},\"hatch_color\":{\"value\":\"#d01c8b\"},\"height\":{\"value\":0.7},\"line_alpha\":{\"value\":0.2},\"line_color\":{\"value\":\"#d01c8b\"},\"line_width\":{\"value\":2},\"right\":{\"field\":\"Costo resoluci\\u00f3n en Cl\\u00ednica Privada [MM$]\"},\"y\":{\"field\":\"__x__values\",\"transform\":{\"id\":\"1131\"}}},\"id\":\"1135\",\"type\":\"HBar\"},{\"attributes\":{},\"id\":\"1115\",\"type\":\"PanTool\"},{\"attributes\":{\"fill_alpha\":{\"value\":0.1},\"fill_color\":{\"value\":\"#d01c8b\"},\"hatch_alpha\":{\"value\":0.1},\"hatch_color\":{\"value\":\"#d01c8b\"},\"height\":{\"value\":0.7},\"line_alpha\":{\"value\":0.1},\"line_color\":{\"value\":\"#d01c8b\"},\"line_width\":{\"value\":2},\"right\":{\"field\":\"Costo resoluci\\u00f3n en Cl\\u00ednica Privada [MM$]\"},\"y\":{\"field\":\"__x__values\",\"transform\":{\"id\":\"1131\"}}},\"id\":\"1134\",\"type\":\"HBar\"},{\"attributes\":{\"field\":\"Conteo_angle\",\"include_zero\":true},\"id\":\"1278\",\"type\":\"CumSum\"},{\"attributes\":{},\"id\":\"1175\",\"type\":\"SaveTool\"},{\"attributes\":{},\"id\":\"1177\",\"type\":\"HelpTool\"},{\"attributes\":{},\"id\":\"1293\",\"type\":\"AllLabels\"},{\"attributes\":{\"code\":\"\\n                                    var labels = {0: '0', 1: '1', 2: '2', 3: '3', 4: '4', 5: '5', 6: '6', 7: '7', 8: '8', 9: '9'};\\n                                    return labels[tick];\\n                                    \"},\"id\":\"1129\",\"type\":\"FuncTickFormatter\"},{\"attributes\":{\"coordinates\":null,\"group\":null},\"id\":\"1004\",\"type\":\"Title\"},{\"attributes\":{\"below\":[{\"id\":\"1107\"}],\"center\":[{\"id\":\"1110\"},{\"id\":\"1114\"},{\"id\":\"1147\"}],\"height\":400,\"left\":[{\"id\":\"1111\"}],\"output_backend\":\"webgl\",\"renderers\":[{\"id\":\"1136\"}],\"sizing_mode\":\"fixed\",\"title\":{\"id\":\"1097\"},\"toolbar\":{\"id\":\"1122\"},\"toolbar_location\":null,\"width\":450,\"x_range\":{\"id\":\"1099\"},\"x_scale\":{\"id\":\"1103\"},\"y_range\":{\"id\":\"1101\"},\"y_scale\":{\"id\":\"1105\"}},\"id\":\"1096\",\"subtype\":\"Figure\",\"type\":\"Plot\"},{\"attributes\":{},\"id\":\"1292\",\"type\":\"BasicTickFormatter\"},{\"attributes\":{},\"id\":\"1103\",\"type\":\"LinearScale\"},{\"attributes\":{},\"id\":\"1118\",\"type\":\"SaveTool\"},{\"attributes\":{},\"id\":\"1289\",\"type\":\"BasicTickFormatter\"},{\"attributes\":{\"ticks\":[0,1,2,3,4,5,6,7,8,9]},\"id\":\"1208\",\"type\":\"FixedTicker\"},{\"attributes\":{},\"id\":\"1006\",\"type\":\"DataRange1d\"},{\"attributes\":{},\"id\":\"1290\",\"type\":\"AllLabels\"},{\"attributes\":{\"callback\":null,\"mode\":\"vline\",\"renderers\":[{\"id\":\"1193\"}],\"tooltips\":[[\"GRD\",\"@__x__values_original\"],[\"Estadia\",\"@{Estadia}\"]]},\"id\":\"1206\",\"type\":\"HoverTool\"},{\"attributes\":{},\"id\":\"1050\",\"type\":\"AllLabels\"},{\"attributes\":{},\"id\":\"1295\",\"type\":\"Selection\"},{\"attributes\":{},\"id\":\"1120\",\"type\":\"HelpTool\"},{\"attributes\":{},\"id\":\"1160\",\"type\":\"LinearScale\"},{\"attributes\":{\"axis\":{\"id\":\"1018\"},\"coordinates\":null,\"dimension\":1,\"group\":null,\"ticker\":null},\"id\":\"1021\",\"type\":\"Grid\"},{\"attributes\":{},\"id\":\"1162\",\"type\":\"LinearScale\"},{\"attributes\":{},\"id\":\"1156\",\"type\":\"DataRange1d\"},{\"attributes\":{\"data\":{\"Costo resoluci\\u00f3n en Cl\\u00ednica Privada [MM$]\":{\"__ndarray__\":\"XrpJDAKrH0C8dJMYBFYLQFK4HoXrUQdAjZduEoPAGEBU46WbxCAbQKAaL90khhNA1XjpJjEIBUDhehSuR+EaQH9qvHSTGBZARIts5/upH0A=\",\"dtype\":\"float64\",\"order\":\"little\",\"shape\":[10]},\"__x__values\":[0,1,2,3,4,5,6,7,8,9],\"__x__values_original\":[0,1,2,3,4,5,6,7,8,9]},\"selected\":{\"id\":\"1145\"},\"selection_policy\":{\"id\":\"1144\"}},\"id\":\"1095\",\"type\":\"ColumnDataSource\"},{\"attributes\":{\"data\":{\"Conteo\":[6587,6479,6469,6597,6422,6684,6502,6645,6497,6652],\"Conteo_angle\":{\"__ndarray__\":\"A2WwWZM15D8kS83/v+DjP1eZjVHl2OM/0BbwB2495D9Fb5Ue+7PjPxkI5/PCgeQ/sP2SkNDy4z/eBVVMIWPkP8okcznj7uM/u2hOxqBo5D8=\",\"dtype\":\"float64\",\"order\":\"little\",\"shape\":[10]},\"__x__values\":[\"GRD1\",\"GRD10\",\"GRD2\",\"GRD3\",\"GRD4\",\"GRD5\",\"GRD6\",\"GRD7\",\"GRD8\",\"GRD9\"],\"__x__values_original\":[\"GRD1\",\"GRD10\",\"GRD2\",\"GRD3\",\"GRD4\",\"GRD5\",\"GRD6\",\"GRD7\",\"GRD8\",\"GRD9\"],\"color\":[\"#1f77b4\",\"#ff7f0e\",\"#2ca02c\",\"#d62728\",\"#9467bd\",\"#8c564b\",\"#e377c2\",\"#7f7f7f\",\"#bcbd22\",\"#17becf\"],\"inner_radius\":[0.0,0.0,0.0,0.0,0.0,0.0,0.0,0.0,0.0,0.0],\"outer_radius\":[0.9,0.9,0.9,0.9,0.9,0.9,0.9,0.9,0.9,0.9]},\"selected\":{\"id\":\"1295\"},\"selection_policy\":{\"id\":\"1294\"}},\"id\":\"1280\",\"type\":\"ColumnDataSource\"},{\"attributes\":{\"end_angle\":{\"expr\":{\"id\":\"1279\"}},\"fill_color\":{\"field\":\"color\"},\"inner_radius\":{\"field\":\"inner_radius\"},\"line_color\":{\"value\":\"white\"},\"line_width\":{\"value\":2},\"outer_radius\":{\"field\":\"outer_radius\"},\"start_angle\":{\"expr\":{\"id\":\"1278\"}},\"x\":{\"value\":0},\"y\":{\"value\":0}},\"id\":\"1282\",\"type\":\"AnnularWedge\"},{\"attributes\":{},\"id\":\"1022\",\"type\":\"PanTool\"},{\"attributes\":{\"coordinates\":null,\"data_source\":{\"id\":\"1280\"},\"glyph\":{\"id\":\"1282\"},\"group\":null,\"hover_glyph\":null,\"muted_glyph\":{\"id\":\"1284\"},\"nonselection_glyph\":{\"id\":\"1283\"},\"view\":{\"id\":\"1286\"}},\"id\":\"1285\",\"type\":\"GlyphRenderer\"},{\"attributes\":{\"end_angle\":{\"expr\":{\"id\":\"1279\"}},\"fill_alpha\":{\"value\":0.1},\"fill_color\":{\"field\":\"color\"},\"hatch_alpha\":{\"value\":0.1},\"inner_radius\":{\"field\":\"inner_radius\"},\"line_alpha\":{\"value\":0.1},\"line_color\":{\"value\":\"white\"},\"line_width\":{\"value\":2},\"outer_radius\":{\"field\":\"outer_radius\"},\"start_angle\":{\"expr\":{\"id\":\"1278\"}},\"x\":{\"value\":0},\"y\":{\"value\":0}},\"id\":\"1283\",\"type\":\"AnnularWedge\"},{\"attributes\":{},\"id\":\"1026\",\"type\":\"ResetTool\"},{\"attributes\":{},\"id\":\"1158\",\"type\":\"DataRange1d\"},{\"attributes\":{\"overlay\":{\"id\":\"1121\"}},\"id\":\"1117\",\"type\":\"BoxZoomTool\"},{\"attributes\":{},\"id\":\"1025\",\"type\":\"SaveTool\"},{\"attributes\":{},\"id\":\"1108\",\"type\":\"BasicTicker\"},{\"attributes\":{\"overlay\":{\"id\":\"1028\"}},\"id\":\"1024\",\"type\":\"BoxZoomTool\"},{\"attributes\":{},\"id\":\"1116\",\"type\":\"WheelZoomTool\"},{\"attributes\":{},\"id\":\"1048\",\"type\":\"AllLabels\"},{\"attributes\":{\"axis_label\":\"Costo de instalar una cama [MM$]\",\"coordinates\":null,\"formatter\":{\"id\":\"1047\"},\"group\":null,\"major_label_policy\":{\"id\":\"1048\"},\"ticker\":{\"id\":\"1019\"}},\"id\":\"1018\",\"type\":\"LinearAxis\"},{\"attributes\":{\"label\":{\"value\":\" Estadia\"},\"renderers\":[{\"id\":\"1193\"}]},\"id\":\"1205\",\"type\":\"LegendItem\"},{\"attributes\":{},\"id\":\"1099\",\"type\":\"DataRange1d\"},{\"attributes\":{\"bottom_units\":\"screen\",\"coordinates\":null,\"fill_alpha\":0.5,\"fill_color\":\"lightgrey\",\"group\":null,\"left_units\":\"screen\",\"level\":\"overlay\",\"line_alpha\":1.0,\"line_color\":\"black\",\"line_dash\":[4,4],\"line_width\":2,\"right_units\":\"screen\",\"syncable\":false,\"top_units\":\"screen\"},\"id\":\"1028\",\"type\":\"BoxAnnotation\"},{\"attributes\":{\"children\":[[{\"id\":\"1096\"},0,0],[{\"id\":\"1003\"},0,1],[{\"id\":\"1153\"},1,0],[{\"id\":\"1245\"},1,1]]},\"id\":\"1340\",\"type\":\"GridBox\"},{\"attributes\":{},\"id\":\"1012\",\"type\":\"LinearScale\"},{\"attributes\":{\"label\":{\"value\":\" Costo resoluci\\u00f3n en Cl\\u00ednica Privada [MM$]\"},\"renderers\":[{\"id\":\"1136\"}]},\"id\":\"1148\",\"type\":\"LegendItem\"},{\"attributes\":{\"data\":{\"__x__values\":[0,1,2,3,4,5],\"__x__values_original\":[\"Metropolitano Central                             \",\"Metropolitano Norte                               \",\"Metropolitano Occidente                           \",\"Metropolitano Oriente                             \",\"Metropolitano Sur                                 \",\"Metropolitano Sur Oriente                         \"],\"y\":{\"__ndarray__\":\"q6qqqqqulEAAAAAAAPyVQAAAAAAA0JNAAAAAAADJkkDNzMzMzJCSQAAAAAAAipFA\",\"dtype\":\"float64\",\"order\":\"little\",\"shape\":[6]}},\"selected\":{\"id\":\"1052\"},\"selection_policy\":{\"id\":\"1051\"}},\"id\":\"1038\",\"type\":\"ColumnDataSource\"},{\"attributes\":{},\"id\":\"1172\",\"type\":\"PanTool\"},{\"attributes\":{},\"id\":\"1010\",\"type\":\"LinearScale\"},{\"attributes\":{},\"id\":\"1023\",\"type\":\"WheelZoomTool\"},{\"attributes\":{},\"id\":\"1008\",\"type\":\"DataRange1d\"}],\"root_ids\":[\"1343\"]},\"title\":\"Bokeh Application\",\"version\":\"2.4.2\"}};\n",
       "  const render_items = [{\"docid\":\"8ec71394-caf2-4b50-89b5-427b85b8b054\",\"root_ids\":[\"1343\"],\"roots\":{\"1343\":\"09826a47-5048-4ce2-b7c1-0a414d0a7c66\"}}];\n",
       "  root.Bokeh.embed.embed_items_notebook(docs_json, render_items);\n",
       "\n",
       "  }\n",
       "  if (root.Bokeh !== undefined) {\n",
       "    embed_document(root);\n",
       "  } else {\n",
       "    let attempts = 0;\n",
       "    const timer = setInterval(function(root) {\n",
       "      if (root.Bokeh !== undefined) {\n",
       "        clearInterval(timer);\n",
       "        embed_document(root);\n",
       "      } else {\n",
       "        attempts++;\n",
       "        if (attempts > 100) {\n",
       "          clearInterval(timer);\n",
       "          console.log(\"Bokeh: ERROR: Unable to run BokehJS code because BokehJS library is missing\");\n",
       "        }\n",
       "      }\n",
       "    }, 10, root)\n",
       "  }\n",
       "})(window);"
      ],
      "application/vnd.bokehjs_exec.v0+json": ""
     },
     "metadata": {
      "application/vnd.bokehjs_exec.v0+json": {
       "id": "1343"
      }
     },
     "output_type": "display_data"
    },
    {
     "data": {
      "text/html": [
       "<div style=\"display: table;\"><div style=\"display: table-row;\"><div style=\"display: table-cell;\"><b title=\"bokeh.models.layouts.Column\">Column</b>(</div><div style=\"display: table-cell;\">id&nbsp;=&nbsp;'1343', <span id=\"1543\" style=\"cursor: pointer;\">&hellip;)</span></div></div><div class=\"1542\" style=\"display: none;\"><div style=\"display: table-cell;\"></div><div style=\"display: table-cell;\">align&nbsp;=&nbsp;'start',</div></div><div class=\"1542\" style=\"display: none;\"><div style=\"display: table-cell;\"></div><div style=\"display: table-cell;\">aspect_ratio&nbsp;=&nbsp;None,</div></div><div class=\"1542\" style=\"display: none;\"><div style=\"display: table-cell;\"></div><div style=\"display: table-cell;\">background&nbsp;=&nbsp;None,</div></div><div class=\"1542\" style=\"display: none;\"><div style=\"display: table-cell;\"></div><div style=\"display: table-cell;\">children&nbsp;=&nbsp;[ToolbarBox(id='1342', ...), GridBox(id='1340', ...)],</div></div><div class=\"1542\" style=\"display: none;\"><div style=\"display: table-cell;\"></div><div style=\"display: table-cell;\">css_classes&nbsp;=&nbsp;[],</div></div><div class=\"1542\" style=\"display: none;\"><div style=\"display: table-cell;\"></div><div style=\"display: table-cell;\">disabled&nbsp;=&nbsp;False,</div></div><div class=\"1542\" style=\"display: none;\"><div style=\"display: table-cell;\"></div><div style=\"display: table-cell;\">height&nbsp;=&nbsp;None,</div></div><div class=\"1542\" style=\"display: none;\"><div style=\"display: table-cell;\"></div><div style=\"display: table-cell;\">height_policy&nbsp;=&nbsp;'auto',</div></div><div class=\"1542\" style=\"display: none;\"><div style=\"display: table-cell;\"></div><div style=\"display: table-cell;\">js_event_callbacks&nbsp;=&nbsp;{},</div></div><div class=\"1542\" style=\"display: none;\"><div style=\"display: table-cell;\"></div><div style=\"display: table-cell;\">js_property_callbacks&nbsp;=&nbsp;{},</div></div><div class=\"1542\" style=\"display: none;\"><div style=\"display: table-cell;\"></div><div style=\"display: table-cell;\">margin&nbsp;=&nbsp;(0, 0, 0, 0),</div></div><div class=\"1542\" style=\"display: none;\"><div style=\"display: table-cell;\"></div><div style=\"display: table-cell;\">max_height&nbsp;=&nbsp;None,</div></div><div class=\"1542\" style=\"display: none;\"><div style=\"display: table-cell;\"></div><div style=\"display: table-cell;\">max_width&nbsp;=&nbsp;None,</div></div><div class=\"1542\" style=\"display: none;\"><div style=\"display: table-cell;\"></div><div style=\"display: table-cell;\">min_height&nbsp;=&nbsp;None,</div></div><div class=\"1542\" style=\"display: none;\"><div style=\"display: table-cell;\"></div><div style=\"display: table-cell;\">min_width&nbsp;=&nbsp;None,</div></div><div class=\"1542\" style=\"display: none;\"><div style=\"display: table-cell;\"></div><div style=\"display: table-cell;\">name&nbsp;=&nbsp;None,</div></div><div class=\"1542\" style=\"display: none;\"><div style=\"display: table-cell;\"></div><div style=\"display: table-cell;\">rows&nbsp;=&nbsp;'auto',</div></div><div class=\"1542\" style=\"display: none;\"><div style=\"display: table-cell;\"></div><div style=\"display: table-cell;\">sizing_mode&nbsp;=&nbsp;None,</div></div><div class=\"1542\" style=\"display: none;\"><div style=\"display: table-cell;\"></div><div style=\"display: table-cell;\">spacing&nbsp;=&nbsp;0,</div></div><div class=\"1542\" style=\"display: none;\"><div style=\"display: table-cell;\"></div><div style=\"display: table-cell;\">subscribed_events&nbsp;=&nbsp;[],</div></div><div class=\"1542\" style=\"display: none;\"><div style=\"display: table-cell;\"></div><div style=\"display: table-cell;\">syncable&nbsp;=&nbsp;True,</div></div><div class=\"1542\" style=\"display: none;\"><div style=\"display: table-cell;\"></div><div style=\"display: table-cell;\">tags&nbsp;=&nbsp;[],</div></div><div class=\"1542\" style=\"display: none;\"><div style=\"display: table-cell;\"></div><div style=\"display: table-cell;\">visible&nbsp;=&nbsp;True,</div></div><div class=\"1542\" style=\"display: none;\"><div style=\"display: table-cell;\"></div><div style=\"display: table-cell;\">width&nbsp;=&nbsp;None,</div></div><div class=\"1542\" style=\"display: none;\"><div style=\"display: table-cell;\"></div><div style=\"display: table-cell;\">width_policy&nbsp;=&nbsp;'auto')</div></div></div>\n",
       "<script>\n",
       "(function() {\n",
       "  let expanded = false;\n",
       "  const ellipsis = document.getElementById(\"1543\");\n",
       "  ellipsis.addEventListener(\"click\", function() {\n",
       "    const rows = document.getElementsByClassName(\"1542\");\n",
       "    for (let i = 0; i < rows.length; i++) {\n",
       "      const el = rows[i];\n",
       "      el.style.display = expanded ? \"none\" : \"table-row\";\n",
       "    }\n",
       "    ellipsis.innerHTML = expanded ? \"&hellip;)\" : \"&lsaquo;&lsaquo;&lsaquo;\";\n",
       "    expanded = !expanded;\n",
       "  });\n",
       "})();\n",
       "</script>\n"
      ],
      "text/plain": [
       "Column(id='1343', ...)"
      ]
     },
     "execution_count": 19,
     "metadata": {},
     "output_type": "execute_result"
    }
   ],
   "source": [
    "#Make Dashboard with Grid Layout: \n",
    "pandas_bokeh.plot_grid([[p_bar, p_scatter],[p_line, p_pie]], plot_width=450)"
   ]
  },
  {
   "cell_type": "markdown",
   "metadata": {},
   "source": [
    "**Pregunta 1**\n"
   ]
  },
  {
   "cell_type": "code",
   "execution_count": 20,
   "metadata": {},
   "outputs": [
    {
     "data": {
      "image/png": "[encoded data removed]",
      "text/plain": [
       "<Figure size 432x288 with 1 Axes>"
      ]
     },
     "metadata": {
      "needs_background": "light"
     },
     "output_type": "display_data"
    }
   ],
   "source": [
    "Info_sheet.groupby(\"Día de llegada\").count().plot(y = \"Número de llegada\")\n",
    "plt.show()"
   ]
  },
  {
   "cell_type": "markdown",
   "metadata": {},
   "source": [
    "**Pregunta 2**"
   ]
  },
  {
   "cell_type": "code",
   "execution_count": 21,
   "metadata": {},
   "outputs": [
    {
     "name": "stderr",
     "output_type": "stream",
     "text": [
      "BokehDeprecationWarning: plot_width and plot_height was deprecated in Bokeh 2.4.0 and will be removed, use width or height instead.\n"
     ]
    },
    {
     "data": {
      "text/html": [
       "\n",
       "\n",
       "\n",
       "\n",
       "\n",
       "\n",
       "  <div class=\"bk-root\" id=\"97b6f904-b16c-4636-b755-10f934fd5b39\" data-root-id=\"1650\"></div>\n"
      ]
     },
     "metadata": {},
     "output_type": "display_data"
    },
    {
     "data": {
      "application/javascript": [
       "(function(root) {\n",
       "  function embed_document(root) {\n",
       "    \n",
       "  const docs_json = {\"679afe9d-a8ce-4f18-83e0-4bcc77bfe73b\":{\"defs\":[],\"roots\":{\"references\":[{\"attributes\":{\"children\":[{\"id\":\"1649\"},{\"id\":\"1647\"}]},\"id\":\"1650\",\"type\":\"Column\"},{\"attributes\":{\"active_scroll\":{\"id\":\"1564\"},\"tools\":[{\"id\":\"1563\"},{\"id\":\"1564\"},{\"id\":\"1565\"},{\"id\":\"1566\"},{\"id\":\"1567\"},{\"id\":\"1568\"},{\"id\":\"1596\"}]},\"id\":\"1570\",\"type\":\"Toolbar\"},{\"attributes\":{\"bottom_units\":\"screen\",\"coordinates\":null,\"fill_alpha\":0.5,\"fill_color\":\"lightgrey\",\"group\":null,\"left_units\":\"screen\",\"level\":\"overlay\",\"line_alpha\":1.0,\"line_color\":\"black\",\"line_dash\":[4,4],\"line_width\":2,\"right_units\":\"screen\",\"syncable\":false,\"top_units\":\"screen\"},\"id\":\"1121\",\"type\":\"BoxAnnotation\"},{\"attributes\":{\"callback\":null,\"mode\":\"hline\",\"renderers\":[{\"id\":\"1136\"}],\"tooltips\":[[\"x\",\"@__x__values_original\"],[\"Costo resoluci\\u00f3n en Cl\\u00ednica Privada [MM$]\",\"@{Costo resoluci\\u00f3n en Cl\\u00ednica Privada [MM$]}\"]]},\"id\":\"1149\",\"type\":\"HoverTool\"},{\"attributes\":{\"active_scroll\":{\"id\":\"1173\"},\"tools\":[{\"id\":\"1172\"},{\"id\":\"1173\"},{\"id\":\"1174\"},{\"id\":\"1175\"},{\"id\":\"1176\"},{\"id\":\"1177\"},{\"id\":\"1206\"}]},\"id\":\"1179\",\"type\":\"Toolbar\"},{\"attributes\":{\"coordinates\":null,\"group\":null},\"id\":\"1246\",\"type\":\"Title\"},{\"attributes\":{\"coordinates\":null,\"data_source\":{\"id\":\"1095\"},\"glyph\":{\"id\":\"1133\"},\"group\":null,\"hover_glyph\":null,\"muted_glyph\":{\"id\":\"1135\"},\"nonselection_glyph\":{\"id\":\"1134\"},\"view\":{\"id\":\"1137\"}},\"id\":\"1136\",\"type\":\"GlyphRenderer\"},{\"attributes\":{\"below\":[{\"id\":\"1256\"}],\"center\":[{\"id\":\"1259\"},{\"id\":\"1263\"},{\"id\":\"1297\"}],\"height\":400,\"left\":[{\"id\":\"1260\"}],\"renderers\":[{\"id\":\"1285\"}],\"title\":{\"id\":\"1246\"},\"toolbar\":{\"id\":\"1271\"},\"toolbar_location\":null,\"width\":450,\"x_range\":{\"id\":\"1248\"},\"x_scale\":{\"id\":\"1252\"},\"y_range\":{\"id\":\"1250\"},\"y_scale\":{\"id\":\"1254\"}},\"id\":\"1245\",\"subtype\":\"Figure\",\"type\":\"Plot\"},{\"attributes\":{\"axis\":{\"id\":\"1260\"},\"coordinates\":null,\"dimension\":1,\"grid_line_color\":null,\"group\":null,\"ticker\":null},\"id\":\"1263\",\"type\":\"Grid\"},{\"attributes\":{},\"id\":\"1261\",\"type\":\"BasicTicker\"},{\"attributes\":{\"active_scroll\":{\"id\":\"1116\"},\"tools\":[{\"id\":\"1115\"},{\"id\":\"1116\"},{\"id\":\"1117\"},{\"id\":\"1118\"},{\"id\":\"1119\"},{\"id\":\"1120\"},{\"id\":\"1149\"}]},\"id\":\"1122\",\"type\":\"Toolbar\"},{\"attributes\":{\"bottom\":{\"field\":\"bottom\"},\"fill_alpha\":{\"value\":0.5},\"fill_color\":{\"value\":\"#1f77b4\"},\"hatch_alpha\":{\"value\":0.5},\"hatch_color\":{\"value\":\"#1f77b4\"},\"left\":{\"field\":\"left\"},\"line_alpha\":{\"value\":0.5},\"line_color\":{\"value\":null},\"line_width\":{\"value\":2},\"right\":{\"field\":\"right\"},\"top\":{\"field\":\"top\"}},\"id\":\"1579\",\"type\":\"Quad\"},{\"attributes\":{},\"id\":\"1265\",\"type\":\"WheelZoomTool\"},{\"attributes\":{},\"id\":\"1264\",\"type\":\"PanTool\"},{\"attributes\":{\"overlay\":{\"id\":\"1270\"}},\"id\":\"1266\",\"type\":\"BoxZoomTool\"},{\"attributes\":{\"source\":{\"id\":\"1577\"}},\"id\":\"1583\",\"type\":\"CDSView\"},{\"attributes\":{},\"id\":\"1267\",\"type\":\"SaveTool\"},{\"attributes\":{},\"id\":\"1268\",\"type\":\"ResetTool\"},{\"attributes\":{},\"id\":\"1019\",\"type\":\"BasicTicker\"},{\"attributes\":{\"coordinates\":null,\"data_source\":{\"id\":\"1577\"},\"glyph\":{\"id\":\"1579\"},\"group\":null,\"hover_glyph\":null,\"muted_glyph\":{\"id\":\"1581\"},\"nonselection_glyph\":{\"id\":\"1580\"},\"view\":{\"id\":\"1583\"}},\"id\":\"1582\",\"type\":\"GlyphRenderer\"},{\"attributes\":{\"bottom_units\":\"screen\",\"coordinates\":null,\"fill_alpha\":0.5,\"fill_color\":\"lightgrey\",\"group\":null,\"left_units\":\"screen\",\"level\":\"overlay\",\"line_alpha\":1.0,\"line_color\":\"black\",\"line_dash\":[4,4],\"line_width\":2,\"right_units\":\"screen\",\"syncable\":false,\"top_units\":\"screen\"},\"id\":\"1569\",\"type\":\"BoxAnnotation\"},{\"attributes\":{\"bottom\":{\"field\":\"bottom\"},\"fill_alpha\":{\"value\":0.2},\"fill_color\":{\"value\":\"#1f77b4\"},\"hatch_alpha\":{\"value\":0.2},\"hatch_color\":{\"value\":\"#1f77b4\"},\"left\":{\"field\":\"left\"},\"line_alpha\":{\"value\":0.2},\"line_color\":{\"value\":null},\"line_width\":{\"value\":2},\"right\":{\"field\":\"right\"},\"top\":{\"field\":\"top\"}},\"id\":\"1581\",\"type\":\"Quad\"},{\"attributes\":{\"axis\":{\"id\":\"1164\"},\"coordinates\":null,\"group\":null,\"ticker\":null},\"id\":\"1167\",\"type\":\"Grid\"},{\"attributes\":{},\"id\":\"1173\",\"type\":\"WheelZoomTool\"},{\"attributes\":{\"axis_label\":\"Estadia\",\"coordinates\":null,\"formatter\":{\"id\":\"1197\"},\"group\":null,\"major_label_policy\":{\"id\":\"1198\"},\"ticker\":{\"id\":\"1169\"}},\"id\":\"1168\",\"type\":\"LinearAxis\"},{\"attributes\":{\"axis_label\":\"Costo resoluci\\u00f3n en Cl\\u00ednica Privada [MM$]\",\"coordinates\":null,\"formatter\":{\"id\":\"1142\"},\"group\":null,\"major_label_policy\":{\"id\":\"1143\"},\"ticker\":{\"id\":\"1108\"}},\"id\":\"1107\",\"type\":\"LinearAxis\"},{\"attributes\":{\"click_policy\":\"hide\",\"coordinates\":null,\"group\":null,\"items\":[{\"id\":\"1595\"}]},\"id\":\"1594\",\"type\":\"Legend\"},{\"attributes\":{\"label\":{\"field\":\"__x__values_original\"},\"renderers\":[{\"id\":\"1285\"}]},\"id\":\"1298\",\"type\":\"LegendItem\"},{\"attributes\":{\"callback\":null,\"renderers\":[{\"id\":\"1285\"}],\"tooltips\":[[\"GRD\",\"@__x__values_original\"],[\"Conteo\",\"@{Conteo}\"]]},\"id\":\"1299\",\"type\":\"HoverTool\"},{\"attributes\":{},\"id\":\"1176\",\"type\":\"ResetTool\"},{\"attributes\":{\"axis_label\":\"GRD\",\"coordinates\":null,\"formatter\":{\"id\":\"1186\"},\"group\":null,\"major_label_policy\":{\"id\":\"1200\"},\"ticker\":{\"id\":\"1208\"}},\"id\":\"1164\",\"type\":\"LinearAxis\"},{\"attributes\":{\"bottom_units\":\"screen\",\"coordinates\":null,\"fill_alpha\":0.5,\"fill_color\":\"lightgrey\",\"group\":null,\"left_units\":\"screen\",\"level\":\"overlay\",\"line_alpha\":1.0,\"line_color\":\"black\",\"line_dash\":[4,4],\"line_width\":2,\"right_units\":\"screen\",\"syncable\":false,\"top_units\":\"screen\"},\"id\":\"1270\",\"type\":\"BoxAnnotation\"},{\"attributes\":{},\"id\":\"1586\",\"type\":\"BasicTickFormatter\"},{\"attributes\":{\"ticks\":[0,1,2,3,4,5,6,7,8,9]},\"id\":\"1301\",\"type\":\"FixedTicker\"},{\"attributes\":{\"click_policy\":\"hide\",\"coordinates\":null,\"group\":null,\"items\":[{\"id\":\"1148\"}]},\"id\":\"1147\",\"type\":\"Legend\"},{\"attributes\":{\"axis\":{\"id\":\"1168\"},\"coordinates\":null,\"dimension\":1,\"group\":null,\"ticker\":null},\"id\":\"1171\",\"type\":\"Grid\"},{\"attributes\":{\"fill_color\":{\"value\":\"#1f77b4\"},\"line_width\":{\"value\":2},\"size\":{\"value\":10},\"x\":{\"field\":\"__x__values\"},\"y\":{\"field\":\"y\"}},\"id\":\"1040\",\"type\":\"Scatter\"},{\"attributes\":{\"overlay\":{\"id\":\"1178\"}},\"id\":\"1174\",\"type\":\"BoxZoomTool\"},{\"attributes\":{\"field\":\"Conteo_angle\"},\"id\":\"1279\",\"type\":\"CumSum\"},{\"attributes\":{\"tools\":[{\"id\":\"1264\"},{\"id\":\"1265\"},{\"id\":\"1266\"},{\"id\":\"1267\"},{\"id\":\"1268\"},{\"id\":\"1269\"},{\"id\":\"1299\"}]},\"id\":\"1271\",\"type\":\"Toolbar\"},{\"attributes\":{\"line_alpha\":0.1,\"line_color\":\"#1f77b4\",\"line_width\":2,\"x\":{\"field\":\"__x__values\"},\"y\":{\"field\":\"Estadia\"}},\"id\":\"1191\",\"type\":\"Line\"},{\"attributes\":{\"coordinates\":null,\"formatter\":{\"id\":\"1129\"},\"group\":null,\"major_label_policy\":{\"id\":\"1140\"},\"ticker\":{\"id\":\"1151\"}},\"id\":\"1111\",\"type\":\"LinearAxis\"},{\"attributes\":{\"code\":\"\\n                                var labels = {0: 'GRD1', 1: 'GRD10', 2: 'GRD2', 3: 'GRD3', 4: 'GRD4', 5: 'GRD5', 6: 'GRD6', 7: 'GRD7', 8: 'GRD8', 9: 'GRD9'};\\n                                return labels[tick];\\n                                \"},\"id\":\"1186\",\"type\":\"FuncTickFormatter\"},{\"attributes\":{\"below\":[{\"id\":\"1014\"}],\"center\":[{\"id\":\"1017\"},{\"id\":\"1021\"},{\"id\":\"1054\"}],\"height\":400,\"left\":[{\"id\":\"1018\"}],\"output_backend\":\"webgl\",\"renderers\":[{\"id\":\"1043\"}],\"sizing_mode\":\"fixed\",\"title\":{\"id\":\"1004\"},\"toolbar\":{\"id\":\"1029\"},\"toolbar_location\":null,\"width\":450,\"x_range\":{\"id\":\"1006\"},\"x_scale\":{\"id\":\"1010\"},\"y_range\":{\"id\":\"1008\"},\"y_scale\":{\"id\":\"1012\"}},\"id\":\"1003\",\"subtype\":\"Figure\",\"type\":\"Plot\"},{\"attributes\":{\"source\":{\"id\":\"1095\"}},\"id\":\"1137\",\"type\":\"CDSView\"},{\"attributes\":{},\"id\":\"1052\",\"type\":\"Selection\"},{\"attributes\":{\"source\":{\"id\":\"1188\"}},\"id\":\"1194\",\"type\":\"CDSView\"},{\"attributes\":{},\"id\":\"1101\",\"type\":\"DataRange1d\"},{\"attributes\":{\"coordinates\":null,\"group\":null},\"id\":\"1154\",\"type\":\"Title\"},{\"attributes\":{},\"id\":\"1200\",\"type\":\"AllLabels\"},{\"attributes\":{\"coordinates\":null,\"group\":null},\"id\":\"1097\",\"type\":\"Title\"},{\"attributes\":{},\"id\":\"1591\",\"type\":\"UnionRenderers\"},{\"attributes\":{},\"id\":\"1027\",\"type\":\"HelpTool\"},{\"attributes\":{\"callback\":null,\"renderers\":[{\"id\":\"1043\"}],\"tooltips\":[[\"Nombre Servicio de Salud\",\"@__x__values_original\"],[\"Costo de instalar una cama [MM$]\",\"@y\"]]},\"id\":\"1056\",\"type\":\"HoverTool\"},{\"attributes\":{\"label\":{\"value\":\"Hide/Show\"},\"renderers\":[{\"id\":\"1043\"}]},\"id\":\"1055\",\"type\":\"LegendItem\"},{\"attributes\":{},\"id\":\"1587\",\"type\":\"AllLabels\"},{\"attributes\":{\"coordinates\":null,\"group\":null,\"items\":[{\"id\":\"1298\"}]},\"id\":\"1297\",\"type\":\"Legend\"},{\"attributes\":{\"range\":{\"id\":\"1101\"}},\"id\":\"1131\",\"type\":\"Dodge\"},{\"attributes\":{\"click_policy\":\"hide\",\"coordinates\":null,\"group\":null,\"items\":[{\"id\":\"1205\"}]},\"id\":\"1204\",\"type\":\"Legend\"},{\"attributes\":{\"fill_color\":{\"value\":\"#d01c8b\"},\"hatch_color\":{\"value\":\"#d01c8b\"},\"height\":{\"value\":0.7},\"line_color\":{\"value\":\"#d01c8b\"},\"line_width\":{\"value\":2},\"right\":{\"field\":\"Costo resoluci\\u00f3n en Cl\\u00ednica Privada [MM$]\"},\"y\":{\"field\":\"__x__values\",\"transform\":{\"id\":\"1131\"}}},\"id\":\"1133\",\"type\":\"HBar\"},{\"attributes\":{\"source\":{\"id\":\"1280\"}},\"id\":\"1286\",\"type\":\"CDSView\"},{\"attributes\":{},\"id\":\"1144\",\"type\":\"UnionRenderers\"},{\"attributes\":{\"below\":[{\"id\":\"1164\"}],\"center\":[{\"id\":\"1167\"},{\"id\":\"1171\"},{\"id\":\"1204\"}],\"height\":400,\"left\":[{\"id\":\"1168\"}],\"output_backend\":\"webgl\",\"renderers\":[{\"id\":\"1193\"}],\"sizing_mode\":\"fixed\",\"title\":{\"id\":\"1154\"},\"toolbar\":{\"id\":\"1179\"},\"toolbar_location\":null,\"width\":450,\"x_range\":{\"id\":\"1156\"},\"x_scale\":{\"id\":\"1160\"},\"y_range\":{\"id\":\"1158\"},\"y_scale\":{\"id\":\"1162\"}},\"id\":\"1153\",\"subtype\":\"Figure\",\"type\":\"Plot\"},{\"attributes\":{\"line_alpha\":0.2,\"line_color\":\"#1f77b4\",\"line_width\":2,\"x\":{\"field\":\"__x__values\"},\"y\":{\"field\":\"Estadia\"}},\"id\":\"1192\",\"type\":\"Line\"},{\"attributes\":{\"end_angle\":{\"expr\":{\"id\":\"1279\"}},\"fill_alpha\":{\"value\":0.2},\"fill_color\":{\"field\":\"color\"},\"hatch_alpha\":{\"value\":0.2},\"inner_radius\":{\"field\":\"inner_radius\"},\"line_alpha\":{\"value\":0.2},\"line_color\":{\"value\":\"white\"},\"line_width\":{\"value\":2},\"outer_radius\":{\"field\":\"outer_radius\"},\"start_angle\":{\"expr\":{\"id\":\"1278\"}},\"x\":{\"value\":0},\"y\":{\"value\":0}},\"id\":\"1284\",\"type\":\"AnnularWedge\"},{\"attributes\":{},\"id\":\"1590\",\"type\":\"AllLabels\"},{\"attributes\":{},\"id\":\"1119\",\"type\":\"ResetTool\"},{\"attributes\":{\"end\":2,\"start\":-1.7},\"id\":\"1248\",\"type\":\"Range1d\"},{\"attributes\":{\"end\":1.2,\"start\":-1.2},\"id\":\"1250\",\"type\":\"Range1d\"},{\"attributes\":{\"coordinates\":null,\"formatter\":{\"id\":\"1289\"},\"group\":null,\"major_label_policy\":{\"id\":\"1290\"},\"ticker\":{\"id\":\"1261\"},\"visible\":false},\"id\":\"1260\",\"type\":\"LinearAxis\"},{\"attributes\":{\"code\":\"\\n                                var labels = {0: 'Metropolitano Central                             ', 1: 'Metropolitano Norte                               ', 2: 'Metropolitano Occidente                           ', 3: 'Metropolitano Oriente                             ', 4: 'Metropolitano Sur                                 ', 5: 'Metropolitano Sur Oriente                         '};\\n                                return labels[tick];\\n                                \"},\"id\":\"1036\",\"type\":\"FuncTickFormatter\"},{\"attributes\":{},\"id\":\"1589\",\"type\":\"BasicTickFormatter\"},{\"attributes\":{\"coordinates\":null,\"formatter\":{\"id\":\"1292\"},\"group\":null,\"major_label_policy\":{\"id\":\"1293\"},\"ticker\":{\"id\":\"1301\"},\"visible\":false},\"id\":\"1256\",\"type\":\"LinearAxis\"},{\"attributes\":{},\"id\":\"1269\",\"type\":\"HelpTool\"},{\"attributes\":{},\"id\":\"1047\",\"type\":\"BasicTickFormatter\"},{\"attributes\":{\"line_color\":\"#1f77b4\",\"line_width\":2,\"x\":{\"field\":\"__x__values\"},\"y\":{\"field\":\"Estadia\"}},\"id\":\"1190\",\"type\":\"Line\"},{\"attributes\":{\"axis\":{\"id\":\"1256\"},\"coordinates\":null,\"grid_line_color\":null,\"group\":null,\"ticker\":null},\"id\":\"1259\",\"type\":\"Grid\"},{\"attributes\":{\"axis\":{\"id\":\"1014\"},\"coordinates\":null,\"group\":null,\"ticker\":null},\"id\":\"1017\",\"type\":\"Grid\"},{\"attributes\":{},\"id\":\"1201\",\"type\":\"UnionRenderers\"},{\"attributes\":{},\"id\":\"1254\",\"type\":\"LinearScale\"},{\"attributes\":{\"ticks\":[0,1,2,3,4,5]},\"id\":\"1058\",\"type\":\"FixedTicker\"},{\"attributes\":{\"data\":{\"bins\":[\"82.0\\uff0d92.1\",\"92.1\\uff0d102.2\",\"102.2\\uff0d112.3\",\"112.3\\uff0d122.4\",\"122.4\\uff0d132.5\",\"132.5\\uff0d142.6\",\"142.6\\uff0d152.7\",\"152.7\\uff0d162.8\",\"162.8\\uff0d172.89999999999998\",\"172.89999999999998\\uff0d183.0\"],\"bottom\":[0,0,0,0,0,0,0,0,0,0],\"left\":{\"__ndarray__\":\"AAAAAACAVEBmZmZmZgZXQM3MzMzMjFlAMzMzMzMTXECamZmZmZleQAAAAAAAkGBAMzMzMzPTYUBmZmZmZhZjQJqZmZmZWWRAzMzMzMycZUA=\",\"dtype\":\"float64\",\"order\":\"little\",\"shape\":[10]},\"right\":{\"__ndarray__\":\"ZmZmZmYGV0DNzMzMzIxZQDMzMzMzE1xAmpmZmZmZXkAAAAAAAJBgQDMzMzMz02FAZmZmZmYWY0CamZmZmVlkQMzMzMzMnGVAAAAAAADgZkA=\",\"dtype\":\"float64\",\"order\":\"little\",\"shape\":[10]},\"top\":[1,0,0,0,2,31,139,171,75,5]},\"selected\":{\"id\":\"1592\"},\"selection_policy\":{\"id\":\"1591\"}},\"id\":\"1577\",\"type\":\"ColumnDataSource\"},{\"attributes\":{},\"id\":\"1252\",\"type\":\"LinearScale\"},{\"attributes\":{},\"id\":\"1145\",\"type\":\"Selection\"},{\"attributes\":{\"bottom_units\":\"screen\",\"coordinates\":null,\"fill_alpha\":0.5,\"fill_color\":\"lightgrey\",\"group\":null,\"left_units\":\"screen\",\"level\":\"overlay\",\"line_alpha\":1.0,\"line_color\":\"black\",\"line_dash\":[4,4],\"line_width\":2,\"right_units\":\"screen\",\"syncable\":false,\"top_units\":\"screen\"},\"id\":\"1178\",\"type\":\"BoxAnnotation\"},{\"attributes\":{},\"id\":\"1169\",\"type\":\"BasicTicker\"},{\"attributes\":{},\"id\":\"1592\",\"type\":\"Selection\"},{\"attributes\":{\"axis_label\":\"N\\u00famero de llegada\",\"coordinates\":null,\"formatter\":{\"id\":\"1586\"},\"group\":null,\"major_label_policy\":{\"id\":\"1587\"},\"ticker\":{\"id\":\"1560\"}},\"id\":\"1559\",\"type\":\"LinearAxis\"},{\"attributes\":{},\"id\":\"1197\",\"type\":\"BasicTickFormatter\"},{\"attributes\":{\"axis\":{\"id\":\"1559\"},\"coordinates\":null,\"dimension\":1,\"group\":null,\"ticker\":null},\"id\":\"1562\",\"type\":\"Grid\"},{\"attributes\":{},\"id\":\"1051\",\"type\":\"UnionRenderers\"},{\"attributes\":{},\"id\":\"1560\",\"type\":\"BasicTicker\"},{\"attributes\":{},\"id\":\"1198\",\"type\":\"AllLabels\"},{\"attributes\":{},\"id\":\"1105\",\"type\":\"LinearScale\"},{\"attributes\":{\"fill_alpha\":{\"value\":0.1},\"fill_color\":{\"value\":\"#1f77b4\"},\"hatch_alpha\":{\"value\":0.1},\"line_alpha\":{\"value\":0.1},\"line_width\":{\"value\":2},\"size\":{\"value\":10},\"x\":{\"field\":\"__x__values\"},\"y\":{\"field\":\"y\"}},\"id\":\"1041\",\"type\":\"Scatter\"},{\"attributes\":{\"bottom\":{\"field\":\"bottom\"},\"fill_alpha\":{\"value\":0.1},\"fill_color\":{\"value\":\"#1f77b4\"},\"hatch_alpha\":{\"value\":0.1},\"hatch_color\":{\"value\":\"#1f77b4\"},\"left\":{\"field\":\"left\"},\"line_alpha\":{\"value\":0.1},\"line_color\":{\"value\":null},\"line_width\":{\"value\":2},\"right\":{\"field\":\"right\"},\"top\":{\"field\":\"top\"}},\"id\":\"1580\",\"type\":\"Quad\"},{\"attributes\":{},\"id\":\"1564\",\"type\":\"WheelZoomTool\"},{\"attributes\":{\"coordinates\":null,\"data_source\":{\"id\":\"1038\"},\"glyph\":{\"id\":\"1040\"},\"group\":null,\"hover_glyph\":null,\"muted_glyph\":{\"id\":\"1042\"},\"nonselection_glyph\":{\"id\":\"1041\"},\"view\":{\"id\":\"1044\"}},\"id\":\"1043\",\"type\":\"GlyphRenderer\"},{\"attributes\":{},\"id\":\"1143\",\"type\":\"AllLabels\"},{\"attributes\":{\"axis\":{\"id\":\"1555\"},\"coordinates\":null,\"group\":null,\"ticker\":null},\"id\":\"1558\",\"type\":\"Grid\"},{\"attributes\":{},\"id\":\"1142\",\"type\":\"BasicTickFormatter\"},{\"attributes\":{\"fill_alpha\":{\"value\":0.2},\"fill_color\":{\"value\":\"#1f77b4\"},\"hatch_alpha\":{\"value\":0.2},\"line_alpha\":{\"value\":0.2},\"line_width\":{\"value\":2},\"size\":{\"value\":10},\"x\":{\"field\":\"__x__values\"},\"y\":{\"field\":\"y\"}},\"id\":\"1042\",\"type\":\"Scatter\"},{\"attributes\":{\"data\":{\"Estadia\":{\"__ndarray__\":\"AAAAAAAAJEAAAAAAAAAkQAAAAAAAABBAAAAAAAAACEAAAAAAAAAYQAAAAAAAABBAAAAAAAAAFEAAAAAAAAAQQAAAAAAAABBAAAAAAAAAFEA=\",\"dtype\":\"float64\",\"order\":\"little\",\"shape\":[10]},\"__x__values\":[0,1,2,3,4,5,6,7,8,9],\"__x__values_original\":[\"GRD1\",\"GRD10\",\"GRD2\",\"GRD3\",\"GRD4\",\"GRD5\",\"GRD6\",\"GRD7\",\"GRD8\",\"GRD9\"]},\"selected\":{\"id\":\"1202\"},\"selection_policy\":{\"id\":\"1201\"}},\"id\":\"1188\",\"type\":\"ColumnDataSource\"},{\"attributes\":{},\"id\":\"1563\",\"type\":\"PanTool\"},{\"attributes\":{\"source\":{\"id\":\"1038\"}},\"id\":\"1044\",\"type\":\"CDSView\"},{\"attributes\":{},\"id\":\"1140\",\"type\":\"AllLabels\"},{\"attributes\":{},\"id\":\"1568\",\"type\":\"HelpTool\"},{\"attributes\":{},\"id\":\"1566\",\"type\":\"SaveTool\"},{\"attributes\":{\"active_scroll\":{\"id\":\"1023\"},\"tools\":[{\"id\":\"1022\"},{\"id\":\"1023\"},{\"id\":\"1024\"},{\"id\":\"1025\"},{\"id\":\"1026\"},{\"id\":\"1027\"},{\"id\":\"1056\"}]},\"id\":\"1029\",\"type\":\"Toolbar\"},{\"attributes\":{\"axis\":{\"id\":\"1107\"},\"coordinates\":null,\"group\":null,\"ticker\":null},\"id\":\"1110\",\"type\":\"Grid\"},{\"attributes\":{\"overlay\":{\"id\":\"1569\"}},\"id\":\"1565\",\"type\":\"BoxZoomTool\"},{\"attributes\":{},\"id\":\"1567\",\"type\":\"ResetTool\"},{\"attributes\":{\"axis\":{\"id\":\"1111\"},\"coordinates\":null,\"dimension\":1,\"group\":null,\"ticker\":null},\"id\":\"1114\",\"type\":\"Grid\"},{\"attributes\":{},\"id\":\"1294\",\"type\":\"UnionRenderers\"},{\"attributes\":{\"click_policy\":\"hide\",\"coordinates\":null,\"group\":null,\"items\":[{\"id\":\"1055\"}]},\"id\":\"1054\",\"type\":\"Legend\"},{\"attributes\":{\"coordinates\":null,\"data_source\":{\"id\":\"1188\"},\"glyph\":{\"id\":\"1190\"},\"group\":null,\"hover_glyph\":null,\"muted_glyph\":{\"id\":\"1192\"},\"nonselection_glyph\":{\"id\":\"1191\"},\"view\":{\"id\":\"1194\"}},\"id\":\"1193\",\"type\":\"GlyphRenderer\"},{\"attributes\":{},\"id\":\"1202\",\"type\":\"Selection\"},{\"attributes\":{\"ticks\":[0,1,2,3,4,5,6,7,8,9]},\"id\":\"1151\",\"type\":\"FixedTicker\"},{\"attributes\":{\"axis_label\":\"Nombre Servicio de Salud\",\"coordinates\":null,\"formatter\":{\"id\":\"1036\"},\"group\":null,\"major_label_policy\":{\"id\":\"1050\"},\"ticker\":{\"id\":\"1058\"}},\"id\":\"1014\",\"type\":\"LinearAxis\"},{\"attributes\":{},\"id\":\"1553\",\"type\":\"LinearScale\"},{\"attributes\":{\"fill_alpha\":{\"value\":0.2},\"fill_color\":{\"value\":\"#d01c8b\"},\"hatch_alpha\":{\"value\":0.2},\"hatch_color\":{\"value\":\"#d01c8b\"},\"height\":{\"value\":0.7},\"line_alpha\":{\"value\":0.2},\"line_color\":{\"value\":\"#d01c8b\"},\"line_width\":{\"value\":2},\"right\":{\"field\":\"Costo resoluci\\u00f3n en Cl\\u00ednica Privada [MM$]\"},\"y\":{\"field\":\"__x__values\",\"transform\":{\"id\":\"1131\"}}},\"id\":\"1135\",\"type\":\"HBar\"},{\"attributes\":{},\"id\":\"1115\",\"type\":\"PanTool\"},{\"attributes\":{\"fill_alpha\":{\"value\":0.1},\"fill_color\":{\"value\":\"#d01c8b\"},\"hatch_alpha\":{\"value\":0.1},\"hatch_color\":{\"value\":\"#d01c8b\"},\"height\":{\"value\":0.7},\"line_alpha\":{\"value\":0.1},\"line_color\":{\"value\":\"#d01c8b\"},\"line_width\":{\"value\":2},\"right\":{\"field\":\"Costo resoluci\\u00f3n en Cl\\u00ednica Privada [MM$]\"},\"y\":{\"field\":\"__x__values\",\"transform\":{\"id\":\"1131\"}}},\"id\":\"1134\",\"type\":\"HBar\"},{\"attributes\":{\"field\":\"Conteo_angle\",\"include_zero\":true},\"id\":\"1278\",\"type\":\"CumSum\"},{\"attributes\":{},\"id\":\"1175\",\"type\":\"SaveTool\"},{\"attributes\":{},\"id\":\"1177\",\"type\":\"HelpTool\"},{\"attributes\":{},\"id\":\"1293\",\"type\":\"AllLabels\"},{\"attributes\":{\"code\":\"\\n                                    var labels = {0: '0', 1: '1', 2: '2', 3: '3', 4: '4', 5: '5', 6: '6', 7: '7', 8: '8', 9: '9'};\\n                                    return labels[tick];\\n                                    \"},\"id\":\"1129\",\"type\":\"FuncTickFormatter\"},{\"attributes\":{\"coordinates\":null,\"group\":null},\"id\":\"1004\",\"type\":\"Title\"},{\"attributes\":{\"below\":[{\"id\":\"1107\"}],\"center\":[{\"id\":\"1110\"},{\"id\":\"1114\"},{\"id\":\"1147\"}],\"height\":400,\"left\":[{\"id\":\"1111\"}],\"output_backend\":\"webgl\",\"renderers\":[{\"id\":\"1136\"}],\"sizing_mode\":\"fixed\",\"title\":{\"id\":\"1097\"},\"toolbar\":{\"id\":\"1122\"},\"toolbar_location\":null,\"width\":450,\"x_range\":{\"id\":\"1099\"},\"x_scale\":{\"id\":\"1103\"},\"y_range\":{\"id\":\"1101\"},\"y_scale\":{\"id\":\"1105\"}},\"id\":\"1096\",\"subtype\":\"Figure\",\"type\":\"Plot\"},{\"attributes\":{},\"id\":\"1292\",\"type\":\"BasicTickFormatter\"},{\"attributes\":{},\"id\":\"1103\",\"type\":\"LinearScale\"},{\"attributes\":{},\"id\":\"1118\",\"type\":\"SaveTool\"},{\"attributes\":{},\"id\":\"1289\",\"type\":\"BasicTickFormatter\"},{\"attributes\":{\"ticks\":[0,1,2,3,4,5,6,7,8,9]},\"id\":\"1208\",\"type\":\"FixedTicker\"},{\"attributes\":{},\"id\":\"1006\",\"type\":\"DataRange1d\"},{\"attributes\":{},\"id\":\"1290\",\"type\":\"AllLabels\"},{\"attributes\":{\"callback\":null,\"mode\":\"vline\",\"renderers\":[{\"id\":\"1193\"}],\"tooltips\":[[\"GRD\",\"@__x__values_original\"],[\"Estadia\",\"@{Estadia}\"]]},\"id\":\"1206\",\"type\":\"HoverTool\"},{\"attributes\":{\"children\":[[{\"id\":\"1096\"},0,0],[{\"id\":\"1003\"},0,1],[{\"id\":\"1153\"},1,0],[{\"id\":\"1245\"},1,1],[{\"id\":\"1544\"},2,0]]},\"id\":\"1647\",\"type\":\"GridBox\"},{\"attributes\":{},\"id\":\"1050\",\"type\":\"AllLabels\"},{\"attributes\":{},\"id\":\"1295\",\"type\":\"Selection\"},{\"attributes\":{},\"id\":\"1120\",\"type\":\"HelpTool\"},{\"attributes\":{},\"id\":\"1160\",\"type\":\"LinearScale\"},{\"attributes\":{\"axis\":{\"id\":\"1018\"},\"coordinates\":null,\"dimension\":1,\"group\":null,\"ticker\":null},\"id\":\"1021\",\"type\":\"Grid\"},{\"attributes\":{},\"id\":\"1162\",\"type\":\"LinearScale\"},{\"attributes\":{},\"id\":\"1156\",\"type\":\"DataRange1d\"},{\"attributes\":{\"data\":{\"Costo resoluci\\u00f3n en Cl\\u00ednica Privada [MM$]\":{\"__ndarray__\":\"XrpJDAKrH0C8dJMYBFYLQFK4HoXrUQdAjZduEoPAGEBU46WbxCAbQKAaL90khhNA1XjpJjEIBUDhehSuR+EaQH9qvHSTGBZARIts5/upH0A=\",\"dtype\":\"float64\",\"order\":\"little\",\"shape\":[10]},\"__x__values\":[0,1,2,3,4,5,6,7,8,9],\"__x__values_original\":[0,1,2,3,4,5,6,7,8,9]},\"selected\":{\"id\":\"1145\"},\"selection_policy\":{\"id\":\"1144\"}},\"id\":\"1095\",\"type\":\"ColumnDataSource\"},{\"attributes\":{\"data\":{\"Conteo\":[6587,6479,6469,6597,6422,6684,6502,6645,6497,6652],\"Conteo_angle\":{\"__ndarray__\":\"A2WwWZM15D8kS83/v+DjP1eZjVHl2OM/0BbwB2495D9Fb5Ue+7PjPxkI5/PCgeQ/sP2SkNDy4z/eBVVMIWPkP8okcznj7uM/u2hOxqBo5D8=\",\"dtype\":\"float64\",\"order\":\"little\",\"shape\":[10]},\"__x__values\":[\"GRD1\",\"GRD10\",\"GRD2\",\"GRD3\",\"GRD4\",\"GRD5\",\"GRD6\",\"GRD7\",\"GRD8\",\"GRD9\"],\"__x__values_original\":[\"GRD1\",\"GRD10\",\"GRD2\",\"GRD3\",\"GRD4\",\"GRD5\",\"GRD6\",\"GRD7\",\"GRD8\",\"GRD9\"],\"color\":[\"#1f77b4\",\"#ff7f0e\",\"#2ca02c\",\"#d62728\",\"#9467bd\",\"#8c564b\",\"#e377c2\",\"#7f7f7f\",\"#bcbd22\",\"#17becf\"],\"inner_radius\":[0.0,0.0,0.0,0.0,0.0,0.0,0.0,0.0,0.0,0.0],\"outer_radius\":[0.9,0.9,0.9,0.9,0.9,0.9,0.9,0.9,0.9,0.9]},\"selected\":{\"id\":\"1295\"},\"selection_policy\":{\"id\":\"1294\"}},\"id\":\"1280\",\"type\":\"ColumnDataSource\"},{\"attributes\":{\"end_angle\":{\"expr\":{\"id\":\"1279\"}},\"fill_color\":{\"field\":\"color\"},\"inner_radius\":{\"field\":\"inner_radius\"},\"line_color\":{\"value\":\"white\"},\"line_width\":{\"value\":2},\"outer_radius\":{\"field\":\"outer_radius\"},\"start_angle\":{\"expr\":{\"id\":\"1278\"}},\"x\":{\"value\":0},\"y\":{\"value\":0}},\"id\":\"1282\",\"type\":\"AnnularWedge\"},{\"attributes\":{},\"id\":\"1022\",\"type\":\"PanTool\"},{\"attributes\":{\"coordinates\":null,\"data_source\":{\"id\":\"1280\"},\"glyph\":{\"id\":\"1282\"},\"group\":null,\"hover_glyph\":null,\"muted_glyph\":{\"id\":\"1284\"},\"nonselection_glyph\":{\"id\":\"1283\"},\"view\":{\"id\":\"1286\"}},\"id\":\"1285\",\"type\":\"GlyphRenderer\"},{\"attributes\":{\"end_angle\":{\"expr\":{\"id\":\"1279\"}},\"fill_alpha\":{\"value\":0.1},\"fill_color\":{\"field\":\"color\"},\"hatch_alpha\":{\"value\":0.1},\"inner_radius\":{\"field\":\"inner_radius\"},\"line_alpha\":{\"value\":0.1},\"line_color\":{\"value\":\"white\"},\"line_width\":{\"value\":2},\"outer_radius\":{\"field\":\"outer_radius\"},\"start_angle\":{\"expr\":{\"id\":\"1278\"}},\"x\":{\"value\":0},\"y\":{\"value\":0}},\"id\":\"1283\",\"type\":\"AnnularWedge\"},{\"attributes\":{},\"id\":\"1026\",\"type\":\"ResetTool\"},{\"attributes\":{},\"id\":\"1158\",\"type\":\"DataRange1d\"},{\"attributes\":{},\"id\":\"1549\",\"type\":\"DataRange1d\"},{\"attributes\":{\"label\":{\"value\":\"N\\u00famero de llegada\"},\"renderers\":[{\"id\":\"1582\"}]},\"id\":\"1595\",\"type\":\"LegendItem\"},{\"attributes\":{\"callback\":null,\"mode\":\"vline\",\"renderers\":[{\"id\":\"1582\"}],\"tooltips\":\"<h3> N\\u00famero de llegada: </h3> <h4>bin=@bins</h4> <h4>value=@top </h4>\"},\"id\":\"1596\",\"type\":\"HoverTool\"},{\"attributes\":{\"overlay\":{\"id\":\"1121\"}},\"id\":\"1117\",\"type\":\"BoxZoomTool\"},{\"attributes\":{},\"id\":\"1025\",\"type\":\"SaveTool\"},{\"attributes\":{},\"id\":\"1108\",\"type\":\"BasicTicker\"},{\"attributes\":{\"overlay\":{\"id\":\"1028\"}},\"id\":\"1024\",\"type\":\"BoxZoomTool\"},{\"attributes\":{},\"id\":\"1116\",\"type\":\"WheelZoomTool\"},{\"attributes\":{},\"id\":\"1048\",\"type\":\"AllLabels\"},{\"attributes\":{\"ticks\":[82.0,92.1,102.2,112.3,122.4,132.5,142.6,152.7,162.8,172.89999999999998,183.0]},\"id\":\"1598\",\"type\":\"FixedTicker\"},{\"attributes\":{\"below\":[{\"id\":\"1555\"}],\"center\":[{\"id\":\"1558\"},{\"id\":\"1562\"},{\"id\":\"1594\"}],\"height\":400,\"left\":[{\"id\":\"1559\"}],\"output_backend\":\"webgl\",\"renderers\":[{\"id\":\"1582\"}],\"sizing_mode\":\"fixed\",\"title\":{\"id\":\"1545\"},\"toolbar\":{\"id\":\"1570\"},\"toolbar_location\":null,\"width\":450,\"x_range\":{\"id\":\"1547\"},\"x_scale\":{\"id\":\"1551\"},\"y_range\":{\"id\":\"1549\"},\"y_scale\":{\"id\":\"1553\"}},\"id\":\"1544\",\"subtype\":\"Figure\",\"type\":\"Plot\"},{\"attributes\":{\"axis_label\":\"Costo de instalar una cama [MM$]\",\"coordinates\":null,\"formatter\":{\"id\":\"1047\"},\"group\":null,\"major_label_policy\":{\"id\":\"1048\"},\"ticker\":{\"id\":\"1019\"}},\"id\":\"1018\",\"type\":\"LinearAxis\"},{\"attributes\":{\"label\":{\"value\":\" Estadia\"},\"renderers\":[{\"id\":\"1193\"}]},\"id\":\"1205\",\"type\":\"LegendItem\"},{\"attributes\":{},\"id\":\"1099\",\"type\":\"DataRange1d\"},{\"attributes\":{},\"id\":\"1547\",\"type\":\"DataRange1d\"},{\"attributes\":{\"toolbar\":{\"id\":\"1648\"},\"toolbar_location\":\"above\"},\"id\":\"1649\",\"type\":\"ToolbarBox\"},{\"attributes\":{\"bottom_units\":\"screen\",\"coordinates\":null,\"fill_alpha\":0.5,\"fill_color\":\"lightgrey\",\"group\":null,\"left_units\":\"screen\",\"level\":\"overlay\",\"line_alpha\":1.0,\"line_color\":\"black\",\"line_dash\":[4,4],\"line_width\":2,\"right_units\":\"screen\",\"syncable\":false,\"top_units\":\"screen\"},\"id\":\"1028\",\"type\":\"BoxAnnotation\"},{\"attributes\":{},\"id\":\"1012\",\"type\":\"LinearScale\"},{\"attributes\":{\"label\":{\"value\":\" Costo resoluci\\u00f3n en Cl\\u00ednica Privada [MM$]\"},\"renderers\":[{\"id\":\"1136\"}]},\"id\":\"1148\",\"type\":\"LegendItem\"},{\"attributes\":{\"coordinates\":null,\"group\":null},\"id\":\"1545\",\"type\":\"Title\"},{\"attributes\":{\"toolbars\":[{\"id\":\"1122\"},{\"id\":\"1029\"},{\"id\":\"1179\"},{\"id\":\"1271\"},{\"id\":\"1570\"}],\"tools\":[{\"id\":\"1115\"},{\"id\":\"1116\"},{\"id\":\"1117\"},{\"id\":\"1118\"},{\"id\":\"1119\"},{\"id\":\"1120\"},{\"id\":\"1149\"},{\"id\":\"1022\"},{\"id\":\"1023\"},{\"id\":\"1024\"},{\"id\":\"1025\"},{\"id\":\"1026\"},{\"id\":\"1027\"},{\"id\":\"1056\"},{\"id\":\"1172\"},{\"id\":\"1173\"},{\"id\":\"1174\"},{\"id\":\"1175\"},{\"id\":\"1176\"},{\"id\":\"1177\"},{\"id\":\"1206\"},{\"id\":\"1264\"},{\"id\":\"1265\"},{\"id\":\"1266\"},{\"id\":\"1267\"},{\"id\":\"1268\"},{\"id\":\"1269\"},{\"id\":\"1299\"},{\"id\":\"1563\"},{\"id\":\"1564\"},{\"id\":\"1565\"},{\"id\":\"1566\"},{\"id\":\"1567\"},{\"id\":\"1568\"},{\"id\":\"1596\"}]},\"id\":\"1648\",\"type\":\"ProxyToolbar\"},{\"attributes\":{\"data\":{\"__x__values\":[0,1,2,3,4,5],\"__x__values_original\":[\"Metropolitano Central                             \",\"Metropolitano Norte                               \",\"Metropolitano Occidente                           \",\"Metropolitano Oriente                             \",\"Metropolitano Sur                                 \",\"Metropolitano Sur Oriente                         \"],\"y\":{\"__ndarray__\":\"q6qqqqqulEAAAAAAAPyVQAAAAAAA0JNAAAAAAADJkkDNzMzMzJCSQAAAAAAAipFA\",\"dtype\":\"float64\",\"order\":\"little\",\"shape\":[6]}},\"selected\":{\"id\":\"1052\"},\"selection_policy\":{\"id\":\"1051\"}},\"id\":\"1038\",\"type\":\"ColumnDataSource\"},{\"attributes\":{\"axis_label\":\"N\\u00famero de llegada\",\"coordinates\":null,\"formatter\":{\"id\":\"1589\"},\"group\":null,\"major_label_policy\":{\"id\":\"1590\"},\"ticker\":{\"id\":\"1598\"}},\"id\":\"1555\",\"type\":\"LinearAxis\"},{\"attributes\":{},\"id\":\"1172\",\"type\":\"PanTool\"},{\"attributes\":{},\"id\":\"1551\",\"type\":\"LinearScale\"},{\"attributes\":{},\"id\":\"1010\",\"type\":\"LinearScale\"},{\"attributes\":{},\"id\":\"1023\",\"type\":\"WheelZoomTool\"},{\"attributes\":{},\"id\":\"1008\",\"type\":\"DataRange1d\"}],\"root_ids\":[\"1650\"]},\"title\":\"Bokeh Application\",\"version\":\"2.4.2\"}};\n",
       "  const render_items = [{\"docid\":\"679afe9d-a8ce-4f18-83e0-4bcc77bfe73b\",\"root_ids\":[\"1650\"],\"roots\":{\"1650\":\"97b6f904-b16c-4636-b755-10f934fd5b39\"}}];\n",
       "  root.Bokeh.embed.embed_items_notebook(docs_json, render_items);\n",
       "\n",
       "  }\n",
       "  if (root.Bokeh !== undefined) {\n",
       "    embed_document(root);\n",
       "  } else {\n",
       "    let attempts = 0;\n",
       "    const timer = setInterval(function(root) {\n",
       "      if (root.Bokeh !== undefined) {\n",
       "        clearInterval(timer);\n",
       "        embed_document(root);\n",
       "      } else {\n",
       "        attempts++;\n",
       "        if (attempts > 100) {\n",
       "          clearInterval(timer);\n",
       "          console.log(\"Bokeh: ERROR: Unable to run BokehJS code because BokehJS library is missing\");\n",
       "        }\n",
       "      }\n",
       "    }, 10, root)\n",
       "  }\n",
       "})(window);"
      ],
      "application/vnd.bokehjs_exec.v0+json": ""
     },
     "metadata": {
      "application/vnd.bokehjs_exec.v0+json": {
       "id": "1650"
      }
     },
     "output_type": "display_data"
    },
    {
     "data": {
      "text/html": [
       "<div style=\"display: table;\"><div style=\"display: table-row;\"><div style=\"display: table-cell;\"><b title=\"bokeh.models.layouts.Column\">Column</b>(</div><div style=\"display: table-cell;\">id&nbsp;=&nbsp;'1650', <span id=\"1937\" style=\"cursor: pointer;\">&hellip;)</span></div></div><div class=\"1936\" style=\"display: none;\"><div style=\"display: table-cell;\"></div><div style=\"display: table-cell;\">align&nbsp;=&nbsp;'start',</div></div><div class=\"1936\" style=\"display: none;\"><div style=\"display: table-cell;\"></div><div style=\"display: table-cell;\">aspect_ratio&nbsp;=&nbsp;None,</div></div><div class=\"1936\" style=\"display: none;\"><div style=\"display: table-cell;\"></div><div style=\"display: table-cell;\">background&nbsp;=&nbsp;None,</div></div><div class=\"1936\" style=\"display: none;\"><div style=\"display: table-cell;\"></div><div style=\"display: table-cell;\">children&nbsp;=&nbsp;[ToolbarBox(id='1649', ...), GridBox(id='1647', ...)],</div></div><div class=\"1936\" style=\"display: none;\"><div style=\"display: table-cell;\"></div><div style=\"display: table-cell;\">css_classes&nbsp;=&nbsp;[],</div></div><div class=\"1936\" style=\"display: none;\"><div style=\"display: table-cell;\"></div><div style=\"display: table-cell;\">disabled&nbsp;=&nbsp;False,</div></div><div class=\"1936\" style=\"display: none;\"><div style=\"display: table-cell;\"></div><div style=\"display: table-cell;\">height&nbsp;=&nbsp;None,</div></div><div class=\"1936\" style=\"display: none;\"><div style=\"display: table-cell;\"></div><div style=\"display: table-cell;\">height_policy&nbsp;=&nbsp;'auto',</div></div><div class=\"1936\" style=\"display: none;\"><div style=\"display: table-cell;\"></div><div style=\"display: table-cell;\">js_event_callbacks&nbsp;=&nbsp;{},</div></div><div class=\"1936\" style=\"display: none;\"><div style=\"display: table-cell;\"></div><div style=\"display: table-cell;\">js_property_callbacks&nbsp;=&nbsp;{},</div></div><div class=\"1936\" style=\"display: none;\"><div style=\"display: table-cell;\"></div><div style=\"display: table-cell;\">margin&nbsp;=&nbsp;(0, 0, 0, 0),</div></div><div class=\"1936\" style=\"display: none;\"><div style=\"display: table-cell;\"></div><div style=\"display: table-cell;\">max_height&nbsp;=&nbsp;None,</div></div><div class=\"1936\" style=\"display: none;\"><div style=\"display: table-cell;\"></div><div style=\"display: table-cell;\">max_width&nbsp;=&nbsp;None,</div></div><div class=\"1936\" style=\"display: none;\"><div style=\"display: table-cell;\"></div><div style=\"display: table-cell;\">min_height&nbsp;=&nbsp;None,</div></div><div class=\"1936\" style=\"display: none;\"><div style=\"display: table-cell;\"></div><div style=\"display: table-cell;\">min_width&nbsp;=&nbsp;None,</div></div><div class=\"1936\" style=\"display: none;\"><div style=\"display: table-cell;\"></div><div style=\"display: table-cell;\">name&nbsp;=&nbsp;None,</div></div><div class=\"1936\" style=\"display: none;\"><div style=\"display: table-cell;\"></div><div style=\"display: table-cell;\">rows&nbsp;=&nbsp;'auto',</div></div><div class=\"1936\" style=\"display: none;\"><div style=\"display: table-cell;\"></div><div style=\"display: table-cell;\">sizing_mode&nbsp;=&nbsp;None,</div></div><div class=\"1936\" style=\"display: none;\"><div style=\"display: table-cell;\"></div><div style=\"display: table-cell;\">spacing&nbsp;=&nbsp;0,</div></div><div class=\"1936\" style=\"display: none;\"><div style=\"display: table-cell;\"></div><div style=\"display: table-cell;\">subscribed_events&nbsp;=&nbsp;[],</div></div><div class=\"1936\" style=\"display: none;\"><div style=\"display: table-cell;\"></div><div style=\"display: table-cell;\">syncable&nbsp;=&nbsp;True,</div></div><div class=\"1936\" style=\"display: none;\"><div style=\"display: table-cell;\"></div><div style=\"display: table-cell;\">tags&nbsp;=&nbsp;[],</div></div><div class=\"1936\" style=\"display: none;\"><div style=\"display: table-cell;\"></div><div style=\"display: table-cell;\">visible&nbsp;=&nbsp;True,</div></div><div class=\"1936\" style=\"display: none;\"><div style=\"display: table-cell;\"></div><div style=\"display: table-cell;\">width&nbsp;=&nbsp;None,</div></div><div class=\"1936\" style=\"display: none;\"><div style=\"display: table-cell;\"></div><div style=\"display: table-cell;\">width_policy&nbsp;=&nbsp;'auto')</div></div></div>\n",
       "<script>\n",
       "(function() {\n",
       "  let expanded = false;\n",
       "  const ellipsis = document.getElementById(\"1937\");\n",
       "  ellipsis.addEventListener(\"click\", function() {\n",
       "    const rows = document.getElementsByClassName(\"1936\");\n",
       "    for (let i = 0; i < rows.length; i++) {\n",
       "      const el = rows[i];\n",
       "      el.style.display = expanded ? \"none\" : \"table-row\";\n",
       "    }\n",
       "    ellipsis.innerHTML = expanded ? \"&hellip;)\" : \"&lsaquo;&lsaquo;&lsaquo;\";\n",
       "    expanded = !expanded;\n",
       "  });\n",
       "})();\n",
       "</script>\n"
      ],
      "text/plain": [
       "Column(id='1650', ...)"
      ]
     },
     "execution_count": 21,
     "metadata": {},
     "output_type": "execute_result"
    }
   ],
   "source": [
    "p_hist = Info_sheet.groupby('Día de llegada').count().plot_bokeh(kind=\"hist\", y = \"Número de llegada\",show_figure=False)\n",
    "pandas_bokeh.plot_grid([[p_bar, p_scatter],[p_line, p_pie], [p_hist]], plot_width=450)"
   ]
  },
  {
   "cell_type": "code",
   "execution_count": null,
   "metadata": {},
   "outputs": [],
   "source": []
  }
 ],
 "metadata": {
  "kernelspec": {
   "display_name": "Python 3 (ipykernel)",
   "language": "python",
   "name": "python3"
  },
  "language_info": {
   "codemirror_mode": {
    "name": "ipython",
    "version": 3
   },
   "file_extension": ".py",
   "mimetype": "text/x-python",
   "name": "python",
   "nbconvert_exporter": "python",
   "pygments_lexer": "ipython3",
   "version": "3.11.1"
  }
 },
 "nbformat": 4,
 "nbformat_minor": 4
}
