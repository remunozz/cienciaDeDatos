{
 "cells": [
  {
   "cell_type": "code",
   "execution_count": 20,
   "id": "bd2cd7a0-70c2-4991-b875-2f07e62956a7",
   "metadata": {},
   "outputs": [
    {
     "data": {
      "text/html": [
       "<div>\n",
       "<style scoped>\n",
       "    .dataframe tbody tr th:only-of-type {\n",
       "        vertical-align: middle;\n",
       "    }\n",
       "\n",
       "    .dataframe tbody tr th {\n",
       "        vertical-align: top;\n",
       "    }\n",
       "\n",
       "    .dataframe thead th {\n",
       "        text-align: right;\n",
       "    }\n",
       "</style>\n",
       "<table border=\"1\" class=\"dataframe\">\n",
       "  <thead>\n",
       "    <tr style=\"text-align: right;\">\n",
       "      <th></th>\n",
       "      <th>Total Camas Críticas</th>\n",
       "    </tr>\n",
       "    <tr>\n",
       "      <th>Nombre Servicio de Salud</th>\n",
       "      <th></th>\n",
       "    </tr>\n",
       "  </thead>\n",
       "  <tbody>\n",
       "    <tr>\n",
       "      <th>Metropolitano Central</th>\n",
       "      <td>44</td>\n",
       "    </tr>\n",
       "    <tr>\n",
       "      <th>Metropolitano Norte</th>\n",
       "      <td>44</td>\n",
       "    </tr>\n",
       "    <tr>\n",
       "      <th>Metropolitano Occidente</th>\n",
       "      <td>76</td>\n",
       "    </tr>\n",
       "    <tr>\n",
       "      <th>Metropolitano Oriente</th>\n",
       "      <td>46</td>\n",
       "    </tr>\n",
       "    <tr>\n",
       "      <th>Metropolitano Sur</th>\n",
       "      <td>74</td>\n",
       "    </tr>\n",
       "    <tr>\n",
       "      <th>Metropolitano Sur Oriente</th>\n",
       "      <td>55</td>\n",
       "    </tr>\n",
       "  </tbody>\n",
       "</table>\n",
       "</div>"
      ],
      "text/plain": [
       "                                                    Total Camas Críticas\n",
       "Nombre Servicio de Salud                                                \n",
       "Metropolitano Central                                                 44\n",
       "Metropolitano Norte                                                   44\n",
       "Metropolitano Occidente                                               76\n",
       "Metropolitano Oriente                                                 46\n",
       "Metropolitano Sur                                                     74\n",
       "Metropolitano Sur Oriente                                             55"
      ]
     },
     "execution_count": 20,
     "metadata": {},
     "output_type": "execute_result"
    }
   ],
   "source": [
    "# Utilizando Dataframe y comandos de Python, indique ¿cuál de las siguientes alternativas indica correctamente el máximo de camas críticas que hay en total en los Servicios de Salud Metropolitano Sur y Sur Oriente?\n",
    "import pandas as pd \n",
    "Hosp_sheet=pd.read_excel('Datos.xls', sheet_name='Hospitales', header=0, index_col=None)\n",
    "Hosp_sheet[['Nombre Servicio de Salud', 'Total Camas Críticas']].groupby('Nombre Servicio de Salud').max()\n"
   ]
  },
  {
   "cell_type": "code",
   "execution_count": 50,
   "id": "b42a8488-4f50-4de7-83ef-b12ac357ccec",
   "metadata": {},
   "outputs": [
    {
     "name": "stdout",
     "output_type": "stream",
     "text": [
      "       Estadia\n",
      "GRD           \n",
      "GRD1      10.0\n",
      "GRD10     10.0\n",
      "GRD2       4.0\n",
      "GRD3       3.0\n",
      "GRD4       6.0\n",
      "GRD5       4.0\n",
      "GRD6       5.0\n",
      "GRD7       4.0\n",
      "GRD8       4.0\n",
      "GRD9       5.0\n",
      "\n",
      "       Estadia\n",
      "GRD           \n",
      "GRD1      10.0\n",
      "GRD10     10.0\n",
      "GRD2       4.0\n",
      "GRD3       3.0\n",
      "GRD4       6.0\n",
      "GRD5       4.0\n",
      "GRD6       5.0\n",
      "GRD7       4.0\n",
      "GRD8       4.0\n",
      "GRD9       5.0\n"
     ]
    }
   ],
   "source": [
    "# Extraer la información del promedio de estadía por GRD, de la Base de Datos hospitalaria y desplegarla en formato CSV y excel\n",
    "import pandas as pd\n",
    "Info_sheet=pd.read_excel('Datos.xls', sheet_name='Información Histórica', header=0, index_col=None)\n",
    "print(Info_sheet[['GRD','Estadia']].groupby('GRD').mean())\n",
    "print()\n",
    "Estadia_GRD=Info_sheet[['GRD','Estadia']].groupby('GRD').mean()\n",
    "print(Estadia_GRD)\n",
    "Estadia_GRD.to_csv(index=False, encoding='utf-8')\n",
    "Estadia_GRD.to_csv('Estadia_promedio_CSV.csv',index=False, encoding='utf-8')\n",
    "Estadia_GRD.to_csv('Estadia_promedio_Excel.xlsx')\n",
    "Estadia_GRD.to_csv('Estadia_promedio_Excel.xls')"
   ]
  },
  {
   "cell_type": "code",
   "execution_count": 39,
   "id": "edd57615-80a9-4ff4-a170-d087d72309d0",
   "metadata": {},
   "outputs": [
    {
     "name": "stdout",
     "output_type": "stream",
     "text": [
      "       Estadia\n",
      "GRD           \n",
      "GRD1      10.0\n",
      "GRD10     10.0\n",
      "GRD2       4.0\n",
      "GRD3       3.0\n",
      "GRD4       6.0\n",
      "GRD5       4.0\n",
      "GRD6       5.0\n",
      "GRD7       4.0\n",
      "GRD8       4.0\n",
      "GRD9       5.0\n",
      "\n",
      "                                                     Estadia\n",
      "Hospital al que llega                                       \n",
      "Complejo Hospitalario Dr. Sótero del Río            5.430255\n",
      "Complejo Hospitalario San José                      5.507094\n",
      "Hospital Adalberto Steeger (Talagante)              5.376607\n",
      "Hospital Barros Luco Trudeau                        5.466349\n",
      "Hospital Clínico San Borja-Arriarán                 5.497654\n",
      "Hospital Clínico de la Florida                      5.597577\n",
      "Hospital Del Salvador                               5.460732\n",
      "Hospital Dr. Exequiel González Cortés               5.504010\n",
      "Hospital Dr. Félix Bulnes Cerda                     5.540908\n",
      "Hospital Dr. Luis Tisné B.                          5.492298\n",
      "Hospital El Pino                                    5.543734\n",
      "Hospital Metropolitano ( ex Militar )               5.463522\n",
      "Hospital Padre Alberto Hurtado (San Ramón)          5.454490\n",
      "Hospital Parroquial de San Bernardo                 5.597145\n",
      "Hospital San Juan de Dios                           5.507594\n",
      "Hospital de Enfermedades Infecciosas Dr. Lucio ...  5.495558\n",
      "Hospital de Urgencia Asistencia Pública Dr. Ale...  5.495845\n",
      "Hospital el Carmen                                  5.469773\n",
      "Instituto Nacional de Enfermedades Respiratoria...  5.511743\n",
      "Instituto Traumatológico Dr. Teodoro Gebauer        5.518630\n",
      "Instituto de Neurocirugía Dr. Alfonso Asenjo        5.486247\n"
     ]
    }
   ],
   "source": [
    "# Almacenar la estadía promedio por GRD y por hospital, en un archivo excel\n",
    "import pandas as pd\n",
    "Info_sheet=pd.read_excel('Datos.xls', sheet_name='Información Histórica', header=0, index_col=None)\n",
    "Estadia_GRD=Info_sheet[['GRD','Estadia']].groupby('GRD').mean()\n",
    "Estadia_Hosp=Info_sheet[['Hospital al que llega','Estadia']].groupby('Hospital al que llega').mean()\n",
    "print(Estadia_GRD)\n",
    "print()\n",
    "print(Estadia_Hosp)\n",
    "with pd.ExcelWriter('Estadia_GRD_HOSP.xlsx') as writer:\n",
    "    Estadia_GRD.to_excel(writer,sheet_name='Promedio_GRD')\n",
    "    Estadia_Hosp.to_excel(writer,sheet_name='Promedio_Hosp')"
   ]
  },
  {
   "cell_type": "code",
   "execution_count": 55,
   "id": "38948b13-7989-4f30-8c5c-bd582aa1c74b",
   "metadata": {},
   "outputs": [
    {
     "name": "stdout",
     "output_type": "stream",
     "text": [
      "Estadia    10\n",
      "dtype: int64\n"
     ]
    }
   ],
   "source": [
    "# Utilizando el Dataframe Estadía_promedio_Excel.xlsx y comandos de Python, ¿cuál de las siguientes alternativas corresponde a la máxima estadía promedio de entre los GRDs?\n",
    "# No permite leer archivo .xlsx???\n",
    "import pandas as pd\n",
    "Info_sheet=pd.read_excel('Datos.xls', sheet_name='Información Histórica', header=0, index_col=None)\n",
    "Estadia_GRD=Info_sheet[['GRD','Estadia']].groupby('GRD').max()\n",
    "print(Estadia_GRD.max())"
   ]
  },
  {
   "cell_type": "code",
   "execution_count": 5,
   "id": "68ded281-41f8-4e00-88d1-e5443b1f0794",
   "metadata": {},
   "outputs": [
    {
     "data": {
      "text/html": [
       "<div>\n",
       "<style scoped>\n",
       "    .dataframe tbody tr th:only-of-type {\n",
       "        vertical-align: middle;\n",
       "    }\n",
       "\n",
       "    .dataframe tbody tr th {\n",
       "        vertical-align: top;\n",
       "    }\n",
       "\n",
       "    .dataframe thead th {\n",
       "        text-align: right;\n",
       "    }\n",
       "</style>\n",
       "<table border=\"1\" class=\"dataframe\">\n",
       "  <thead>\n",
       "    <tr style=\"text-align: right;\">\n",
       "      <th></th>\n",
       "      <th>Total Camas Críticas</th>\n",
       "    </tr>\n",
       "    <tr>\n",
       "      <th>Nombre Servicio de Salud</th>\n",
       "      <th></th>\n",
       "    </tr>\n",
       "  </thead>\n",
       "  <tbody>\n",
       "    <tr>\n",
       "      <th>Metropolitano Central</th>\n",
       "      <td>105</td>\n",
       "    </tr>\n",
       "    <tr>\n",
       "      <th>Metropolitano Norte</th>\n",
       "      <td>44</td>\n",
       "    </tr>\n",
       "    <tr>\n",
       "      <th>Metropolitano Occidente</th>\n",
       "      <td>120</td>\n",
       "    </tr>\n",
       "    <tr>\n",
       "      <th>Metropolitano Oriente</th>\n",
       "      <td>137</td>\n",
       "    </tr>\n",
       "    <tr>\n",
       "      <th>Metropolitano Sur</th>\n",
       "      <td>173</td>\n",
       "    </tr>\n",
       "    <tr>\n",
       "      <th>Metropolitano Sur Oriente</th>\n",
       "      <td>127</td>\n",
       "    </tr>\n",
       "  </tbody>\n",
       "</table>\n",
       "</div>"
      ],
      "text/plain": [
       "                                                    Total Camas Críticas\n",
       "Nombre Servicio de Salud                                                \n",
       "Metropolitano Central                                                105\n",
       "Metropolitano Norte                                                   44\n",
       "Metropolitano Occidente                                              120\n",
       "Metropolitano Oriente                                                137\n",
       "Metropolitano Sur                                                    173\n",
       "Metropolitano Sur Oriente                                            127"
      ]
     },
     "execution_count": 5,
     "metadata": {},
     "output_type": "execute_result"
    }
   ],
   "source": [
    "# Utilizar el archivo datos.xls\n",
    "\n",
    "# Construir un Dataframe que indique la cantidad total de camas críticas existentes por servicio de salud.\n",
    "# Almacenar la información en un archivo \"CamasCríticasxSS.csv\"\n",
    "\n",
    "# Construir un Dataframe que indique la cantidad total de camas críticas potenciales(existentes más las que se pueden aumentar)\n",
    "# por servicio de salud. Almacenar esta información en un archivo llamado \"CamasCríticasTNxSS.xlsx\"\n",
    "\n",
    "import pandas as pd \n",
    "Hosp_sheet=pd.read_excel('Datos.xls', sheet_name='Hospitales', header=0, index_col=None)\n",
    "totalesxservsalud=Hosp_sheet[['Nombre Servicio de Salud','Total Camas Críticas']].groupby('Nombre Servicio de Salud').sum()\n",
    "totalesxservsalud"
   ]
  },
  {
   "cell_type": "code",
   "execution_count": 6,
   "id": "cf929770-d52f-4f83-95b2-9f935175a8af",
   "metadata": {},
   "outputs": [],
   "source": [
    "totalesxservsalud.to_csv('CamasCríticasxSS.csv')"
   ]
  },
  {
   "cell_type": "code",
   "execution_count": 12,
   "id": "d5aec6c5-e0d2-4808-8a2f-1d5b1a3b30b7",
   "metadata": {},
   "outputs": [
    {
     "data": {
      "text/html": [
       "<div>\n",
       "<style scoped>\n",
       "    .dataframe tbody tr th:only-of-type {\n",
       "        vertical-align: middle;\n",
       "    }\n",
       "\n",
       "    .dataframe tbody tr th {\n",
       "        vertical-align: top;\n",
       "    }\n",
       "\n",
       "    .dataframe thead th {\n",
       "        text-align: right;\n",
       "    }\n",
       "</style>\n",
       "<table border=\"1\" class=\"dataframe\">\n",
       "  <thead>\n",
       "    <tr style=\"text-align: right;\">\n",
       "      <th></th>\n",
       "      <th>Camas Potenciales</th>\n",
       "    </tr>\n",
       "    <tr>\n",
       "      <th>Nombre Servicio de Salud</th>\n",
       "      <th></th>\n",
       "    </tr>\n",
       "  </thead>\n",
       "  <tbody>\n",
       "    <tr>\n",
       "      <th>Metropolitano Central</th>\n",
       "      <td>129</td>\n",
       "    </tr>\n",
       "    <tr>\n",
       "      <th>Metropolitano Norte</th>\n",
       "      <td>54</td>\n",
       "    </tr>\n",
       "    <tr>\n",
       "      <th>Metropolitano Occidente</th>\n",
       "      <td>165</td>\n",
       "    </tr>\n",
       "    <tr>\n",
       "      <th>Metropolitano Oriente</th>\n",
       "      <td>180</td>\n",
       "    </tr>\n",
       "    <tr>\n",
       "      <th>Metropolitano Sur</th>\n",
       "      <td>221</td>\n",
       "    </tr>\n",
       "  </tbody>\n",
       "</table>\n",
       "</div>"
      ],
      "text/plain": [
       "                                                    Camas Potenciales\n",
       "Nombre Servicio de Salud                                             \n",
       "Metropolitano Central                                             129\n",
       "Metropolitano Norte                                                54\n",
       "Metropolitano Occidente                                           165\n",
       "Metropolitano Oriente                                             180\n",
       "Metropolitano Sur                                                 221"
      ]
     },
     "execution_count": 12,
     "metadata": {},
     "output_type": "execute_result"
    }
   ],
   "source": [
    "Hosp_sheet['Camas Potenciales']=Hosp_sheet['Total Camas Críticas']+Hosp_sheet['Máxima cantidad de camas a aumetar']\n",
    "camasxsersalud=Hosp_sheet[['Nombre Servicio de Salud','Camas Potenciales']].groupby('Nombre Servicio de Salud').sum()\n",
    "camasxsersalud.head()"
   ]
  },
  {
   "cell_type": "code",
   "execution_count": 13,
   "id": "52d81c08-ed8b-4898-a173-e18ace67e520",
   "metadata": {},
   "outputs": [],
   "source": [
    "camasxsersalud.to_excel('CamasCríticasTNxSS.xlsx')\n",
    "Hosp_sheet.to_excel('Hosp_sheet.xlsx')"
   ]
  }
 ],
 "metadata": {
  "kernelspec": {
   "display_name": "Python 3 (ipykernel)",
   "language": "python",
   "name": "python3"
  },
  "language_info": {
   "codemirror_mode": {
    "name": "ipython",
    "version": 3
   },
   "file_extension": ".py",
   "mimetype": "text/x-python",
   "name": "python",
   "nbconvert_exporter": "python",
   "pygments_lexer": "ipython3",
   "version": "3.11.1"
  }
 },
 "nbformat": 4,
 "nbformat_minor": 5
}
