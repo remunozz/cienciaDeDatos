{
 "cells": [
  {
   "cell_type": "code",
   "execution_count": 11,
   "id": "92b045a6-97cb-4fa4-9fe5-d8e79872f575",
   "metadata": {},
   "outputs": [
    {
     "data": {
      "text/html": [
       "<div>\n",
       "<style scoped>\n",
       "    .dataframe tbody tr th:only-of-type {\n",
       "        vertical-align: middle;\n",
       "    }\n",
       "\n",
       "    .dataframe tbody tr th {\n",
       "        vertical-align: top;\n",
       "    }\n",
       "\n",
       "    .dataframe thead th {\n",
       "        text-align: right;\n",
       "    }\n",
       "</style>\n",
       "<table border=\"1\" class=\"dataframe\">\n",
       "  <thead>\n",
       "    <tr style=\"text-align: right;\">\n",
       "      <th></th>\n",
       "      <th>Número de llegada</th>\n",
       "    </tr>\n",
       "    <tr>\n",
       "      <th>Nombre Servicio de Salud</th>\n",
       "      <th></th>\n",
       "    </tr>\n",
       "  </thead>\n",
       "  <tbody>\n",
       "    <tr>\n",
       "      <th>Metropolitano Oriente</th>\n",
       "      <td>36</td>\n",
       "    </tr>\n",
       "    <tr>\n",
       "      <th>Metropolitano Occidente</th>\n",
       "      <td>29</td>\n",
       "    </tr>\n",
       "    <tr>\n",
       "      <th>Metropolitano Sur</th>\n",
       "      <td>26</td>\n",
       "    </tr>\n",
       "    <tr>\n",
       "      <th>Metropolitano Central</th>\n",
       "      <td>25</td>\n",
       "    </tr>\n",
       "    <tr>\n",
       "      <th>Metropolitano Norte</th>\n",
       "      <td>16</td>\n",
       "    </tr>\n",
       "    <tr>\n",
       "      <th>Metropolitano Sur Oriente</th>\n",
       "      <td>14</td>\n",
       "    </tr>\n",
       "  </tbody>\n",
       "</table>\n",
       "</div>"
      ],
      "text/plain": [
       "                                                    Número de llegada\n",
       "Nombre Servicio de Salud                                             \n",
       "Metropolitano Oriente                                              36\n",
       "Metropolitano Occidente                                            29\n",
       "Metropolitano Sur                                                  26\n",
       "Metropolitano Central                                              25\n",
       "Metropolitano Norte                                                16\n",
       "Metropolitano Sur Oriente                                          14"
      ]
     },
     "execution_count": 11,
     "metadata": {},
     "output_type": "execute_result"
    }
   ],
   "source": [
    "# Pregunta 1\n",
    "# ¿Cuál opción corresponde al servicio de salud al que llegaron más pacientes el día 1? \n",
    "\n",
    "import pandas as pd\n",
    "import numpy as np\n",
    "import matplotlib.pyplot as plt\n",
    "import seaborn as sns\n",
    "\n",
    "Hosp_sheet=pd.read_excel('Datos.xls', sheet_name='Hospitales', header=0, index_col=None)\n",
    "Info_sheet=pd.read_excel('Datos.xls', sheet_name='Información Histórica', header=0, index_col=None)\n",
    "\n",
    "\n",
    "indices = Hosp_sheet[[\"Nombre Servicio de Salud\", \"Nombre Establecimiento\"]]\n",
    "\n",
    "apoyo = Info_sheet.loc[Info_sheet[\"Día de llegada\"] == 1]\n",
    "\n",
    "apoyo = apoyo.rename(columns={'Hospital al que llega': \"Nombre Establecimiento\"})\n",
    "\n",
    "apoyo = apoyo.groupby(\"Nombre Establecimiento\").count()\n",
    "\n",
    "apoyo = apoyo.join(indices.set_index(\"Nombre Establecimiento\"), on=\"Nombre Establecimiento\")\n",
    "\n",
    "apoyo[[\"Nombre Servicio de Salud\", \"Número de llegada\"]].groupby(\"Nombre Servicio de Salud\").sum().sort_values(by = \"Número de llegada\", ascending = False)\n"
   ]
  },
  {
   "cell_type": "code",
   "execution_count": null,
   "id": "8918fc0a-4108-473d-be53-b7a9ff1c50b6",
   "metadata": {},
   "outputs": [],
   "source": []
  }
 ],
 "metadata": {
  "kernelspec": {
   "display_name": "Python 3 (ipykernel)",
   "language": "python",
   "name": "python3"
  },
  "language_info": {
   "codemirror_mode": {
    "name": "ipython",
    "version": 3
   },
   "file_extension": ".py",
   "mimetype": "text/x-python",
   "name": "python",
   "nbconvert_exporter": "python",
   "pygments_lexer": "ipython3",
   "version": "3.11.1"
  }
 },
 "nbformat": 4,
 "nbformat_minor": 5
}
