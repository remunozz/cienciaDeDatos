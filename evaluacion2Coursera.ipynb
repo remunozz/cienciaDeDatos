{
 "cells": [
  {
   "cell_type": "code",
   "execution_count": 15,
   "id": "92b045a6-97cb-4fa4-9fe5-d8e79872f575",
   "metadata": {},
   "outputs": [
    {
     "name": "stdout",
     "output_type": "stream",
     "text": [
      "                                                    Número de llegada\n",
      "Nombre Servicio de Salud                                             \n",
      "Metropolitano Oriente                                              36\n",
      "Metropolitano Occidente                                            29\n",
      "Metropolitano Sur                                                  26\n",
      "Metropolitano Central                                              25\n",
      "Metropolitano Norte                                                16\n",
      "Metropolitano Sur Oriente                                          14\n"
     ]
    }
   ],
   "source": [
    "# Pregunta 1\n",
    "# ¿Cuál opción corresponde al servicio de salud al que llegaron más pacientes el día 1? \n",
    "\n",
    "import pandas as pd\n",
    "import numpy as np\n",
    "import matplotlib.pyplot as plt\n",
    "import seaborn as sns\n",
    "\n",
    "Hosp_sheet=pd.read_excel('Datos.xls', sheet_name='Hospitales', header=0, index_col=None)\n",
    "Info_sheet=pd.read_excel('Datos.xls', sheet_name='Información Histórica', header=0, index_col=None)\n",
    "\n",
    "\n",
    "indices = Hosp_sheet[[\"Nombre Servicio de Salud\", \"Nombre Establecimiento\"]]\n",
    "apoyo = Info_sheet.loc[Info_sheet[\"Día de llegada\"] == 1]\n",
    "apoyo = apoyo.rename(columns={'Hospital al que llega': \"Nombre Establecimiento\"})\n",
    "apoyo = apoyo.groupby(\"Nombre Establecimiento\").count()\n",
    "apoyo = apoyo.join(indices.set_index(\"Nombre Establecimiento\"), on=\"Nombre Establecimiento\")\n",
    "print(apoyo[[\"Nombre Servicio de Salud\", \"Número de llegada\"]].groupby(\"Nombre Servicio de Salud\").sum().sort_values(by = \"Número de llegada\", ascending = False))\n"
   ]
  },
  {
   "cell_type": "code",
   "execution_count": null,
   "id": "3fee0b71-a88a-486f-bf84-fac305f22a83",
   "metadata": {},
   "outputs": [],
   "source": []
  }
 ],
 "metadata": {
  "kernelspec": {
   "display_name": "Python 3 (ipykernel)",
   "language": "python",
   "name": "python3"
  },
  "language_info": {
   "codemirror_mode": {
    "name": "ipython",
    "version": 3
   },
   "file_extension": ".py",
   "mimetype": "text/x-python",
   "name": "python",
   "nbconvert_exporter": "python",
   "pygments_lexer": "ipython3",
   "version": "3.11.1"
  }
 },
 "nbformat": 4,
 "nbformat_minor": 5
}
