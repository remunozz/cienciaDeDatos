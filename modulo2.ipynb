{
 "cells": [
  {
   "cell_type": "markdown",
   "metadata": {},
   "source": [
    "# Módulo 2 MOOC Python para Ciencia de Datos"
   ]
  },
  {
   "cell_type": "markdown",
   "metadata": {},
   "source": [
    "### Clase 1: Conceptos fundamentales de las Bases de datos "
   ]
  },
  {
   "cell_type": "markdown",
   "metadata": {},
   "source": [
    "¿Qué es una Base de Datos? `Según Microsoft, una Base de Datos es una herramienta que nos permite almacenar y organizar información. La información que pueden almacenar puede ser de cualquier índole, desde personas, productos, mediciones, entre muchos más.`\n",
    "\n",
    "Al contar con una Base de Datos es importante tener en cuenta que para poder manejarlas se debe contar con un sistema que permita su gestión, lo que se denomina Sistema de Gestión de Bases de Datos (*DataBase Managament System*) o DBMS. `Estos son programas que facilitan la lectura y almacenamiento de grandes volúmenes de datos`. Estos sistemas permiten almacenar los datos e interactuar con ellos de manera sencilla, por ejemplo, a través de tablas. `Por último, en conjunto los datos y el DBMS, junto con las aplicaciones asociadas a ellos, reciben el nombre de sistema de bases de datos, abreviado normalmente a simplemente base de datos.`\n",
    "\n",
    "Conociendo lo que es una base de datos y como se interactúa con estas, es importante definir algunos conceptos fundamentales. Lo principal es saber el tipo de Base de Datos con la que estamos interactuando, los cuales pueden ser:\n",
    "- Bases de Datos relacionales\n",
    "- Bases de Datos orientadas a objetos\n",
    "- Bases de Datos distribuidas\n",
    "- Bases de Datos NoSQL\n",
    "- Bases de Datos orientadas a grafos\n",
    "\n",
    "En general estos son unos de las varias docenas de tipos de Bases de Datos que existen. **Para efectos de este curso, el tipo de Bases de Datos más importantes son las bases relacionales**\n",
    "\n",
    "Como se menciona dentro del apartado de Tipos de Bases de Datos se muestran los más utilizados y se menciona que el más importante para efectos de este curso son las Bases de Datos relacionales. El modelo de Bases de Datos relacionales se basa principalmente en:\n",
    "- Tablas (relaciones)\n",
    "- Columnas de las tablas (atributos con sus tipos)\n",
    "- Filas de las tablas (tuplas) que contienen los datos\n"
   ]
  },
  {
   "cell_type": "markdown",
   "metadata": {},
   "source": [
    "### Clase 2: Librería de Python y el concepto de *Dataframe*"
   ]
  },
  {
   "cell_type": "markdown",
   "metadata": {},
   "source": [
    "La tarea más importante al tener una **Base de Datos** es la de `manejar, manipular y editar`, es decir, contar con una especie de sistema de gestión de datos. En este caso la librería de Python más importante y utilizada para lo mencionado es Pandas.\n",
    "\n",
    "¿Qué es Pandas? Esta se define en su página web como \"*un paquete de Python que proporciona estructuras de datos rápidas, flexibles y expresivas diseñadas para que el trabajo con datos \"relacionales\" o \"etiquetados\" sea fácil e intuitivo. Su objetivo es ser el bloque de construcción fundamental de alto nivel para realizar análisis de datos prácticos del mundo real en Python. Además, tiene el objetivo más amplio de convertirse en la herramienta de análisis / manipulación de datos de código abierto más potente y flexible disponible en cualquier idioma. Ya está bien encaminado hacia este objetivo.*\""
   ]
  },
  {
   "cell_type": "markdown",
   "metadata": {},
   "source": [
    "Las principales estructuras de datos que posee Pandas son las Series y los Dataframe:\n",
    "- Series: Arreglo unidimensional con etiquetas de eje (incluidas series de tiempo)\n",
    "- Dataframe: Datos tabulares bidimensionales, de tamaño mutable y potencialmente heterogéneos. También se define como una estructura de datos etiquetada bidimensional con columnas de tipos potencialmente diferentes. Puede pensar en ello como una hoja de cálculo o una tabla SQL\n",
    "\n",
    "Contando con lo anterior, se procede a mostrar cada una de las estructuras. Para esto lo primero que se debe realizar es importar Pandas."
   ]
  },
  {
   "cell_type": "code",
   "execution_count": 1,
   "metadata": {},
   "outputs": [],
   "source": [
    "import pandas as pd"
   ]
  },
  {
   "cell_type": "markdown",
   "metadata": {},
   "source": [
    "Con la librería importada se puede empezar a trabajar. Lo primero es realizar dos ejemplos de como hacer una `Series`, la cual es otra estructura de datos de Pandas, y un `Dataframe`.\n",
    "\n",
    "Partimos con un ejemplo de una *Serie* sencillo"
   ]
  },
  {
   "cell_type": "code",
   "execution_count": 2,
   "metadata": {},
   "outputs": [
    {
     "data": {
      "text/plain": [
       "Dato1    1\n",
       "Dato2    2\n",
       "Dato3    3\n",
       "dtype: int64"
      ]
     },
     "execution_count": 2,
     "metadata": {},
     "output_type": "execute_result"
    }
   ],
   "source": [
    "#Ejemplo Series\n",
    "d = {'Dato1': 1, 'Dato2': 2, 'Dato3': 3} ## --Datos\n",
    "ser = pd.Series(data=d, index=['Dato1', 'Dato2', 'Dato3']) #-- Comando Pandas.Series(datos, indice de datos)\n",
    "ser #Se despliega series"
   ]
  },
  {
   "cell_type": "markdown",
   "metadata": {},
   "source": [
    "Luego, se realiza un ejemplo de un *Dataframe*"
   ]
  },
  {
   "cell_type": "code",
   "execution_count": 3,
   "metadata": {},
   "outputs": [
    {
     "data": {
      "text/html": [
       "<div>\n",
       "<style scoped>\n",
       "    .dataframe tbody tr th:only-of-type {\n",
       "        vertical-align: middle;\n",
       "    }\n",
       "\n",
       "    .dataframe tbody tr th {\n",
       "        vertical-align: top;\n",
       "    }\n",
       "\n",
       "    .dataframe thead th {\n",
       "        text-align: right;\n",
       "    }\n",
       "</style>\n",
       "<table border=\"1\" class=\"dataframe\">\n",
       "  <thead>\n",
       "    <tr style=\"text-align: right;\">\n",
       "      <th></th>\n",
       "      <th>Columna 1</th>\n",
       "      <th>Columna 2</th>\n",
       "    </tr>\n",
       "  </thead>\n",
       "  <tbody>\n",
       "    <tr>\n",
       "      <th>0</th>\n",
       "      <td>1</td>\n",
       "      <td>3</td>\n",
       "    </tr>\n",
       "    <tr>\n",
       "      <th>1</th>\n",
       "      <td>2</td>\n",
       "      <td>4</td>\n",
       "    </tr>\n",
       "    <tr>\n",
       "      <th>2</th>\n",
       "      <td>3</td>\n",
       "      <td>8</td>\n",
       "    </tr>\n",
       "    <tr>\n",
       "      <th>3</th>\n",
       "      <td>4</td>\n",
       "      <td>9</td>\n",
       "    </tr>\n",
       "  </tbody>\n",
       "</table>\n",
       "</div>"
      ],
      "text/plain": [
       "   Columna 1  Columna 2\n",
       "0          1          3\n",
       "1          2          4\n",
       "2          3          8\n",
       "3          4          9"
      ]
     },
     "execution_count": 3,
     "metadata": {},
     "output_type": "execute_result"
    }
   ],
   "source": [
    "#Ejemplo DataFrame\n",
    "d = {'Columna 1': [1, 2, 3, 4], 'Columna 2': [3, 4, 8, 9]}\n",
    "df = pd.DataFrame(data=d)\n",
    "df"
   ]
  },
  {
   "attachments": {
    "image.png": {
     "image/png": "[encoded data removed]"
    }
   },
   "cell_type": "markdown",
   "metadata": {},
   "source": [
    "Realizado los ejemplos para introducir al alumno en `Series` y `Dataframes`, se realiza un ejemplo de cada una de las estructuras basado en los datos de la Tabla que conteniene la información de GRD, la cual se inserta a continuación.\n",
    "![image.png](attachment:image.png)"
   ]
  },
  {
   "cell_type": "markdown",
   "metadata": {},
   "source": [
    "Luego, con los datos de la Tabla se genera una *Serie* para el `Id GRD` y el `Nombre GRD`"
   ]
  },
  {
   "cell_type": "code",
   "execution_count": 4,
   "metadata": {
    "scrolled": true
   },
   "outputs": [
    {
     "data": {
      "text/plain": [
       "GRD1       Coronario\n",
       "GRD2        Hepático\n",
       "GRD3    Respiratorio\n",
       "dtype: object"
      ]
     },
     "execution_count": 4,
     "metadata": {},
     "output_type": "execute_result"
    }
   ],
   "source": [
    "#Ejemplo Series basado en Tabla GRD\n",
    "d = {'GRD1': \"Coronario\", 'GRD2': \"Hepático\", 'GRD3': \"Respiratorio\"} ## --Datos\n",
    "ser = pd.Series(data=d, index=['GRD1', 'GRD2', 'GRD3']) #-- Comando Pandas.Series(datos, indice de datos)\n",
    "ser #Se despliega series"
   ]
  },
  {
   "cell_type": "markdown",
   "metadata": {},
   "source": [
    "Finalmente, se traspasa la información de toda la Tabla para realizar un *Dataframe*"
   ]
  },
  {
   "cell_type": "code",
   "execution_count": 5,
   "metadata": {},
   "outputs": [
    {
     "data": {
      "text/html": [
       "<div>\n",
       "<style scoped>\n",
       "    .dataframe tbody tr th:only-of-type {\n",
       "        vertical-align: middle;\n",
       "    }\n",
       "\n",
       "    .dataframe tbody tr th {\n",
       "        vertical-align: top;\n",
       "    }\n",
       "\n",
       "    .dataframe thead th {\n",
       "        text-align: right;\n",
       "    }\n",
       "</style>\n",
       "<table border=\"1\" class=\"dataframe\">\n",
       "  <thead>\n",
       "    <tr style=\"text-align: right;\">\n",
       "      <th></th>\n",
       "      <th>ID GRD</th>\n",
       "      <th>Nombre GRD</th>\n",
       "      <th>Costo [MM$]</th>\n",
       "    </tr>\n",
       "  </thead>\n",
       "  <tbody>\n",
       "    <tr>\n",
       "      <th>0</th>\n",
       "      <td>GRD1</td>\n",
       "      <td>Coronario</td>\n",
       "      <td>7.92</td>\n",
       "    </tr>\n",
       "    <tr>\n",
       "      <th>1</th>\n",
       "      <td>GRD2</td>\n",
       "      <td>Hepático</td>\n",
       "      <td>3.42</td>\n",
       "    </tr>\n",
       "    <tr>\n",
       "      <th>2</th>\n",
       "      <td>GRD3</td>\n",
       "      <td>Respiratorio</td>\n",
       "      <td>2.92</td>\n",
       "    </tr>\n",
       "    <tr>\n",
       "      <th>3</th>\n",
       "      <td>GRD4</td>\n",
       "      <td>Renal</td>\n",
       "      <td>6.19</td>\n",
       "    </tr>\n",
       "    <tr>\n",
       "      <th>4</th>\n",
       "      <td>GRD5</td>\n",
       "      <td>Neuro</td>\n",
       "      <td>6.78</td>\n",
       "    </tr>\n",
       "    <tr>\n",
       "      <th>5</th>\n",
       "      <td>GRD6</td>\n",
       "      <td>Trauma</td>\n",
       "      <td>4.88</td>\n",
       "    </tr>\n",
       "    <tr>\n",
       "      <th>6</th>\n",
       "      <td>GRD7</td>\n",
       "      <td>Esofágico</td>\n",
       "      <td>2.63</td>\n",
       "    </tr>\n",
       "    <tr>\n",
       "      <th>7</th>\n",
       "      <td>GRD8</td>\n",
       "      <td>Oftalmológico</td>\n",
       "      <td>6.72</td>\n",
       "    </tr>\n",
       "    <tr>\n",
       "      <th>8</th>\n",
       "      <td>GRD9</td>\n",
       "      <td>Circulatorio</td>\n",
       "      <td>5.52</td>\n",
       "    </tr>\n",
       "    <tr>\n",
       "      <th>9</th>\n",
       "      <td>GRD10</td>\n",
       "      <td>Intestinal</td>\n",
       "      <td>7.92</td>\n",
       "    </tr>\n",
       "  </tbody>\n",
       "</table>\n",
       "</div>"
      ],
      "text/plain": [
       "  ID GRD     Nombre GRD  Costo [MM$]\n",
       "0   GRD1      Coronario         7.92\n",
       "1   GRD2       Hepático         3.42\n",
       "2   GRD3   Respiratorio         2.92\n",
       "3   GRD4          Renal         6.19\n",
       "4   GRD5          Neuro         6.78\n",
       "5   GRD6         Trauma         4.88\n",
       "6   GRD7      Esofágico         2.63\n",
       "7   GRD8  Oftalmológico         6.72\n",
       "8   GRD9   Circulatorio         5.52\n",
       "9  GRD10     Intestinal         7.92"
      ]
     },
     "execution_count": 5,
     "metadata": {},
     "output_type": "execute_result"
    }
   ],
   "source": [
    "data = {'ID GRD': ['GRD1','GRD2','GRD3','GRD4','GRD5','GRD6','GRD7','GRD8','GRD9','GRD10'],\n",
    "'Nombre GRD': ['Coronario','Hepático','Respiratorio','Renal','Neuro','Trauma','Esofágico','Oftalmológico','Circulatorio','Intestinal'],\n",
    "'Costo [MM$]': [7.92,3.42,2.92,6.19,6.78,4.88,2.63,6.72,5.52,7.92]}\n",
    "df = pd.DataFrame(data=data)\n",
    "df"
   ]
  },
  {
   "cell_type": "markdown",
   "metadata": {},
   "source": [
    "Como se mencionó, las estructuras más importantes en Pandas son los Dataframes. Luego, los comandos principales para generar un Dataframe son los siguientes:\n",
    "-\tPandas.dataframe(data): Genera un Dataframe en pandas a partir de la información entregada en Pyhton. Un ejemplo de esto es el entregado en la Figura 2.\n",
    "-\tPandas.read_csv(path): Genera un Dataframe a partir de un archivo .csv que se encuentra en path\n",
    "-\tPandas.read_excel(path): Genera un Dataframe a partir de una Sheet en Excel que se encuentra en path.\n",
    "\n",
    "Otro comando de interés es el comando `Pandas.head(n)`, el cual permite desplegar un número n de filas del Dataframe generado. Luego, ya se mostró como generar un Dataframe generando datos dentro de Python. Sin embargo, puede ser que encuentren innecesario pasar todos los datos de un archivo a estructuras de Python para generar un Dataframe si pueden generar uno a partir de un archivo .csv o un Excel. A continuación se generan los DF a partir del Excel \"Datos.xls\"\n"
   ]
  },
  {
   "cell_type": "code",
   "execution_count": 6,
   "metadata": {},
   "outputs": [
    {
     "data": {
      "text/html": [
       "<div>\n",
       "<style scoped>\n",
       "    .dataframe tbody tr th:only-of-type {\n",
       "        vertical-align: middle;\n",
       "    }\n",
       "\n",
       "    .dataframe tbody tr th {\n",
       "        vertical-align: top;\n",
       "    }\n",
       "\n",
       "    .dataframe thead th {\n",
       "        text-align: right;\n",
       "    }\n",
       "</style>\n",
       "<table border=\"1\" class=\"dataframe\">\n",
       "  <thead>\n",
       "    <tr style=\"text-align: right;\">\n",
       "      <th></th>\n",
       "      <th>ID GRD</th>\n",
       "      <th>Nombre GRD</th>\n",
       "      <th>Costo resolución en Clínica Privada [MM$]</th>\n",
       "    </tr>\n",
       "  </thead>\n",
       "  <tbody>\n",
       "    <tr>\n",
       "      <th>0</th>\n",
       "      <td>GRD1</td>\n",
       "      <td>Coronario</td>\n",
       "      <td>7.917</td>\n",
       "    </tr>\n",
       "    <tr>\n",
       "      <th>1</th>\n",
       "      <td>GRD2</td>\n",
       "      <td>Hepático</td>\n",
       "      <td>3.417</td>\n",
       "    </tr>\n",
       "    <tr>\n",
       "      <th>2</th>\n",
       "      <td>GRD3</td>\n",
       "      <td>Respiratorio</td>\n",
       "      <td>2.915</td>\n",
       "    </tr>\n",
       "    <tr>\n",
       "      <th>3</th>\n",
       "      <td>GRD4</td>\n",
       "      <td>Renal</td>\n",
       "      <td>6.188</td>\n",
       "    </tr>\n",
       "    <tr>\n",
       "      <th>4</th>\n",
       "      <td>GRD5</td>\n",
       "      <td>Neurológico</td>\n",
       "      <td>6.782</td>\n",
       "    </tr>\n",
       "  </tbody>\n",
       "</table>\n",
       "</div>"
      ],
      "text/plain": [
       "  ID GRD    Nombre GRD  Costo resolución en Clínica Privada [MM$]\n",
       "0   GRD1     Coronario                                      7.917\n",
       "1   GRD2      Hepático                                      3.417\n",
       "2   GRD3  Respiratorio                                      2.915\n",
       "3   GRD4         Renal                                      6.188\n",
       "4   GRD5   Neurológico                                      6.782"
      ]
     },
     "execution_count": 6,
     "metadata": {},
     "output_type": "execute_result"
    }
   ],
   "source": [
    "GRD_sheet = pd.read_excel(\"Datos.xls\", sheet_name = \"GRD\", header = 0, index_col = None)\n",
    "GRD_sheet.head()"
   ]
  },
  {
   "cell_type": "code",
   "execution_count": 7,
   "metadata": {},
   "outputs": [
    {
     "data": {
      "text/html": [
       "<div>\n",
       "<style scoped>\n",
       "    .dataframe tbody tr th:only-of-type {\n",
       "        vertical-align: middle;\n",
       "    }\n",
       "\n",
       "    .dataframe tbody tr th {\n",
       "        vertical-align: top;\n",
       "    }\n",
       "\n",
       "    .dataframe thead th {\n",
       "        text-align: right;\n",
       "    }\n",
       "</style>\n",
       "<table border=\"1\" class=\"dataframe\">\n",
       "  <thead>\n",
       "    <tr style=\"text-align: right;\">\n",
       "      <th></th>\n",
       "      <th>Nombre Servicio de Salud</th>\n",
       "      <th>Nombre Establecimiento</th>\n",
       "      <th>Área Cuidados Intensivos Adultos</th>\n",
       "      <th>Área Cuidados Intermedios Adulto</th>\n",
       "      <th>Total Camas Críticas</th>\n",
       "      <th>Máxima cantidad de camas a aumetar</th>\n",
       "      <th>Costo de instalar una cama [MM$]</th>\n",
       "      <th>Costo de operación anual de una cama [MM$]</th>\n",
       "      <th>Costo diario GRD1 [MM$]</th>\n",
       "      <th>Costo diario GRD2 [MM$]</th>\n",
       "      <th>Costo diario GRD3 [MM$]</th>\n",
       "      <th>Costo diario GRD4 [MM$]</th>\n",
       "      <th>Costo diario GRD5 [MM$]</th>\n",
       "      <th>Costo diario GRD6 [MM$]</th>\n",
       "      <th>Costo diario GRD7 [MM$]</th>\n",
       "      <th>Costo diario GRD8 [MM$]</th>\n",
       "      <th>Costo diario GRD9 [MM$]</th>\n",
       "      <th>Costo diario GRD10 [MM$]</th>\n",
       "    </tr>\n",
       "  </thead>\n",
       "  <tbody>\n",
       "    <tr>\n",
       "      <th>0</th>\n",
       "      <td>Metropolitano Norte                           ...</td>\n",
       "      <td>Complejo Hospitalario San José</td>\n",
       "      <td>11</td>\n",
       "      <td>33</td>\n",
       "      <td>44</td>\n",
       "      <td>10</td>\n",
       "      <td>1407</td>\n",
       "      <td>47.2</td>\n",
       "      <td>0.593</td>\n",
       "      <td>0.509</td>\n",
       "      <td>0.367</td>\n",
       "      <td>0.492</td>\n",
       "      <td>0.524</td>\n",
       "      <td>0.405</td>\n",
       "      <td>0.571</td>\n",
       "      <td>0.474</td>\n",
       "      <td>0.498</td>\n",
       "      <td>0.305</td>\n",
       "    </tr>\n",
       "    <tr>\n",
       "      <th>1</th>\n",
       "      <td>Metropolitano Occidente                       ...</td>\n",
       "      <td>Hospital Adalberto Steeger (Talagante)</td>\n",
       "      <td>6</td>\n",
       "      <td>11</td>\n",
       "      <td>17</td>\n",
       "      <td>5</td>\n",
       "      <td>1263</td>\n",
       "      <td>62.1</td>\n",
       "      <td>0.493</td>\n",
       "      <td>0.357</td>\n",
       "      <td>0.429</td>\n",
       "      <td>0.382</td>\n",
       "      <td>0.469</td>\n",
       "      <td>0.386</td>\n",
       "      <td>0.543</td>\n",
       "      <td>0.362</td>\n",
       "      <td>0.564</td>\n",
       "      <td>0.333</td>\n",
       "    </tr>\n",
       "    <tr>\n",
       "      <th>2</th>\n",
       "      <td>Metropolitano Occidente                       ...</td>\n",
       "      <td>Hospital Dr. Félix Bulnes Cerda</td>\n",
       "      <td>3</td>\n",
       "      <td>6</td>\n",
       "      <td>9</td>\n",
       "      <td>5</td>\n",
       "      <td>1310</td>\n",
       "      <td>65.9</td>\n",
       "      <td>0.580</td>\n",
       "      <td>0.325</td>\n",
       "      <td>0.375</td>\n",
       "      <td>0.409</td>\n",
       "      <td>0.561</td>\n",
       "      <td>0.362</td>\n",
       "      <td>0.328</td>\n",
       "      <td>0.314</td>\n",
       "      <td>0.536</td>\n",
       "      <td>0.436</td>\n",
       "    </tr>\n",
       "    <tr>\n",
       "      <th>3</th>\n",
       "      <td>Metropolitano Occidente                       ...</td>\n",
       "      <td>Hospital San Juan de Dios</td>\n",
       "      <td>29</td>\n",
       "      <td>47</td>\n",
       "      <td>76</td>\n",
       "      <td>30</td>\n",
       "      <td>1066</td>\n",
       "      <td>39.2</td>\n",
       "      <td>0.482</td>\n",
       "      <td>0.554</td>\n",
       "      <td>0.564</td>\n",
       "      <td>0.331</td>\n",
       "      <td>0.438</td>\n",
       "      <td>0.509</td>\n",
       "      <td>0.544</td>\n",
       "      <td>0.410</td>\n",
       "      <td>0.441</td>\n",
       "      <td>0.359</td>\n",
       "    </tr>\n",
       "    <tr>\n",
       "      <th>4</th>\n",
       "      <td>Metropolitano Occidente                       ...</td>\n",
       "      <td>Instituto Traumatológico Dr. Teodoro Gebauer</td>\n",
       "      <td>12</td>\n",
       "      <td>6</td>\n",
       "      <td>18</td>\n",
       "      <td>5</td>\n",
       "      <td>1433</td>\n",
       "      <td>55.5</td>\n",
       "      <td>0.407</td>\n",
       "      <td>0.449</td>\n",
       "      <td>0.468</td>\n",
       "      <td>0.433</td>\n",
       "      <td>0.573</td>\n",
       "      <td>0.392</td>\n",
       "      <td>0.409</td>\n",
       "      <td>0.391</td>\n",
       "      <td>0.418</td>\n",
       "      <td>0.334</td>\n",
       "    </tr>\n",
       "  </tbody>\n",
       "</table>\n",
       "</div>"
      ],
      "text/plain": [
       "                            Nombre Servicio de Salud  \\\n",
       "0  Metropolitano Norte                           ...   \n",
       "1  Metropolitano Occidente                       ...   \n",
       "2  Metropolitano Occidente                       ...   \n",
       "3  Metropolitano Occidente                       ...   \n",
       "4  Metropolitano Occidente                       ...   \n",
       "\n",
       "                         Nombre Establecimiento  \\\n",
       "0                Complejo Hospitalario San José   \n",
       "1        Hospital Adalberto Steeger (Talagante)   \n",
       "2               Hospital Dr. Félix Bulnes Cerda   \n",
       "3                     Hospital San Juan de Dios   \n",
       "4  Instituto Traumatológico Dr. Teodoro Gebauer   \n",
       "\n",
       "   Área Cuidados Intensivos Adultos  Área Cuidados Intermedios Adulto  \\\n",
       "0                                11                                33   \n",
       "1                                 6                                11   \n",
       "2                                 3                                 6   \n",
       "3                                29                                47   \n",
       "4                                12                                 6   \n",
       "\n",
       "   Total Camas Críticas  Máxima cantidad de camas a aumetar  \\\n",
       "0                    44                                  10   \n",
       "1                    17                                   5   \n",
       "2                     9                                   5   \n",
       "3                    76                                  30   \n",
       "4                    18                                   5   \n",
       "\n",
       "   Costo de instalar una cama [MM$]  \\\n",
       "0                              1407   \n",
       "1                              1263   \n",
       "2                              1310   \n",
       "3                              1066   \n",
       "4                              1433   \n",
       "\n",
       "   Costo de operación anual de una cama [MM$]  Costo diario GRD1 [MM$]  \\\n",
       "0                                        47.2                    0.593   \n",
       "1                                        62.1                    0.493   \n",
       "2                                        65.9                    0.580   \n",
       "3                                        39.2                    0.482   \n",
       "4                                        55.5                    0.407   \n",
       "\n",
       "   Costo diario GRD2 [MM$]  Costo diario GRD3 [MM$]  Costo diario GRD4 [MM$]  \\\n",
       "0                    0.509                    0.367                    0.492   \n",
       "1                    0.357                    0.429                    0.382   \n",
       "2                    0.325                    0.375                    0.409   \n",
       "3                    0.554                    0.564                    0.331   \n",
       "4                    0.449                    0.468                    0.433   \n",
       "\n",
       "   Costo diario GRD5 [MM$]  Costo diario GRD6 [MM$]  Costo diario GRD7 [MM$]  \\\n",
       "0                    0.524                    0.405                    0.571   \n",
       "1                    0.469                    0.386                    0.543   \n",
       "2                    0.561                    0.362                    0.328   \n",
       "3                    0.438                    0.509                    0.544   \n",
       "4                    0.573                    0.392                    0.409   \n",
       "\n",
       "   Costo diario GRD8 [MM$]  Costo diario GRD9 [MM$]  Costo diario GRD10 [MM$]  \n",
       "0                    0.474                    0.498                     0.305  \n",
       "1                    0.362                    0.564                     0.333  \n",
       "2                    0.314                    0.536                     0.436  \n",
       "3                    0.410                    0.441                     0.359  \n",
       "4                    0.391                    0.418                     0.334  "
      ]
     },
     "execution_count": 7,
     "metadata": {},
     "output_type": "execute_result"
    }
   ],
   "source": [
    "Hosp_sheet = pd.read_excel(\"Datos.xls\", sheet_name = \"Hospitales\", header = 0, index_col = None)\n",
    "Hosp_sheet.head()"
   ]
  },
  {
   "cell_type": "code",
   "execution_count": 8,
   "metadata": {
    "scrolled": true
   },
   "outputs": [
    {
     "data": {
      "text/html": [
       "<div>\n",
       "<style scoped>\n",
       "    .dataframe tbody tr th:only-of-type {\n",
       "        vertical-align: middle;\n",
       "    }\n",
       "\n",
       "    .dataframe tbody tr th {\n",
       "        vertical-align: top;\n",
       "    }\n",
       "\n",
       "    .dataframe thead th {\n",
       "        text-align: right;\n",
       "    }\n",
       "</style>\n",
       "<table border=\"1\" class=\"dataframe\">\n",
       "  <thead>\n",
       "    <tr style=\"text-align: right;\">\n",
       "      <th></th>\n",
       "      <th>Número de llegada</th>\n",
       "      <th>Hospital al que llega</th>\n",
       "      <th>GRD</th>\n",
       "      <th>Día de llegada</th>\n",
       "      <th>Día de salida</th>\n",
       "      <th>Estadia</th>\n",
       "    </tr>\n",
       "  </thead>\n",
       "  <tbody>\n",
       "    <tr>\n",
       "      <th>0</th>\n",
       "      <td>1</td>\n",
       "      <td>Instituto Traumatológico Dr. Teodoro Gebauer</td>\n",
       "      <td>GRD3</td>\n",
       "      <td>1</td>\n",
       "      <td>4</td>\n",
       "      <td>3</td>\n",
       "    </tr>\n",
       "    <tr>\n",
       "      <th>1</th>\n",
       "      <td>2</td>\n",
       "      <td>Hospital Clínico San Borja-Arriarán</td>\n",
       "      <td>GRD7</td>\n",
       "      <td>1</td>\n",
       "      <td>5</td>\n",
       "      <td>4</td>\n",
       "    </tr>\n",
       "    <tr>\n",
       "      <th>2</th>\n",
       "      <td>3</td>\n",
       "      <td>Hospital Dr. Luis Tisné B.</td>\n",
       "      <td>GRD7</td>\n",
       "      <td>1</td>\n",
       "      <td>5</td>\n",
       "      <td>4</td>\n",
       "    </tr>\n",
       "    <tr>\n",
       "      <th>3</th>\n",
       "      <td>4</td>\n",
       "      <td>Hospital Dr. Exequiel González Cortés</td>\n",
       "      <td>GRD10</td>\n",
       "      <td>1</td>\n",
       "      <td>11</td>\n",
       "      <td>10</td>\n",
       "    </tr>\n",
       "    <tr>\n",
       "      <th>4</th>\n",
       "      <td>5</td>\n",
       "      <td>Hospital Barros Luco Trudeau</td>\n",
       "      <td>GRD6</td>\n",
       "      <td>1</td>\n",
       "      <td>6</td>\n",
       "      <td>5</td>\n",
       "    </tr>\n",
       "  </tbody>\n",
       "</table>\n",
       "</div>"
      ],
      "text/plain": [
       "   Número de llegada                         Hospital al que llega    GRD  \\\n",
       "0                  1  Instituto Traumatológico Dr. Teodoro Gebauer   GRD3   \n",
       "1                  2           Hospital Clínico San Borja-Arriarán   GRD7   \n",
       "2                  3                    Hospital Dr. Luis Tisné B.   GRD7   \n",
       "3                  4         Hospital Dr. Exequiel González Cortés  GRD10   \n",
       "4                  5                  Hospital Barros Luco Trudeau   GRD6   \n",
       "\n",
       "   Día de llegada  Día de salida  Estadia  \n",
       "0               1              4        3  \n",
       "1               1              5        4  \n",
       "2               1              5        4  \n",
       "3               1             11       10  \n",
       "4               1              6        5  "
      ]
     },
     "execution_count": 8,
     "metadata": {},
     "output_type": "execute_result"
    }
   ],
   "source": [
    "Info_sheet = pd.read_excel(\"Datos.xls\", sheet_name = \"Información Histórica\", header = 0, index_col = None)\n",
    "Info_sheet.head()"
   ]
  },
  {
   "cell_type": "markdown",
   "metadata": {},
   "source": [
    "Con los *Dataframes* generados se procede a realizar un análisis pequeño de los datos. Primero se calcula el costo promedio de resolución de la Tabla GRD "
   ]
  },
  {
   "cell_type": "code",
   "execution_count": 9,
   "metadata": {},
   "outputs": [
    {
     "data": {
      "text/plain": [
       "5.488899999999999"
      ]
     },
     "execution_count": 9,
     "metadata": {},
     "output_type": "execute_result"
    }
   ],
   "source": [
    "GRD_sheet[\"Costo resolución en Clínica Privada [MM$]\"].mean()"
   ]
  },
  {
   "cell_type": "markdown",
   "metadata": {},
   "source": [
    "Luego, calculamos la estadía promedio por GRD a partir de la Tabla Información Histórica"
   ]
  },
  {
   "cell_type": "code",
   "execution_count": 10,
   "metadata": {},
   "outputs": [
    {
     "data": {
      "text/html": [
       "<div>\n",
       "<style scoped>\n",
       "    .dataframe tbody tr th:only-of-type {\n",
       "        vertical-align: middle;\n",
       "    }\n",
       "\n",
       "    .dataframe tbody tr th {\n",
       "        vertical-align: top;\n",
       "    }\n",
       "\n",
       "    .dataframe thead th {\n",
       "        text-align: right;\n",
       "    }\n",
       "</style>\n",
       "<table border=\"1\" class=\"dataframe\">\n",
       "  <thead>\n",
       "    <tr style=\"text-align: right;\">\n",
       "      <th></th>\n",
       "      <th>Estadia</th>\n",
       "    </tr>\n",
       "    <tr>\n",
       "      <th>GRD</th>\n",
       "      <th></th>\n",
       "    </tr>\n",
       "  </thead>\n",
       "  <tbody>\n",
       "    <tr>\n",
       "      <th>GRD1</th>\n",
       "      <td>10.0</td>\n",
       "    </tr>\n",
       "    <tr>\n",
       "      <th>GRD10</th>\n",
       "      <td>10.0</td>\n",
       "    </tr>\n",
       "    <tr>\n",
       "      <th>GRD2</th>\n",
       "      <td>4.0</td>\n",
       "    </tr>\n",
       "    <tr>\n",
       "      <th>GRD3</th>\n",
       "      <td>3.0</td>\n",
       "    </tr>\n",
       "    <tr>\n",
       "      <th>GRD4</th>\n",
       "      <td>6.0</td>\n",
       "    </tr>\n",
       "    <tr>\n",
       "      <th>GRD5</th>\n",
       "      <td>4.0</td>\n",
       "    </tr>\n",
       "    <tr>\n",
       "      <th>GRD6</th>\n",
       "      <td>5.0</td>\n",
       "    </tr>\n",
       "    <tr>\n",
       "      <th>GRD7</th>\n",
       "      <td>4.0</td>\n",
       "    </tr>\n",
       "    <tr>\n",
       "      <th>GRD8</th>\n",
       "      <td>4.0</td>\n",
       "    </tr>\n",
       "    <tr>\n",
       "      <th>GRD9</th>\n",
       "      <td>5.0</td>\n",
       "    </tr>\n",
       "  </tbody>\n",
       "</table>\n",
       "</div>"
      ],
      "text/plain": [
       "       Estadia\n",
       "GRD           \n",
       "GRD1      10.0\n",
       "GRD10     10.0\n",
       "GRD2       4.0\n",
       "GRD3       3.0\n",
       "GRD4       6.0\n",
       "GRD5       4.0\n",
       "GRD6       5.0\n",
       "GRD7       4.0\n",
       "GRD8       4.0\n",
       "GRD9       5.0"
      ]
     },
     "execution_count": 10,
     "metadata": {},
     "output_type": "execute_result"
    }
   ],
   "source": [
    "Info_sheet[['GRD','Estadia']].groupby('GRD').mean()"
   ]
  },
  {
   "cell_type": "markdown",
   "metadata": {},
   "source": [
    "Por último, se ordenan los datos de la Tabla GRD en orden descendente a partir de la columna de costo de resolución"
   ]
  },
  {
   "cell_type": "code",
   "execution_count": 11,
   "metadata": {
    "scrolled": true
   },
   "outputs": [
    {
     "data": {
      "text/html": [
       "<div>\n",
       "<style scoped>\n",
       "    .dataframe tbody tr th:only-of-type {\n",
       "        vertical-align: middle;\n",
       "    }\n",
       "\n",
       "    .dataframe tbody tr th {\n",
       "        vertical-align: top;\n",
       "    }\n",
       "\n",
       "    .dataframe thead th {\n",
       "        text-align: right;\n",
       "    }\n",
       "</style>\n",
       "<table border=\"1\" class=\"dataframe\">\n",
       "  <thead>\n",
       "    <tr style=\"text-align: right;\">\n",
       "      <th></th>\n",
       "      <th>ID GRD</th>\n",
       "      <th>Nombre GRD</th>\n",
       "      <th>Costo resolución en Clínica Privada [MM$]</th>\n",
       "    </tr>\n",
       "  </thead>\n",
       "  <tbody>\n",
       "    <tr>\n",
       "      <th>0</th>\n",
       "      <td>GRD1</td>\n",
       "      <td>Coronario</td>\n",
       "      <td>7.917</td>\n",
       "    </tr>\n",
       "    <tr>\n",
       "      <th>9</th>\n",
       "      <td>GRD10</td>\n",
       "      <td>Intestinal</td>\n",
       "      <td>7.916</td>\n",
       "    </tr>\n",
       "    <tr>\n",
       "      <th>4</th>\n",
       "      <td>GRD5</td>\n",
       "      <td>Neurológico</td>\n",
       "      <td>6.782</td>\n",
       "    </tr>\n",
       "    <tr>\n",
       "      <th>7</th>\n",
       "      <td>GRD8</td>\n",
       "      <td>Oftalmológico</td>\n",
       "      <td>6.720</td>\n",
       "    </tr>\n",
       "    <tr>\n",
       "      <th>3</th>\n",
       "      <td>GRD4</td>\n",
       "      <td>Renal</td>\n",
       "      <td>6.188</td>\n",
       "    </tr>\n",
       "    <tr>\n",
       "      <th>8</th>\n",
       "      <td>GRD9</td>\n",
       "      <td>Circulatorio</td>\n",
       "      <td>5.524</td>\n",
       "    </tr>\n",
       "    <tr>\n",
       "      <th>5</th>\n",
       "      <td>GRD6</td>\n",
       "      <td>Traumatológico</td>\n",
       "      <td>4.881</td>\n",
       "    </tr>\n",
       "    <tr>\n",
       "      <th>1</th>\n",
       "      <td>GRD2</td>\n",
       "      <td>Hepático</td>\n",
       "      <td>3.417</td>\n",
       "    </tr>\n",
       "    <tr>\n",
       "      <th>2</th>\n",
       "      <td>GRD3</td>\n",
       "      <td>Respiratorio</td>\n",
       "      <td>2.915</td>\n",
       "    </tr>\n",
       "    <tr>\n",
       "      <th>6</th>\n",
       "      <td>GRD7</td>\n",
       "      <td>Esofágico</td>\n",
       "      <td>2.629</td>\n",
       "    </tr>\n",
       "  </tbody>\n",
       "</table>\n",
       "</div>"
      ],
      "text/plain": [
       "  ID GRD      Nombre GRD  Costo resolución en Clínica Privada [MM$]\n",
       "0   GRD1       Coronario                                      7.917\n",
       "9  GRD10      Intestinal                                      7.916\n",
       "4   GRD5     Neurológico                                      6.782\n",
       "7   GRD8   Oftalmológico                                      6.720\n",
       "3   GRD4           Renal                                      6.188\n",
       "8   GRD9    Circulatorio                                      5.524\n",
       "5   GRD6  Traumatológico                                      4.881\n",
       "1   GRD2        Hepático                                      3.417\n",
       "2   GRD3    Respiratorio                                      2.915\n",
       "6   GRD7       Esofágico                                      2.629"
      ]
     },
     "execution_count": 11,
     "metadata": {},
     "output_type": "execute_result"
    }
   ],
   "source": [
    "GRD_sheet.sort_values(by=[\"Costo resolución en Clínica Privada [MM$]\"], ascending = False) \n",
    "#Si ascending = True va de menor a Mayor"
   ]
  },
  {
   "cell_type": "markdown",
   "metadata": {},
   "source": [
    "**Pregunta 1**\n",
    "\n",
    "¿Cuál de las siguientes alternativas indica correctamente el promedio de camas de cuidados intensivos adultos existentes en el Servicio de Salud Metropolitano?"
   ]
  },
  {
   "cell_type": "code",
   "execution_count": 12,
   "metadata": {},
   "outputs": [
    {
     "data": {
      "text/plain": [
       "14.047619047619047"
      ]
     },
     "execution_count": 12,
     "metadata": {},
     "output_type": "execute_result"
    }
   ],
   "source": [
    "Hosp_sheet[\"Área Cuidados Intensivos Adultos\"].mean()"
   ]
  },
  {
   "cell_type": "markdown",
   "metadata": {},
   "source": [
    "**Pregunta 2**\n",
    "\n",
    "¿Cuál de las siguientes alternativas indica correctamente el costo máximo diario de atención en el Servicio de Salud Metropolitano?"
   ]
  },
  {
   "cell_type": "code",
   "execution_count": 13,
   "metadata": {},
   "outputs": [
    {
     "data": {
      "text/plain": [
       "Nombre Servicio de Salud                      Metropolitano Sur Oriente                     ...\n",
       "Nombre Establecimiento                             Instituto de Neurocirugía Dr. Alfonso Asenjo\n",
       "Área Cuidados Intensivos Adultos                                                             31\n",
       "Área Cuidados Intermedios Adulto                                                             47\n",
       "Total Camas Críticas                                                                         76\n",
       "Máxima cantidad de camas a aumetar                                                           30\n",
       "Costo de instalar una cama [MM$]                                                           1433\n",
       "Costo de operación anual de una cama [MM$]                                                 66.1\n",
       "Costo diario GRD1 [MM$]                                                                   0.593\n",
       "Costo diario GRD2 [MM$]                                                                   0.599\n",
       "Costo diario GRD3 [MM$]                                                                    0.59\n",
       "Costo diario GRD4 [MM$]                                                                   0.594\n",
       "Costo diario GRD5 [MM$]                                                                   0.597\n",
       "Costo diario GRD6 [MM$]                                                                   0.595\n",
       "Costo diario GRD7 [MM$]                                                                   0.584\n",
       "Costo diario GRD8 [MM$]                                                                   0.572\n",
       "Costo diario GRD9 [MM$]                                                                    0.59\n",
       "Costo diario GRD10 [MM$]                                                                  0.574\n",
       "dtype: object"
      ]
     },
     "execution_count": 13,
     "metadata": {},
     "output_type": "execute_result"
    }
   ],
   "source": [
    "Hosp_sheet.max()"
   ]
  },
  {
   "cell_type": "markdown",
   "metadata": {},
   "source": [
    "### Clase 3: Extracción directa de información desde un programa Python"
   ]
  },
  {
   "cell_type": "markdown",
   "metadata": {},
   "source": [
    "**Leer archivos**\n",
    "\n",
    "Cómo se mostró en la Clase 2 del módulo, para realizar un Dataframe se puede leer información de distintos tipos de archivos, como, por ejemplo:\n",
    "- Estructuras de datos generadas en Python.\n",
    "- Archivos separados por coma (.csv)\n",
    "- Archivos Excel\n",
    "\n",
    "También, se puede leer información desde otros tipos de archivos, sin embargo, los más utilizados son los mencionados. Dentro de la Clase 2 del módulo se mostró como leer este tipo de estructuras, junto con como realizar algunas operaciones sobre los Dataframes generados. Luego, para recapitular en la Figura 1 se muestra como generar un Dataframe utilizando estructuras de datos de Python y en la Figura 2 se muestra como realizarlo utilizando un archivo Excel.\n",
    "\n",
    "**Extraer información**\n",
    "\n",
    "Como se menciona anteriormente, usted puede querer extraer o guardar la información generada en su Dataframe a su computador. Para lo anterior es importante definir:\n",
    "- Cómo desea la información\n",
    "    - Si quiere guardarla en un archivo: ¿Qué tipo de archivo? Excel, archivo separado por comas, etc.\n",
    "    - Si quiere desplegarla y guardarla posteriormente usted\n",
    "\n",
    "Dependiendo de sus intenciones puede optar por cualquiera de las anteriores, por lo que lo primero que se hace es mostrar distintas formas en que puede extraer la información para que usted elija cual es la que encuentra más útil y le acomoda más.\n",
    "\n",
    "Para esto, primero se definen dos *Dataframes* que posteriormente utilizaremos para extraer la información a nuestro computador.\n",
    "\n"
   ]
  },
  {
   "cell_type": "code",
   "execution_count": 14,
   "metadata": {},
   "outputs": [
    {
     "data": {
      "text/html": [
       "<div>\n",
       "<style scoped>\n",
       "    .dataframe tbody tr th:only-of-type {\n",
       "        vertical-align: middle;\n",
       "    }\n",
       "\n",
       "    .dataframe tbody tr th {\n",
       "        vertical-align: top;\n",
       "    }\n",
       "\n",
       "    .dataframe thead th {\n",
       "        text-align: right;\n",
       "    }\n",
       "</style>\n",
       "<table border=\"1\" class=\"dataframe\">\n",
       "  <thead>\n",
       "    <tr style=\"text-align: right;\">\n",
       "      <th></th>\n",
       "      <th>Estadia</th>\n",
       "    </tr>\n",
       "    <tr>\n",
       "      <th>GRD</th>\n",
       "      <th></th>\n",
       "    </tr>\n",
       "  </thead>\n",
       "  <tbody>\n",
       "    <tr>\n",
       "      <th>GRD1</th>\n",
       "      <td>10.0</td>\n",
       "    </tr>\n",
       "    <tr>\n",
       "      <th>GRD10</th>\n",
       "      <td>10.0</td>\n",
       "    </tr>\n",
       "    <tr>\n",
       "      <th>GRD2</th>\n",
       "      <td>4.0</td>\n",
       "    </tr>\n",
       "    <tr>\n",
       "      <th>GRD3</th>\n",
       "      <td>3.0</td>\n",
       "    </tr>\n",
       "    <tr>\n",
       "      <th>GRD4</th>\n",
       "      <td>6.0</td>\n",
       "    </tr>\n",
       "  </tbody>\n",
       "</table>\n",
       "</div>"
      ],
      "text/plain": [
       "       Estadia\n",
       "GRD           \n",
       "GRD1      10.0\n",
       "GRD10     10.0\n",
       "GRD2       4.0\n",
       "GRD3       3.0\n",
       "GRD4       6.0"
      ]
     },
     "execution_count": 14,
     "metadata": {},
     "output_type": "execute_result"
    }
   ],
   "source": [
    "Estadia_GRD = Info_sheet[['GRD','Estadia']].groupby('GRD').mean()\n",
    "Estadia_GRD.head()"
   ]
  },
  {
   "cell_type": "code",
   "execution_count": 15,
   "metadata": {
    "scrolled": true
   },
   "outputs": [
    {
     "data": {
      "text/html": [
       "<div>\n",
       "<style scoped>\n",
       "    .dataframe tbody tr th:only-of-type {\n",
       "        vertical-align: middle;\n",
       "    }\n",
       "\n",
       "    .dataframe tbody tr th {\n",
       "        vertical-align: top;\n",
       "    }\n",
       "\n",
       "    .dataframe thead th {\n",
       "        text-align: right;\n",
       "    }\n",
       "</style>\n",
       "<table border=\"1\" class=\"dataframe\">\n",
       "  <thead>\n",
       "    <tr style=\"text-align: right;\">\n",
       "      <th></th>\n",
       "      <th>Estadia</th>\n",
       "    </tr>\n",
       "    <tr>\n",
       "      <th>Hospital al que llega</th>\n",
       "      <th></th>\n",
       "    </tr>\n",
       "  </thead>\n",
       "  <tbody>\n",
       "    <tr>\n",
       "      <th>Complejo Hospitalario Dr. Sótero del Río</th>\n",
       "      <td>5.430255</td>\n",
       "    </tr>\n",
       "    <tr>\n",
       "      <th>Complejo Hospitalario San José</th>\n",
       "      <td>5.507094</td>\n",
       "    </tr>\n",
       "    <tr>\n",
       "      <th>Hospital Adalberto Steeger (Talagante)</th>\n",
       "      <td>5.376607</td>\n",
       "    </tr>\n",
       "    <tr>\n",
       "      <th>Hospital Barros Luco Trudeau</th>\n",
       "      <td>5.466349</td>\n",
       "    </tr>\n",
       "    <tr>\n",
       "      <th>Hospital Clínico San Borja-Arriarán</th>\n",
       "      <td>5.497654</td>\n",
       "    </tr>\n",
       "  </tbody>\n",
       "</table>\n",
       "</div>"
      ],
      "text/plain": [
       "                                             Estadia\n",
       "Hospital al que llega                               \n",
       "Complejo Hospitalario Dr. Sótero del Río    5.430255\n",
       "Complejo Hospitalario San José              5.507094\n",
       "Hospital Adalberto Steeger (Talagante)      5.376607\n",
       "Hospital Barros Luco Trudeau                5.466349\n",
       "Hospital Clínico San Borja-Arriarán         5.497654"
      ]
     },
     "execution_count": 15,
     "metadata": {},
     "output_type": "execute_result"
    }
   ],
   "source": [
    "Estadia_Hosp = Info_sheet[['Hospital al que llega','Estadia']].groupby('Hospital al que llega').mean()\n",
    "Estadia_Hosp.head()"
   ]
  },
  {
   "cell_type": "markdown",
   "metadata": {},
   "source": [
    "**Extraer información a CSV**\n",
    "\n",
    "Si usted quisiera extraer la información de un Dataframe como un archivo separado por comas cuenta con dos opciones, la cual es la de desplegar el contenido en pantalla como archivo .csv y copiarlo luego guardarlo o simplemente guardarlo directamente en un archivo .csv. Para ambos casos se utiliza el mismo comando: “NombreDataframe.to_csv()”."
   ]
  },
  {
   "cell_type": "code",
   "execution_count": 16,
   "metadata": {},
   "outputs": [
    {
     "data": {
      "text/plain": [
       "'Estadia\\n10.0\\n10.0\\n4.0\\n3.0\\n6.0\\n4.0\\n5.0\\n4.0\\n4.0\\n5.0\\n'"
      ]
     },
     "execution_count": 16,
     "metadata": {},
     "output_type": "execute_result"
    }
   ],
   "source": [
    "Estadia_GRD.to_csv(index=False, encoding = 'utf-8')"
   ]
  },
  {
   "cell_type": "code",
   "execution_count": 17,
   "metadata": {},
   "outputs": [],
   "source": [
    "Estadia_GRD.to_csv('Estadia_promedio_CSV.csv', index=False, encoding = 'utf-8')"
   ]
  },
  {
   "cell_type": "markdown",
   "metadata": {},
   "source": [
    "Como se puede ver, la única diferencia que existe es que si se quiere desplegar el archivo no de debe poner un nombre para el archivo. **Es importante destacar que se debe poner el .csv en el nombre que se quiera dar para que el archivo sea una delimitado por comas. Si no se pone se genera un archivo sin formato.**\n",
    "\n",
    "**Extraer información a Excel**\n",
    "\n",
    "Si usted quisiera extraer la información de un Dataframe como un archivo Excel solo cuenta con la opción de guardar directamente en un archivo Excel. El comando que se utiliza es: “NombreDataframe.to_excel()”. "
   ]
  },
  {
   "cell_type": "code",
   "execution_count": 18,
   "metadata": {},
   "outputs": [],
   "source": [
    "Estadia_GRD.to_excel('Estadia_promedio_Excel.xlsx')"
   ]
  },
  {
   "cell_type": "markdown",
   "metadata": {},
   "source": [
    "Pero ¿qué pasa si usted quiere guardar más de un Dataframe dentro de un mismo archivo Excel? Pandas lo permite."
   ]
  },
  {
   "cell_type": "code",
   "execution_count": 19,
   "metadata": {},
   "outputs": [],
   "source": [
    "with pd.ExcelWriter('Estadia_GRD_HOSP.xlsx') as writer:  \n",
    "    Estadia_GRD.to_excel(writer, sheet_name='Promedio_GRD')\n",
    "    Estadia_Hosp.to_excel(writer, sheet_name='Promedio_Hosp')"
   ]
  },
  {
   "cell_type": "markdown",
   "metadata": {},
   "source": [
    "**Pregunta 1**\n",
    "\n",
    "Utilizando Dataframe y comandos de Python, índique cuál de las siguientes alternativas indica correctamente el máximo de camas críticas total en los Servicios de Salud Metropolitano Sur y Sur Oriente."
   ]
  },
  {
   "cell_type": "code",
   "execution_count": 20,
   "metadata": {
    "scrolled": true
   },
   "outputs": [
    {
     "data": {
      "text/html": [
       "<div>\n",
       "<style scoped>\n",
       "    .dataframe tbody tr th:only-of-type {\n",
       "        vertical-align: middle;\n",
       "    }\n",
       "\n",
       "    .dataframe tbody tr th {\n",
       "        vertical-align: top;\n",
       "    }\n",
       "\n",
       "    .dataframe thead th {\n",
       "        text-align: right;\n",
       "    }\n",
       "</style>\n",
       "<table border=\"1\" class=\"dataframe\">\n",
       "  <thead>\n",
       "    <tr style=\"text-align: right;\">\n",
       "      <th></th>\n",
       "      <th>Total Camas Críticas</th>\n",
       "    </tr>\n",
       "    <tr>\n",
       "      <th>Nombre Servicio de Salud</th>\n",
       "      <th></th>\n",
       "    </tr>\n",
       "  </thead>\n",
       "  <tbody>\n",
       "    <tr>\n",
       "      <th>Metropolitano Central</th>\n",
       "      <td>44</td>\n",
       "    </tr>\n",
       "    <tr>\n",
       "      <th>Metropolitano Norte</th>\n",
       "      <td>44</td>\n",
       "    </tr>\n",
       "    <tr>\n",
       "      <th>Metropolitano Occidente</th>\n",
       "      <td>76</td>\n",
       "    </tr>\n",
       "    <tr>\n",
       "      <th>Metropolitano Oriente</th>\n",
       "      <td>46</td>\n",
       "    </tr>\n",
       "    <tr>\n",
       "      <th>Metropolitano Sur</th>\n",
       "      <td>74</td>\n",
       "    </tr>\n",
       "    <tr>\n",
       "      <th>Metropolitano Sur Oriente</th>\n",
       "      <td>55</td>\n",
       "    </tr>\n",
       "  </tbody>\n",
       "</table>\n",
       "</div>"
      ],
      "text/plain": [
       "                                                    Total Camas Críticas\n",
       "Nombre Servicio de Salud                                                \n",
       "Metropolitano Central                                                 44\n",
       "Metropolitano Norte                                                   44\n",
       "Metropolitano Occidente                                               76\n",
       "Metropolitano Oriente                                                 46\n",
       "Metropolitano Sur                                                     74\n",
       "Metropolitano Sur Oriente                                             55"
      ]
     },
     "execution_count": 20,
     "metadata": {},
     "output_type": "execute_result"
    }
   ],
   "source": [
    "Hosp_sheet[['Nombre Servicio de Salud', 'Total Camas Críticas']].groupby('Nombre Servicio de Salud').max()"
   ]
  },
  {
   "cell_type": "markdown",
   "metadata": {},
   "source": [
    "**Pregunta 2**\n",
    "\n",
    "Utilizando Dataframe recién guardado en Excel (Estadía_promedio_Excel.xlsx) y comandos de Python, índique cuál de las siguientes alternativas indica correctamente la máxima estadía promedio de un GRD."
   ]
  },
  {
   "cell_type": "code",
   "execution_count": 21,
   "metadata": {},
   "outputs": [
    {
     "data": {
      "text/plain": [
       "Estadia    10.0\n",
       "dtype: float64"
      ]
     },
     "execution_count": 21,
     "metadata": {},
     "output_type": "execute_result"
    }
   ],
   "source": [
    "Estadia_GRD.max()"
   ]
  },
  {
   "cell_type": "markdown",
   "metadata": {},
   "source": [
    "**Acitividades finales de la clase**\n",
    "\n",
    "(1)\tUtilizando el archivo “Datos.xls” construya un Dataframe que indique la cantidad total de camas críticas existentes por servicio de salud. Luego, almacene esta información en un archivo llamado `CamasCríticas x SS.csv`.\n",
    "\n",
    "(2) Utilizando el archivo “Datos.xls” construya un Dataframe que indique la cantidad total de camas críticas potenciales (existentes más las que se pueden aumentar) por servicio de salud. Luego, almacene esta información en un archivo llamado `CamasCríticasTN x SS.xlsx`."
   ]
  },
  {
   "cell_type": "code",
   "execution_count": 22,
   "metadata": {},
   "outputs": [
    {
     "data": {
      "text/html": [
       "<div>\n",
       "<style scoped>\n",
       "    .dataframe tbody tr th:only-of-type {\n",
       "        vertical-align: middle;\n",
       "    }\n",
       "\n",
       "    .dataframe tbody tr th {\n",
       "        vertical-align: top;\n",
       "    }\n",
       "\n",
       "    .dataframe thead th {\n",
       "        text-align: right;\n",
       "    }\n",
       "</style>\n",
       "<table border=\"1\" class=\"dataframe\">\n",
       "  <thead>\n",
       "    <tr style=\"text-align: right;\">\n",
       "      <th></th>\n",
       "      <th>Total Camas Críticas</th>\n",
       "    </tr>\n",
       "    <tr>\n",
       "      <th>Nombre Servicio de Salud</th>\n",
       "      <th></th>\n",
       "    </tr>\n",
       "  </thead>\n",
       "  <tbody>\n",
       "    <tr>\n",
       "      <th>Metropolitano Central</th>\n",
       "      <td>44</td>\n",
       "    </tr>\n",
       "    <tr>\n",
       "      <th>Metropolitano Norte</th>\n",
       "      <td>44</td>\n",
       "    </tr>\n",
       "    <tr>\n",
       "      <th>Metropolitano Occidente</th>\n",
       "      <td>76</td>\n",
       "    </tr>\n",
       "    <tr>\n",
       "      <th>Metropolitano Oriente</th>\n",
       "      <td>46</td>\n",
       "    </tr>\n",
       "    <tr>\n",
       "      <th>Metropolitano Sur</th>\n",
       "      <td>74</td>\n",
       "    </tr>\n",
       "    <tr>\n",
       "      <th>Metropolitano Sur Oriente</th>\n",
       "      <td>55</td>\n",
       "    </tr>\n",
       "  </tbody>\n",
       "</table>\n",
       "</div>"
      ],
      "text/plain": [
       "                                                    Total Camas Críticas\n",
       "Nombre Servicio de Salud                                                \n",
       "Metropolitano Central                                                 44\n",
       "Metropolitano Norte                                                   44\n",
       "Metropolitano Occidente                                               76\n",
       "Metropolitano Oriente                                                 46\n",
       "Metropolitano Sur                                                     74\n",
       "Metropolitano Sur Oriente                                             55"
      ]
     },
     "execution_count": 22,
     "metadata": {},
     "output_type": "execute_result"
    }
   ],
   "source": [
    "totalesxservsalud = Hosp_sheet[['Nombre Servicio de Salud', 'Total Camas Críticas']].groupby('Nombre Servicio de Salud').max()\n",
    "totalesxservsalud"
   ]
  },
  {
   "cell_type": "code",
   "execution_count": 23,
   "metadata": {},
   "outputs": [],
   "source": [
    "totalesxservsalud.to_csv('CamasCríticasxSS.csv') #respuesta pregunta 1"
   ]
  },
  {
   "cell_type": "code",
   "execution_count": 24,
   "metadata": {},
   "outputs": [],
   "source": [
    "Hosp_sheet['Camas Potenciales'] = Hosp_sheet['Total Camas Críticas'] + Hosp_sheet['Máxima cantidad de camas a aumetar']\n",
    "camasxservsalud = Hosp_sheet[['Nombre Servicio de Salud', 'Camas Potenciales']].groupby('Nombre Servicio de Salud').sum()"
   ]
  },
  {
   "cell_type": "code",
   "execution_count": 25,
   "metadata": {},
   "outputs": [
    {
     "data": {
      "text/html": [
       "<div>\n",
       "<style scoped>\n",
       "    .dataframe tbody tr th:only-of-type {\n",
       "        vertical-align: middle;\n",
       "    }\n",
       "\n",
       "    .dataframe tbody tr th {\n",
       "        vertical-align: top;\n",
       "    }\n",
       "\n",
       "    .dataframe thead th {\n",
       "        text-align: right;\n",
       "    }\n",
       "</style>\n",
       "<table border=\"1\" class=\"dataframe\">\n",
       "  <thead>\n",
       "    <tr style=\"text-align: right;\">\n",
       "      <th></th>\n",
       "      <th>Camas Potenciales</th>\n",
       "    </tr>\n",
       "    <tr>\n",
       "      <th>Nombre Servicio de Salud</th>\n",
       "      <th></th>\n",
       "    </tr>\n",
       "  </thead>\n",
       "  <tbody>\n",
       "    <tr>\n",
       "      <th>Metropolitano Central</th>\n",
       "      <td>129</td>\n",
       "    </tr>\n",
       "    <tr>\n",
       "      <th>Metropolitano Norte</th>\n",
       "      <td>54</td>\n",
       "    </tr>\n",
       "    <tr>\n",
       "      <th>Metropolitano Occidente</th>\n",
       "      <td>165</td>\n",
       "    </tr>\n",
       "    <tr>\n",
       "      <th>Metropolitano Oriente</th>\n",
       "      <td>180</td>\n",
       "    </tr>\n",
       "    <tr>\n",
       "      <th>Metropolitano Sur</th>\n",
       "      <td>221</td>\n",
       "    </tr>\n",
       "  </tbody>\n",
       "</table>\n",
       "</div>"
      ],
      "text/plain": [
       "                                                    Camas Potenciales\n",
       "Nombre Servicio de Salud                                             \n",
       "Metropolitano Central                                             129\n",
       "Metropolitano Norte                                                54\n",
       "Metropolitano Occidente                                           165\n",
       "Metropolitano Oriente                                             180\n",
       "Metropolitano Sur                                                 221"
      ]
     },
     "execution_count": 25,
     "metadata": {},
     "output_type": "execute_result"
    }
   ],
   "source": [
    "camasxservsalud.head()"
   ]
  },
  {
   "cell_type": "code",
   "execution_count": 26,
   "metadata": {},
   "outputs": [],
   "source": [
    "camasxservsalud.to_excel('CamasCríticasTNxSS.xlsx') #respuesta pregunta 2"
   ]
  },
  {
   "cell_type": "markdown",
   "metadata": {},
   "source": [
    "### Clase 4: Conectores y librerías Python para trabajo con Bases de Datos relacionales"
   ]
  },
  {
   "cell_type": "markdown",
   "metadata": {},
   "source": [
    "Como se mencionó dentro de la clase 2 del módulo, Python es un lenguaje de programación que cuenta con un gran abanico de librerías para realizar distintas tareas, entre ellas trabajar con Bases de Datos. Debido a lo anterior, es importante saber que se desea hacer con la Base de Datos, donde como se mencionó las principales operaciones que se pueden realizar son las siguientes:\n",
    "- Realizar consultas\n",
    "- Manipular los datos: Agregar, eliminar, editar, entre otros.\n",
    "- Visualizar datos\n",
    "- Machine Learning\n",
    "\n",
    "Sabiendo lo anterior, es importante saber que librería utilizar dependiendo de que se desea realizar. Luego, las librerías más utilizadas son las siguientes:\n",
    " \n",
    "- Pandas: Es una de las librerías más utilizadas para el manejo de Datos. Nos permite manipular, agregar, consultar y visualizar datos de manera sencilla. \n",
    "- Numpy: Como lo dice su nombre es Python numérico. Es fundamental para poder realizar operaciones.\n",
    "- Matplotlib: Librería que nos permite realizar visualizaciones de manera simple pero potente.\n",
    "- Seaborn: Esta librería también nos permite realizar visualizaciones, sin embargo, se utiliza en su mayoría para visualizar modelos estadísticos.\n",
    "- Scikit-Learn: Librería que nos ayuda con el preprocesado de datos, selección de modelos, modelos de Machine Learning, entre otros.\n",
    "- Scipy: Librería que nos permite realizar optimización, algebra lineal, interpolación y distintas operaciones científicas.\n",
    "- SQLite: Librería que nos permite utilizar lenguaje SQL para realizar consultas sobre una Base de Datos relacional.\n",
    "\n",
    "SQLite no se utiliza demasiado, debido a que no presenta todos los comandos y formas de consulta que posee SQL fuera de Python. Debido a lo anterior se opta por la utilización de Pandas, que presenta herramientas muy importantes para el curso y ya se introdujo en su uso dentro de la clase número 2. Luego, es importante ver como utilizar las otras librerías para el manejo de los Datos.\n",
    "\n",
    "Como se mencionó, los comandos y operaciones básicas de Pandas fueron mostradas dentro de la clase 2 y clase 3. Ahora, usted puede querer realizar algunas operaciones sobre su Dataframe, como, por ejemplo, calcular ciertas métricas, graficar algunos datos, entre otras. En esta clase se hará una introducción de Numpy y se mostrarán de manera superficial MatplotLib y Seaborn, las cuales se verán con mayor profundidad en el módulo 3 del MOOC. La librería Scikit-Learn y Scipy serán introducidas en el módulo 4.\n",
    "\n",
    "Lo primero es importar las librerías a utilizar."
   ]
  },
  {
   "cell_type": "code",
   "execution_count": 4,
   "metadata": {},
   "outputs": [],
   "source": [
    "import pandas as pd\n",
    "import numpy as np\n",
    "import matplotlib.pyplot as plt\n",
    "import seaborn as sns"
   ]
  },
  {
   "cell_type": "markdown",
   "metadata": {},
   "source": [
    "Con las librerías importadas, se procede a explicar cada una. \n",
    "\n",
    "- Numpy\n",
    "\n",
    "Con esta librería se pueden realizar un sinfín de operaciones matemáticas y viene incluida en Pandas. Por ejemplo, cuando calculamos el promedio de costo de resolución de los GRD con el comando .mean() Pandas utiliza Numpy para lo anterior. De igual forma, si usted por ejemplo quisiera redondear a dos decimales el valor del promedio, se puede hacer con Numpy"
   ]
  },
  {
   "cell_type": "code",
   "execution_count": 28,
   "metadata": {},
   "outputs": [
    {
     "data": {
      "text/plain": [
       "5.49"
      ]
     },
     "execution_count": 28,
     "metadata": {},
     "output_type": "execute_result"
    }
   ],
   "source": [
    "np.round(GRD_sheet[\"Costo resolución en Clínica Privada [MM$]\"].mean(),2)"
   ]
  },
  {
   "cell_type": "markdown",
   "metadata": {},
   "source": [
    "También, si usted quisiera redondear los datos de una columna completa se puede realizar"
   ]
  },
  {
   "cell_type": "code",
   "execution_count": 29,
   "metadata": {},
   "outputs": [
    {
     "data": {
      "text/html": [
       "<div>\n",
       "<style scoped>\n",
       "    .dataframe tbody tr th:only-of-type {\n",
       "        vertical-align: middle;\n",
       "    }\n",
       "\n",
       "    .dataframe tbody tr th {\n",
       "        vertical-align: top;\n",
       "    }\n",
       "\n",
       "    .dataframe thead th {\n",
       "        text-align: right;\n",
       "    }\n",
       "</style>\n",
       "<table border=\"1\" class=\"dataframe\">\n",
       "  <thead>\n",
       "    <tr style=\"text-align: right;\">\n",
       "      <th></th>\n",
       "      <th>ID GRD</th>\n",
       "      <th>Nombre GRD</th>\n",
       "      <th>Costo resolución en Clínica Privada [MM$]</th>\n",
       "    </tr>\n",
       "  </thead>\n",
       "  <tbody>\n",
       "    <tr>\n",
       "      <th>0</th>\n",
       "      <td>GRD1</td>\n",
       "      <td>Coronario</td>\n",
       "      <td>7.92</td>\n",
       "    </tr>\n",
       "    <tr>\n",
       "      <th>1</th>\n",
       "      <td>GRD2</td>\n",
       "      <td>Hepático</td>\n",
       "      <td>3.42</td>\n",
       "    </tr>\n",
       "    <tr>\n",
       "      <th>2</th>\n",
       "      <td>GRD3</td>\n",
       "      <td>Respiratorio</td>\n",
       "      <td>2.92</td>\n",
       "    </tr>\n",
       "    <tr>\n",
       "      <th>3</th>\n",
       "      <td>GRD4</td>\n",
       "      <td>Renal</td>\n",
       "      <td>6.19</td>\n",
       "    </tr>\n",
       "    <tr>\n",
       "      <th>4</th>\n",
       "      <td>GRD5</td>\n",
       "      <td>Neurológico</td>\n",
       "      <td>6.78</td>\n",
       "    </tr>\n",
       "  </tbody>\n",
       "</table>\n",
       "</div>"
      ],
      "text/plain": [
       "  ID GRD    Nombre GRD  Costo resolución en Clínica Privada [MM$]\n",
       "0   GRD1     Coronario                                       7.92\n",
       "1   GRD2      Hepático                                       3.42\n",
       "2   GRD3  Respiratorio                                       2.92\n",
       "3   GRD4         Renal                                       6.19\n",
       "4   GRD5   Neurológico                                       6.78"
      ]
     },
     "execution_count": 29,
     "metadata": {},
     "output_type": "execute_result"
    }
   ],
   "source": [
    "GRD_sheet['Costo resolución en Clínica Privada [MM$]'] = GRD_sheet['Costo resolución en Clínica Privada [MM$]'].round(2)\n",
    "GRD_sheet.head()"
   ]
  },
  {
   "cell_type": "markdown",
   "metadata": {},
   "source": [
    "- Matplotlib \n",
    "\n",
    "Con esta librería se pueden realizar distintos gráficos de manera muy simple. A manera de introducción, debido a que se mostrará con mayor profundidad en el módulo que viene, si usted quisiera realizar un histograma del tiempo de estadía o un boxplot del costo de resolución del GRD, se vería como sigue."
   ]
  },
  {
   "cell_type": "code",
   "execution_count": 30,
   "metadata": {},
   "outputs": [
    {
     "data": {
      "image/png": "[encoded data removed]",
      "text/plain": [
       "<Figure size 432x288 with 1 Axes>"
      ]
     },
     "metadata": {
      "needs_background": "light"
     },
     "output_type": "display_data"
    }
   ],
   "source": [
    "Estadia = Info_sheet['Estadia'].hist(bins=3)\n",
    "plt.show()"
   ]
  },
  {
   "cell_type": "code",
   "execution_count": 31,
   "metadata": {},
   "outputs": [
    {
     "data": {
      "image/png": "[encoded data removed]",
      "text/plain": [
       "<Figure size 432x288 with 1 Axes>"
      ]
     },
     "metadata": {
      "needs_background": "light"
     },
     "output_type": "display_data"
    }
   ],
   "source": [
    "hist = GRD_sheet.boxplot()\n",
    "plt.show()"
   ]
  },
  {
   "cell_type": "markdown",
   "metadata": {},
   "source": [
    "- Seaborn\n",
    "\n",
    "Con la librería Seaborn, al igual que con Matplotlib, se pueden visualizar datos, solo que esta se enfoca más en estadísticas. Por ejemplo, a manera de introducción, si usted quisiera realizar nuevamente un Boxplot, pero para la Tabla Hospitales, específicamente del total de camas y el máximo a aumentar se obtiene lo siguiente."
   ]
  },
  {
   "cell_type": "code",
   "execution_count": 8,
   "metadata": {
    "tags": []
   },
   "outputs": [
    {
     "data": {
      "image/png": "[encoded data removed]",
      "text/plain": [
       "<Figure size 2000x1000 with 1 Axes>"
      ]
     },
     "metadata": {},
     "output_type": "display_data"
    }
   ],
   "source": [
    "import pandas as pd\n",
    "import matplotlib.pyplot as plt\n",
    "import seaborn as sns\n",
    "\n",
    "Hosp_sheet = pd.read_excel(\"Datos.xls\", sheet_name = \"Hospitales\", header = 0, index_col = None)\n",
    "f, ax = plt.subplots(figsize=(20, 10))\n",
    "sns.boxplot(data=Hosp_sheet[['Nombre Establecimiento', 'Total Camas Críticas', 'Máxima cantidad de camas a aumetar']],\n",
    "            whis=[0, 100], width=.6, palette=\"vlag\")\n",
    "ax.xaxis.grid(True)\n",
    "ax.set(ylabel=\"\")\n",
    "sns.despine(trim=True, left=True)"
   ]
  },
  {
   "cell_type": "markdown",
   "metadata": {},
   "source": [
    "**Pregunta 1**\n",
    "\n",
    "Utilizando el archivo “Datos.xls”, un Dataframe y comandos en Python, indique cuál de las siguientes alternativas corresponde al costo total de instalar el máximo de camas críticas posible en toda la región."
   ]
  },
  {
   "cell_type": "code",
   "execution_count": 33,
   "metadata": {},
   "outputs": [
    {
     "data": {
      "text/plain": [
       "240509"
      ]
     },
     "execution_count": 33,
     "metadata": {},
     "output_type": "execute_result"
    }
   ],
   "source": [
    "camas = Hosp_sheet[[\"Máxima cantidad de camas a aumetar\",\"Costo de instalar una cama [MM$]\"]].cumprod(axis = 1)\n",
    "camas[\"Costo de instalar una cama [MM$]\"].sum()"
   ]
  },
  {
   "cell_type": "markdown",
   "metadata": {},
   "source": [
    "**Actividades finales de la clase**\n",
    "\n",
    "(1) Utilizando el archivo “Datos.xls” construya un Dataframe que indique la mayor cantidad de camas críticas existentes en cada servicio de salud, es decir, la cantidad de camas que tiene el hospital con mayor capacidad. Luego, almacene esta información en un archivo llamado `MaxCamasCC x SS.xlsx`.\n",
    "\n",
    "(2) Utilizando el archivo “Datos.xls” construya un gráfico de una tabla de frecuencia de la cantidad de pacientes que llegan diariamente al sistema de salud.\n",
    "\n",
    "(3) Utilizando el archivo “Datos.xls” construya un Boxplot que indique el costo promedio de instalar una cama crítica en cada servicio de salud. "
   ]
  },
  {
   "cell_type": "code",
   "execution_count": 34,
   "metadata": {},
   "outputs": [
    {
     "data": {
      "text/html": [
       "<div>\n",
       "<style scoped>\n",
       "    .dataframe tbody tr th:only-of-type {\n",
       "        vertical-align: middle;\n",
       "    }\n",
       "\n",
       "    .dataframe tbody tr th {\n",
       "        vertical-align: top;\n",
       "    }\n",
       "\n",
       "    .dataframe thead th {\n",
       "        text-align: right;\n",
       "    }\n",
       "</style>\n",
       "<table border=\"1\" class=\"dataframe\">\n",
       "  <thead>\n",
       "    <tr style=\"text-align: right;\">\n",
       "      <th></th>\n",
       "      <th>Total Camas Críticas</th>\n",
       "    </tr>\n",
       "    <tr>\n",
       "      <th>Nombre Servicio de Salud</th>\n",
       "      <th></th>\n",
       "    </tr>\n",
       "  </thead>\n",
       "  <tbody>\n",
       "    <tr>\n",
       "      <th>Metropolitano Central</th>\n",
       "      <td>44</td>\n",
       "    </tr>\n",
       "    <tr>\n",
       "      <th>Metropolitano Norte</th>\n",
       "      <td>44</td>\n",
       "    </tr>\n",
       "    <tr>\n",
       "      <th>Metropolitano Occidente</th>\n",
       "      <td>76</td>\n",
       "    </tr>\n",
       "    <tr>\n",
       "      <th>Metropolitano Oriente</th>\n",
       "      <td>46</td>\n",
       "    </tr>\n",
       "    <tr>\n",
       "      <th>Metropolitano Sur</th>\n",
       "      <td>74</td>\n",
       "    </tr>\n",
       "    <tr>\n",
       "      <th>Metropolitano Sur Oriente</th>\n",
       "      <td>55</td>\n",
       "    </tr>\n",
       "  </tbody>\n",
       "</table>\n",
       "</div>"
      ],
      "text/plain": [
       "                                                    Total Camas Críticas\n",
       "Nombre Servicio de Salud                                                \n",
       "Metropolitano Central                                                 44\n",
       "Metropolitano Norte                                                   44\n",
       "Metropolitano Occidente                                               76\n",
       "Metropolitano Oriente                                                 46\n",
       "Metropolitano Sur                                                     74\n",
       "Metropolitano Sur Oriente                                             55"
      ]
     },
     "execution_count": 34,
     "metadata": {},
     "output_type": "execute_result"
    }
   ],
   "source": [
    "#Parte 1\n",
    "camas = Hosp_sheet[['Nombre Servicio de Salud','Total Camas Críticas']]\n",
    "apoyo = camas.groupby('Nombre Servicio de Salud').max()\n",
    "apoyo.to_excel('MaxCamasCCxSS.xlsx')\n",
    "apoyo"
   ]
  },
  {
   "cell_type": "code",
   "execution_count": 9,
   "metadata": {
    "scrolled": true
   },
   "outputs": [
    {
     "data": {
      "text/html": [
       "<div>\n",
       "<style scoped>\n",
       "    .dataframe tbody tr th:only-of-type {\n",
       "        vertical-align: middle;\n",
       "    }\n",
       "\n",
       "    .dataframe tbody tr th {\n",
       "        vertical-align: top;\n",
       "    }\n",
       "\n",
       "    .dataframe thead th {\n",
       "        text-align: right;\n",
       "    }\n",
       "</style>\n",
       "<table border=\"1\" class=\"dataframe\">\n",
       "  <thead>\n",
       "    <tr style=\"text-align: right;\">\n",
       "      <th></th>\n",
       "      <th>Estadia</th>\n",
       "    </tr>\n",
       "    <tr>\n",
       "      <th>Día de llegada</th>\n",
       "      <th></th>\n",
       "    </tr>\n",
       "  </thead>\n",
       "  <tbody>\n",
       "    <tr>\n",
       "      <th>1</th>\n",
       "      <td>146</td>\n",
       "    </tr>\n",
       "    <tr>\n",
       "      <th>2</th>\n",
       "      <td>142</td>\n",
       "    </tr>\n",
       "    <tr>\n",
       "      <th>3</th>\n",
       "      <td>152</td>\n",
       "    </tr>\n",
       "    <tr>\n",
       "      <th>4</th>\n",
       "      <td>156</td>\n",
       "    </tr>\n",
       "    <tr>\n",
       "      <th>5</th>\n",
       "      <td>152</td>\n",
       "    </tr>\n",
       "  </tbody>\n",
       "</table>\n",
       "</div>"
      ],
      "text/plain": [
       "                Estadia\n",
       "Día de llegada         \n",
       "1                   146\n",
       "2                   142\n",
       "3                   152\n",
       "4                   156\n",
       "5                   152"
      ]
     },
     "execution_count": 9,
     "metadata": {},
     "output_type": "execute_result"
    }
   ],
   "source": [
    "#Parte 2\n",
    "Info_sheet=pd.read_excel('Datos.xls', sheet_name='Información Histórica', header=0, index_col=None)\n",
    "pacientes = Info_sheet[['Día de llegada', 'Estadia']]\n",
    "pregunta2 = pacientes.groupby('Día de llegada').count()\n",
    "pregunta2.head()"
   ]
  },
  {
   "cell_type": "code",
   "execution_count": 36,
   "metadata": {},
   "outputs": [
    {
     "data": {
      "image/png": "[encoded data removed]",
      "text/plain": [
       "<Figure size 720x360 with 1 Axes>"
      ]
     },
     "metadata": {
      "needs_background": "light"
     },
     "output_type": "display_data"
    }
   ],
   "source": [
    "pregunta2.plot(kind='hist',\n",
    "        alpha=0.7,\n",
    "        bins=30,\n",
    "        title='Frecuencia pacientes',\n",
    "        rot=45,\n",
    "        grid=True,\n",
    "        figsize=(10,5),\n",
    "        fontsize=15, \n",
    "        color=['#A0E8AF', '#FFCF56'])\n",
    "plt.show()"
   ]
  },
  {
   "cell_type": "code",
   "execution_count": 37,
   "metadata": {},
   "outputs": [
    {
     "data": {
      "image/png": "[encoded data removed]",
      "text/plain": [
       "<Figure size 1296x720 with 1 Axes>"
      ]
     },
     "metadata": {
      "needs_background": "light"
     },
     "output_type": "display_data"
    }
   ],
   "source": [
    "#Parte 3\n",
    "pregunta3 = Hosp_sheet.boxplot(column=['Costo de instalar una cama [MM$]'], by = \"Nombre Servicio de Salud\", figsize = (18,10))"
   ]
  },
  {
   "cell_type": "code",
   "execution_count": 23,
   "metadata": {},
   "outputs": [
    {
     "data": {
      "text/html": [
       "<div>\n",
       "<style scoped>\n",
       "    .dataframe tbody tr th:only-of-type {\n",
       "        vertical-align: middle;\n",
       "    }\n",
       "\n",
       "    .dataframe tbody tr th {\n",
       "        vertical-align: top;\n",
       "    }\n",
       "\n",
       "    .dataframe thead th {\n",
       "        text-align: right;\n",
       "    }\n",
       "</style>\n",
       "<table border=\"1\" class=\"dataframe\">\n",
       "  <thead>\n",
       "    <tr style=\"text-align: right;\">\n",
       "      <th></th>\n",
       "      <th>Costo de instalar una cama [MM$]</th>\n",
       "    </tr>\n",
       "    <tr>\n",
       "      <th>Nombre Servicio de Salud</th>\n",
       "      <th></th>\n",
       "    </tr>\n",
       "  </thead>\n",
       "  <tbody>\n",
       "    <tr>\n",
       "      <th>Metropolitano Central</th>\n",
       "      <td>1347.0</td>\n",
       "    </tr>\n",
       "    <tr>\n",
       "      <th>Metropolitano Norte</th>\n",
       "      <td>1407.0</td>\n",
       "    </tr>\n",
       "    <tr>\n",
       "      <th>Metropolitano Occidente</th>\n",
       "      <td>1286.5</td>\n",
       "    </tr>\n",
       "    <tr>\n",
       "      <th>Metropolitano Oriente</th>\n",
       "      <td>1165.5</td>\n",
       "    </tr>\n",
       "    <tr>\n",
       "      <th>Metropolitano Sur</th>\n",
       "      <td>1193.0</td>\n",
       "    </tr>\n",
       "    <tr>\n",
       "      <th>Metropolitano Sur Oriente</th>\n",
       "      <td>1129.5</td>\n",
       "    </tr>\n",
       "  </tbody>\n",
       "</table>\n",
       "</div>"
      ],
      "text/plain": [
       "                                                    Costo de instalar una cama [MM$]\n",
       "Nombre Servicio de Salud                                                            \n",
       "Metropolitano Central                                                         1347.0\n",
       "Metropolitano Norte                                                           1407.0\n",
       "Metropolitano Occidente                                                       1286.5\n",
       "Metropolitano Oriente                                                         1165.5\n",
       "Metropolitano Sur                                                             1193.0\n",
       "Metropolitano Sur Oriente                                                     1129.5"
      ]
     },
     "execution_count": 23,
     "metadata": {},
     "output_type": "execute_result"
    }
   ],
   "source": [
    "dfMediana=Hosp_sheet[['Nombre Servicio de Salud','Costo de instalar una cama [MM$]']].groupby('Nombre Servicio de Salud').median()\n",
    "dfMediana"
   ]
  },
  {
   "cell_type": "code",
   "execution_count": null,
   "metadata": {},
   "outputs": [],
   "source": []
  }
 ],
 "metadata": {
  "kernelspec": {
   "display_name": "Python 3 (ipykernel)",
   "language": "python",
   "name": "python3"
  },
  "language_info": {
   "codemirror_mode": {
    "name": "ipython",
    "version": 3
   },
   "file_extension": ".py",
   "mimetype": "text/x-python",
   "name": "python",
   "nbconvert_exporter": "python",
   "pygments_lexer": "ipython3",
   "version": "3.11.1"
  }
 },
 "nbformat": 4,
 "nbformat_minor": 4
}
