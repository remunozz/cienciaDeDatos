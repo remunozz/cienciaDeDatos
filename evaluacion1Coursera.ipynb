{
 "cells": [
  {
   "cell_type": "code",
   "execution_count": 39,
   "id": "2760008d-b371-4b16-bcc7-5e0de97f13ea",
   "metadata": {},
   "outputs": [
    {
     "data": {
      "text/html": [
       "<div>\n",
       "<style scoped>\n",
       "    .dataframe tbody tr th:only-of-type {\n",
       "        vertical-align: middle;\n",
       "    }\n",
       "\n",
       "    .dataframe tbody tr th {\n",
       "        vertical-align: top;\n",
       "    }\n",
       "\n",
       "    .dataframe thead th {\n",
       "        text-align: right;\n",
       "    }\n",
       "</style>\n",
       "<table border=\"1\" class=\"dataframe\">\n",
       "  <thead>\n",
       "    <tr style=\"text-align: right;\">\n",
       "      <th></th>\n",
       "      <th>Total Camas Críticas</th>\n",
       "    </tr>\n",
       "    <tr>\n",
       "      <th>Nombre Servicio de Salud</th>\n",
       "      <th></th>\n",
       "    </tr>\n",
       "  </thead>\n",
       "  <tbody>\n",
       "    <tr>\n",
       "      <th>Metropolitano Central</th>\n",
       "      <td>105</td>\n",
       "    </tr>\n",
       "    <tr>\n",
       "      <th>Metropolitano Norte</th>\n",
       "      <td>44</td>\n",
       "    </tr>\n",
       "    <tr>\n",
       "      <th>Metropolitano Occidente</th>\n",
       "      <td>120</td>\n",
       "    </tr>\n",
       "    <tr>\n",
       "      <th>Metropolitano Oriente</th>\n",
       "      <td>137</td>\n",
       "    </tr>\n",
       "    <tr>\n",
       "      <th>Metropolitano Sur</th>\n",
       "      <td>173</td>\n",
       "    </tr>\n",
       "    <tr>\n",
       "      <th>Metropolitano Sur Oriente</th>\n",
       "      <td>127</td>\n",
       "    </tr>\n",
       "  </tbody>\n",
       "</table>\n",
       "</div>"
      ],
      "text/plain": [
       "                                                    Total Camas Críticas\n",
       "Nombre Servicio de Salud                                                \n",
       "Metropolitano Central                                                105\n",
       "Metropolitano Norte                                                   44\n",
       "Metropolitano Occidente                                              120\n",
       "Metropolitano Oriente                                                137\n",
       "Metropolitano Sur                                                    173\n",
       "Metropolitano Sur Oriente                                            127"
      ]
     },
     "execution_count": 39,
     "metadata": {},
     "output_type": "execute_result"
    }
   ],
   "source": [
    "# Pregunta 1\n",
    "# ¿Cuál opción corresponde al código que permite calcular el total de camas críticas para cada uno de los servicios de salud? \n",
    "import pandas as pd\n",
    "\n",
    "Hosp_sheet=pd.read_excel('Datos.xls', sheet_name='Hospitales', header=0, index_col=None)\n",
    "Info_sheet=pd.read_excel('Datos.xls', sheet_name='Información Histórica', header=0, index_col=None)\n",
    "GRD_sheet=pd.read_excel('Datos.xls', sheet_name='GRD', header=0, index_col=None)\n",
    "\n",
    "Hosp_sheet[[\"Nombre Servicio de Salud\", \"Total Camas Críticas\"]].groupby(\"Nombre Servicio de Salud\").sum()  "
   ]
  },
  {
   "cell_type": "code",
   "execution_count": 2,
   "id": "e0a447e9-6253-46b5-bf4f-a3bb86690d1e",
   "metadata": {},
   "outputs": [
    {
     "data": {
      "text/html": [
       "<div>\n",
       "<style scoped>\n",
       "    .dataframe tbody tr th:only-of-type {\n",
       "        vertical-align: middle;\n",
       "    }\n",
       "\n",
       "    .dataframe tbody tr th {\n",
       "        vertical-align: top;\n",
       "    }\n",
       "\n",
       "    .dataframe thead th {\n",
       "        text-align: right;\n",
       "    }\n",
       "</style>\n",
       "<table border=\"1\" class=\"dataframe\">\n",
       "  <thead>\n",
       "    <tr style=\"text-align: right;\">\n",
       "      <th></th>\n",
       "      <th>Total Camas Críticas</th>\n",
       "    </tr>\n",
       "    <tr>\n",
       "      <th>Nombre Servicio de Salud</th>\n",
       "      <th></th>\n",
       "    </tr>\n",
       "  </thead>\n",
       "  <tbody>\n",
       "    <tr>\n",
       "      <th>Metropolitano Sur</th>\n",
       "      <td>173</td>\n",
       "    </tr>\n",
       "    <tr>\n",
       "      <th>Metropolitano Oriente</th>\n",
       "      <td>137</td>\n",
       "    </tr>\n",
       "    <tr>\n",
       "      <th>Metropolitano Sur Oriente</th>\n",
       "      <td>127</td>\n",
       "    </tr>\n",
       "  </tbody>\n",
       "</table>\n",
       "</div>"
      ],
      "text/plain": [
       "                                                    Total Camas Críticas\n",
       "Nombre Servicio de Salud                                                \n",
       "Metropolitano Sur                                                    173\n",
       "Metropolitano Oriente                                                137\n",
       "Metropolitano Sur Oriente                                            127"
      ]
     },
     "execution_count": 2,
     "metadata": {},
     "output_type": "execute_result"
    }
   ],
   "source": [
    "# Pregunta 2\n",
    "# ¿Cuáles de los siguientes servicios de salud son los tres servicios que tienen más camas críticas?  \n",
    "# Selecciona las tres respuestas que consideres correctas.\n",
    "\n",
    "camas_criticas = Hosp_sheet[[\"Nombre Servicio de Salud\", \"Total Camas Críticas\"]].groupby(\"Nombre Servicio de Salud\").sum()\n",
    "camas_criticas.sort_values(by=[\"Total Camas Críticas\"], ascending = False).head(3) "
   ]
  },
  {
   "cell_type": "code",
   "execution_count": 3,
   "id": "a9d94228-82ab-4108-9075-ca3b235229d1",
   "metadata": {},
   "outputs": [
    {
     "data": {
      "text/plain": [
       "0.4484761904761904"
      ]
     },
     "execution_count": 3,
     "metadata": {},
     "output_type": "execute_result"
    }
   ],
   "source": [
    "# Pregunta 3\n",
    "# ¿Cuál de los siguientes códigos permite calcular el costo promedio diario de atención para el GRD4? \n",
    "\n",
    "Hosp_sheet[\"Costo diario GRD4 [MM$]\"].mean()  "
   ]
  },
  {
   "cell_type": "code",
   "execution_count": 36,
   "id": "3701af18-ce52-40ab-aa79-c3f7d8c729ed",
   "metadata": {},
   "outputs": [
    {
     "name": "stdout",
     "output_type": "stream",
     "text": [
      "                Número de llegada\n",
      "Día de llegada                   \n",
      "1                             146\n",
      "2                             142\n",
      "3                             152\n",
      "4                             156\n",
      "5                             152\n",
      "...                           ...\n",
      "420                           183\n",
      "421                           159\n",
      "422                           160\n",
      "423                           159\n",
      "424                            82\n",
      "\n",
      "[424 rows x 1 columns]\n",
      "                Número de llegada\n",
      "Día de llegada                   \n",
      "415                           149\n",
      "416                           157\n",
      "417                           170\n",
      "418                           167\n",
      "419                           159\n",
      "420                           183\n",
      "421                           159\n",
      "422                           160\n",
      "423                           159\n",
      "424                            82\n",
      "Número de llegada    154.0\n",
      "dtype: float64\n"
     ]
    },
    {
     "data": {
      "text/plain": [
       "154.0"
      ]
     },
     "execution_count": 36,
     "metadata": {},
     "output_type": "execute_result"
    }
   ],
   "source": [
    "# Pregunta 4\n",
    "# ¿Cuál cifra corresponde al promedio diario de pacientes que han llegado a la red en \n",
    "# los últimos 10 días (desde el día 415 al día 424)?  \n",
    "\n",
    "import numpy as np\n",
    "\n",
    "promedio = Info_sheet[[\"Día de llegada\", \"Número de llegada\"]].groupby(\"Día de llegada\").count()\n",
    "print(promedio)\n",
    "diez_dias = promedio.tail(10)\n",
    "print(diez_dias)\n",
    "print(np.round(diez_dias.mean()))\n",
    "np.round(diez_dias.mean()[0],0)"
   ]
  },
  {
   "cell_type": "code",
   "execution_count": 40,
   "id": "d1afc760-8f59-470c-b273-59d3b771cc6c",
   "metadata": {},
   "outputs": [
    {
     "data": {
      "text/plain": [
       "7.538333333333334"
      ]
     },
     "execution_count": 40,
     "metadata": {},
     "output_type": "execute_result"
    }
   ],
   "source": [
    "# Pregunta 5\n",
    "# ¿Cuál es el promedio del costo diario de resolución en clínica privada de los 3 GRDs más costos? \n",
    "\n",
    "GRD3 = GRD_sheet.sort_values(by = [\"Costo resolución en Clínica Privada [MM$]\"], ascending = False)\n",
    "GRD3[\"Costo resolución en Clínica Privada [MM$]\"].head(3).mean()"
   ]
  },
  {
   "cell_type": "code",
   "execution_count": 43,
   "id": "4cde9afc-e65b-4809-832a-d3f4f5c89e1a",
   "metadata": {},
   "outputs": [
    {
     "name": "stdout",
     "output_type": "stream",
     "text": [
      "       Número de llegada  Día de llegada  Día de salida  Estadia\n",
      "GRD                                                             \n",
      "GRD1        64856.178808      419.874172     429.874172     10.0\n",
      "GRD10       64812.290909      419.557576     429.557576     10.0\n",
      "GRD2        64710.425806      419.006452     423.006452      4.0\n",
      "GRD3        64709.131737      418.946108     421.946108      3.0\n",
      "GRD4        64775.471014      419.362319     425.362319      6.0\n",
      "GRD5        64819.895105      419.671329     423.671329      4.0\n",
      "GRD6        64737.105590      419.136646     424.136646      5.0\n",
      "GRD7        64746.628571      419.194286     423.194286      4.0\n",
      "GRD8        64735.516779      419.147651     423.147651      4.0\n",
      "GRD9        64725.191489      419.092199     424.092199      5.0\n",
      "       Número de llegada  Día de llegada  Día de salida  Estadia\n",
      "GRD                                                             \n",
      "GRD1        64856.178808      419.874172     429.874172     10.0\n",
      "GRD10       64812.290909      419.557576     429.557576     10.0\n",
      "GRD2        64710.425806      419.006452     423.006452      4.0\n",
      "GRD3        64709.131737      418.946108     421.946108      3.0\n",
      "GRD4        64775.471014      419.362319     425.362319      6.0\n",
      "GRD5        64819.895105      419.671329     423.671329      4.0\n",
      "GRD6        64737.105590      419.136646     424.136646      5.0\n",
      "GRD7        64746.628571      419.194286     423.194286      4.0\n",
      "GRD8        64735.516779      419.147651     423.147651      4.0\n",
      "GRD9        64725.191489      419.092199     424.092199      5.0\n"
     ]
    },
    {
     "name": "stderr",
     "output_type": "stream",
     "text": [
      "C:\\Users\\raul\\AppData\\Local\\Temp\\ipykernel_17432\\3393077984.py:4: FutureWarning: The default value of numeric_only in DataFrameGroupBy.mean is deprecated. In a future version, numeric_only will default to False. Either specify numeric_only or select only columns which should be valid for the function.\n",
      "  print(Info_sheet[Info_sheet[\"Día de llegada\"] >= 415].groupby(\"GRD\").mean())\n",
      "C:\\Users\\raul\\AppData\\Local\\Temp\\ipykernel_17432\\3393077984.py:5: FutureWarning: The default value of numeric_only in DataFrameGroupBy.mean is deprecated. In a future version, numeric_only will default to False. Either specify numeric_only or select only columns which should be valid for the function.\n",
      "  print(Info_sheet.loc[Info_sheet[\"Día de llegada\"] >= 415].groupby(\"GRD\").mean())\n"
     ]
    }
   ],
   "source": [
    "# Pregunta 6\n",
    "# Cuál de los siguientes códigos permite calcular la cantidad de días de estadía promedio por GRD\n",
    "# para los pacientes ingresados en los últimos 10 días registrados en el archivo (y entonces, desde el día 415 al día 424)? \n",
    "print(Info_sheet[Info_sheet[\"Día de llegada\"] >= 415].groupby(\"GRD\").mean()) \n",
    "print(Info_sheet.loc[Info_sheet[\"Día de llegada\"] >= 415].groupby(\"GRD\").mean())  "
   ]
  },
  {
   "cell_type": "code",
   "execution_count": 45,
   "id": "1fc8ff5b-fa0d-42b8-9cc3-a5e8ec7a5ea1",
   "metadata": {},
   "outputs": [
    {
     "name": "stdout",
     "output_type": "stream",
     "text": [
      "66.1\n",
      "36.6\n",
      "29.5\n"
     ]
    }
   ],
   "source": [
    "# Pregunta 7\n",
    "# ¿Qué cifra corresponde a la diferencia entre el menor y mayor costo, de operación anual de una cama para cada\n",
    "# servicio de salud?  \n",
    "\n",
    "a = Hosp_sheet[\"Costo de operación anual de una cama [MM$]\"].max()\n",
    "b = Hosp_sheet[\"Costo de operación anual de una cama [MM$]\"].min()\n",
    "print(a)\n",
    "print(b)\n",
    "print(np.round(a-b,2))"
   ]
  },
  {
   "cell_type": "code",
   "execution_count": 48,
   "id": "d7694c19-854b-4ffa-b292-ed9628df734a",
   "metadata": {},
   "outputs": [
    {
     "data": {
      "text/plain": [
       "183"
      ]
     },
     "execution_count": 48,
     "metadata": {},
     "output_type": "execute_result"
    }
   ],
   "source": [
    "# Pregunta 8\n",
    "# ¿Cuántos pacientes llegaron a la red el día que llegaron más pacientes?\n",
    "\n",
    "pacientes = Info_sheet[[\"Día de llegada\", \"Número de llegada\"]].groupby(\"Día de llegada\").count()\n",
    "pacientes.max()[0]"
   ]
  },
  {
   "cell_type": "code",
   "execution_count": 49,
   "id": "e0d273f2-8adc-422f-a2f5-b6700dbbf44b",
   "metadata": {},
   "outputs": [
    {
     "data": {
      "text/html": [
       "<div>\n",
       "<style scoped>\n",
       "    .dataframe tbody tr th:only-of-type {\n",
       "        vertical-align: middle;\n",
       "    }\n",
       "\n",
       "    .dataframe tbody tr th {\n",
       "        vertical-align: top;\n",
       "    }\n",
       "\n",
       "    .dataframe thead th {\n",
       "        text-align: right;\n",
       "    }\n",
       "</style>\n",
       "<table border=\"1\" class=\"dataframe\">\n",
       "  <thead>\n",
       "    <tr style=\"text-align: right;\">\n",
       "      <th></th>\n",
       "      <th>Total Camas Críticas</th>\n",
       "    </tr>\n",
       "    <tr>\n",
       "      <th>Nombre Servicio de Salud</th>\n",
       "      <th></th>\n",
       "    </tr>\n",
       "  </thead>\n",
       "  <tbody>\n",
       "    <tr>\n",
       "      <th>Metropolitano Central</th>\n",
       "      <td>35.00</td>\n",
       "    </tr>\n",
       "    <tr>\n",
       "      <th>Metropolitano Norte</th>\n",
       "      <td>44.00</td>\n",
       "    </tr>\n",
       "    <tr>\n",
       "      <th>Metropolitano Occidente</th>\n",
       "      <td>30.00</td>\n",
       "    </tr>\n",
       "    <tr>\n",
       "      <th>Metropolitano Oriente</th>\n",
       "      <td>34.25</td>\n",
       "    </tr>\n",
       "    <tr>\n",
       "      <th>Metropolitano Sur</th>\n",
       "      <td>34.60</td>\n",
       "    </tr>\n",
       "    <tr>\n",
       "      <th>Metropolitano Sur Oriente</th>\n",
       "      <td>31.75</td>\n",
       "    </tr>\n",
       "  </tbody>\n",
       "</table>\n",
       "</div>"
      ],
      "text/plain": [
       "                                                    Total Camas Críticas\n",
       "Nombre Servicio de Salud                                                \n",
       "Metropolitano Central                                              35.00\n",
       "Metropolitano Norte                                                44.00\n",
       "Metropolitano Occidente                                            30.00\n",
       "Metropolitano Oriente                                              34.25\n",
       "Metropolitano Sur                                                  34.60\n",
       "Metropolitano Sur Oriente                                          31.75"
      ]
     },
     "execution_count": 49,
     "metadata": {},
     "output_type": "execute_result"
    }
   ],
   "source": [
    "# Pregunta 9\n",
    "# ¿Cuál código permite determinar el promedio del total de camas críticas para cada servicio de la red?  \n",
    "\n",
    "Hosp_sheet[[\"Nombre Servicio de Salud\", \"Total Camas Críticas\"]].groupby(\"Nombre Servicio de Salud\").mean()  "
   ]
  },
  {
   "cell_type": "code",
   "execution_count": 51,
   "id": "ba06d8e8-bb19-4b54-a919-fbce056bfd3f",
   "metadata": {},
   "outputs": [
    {
     "name": "stdout",
     "output_type": "stream",
     "text": [
      "                                                    Costo de instalar una cama [MM$]\n",
      "Nombre Servicio de Salud                                                            \n",
      "Metropolitano Central                                                           1256\n",
      "Metropolitano Norte                                                             1407\n",
      "Metropolitano Occidente                                                         1066\n",
      "Metropolitano Oriente                                                           1056\n",
      "Metropolitano Sur                                                               1051\n",
      "Metropolitano Sur Oriente                                                       1028\n",
      "                                                    Costo de instalar una cama [MM$]  \\\n",
      "Nombre Servicio de Salud                                                               \n",
      "Metropolitano Central                                                           1256   \n",
      "Metropolitano Norte                                                             1407   \n",
      "Metropolitano Occidente                                                         1066   \n",
      "Metropolitano Oriente                                                           1056   \n",
      "Metropolitano Sur                                                               1051   \n",
      "Metropolitano Sur Oriente                                                       1028   \n",
      "\n",
      "                                                    Costo 3 camas nuevas  \n",
      "Nombre Servicio de Salud                                                  \n",
      "Metropolitano Central                                               3768  \n",
      "Metropolitano Norte                                                 4221  \n",
      "Metropolitano Occidente                                             3198  \n",
      "Metropolitano Oriente                                               3168  \n",
      "Metropolitano Sur                                                   3153  \n",
      "Metropolitano Sur Oriente                                           3084  \n"
     ]
    }
   ],
   "source": [
    "# Pregunta 10\n",
    "# ¿Cuál código permite determinar el valor del costo para instalar 3 camas nuevas y de las menos costosas- en \n",
    "# cada servicio de salud?\n",
    "\n",
    "costo_camas = Hosp_sheet[[\"Nombre Servicio de Salud\", \"Costo de instalar una cama [MM$]\"]].groupby(\"Nombre Servicio de Salud\").min()\n",
    "print(costo_camas)\n",
    "costo_camas[\"Costo 3 camas nuevas\"] = costo_camas[\"Costo de instalar una cama [MM$]\"]*3\n",
    "print(costo_camas)"
   ]
  }
 ],
 "metadata": {
  "kernelspec": {
   "display_name": "Python 3 (ipykernel)",
   "language": "python",
   "name": "python3"
  },
  "language_info": {
   "codemirror_mode": {
    "name": "ipython",
    "version": 3
   },
   "file_extension": ".py",
   "mimetype": "text/x-python",
   "name": "python",
   "nbconvert_exporter": "python",
   "pygments_lexer": "ipython3",
   "version": "3.11.1"
  }
 },
 "nbformat": 4,
 "nbformat_minor": 5
}
